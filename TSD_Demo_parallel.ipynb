{
 "cells": [
  {
   "cell_type": "code",
   "execution_count": null,
   "metadata": {
    "id": "eN9NW15BgVfr"
   },
   "outputs": [],
   "source": [
    "# Install all packages\n",
    "# Restart runtime after installation\n",
    "\n",
    "#!wget https://github.com/PranjalSahu/ITKThinShellDemons/raw/pranjal_setup/itk_thinshelldemons-0.1.1-cp38-cp38m-manylinux_2_17_x86_64.manylinux2014_x86_64.whl\n",
    "#!pip install itk_thinshelldemons-0.1.1-cp37-cp37m-manylinux_2_17_x86_64.manylinux2014_x86_64.whl\n",
    "#!pip install itk_thinshelldemons-0.1.1-cp38-cp38-manylinux_2_17_x86_64.manylinux2014_x86_64.whl\n",
    "!pip install itk_thinshelldemons-0.1.1-cp39-cp39-manylinux_2_17_x86_64.manylinux2014_x86_64.whl\n",
    "!pip install itk==5.3rc4\n",
    "!pip install vtk\n",
    "!pip install itkwidgets"
   ]
  },
  {
   "cell_type": "code",
   "execution_count": 1,
   "metadata": {
    "code_folding": [
     0
    ],
    "id": "JENnhF80aBtG"
   },
   "outputs": [],
   "source": [
    "# Import all packages\n",
    "\n",
    "import numpy as np\n",
    "#import itkConfig\n",
    "#itkConfig.LazyLoading = False\n",
    "import itk\n",
    "import vtk\n",
    "import itkwidgets\n",
    "import math\n",
    "import matplotlib.pyplot as plt\n",
    "\n",
    "from joblib import Parallel, delayed\n",
    "import time\n",
    "import copy\n",
    "\n",
    "from vtk.util import numpy_support\n",
    "from vtk.util.numpy_support import numpy_to_vtk\n",
    "# To enable itkwidgets window\n",
    "#from google.colab import output\n",
    "#output.enable_custom_widget_manager()"
   ]
  },
  {
   "cell_type": "code",
   "execution_count": 242,
   "metadata": {
    "code_folding": [
     2,
     42,
     49
    ]
   },
   "outputs": [],
   "source": [
    "# Helper Functions\n",
    "\n",
    "def subsample_points(inputmesh, mesh_sub_sample_points, seed):\n",
    "    import vtk\n",
    "    from vtk.util import numpy_support\n",
    "\n",
    "    sample = vtk.vtkPolyDataPointSampler()\n",
    "    sample.SetInputData(inputmesh)\n",
    "    sample.SetGenerateEdgePoints(0)\n",
    "    sample.SetGenerateInteriorPoints(0)\n",
    "    sample.SetPointGenerationModeToRegular()\n",
    "    sample.SetDistance(0.5)\n",
    "    sample.Update()\n",
    "\n",
    "    sampled_points = sample.GetOutput()\n",
    "\n",
    "    points = sampled_points.GetPoints()\n",
    "    pointdata = points.GetData()\n",
    "\n",
    "    as_numpy = numpy_support.vtk_to_numpy(pointdata)\n",
    "    \n",
    "    np.random.seed(seed)\n",
    "    random_indices = np.random.choice(as_numpy.shape[0],\n",
    "                                      size=mesh_sub_sample_points,\n",
    "                                      replace=False)\n",
    "    as_numpy_sampled = as_numpy[random_indices, :]\n",
    "\n",
    "    return as_numpy_sampled\n",
    "\n",
    "def subsample_points_poisson(inputMesh):\n",
    "    import vtk\n",
    "    from vtk.util import numpy_support\n",
    "    f = vtk.vtkPoissonDiskSampler()\n",
    "    f.SetInputData(inputMesh)\n",
    "    f.SetRadius(4.5)\n",
    "    f.Update()\n",
    "    sampled_points = f.GetOutput()\n",
    "    points = sampled_points.GetPoints()\n",
    "    pointdata = points.GetData()\n",
    "    as_numpy = numpy_support.vtk_to_numpy(pointdata)\n",
    "    return as_numpy\n",
    "\n",
    "def readvtk(filename):\n",
    "    a = vtk.vtkPolyDataReader()\n",
    "    a.SetFileName(filename)\n",
    "    a.Update()\n",
    "    m1 = a.GetOutput()\n",
    "    return m1\n",
    "\n",
    "def readply(filename):\n",
    "    a = vtk.vtkPLYReader()\n",
    "    a.SetFileName(filename)\n",
    "    a.Update()\n",
    "    m1 = a.GetOutput()\n",
    "    return m1\n",
    "\n",
    "def getnormals(inputmesh):\n",
    "    normals = vtk.vtkTriangleMeshPointNormals()\n",
    "    normals.SetInputData(inputmesh)\n",
    "    normals.Update()\n",
    "    return normals.GetOutput()\n"
   ]
  },
  {
   "cell_type": "code",
   "execution_count": null,
   "metadata": {},
   "outputs": [],
   "source": [
    "# File paths\n",
    "\n",
    "#MOVING_MESH_FILE = '/data/Apedata/CorrectData/data/Pan/meshes/USNM220065-Cranium_merged_1.ply'\n",
    "#FIXED_MESH_FILE  = '/data/Apedata/CorrectData/data/Gorilla/meshes/USNM252575-Cranium.ply'\n",
    "\n",
    "# ransac registered\n",
    "MOVING_MESH_FILE = '/home/pranjal.sahu/Documents/SampleApeData1/USNM174701-Cranium_merged_1.ply'\n",
    "# original mesh\n",
    "#MOVING_MESH_FILE = '/home/pranjal.sahu/Documents/SampleApeData/USNM174722-Cranium.ply'\n",
    "\n",
    "FIXED_MESH_FILE  = '/home/pranjal.sahu/Documents/SampleApeData1/USNM174722-Cranium.ply'\n",
    "\n",
    "paths = [FIXED_MESH_FILE, MOVING_MESH_FILE]"
   ]
  },
  {
   "cell_type": "code",
   "execution_count": 3,
   "metadata": {
    "code_folding": [
     0
    ],
    "id": "5Y2T7UsnY_67"
   },
   "outputs": [],
   "source": [
    "# Fetch the files\n",
    "\n",
    "FIXED_MESH_FILE  = r'data/129S1_SVIMJ_.ply'\n",
    "MOVING_MESH_FILE = r'data/129X1_SVJ_.ply'\n",
    "paths = [FIXED_MESH_FILE, MOVING_MESH_FILE]\n",
    "\n",
    "import os\n",
    "import importlib\n",
    "from urllib.request import urlretrieve\n",
    "\n",
    "# Download meshes\n",
    "os.makedirs('data',exist_ok=True)\n",
    "if not os.path.exists(FIXED_MESH_FILE):\n",
    "    url = 'https://github.com/SlicerMorph/Mouse_Models/raw/main/Models/129S1_SVIMJ_.ply'\n",
    "    urlretrieve(url, FIXED_MESH_FILE)\n",
    "if not os.path.exists(MOVING_MESH_FILE):\n",
    "    url = 'https://github.com/SlicerMorph/Mouse_Models/raw/main/Models/129X1_SVJ_.ply'\n",
    "    urlretrieve(url, MOVING_MESH_FILE)"
   ]
  },
  {
   "cell_type": "code",
   "execution_count": 3,
   "metadata": {
    "code_folding": [
     0
    ],
    "id": "9itj_30QsXIY"
   },
   "outputs": [],
   "source": [
    "# Clean the meshes and Triangulate them as TSD only works with Triangle Meshes\n",
    "\n",
    "vtk_meshes = list()\n",
    "\n",
    "for path in paths:\n",
    "    reader = vtk.vtkPLYReader()\n",
    "    reader.SetFileName(path)\n",
    "    reader.Update()\n",
    "        \n",
    "    cleaner = vtk.vtkCleanPolyData()\n",
    "    cleaner.SetInputData(reader.GetOutput())\n",
    "    cleaner.ConvertLinesToPointsOn()\n",
    "    cleaner.ConvertPolysToLinesOff()\n",
    "    cleaner.SetTolerance(0.0)\n",
    "    cleaner.Update()\n",
    "    vtk_mesh = cleaner.GetOutput()\n",
    "\n",
    "    triangle_filter = vtk.vtkTriangleFilter()\n",
    "    triangle_filter.SetInputData(vtk_mesh)\n",
    "    triangle_filter.SetPassLines(False)\n",
    "    triangle_filter.SetPassVerts(False)\n",
    "    triangle_filter.Update()\n",
    "    vtk_mesh = triangle_filter.GetOutput()\n",
    "    \n",
    "    vtk_meshes.append(vtk_mesh)\n",
    "    \n",
    "# Write back out to a filetype supported by ITK\n",
    "vtk_paths = [path.strip('.ply') + '.vtk' for path in paths]\n",
    "for idx, mesh in enumerate(vtk_meshes):\n",
    "    writer = vtk.vtkPolyDataWriter()\n",
    "    writer.SetInputData(mesh)\n",
    "    writer.SetFileVersion(42)\n",
    "    writer.SetFileTypeToBinary()\n",
    "    writer.SetFileName(vtk_paths[idx])\n",
    "    writer.Update()\n",
    "    \n",
    "itk_meshes = [itk.meshread(path, pixel_type=itk.D) for path in vtk_paths]"
   ]
  },
  {
   "cell_type": "code",
   "execution_count": 4,
   "metadata": {
    "code_folding": [
     0
    ],
    "id": "sLtfu8l3sZMH"
   },
   "outputs": [],
   "source": [
    "# Convert meshes to images for performing moment based initialization\n",
    "\n",
    "itk_transformed_meshes= []\n",
    "# itk_meshes = []\n",
    "# itk_meshes.append(itk.meshread('itk_meshes_0.vtk'))\n",
    "# itk_meshes.append(itk.meshread('itk_meshes_1.vtk'))\n",
    "\n",
    "itk_images = []\n",
    "for mesh in itk_meshes:\n",
    "    # Get all the points to positive values\n",
    "    temp = itk.array_from_vector_container(mesh.GetPoints())\n",
    "    m    = np.min(temp, 0)\n",
    "    temp = temp - m\n",
    "    mesh.SetPoints(itk.vector_container_from_array(temp.flatten())) \n",
    "    \n",
    "    itk_transformed_meshes.append(mesh)\n",
    "    itk_image = itk.triangle_mesh_to_binary_image_filter(mesh,\n",
    "                                                      origin=[0, 0, 0],\n",
    "                                                      spacing=[1, 1, 1],\n",
    "                                                      size=[250, 250, 250])\n",
    "    itk_images.append(itk_image)\n",
    "                                                         \n",
    "\n",
    "itk_transforms = list()\n",
    "\n",
    "for image in itk_images:\n",
    "    calculator = itk.ImageMomentsCalculator[type(image)].New()\n",
    "    calculator.SetImage(image)\n",
    "    calculator.Compute()\n",
    "    itk_transforms.append(calculator.GetPhysicalAxesToPrincipalAxesTransform())"
   ]
  },
  {
   "cell_type": "code",
   "execution_count": 5,
   "metadata": {
    "code_folding": [
     0
    ],
    "id": "SRFDbREzsa1y"
   },
   "outputs": [],
   "source": [
    "# Write the Moment based initialized meshes as vtk file\n",
    "\n",
    "itk_transformed_meshes = [\n",
    "    itk.transform_mesh_filter(mesh, transform=itk_transforms[idx])\n",
    "    for idx, mesh in enumerate(itk_meshes)\n",
    "]\n",
    "\n",
    "fixedMesh  = itk_meshes[0]#itk_transformed_meshes[0]\n",
    "movingMesh = itk_meshes[1]#itk_transformed_meshes[1]\n",
    "\n",
    "\n",
    "w1 = itk.MeshFileWriter[type(movingMesh)].New()\n",
    "w1.SetFileName('movingMesh.vtk')\n",
    "w1.SetFileTypeAsBINARY()\n",
    "w1.SetInput(movingMesh)\n",
    "w1.Update()\n",
    "\n",
    "w1 = itk.MeshFileWriter[type(movingMesh)].New()\n",
    "w1.SetFileName('fixedMesh.vtk')\n",
    "w1.SetFileTypeAsBINARY()\n",
    "w1.SetInput(fixedMesh)\n",
    "w1.Update()\n",
    "\n",
    "#itk.meshwrite(movingMesh, 'movingMesh.vtk')\n",
    "#itk.meshwrite(fixedMesh, 'fixedMesh.vtk')"
   ]
  },
  {
   "cell_type": "code",
   "execution_count": 4,
   "metadata": {
    "code_folding": [
     14
    ]
   },
   "outputs": [
    {
     "name": "stdout",
     "output_type": "stream",
     "text": [
      "(8002, 3)\n",
      "(3754, 3) 2209640\n"
     ]
    }
   ],
   "source": [
    "movingMeshPath = 'movingMesh.vtk'\n",
    "fixedMeshPath = 'fixedMesh.vtk'\n",
    "\n",
    "movingMesh = readvtk(movingMeshPath)\n",
    "fixedMesh  = readvtk(fixedMeshPath)\n",
    "\n",
    "movingMeshAllPoints = numpy_support.vtk_to_numpy(\n",
    "    movingMesh.GetPoints().GetData())\n",
    "\n",
    "movingMeshPoints = subsample_points_poisson(movingMesh)\n",
    "fixedMeshPoints  = subsample_points_poisson(fixedMesh)\n",
    "\n",
    "print(fixedMeshPoints.shape)\n",
    "\n",
    "def get_bounding_box_data(inputMeshPoints):\n",
    "    ElementIdentifierType = itk.UL\n",
    "    CoordType = itk.F\n",
    "    Dimension = 3\n",
    "\n",
    "    VecContType = itk.VectorContainer[\n",
    "        ElementIdentifierType, itk.Point[CoordType, Dimension]\n",
    "    ]\n",
    "\n",
    "    ps = itk.PointSet.D3.New()\n",
    "    ps.SetPoints(itk.vector_container_from_array(inputMeshPoints.flatten()))\n",
    "\n",
    "    bounding_box = itk.BoundingBox[ElementIdentifierType, Dimension, CoordType, VecContType].New()\n",
    "    bounding_box.SetPoints(ps.GetPoints())\n",
    "    bounding_box.ComputeBoundingBox()\n",
    "\n",
    "    minBounds = np.array(bounding_box.GetMinimum())\n",
    "    maxBounds = np.array(bounding_box.GetMaximum())\n",
    "    \n",
    "    return maxBounds - minBounds, bounding_box.GetCenter()\n",
    "\n",
    "def scale_mesh(input_mesh, scale_factor):\n",
    "    mesh_points = itk.array_from_vector_container(input_mesh.GetPoints())\n",
    "    mesh_points =  mesh_points * scale_factor\n",
    "    input_mesh.SetPoints(itk.vector_container_from_array(mesh_points.flatten()))\n",
    "    return input_mesh\n",
    "    \n",
    "def perform_scaling_and_centering(movingPoints, fixedPoints, movingMesh, fixedMesh):\n",
    "    sourceSize = np.linalg.norm(np.max(movingPoints, 0) - np.min(movingPoints, 0))\n",
    "    targetSize = np.linalg.norm(np.max(fixedPoints, 0) - np.min(fixedPoints, 0))\n",
    "\n",
    "    scaling = (targetSize)/sourceSize\n",
    "\n",
    "    scaledMovingPoints = movingPoints * scaling\n",
    "    scaledMovingMesh   = scale_mesh(movingMesh, scaling)\n",
    "    \n",
    "    return scaledMovingPoints, scaledMovingMesh\n",
    "\n",
    "movingMesh = itk.meshread(movingMeshPath, itk.D)\n",
    "fixedMesh  = itk.meshread(fixedMeshPath, itk.D)\n",
    "\n",
    "movingMeshPoints, scaledMovingMesh = perform_scaling_and_centering(movingMeshPoints, fixedMeshPoints, movingMesh, fixedMesh)\n",
    "\n",
    "print(movingMeshPoints.shape, scaledMovingMesh.GetNumberOfPoints())\n",
    "\n",
    "w1 = itk.MeshFileWriter[type(scaledMovingMesh)].New()\n",
    "w1.SetFileName('movingMeshScaled.vtk')\n",
    "w1.SetFileTypeAsBINARY()\n",
    "w1.SetInput(scaledMovingMesh)\n",
    "w1.Update()"
   ]
  },
  {
   "cell_type": "code",
   "execution_count": 47,
   "metadata": {},
   "outputs": [
    {
     "data": {
      "application/vnd.jupyter.widget-view+json": {
       "model_id": "d4f743c480d24b2a8701f987affcb148",
       "version_major": 2,
       "version_minor": 0
      },
      "text/plain": [
       "Viewer(geometries=[{'vtkClass': 'vtkPolyData', 'points': {'vtkClass': 'vtkPoints', 'name': '_points', 'numberO…"
      ]
     },
     "metadata": {},
     "output_type": "display_data"
    }
   ],
   "source": [
    "# movingMeshPath = 'movingMeshScaled.vtk'\n",
    "# fixedMeshPath = 'fixedMesh.vtk'\n",
    "\n",
    "movingMeshPath = '/home/pranjal.sahu/Documents/SampleApeData1/Source Pointcloud (rigidly registered)_1.vtk'\n",
    "fixedMeshPath = '/home/pranjal.sahu/Documents/SampleApeData1/Target Pointcloud_1.vtk'\n",
    "\n",
    "movingMesh = readvtk(movingMeshPath)\n",
    "fixedMesh  = readvtk(fixedMeshPath)\n",
    "\n",
    "itkwidgets.view(geometries=[fixedMesh, movingMesh])"
   ]
  },
  {
   "cell_type": "code",
   "execution_count": null,
   "metadata": {
    "code_folding": [
     57,
     72,
     210
    ],
    "scrolled": true
   },
   "outputs": [],
   "source": [
    "# For performing RANSAC in parallel\n",
    "\n",
    "from vtk.util import numpy_support\n",
    "from vtk.util.numpy_support import numpy_to_vtk\n",
    "\n",
    "def get_euclidean_distance():\n",
    "    mesh_fixed = itk.Mesh[itk.D, 3].New()\n",
    "    mesh_moving = itk.Mesh[itk.D, 3].New()\n",
    "\n",
    "    mesh_fixed.SetPoints(itk.vector_container_from_array(\n",
    "        fixedPoints.flatten()))\n",
    "    mesh_moving.SetPoints(\n",
    "        itk.vector_container_from_array(movingPoints.flatten()))\n",
    "    \n",
    "    MetricType = itk.EuclideanDistancePointSetToPointSetMetricv4.PSD3\n",
    "    metric = MetricType.New()\n",
    "    metric.SetMovingPointSet(mesh_moving)\n",
    "    metric.SetFixedPointSet(mesh_fixed)\n",
    "    metric.Initialize()\n",
    "    \n",
    "def final_iteration(fixedPoints, movingPoints, transform_type):\n",
    "    mesh_fixed = itk.Mesh[itk.D, 3].New()\n",
    "    mesh_moving = itk.Mesh[itk.D, 3].New()\n",
    "\n",
    "    mesh_fixed.SetPoints(itk.vector_container_from_array(\n",
    "        fixedPoints.flatten()))\n",
    "    mesh_moving.SetPoints(\n",
    "        itk.vector_container_from_array(movingPoints.flatten()))\n",
    "\n",
    "    if transform_type == 0:\n",
    "        TransformType = itk.Euler3DTransform[itk.D]\n",
    "    elif transform_type == 1:\n",
    "        TransformType = itk.ScaleVersor3DTransform[itk.D]\n",
    "    elif transform_type == 2:\n",
    "        TransformType = itk.Similarity3DTransform[itk.D]\n",
    "    else:\n",
    "        TransformType = itk.AffineTransform[itk.D, 3]\n",
    "\n",
    "    transform = TransformType.New()\n",
    "    transform.SetIdentity()\n",
    "\n",
    "    MetricType = itk.EuclideanDistancePointSetToPointSetMetricv4.PSD3\n",
    "    metric = MetricType.New()\n",
    "    metric.SetMovingPointSet(mesh_fixed)\n",
    "    metric.SetFixedPointSet(mesh_moving)\n",
    "    metric.SetMovingTransform(transform)\n",
    "    metric.Initialize()\n",
    "\n",
    "    print('Initial Value ', metric.GetValue())    \n",
    "    number_of_epochs = 50000\n",
    "    optimizer = itk.GradientDescentOptimizerv4Template[itk.D].New()\n",
    "    optimizer.SetNumberOfIterations(number_of_epochs)\n",
    "    optimizer.SetLearningRate(0.0001)\n",
    "    optimizer.SetMinimumConvergenceValue(0.0)\n",
    "    optimizer.SetConvergenceWindowSize(number_of_epochs)\n",
    "    optimizer.SetMetric(metric)\n",
    "\n",
    "    def print_iteration():\n",
    "        print(f\"It: {optimizer.GetCurrentIteration()}\"\n",
    "              f\" metric value: {optimizer.GetCurrentMetricValue():.6f} \")\n",
    "\n",
    "    optimizer.AddObserver(itk.IterationEvent(), print_iteration)\n",
    "    optimizer.StartOptimization()\n",
    "\n",
    "    print('Final Value ', metric.GetValue())\n",
    "    \n",
    "    current_transform = metric.GetTransform()\n",
    "    itk_transformed_mesh = itk.transform_mesh_filter(\n",
    "        mesh_moving, transform=current_transform)\n",
    "\n",
    "    return itk.array_from_vector_container(itk_transformed_mesh.GetPoints())\n",
    "\n",
    "def ransac_icp_parallel(fixedMeshPoints, movingMeshPoints, movingMeshAllPoints,\n",
    "                        number_of_iterations, mesh_sub_sample_points,\n",
    "                        number_of_ransac_points, transform_type,\n",
    "                        convergance_value):\n",
    "    import numpy as np\n",
    "    np.random.seed(0)\n",
    "\n",
    "    all_points1 = fixedMeshPoints\n",
    "    all_points2 = movingMeshPoints\n",
    "\n",
    "    def process(i, mesh_sub_sample_points, number_of_ransac_points,\n",
    "                return_result):\n",
    "        # Create Mesh inside the method to tackle the problem of serialization\n",
    "        \n",
    "        import itk\n",
    "        \n",
    "        mesh_fixed = itk.Mesh[itk.D, 3].New()\n",
    "        mesh_moving = itk.Mesh[itk.D, 3].New()\n",
    "\n",
    "        mesh_fixed.SetPoints(\n",
    "            itk.vector_container_from_array(all_points1.flatten()))\n",
    "        mesh_moving.SetPoints(\n",
    "            itk.vector_container_from_array(all_points2.flatten()))\n",
    "\n",
    "        ps1 = itk.Mesh[itk.D, 3].New()\n",
    "        ps2 = itk.Mesh[itk.D, 3].New()\n",
    "        \n",
    "        # Create small point sets\n",
    "        np.random.seed(i)\n",
    "        random_indices = np.random.choice(all_points1.shape[0],\n",
    "                                          size=number_of_ransac_points)\n",
    "        p1_a = all_points1[random_indices, :]\n",
    "\n",
    "        random_indices = np.random.choice(all_points2.shape[0],\n",
    "                                          size=number_of_ransac_points)\n",
    "        p2_a = all_points2[random_indices, :]\n",
    "\n",
    "        ps1.SetPoints(itk.vector_container_from_array(p1_a.flatten()))\n",
    "        ps2.SetPoints(itk.vector_container_from_array(p2_a.flatten()))\n",
    "\n",
    "        if transform_type == 0:\n",
    "            # works best\n",
    "            TransformType = itk.Euler3DTransform[itk.D]\n",
    "        elif transform_type == 1:\n",
    "            # does not work well\n",
    "            TransformType = itk.ScaleVersor3DTransform[itk.D]\n",
    "        elif transform_type == 2:\n",
    "            # works ok\n",
    "            TransformType = itk.Similarity3DTransform[itk.D]\n",
    "        else:\n",
    "            TransformType = itk.AffineTransform[itk.D, 3]\n",
    "\n",
    "        transform = TransformType.New()\n",
    "        transform.SetIdentity()\n",
    "        \n",
    "        MetricType = itk.EuclideanDistancePointSetToPointSetMetricv4.PSD3\n",
    "        metric = MetricType.New()\n",
    "        metric.SetMovingPointSet(ps2)\n",
    "        metric.SetFixedPointSet(ps1)\n",
    "        metric.SetMovingTransform(transform)\n",
    "        metric.Initialize()\n",
    "                \n",
    "        optimizer = itk.ConjugateGradientLineSearchOptimizerv4Template[itk.D].New()\n",
    "        optimizer.SetNumberOfIterations(20)\n",
    "        optimizer.SetMaximumStepSizeInPhysicalUnits( 0.1 )\n",
    "        optimizer.SetMinimumConvergenceValue( 0.0 )\n",
    "        optimizer.SetConvergenceWindowSize( 20 )\n",
    "        optimizer.SetMetric(metric)\n",
    "        optimizer.StartOptimization()\n",
    "\n",
    "#         optimizer = itk.GradientDescentOptimizerv4Template.D.New()\n",
    "#         optimizer.SetNumberOfIterations(200)\n",
    "#         optimizer.SetLearningRate(0.0001)\n",
    "#         #optimizer.SetMaximumStepSizeInPhysicalUnits( 0.1 )\n",
    "#         optimizer.SetMinimumConvergenceValue( 0.0 )\n",
    "#         optimizer.SetConvergenceWindowSize( 200 )\n",
    "#         optimizer.SetMetric(metric)\n",
    "#         optimizer.StartOptimization()\n",
    "        \n",
    "        \n",
    "        current_transform = metric.GetTransform()\n",
    "        itk_transformed_mesh = itk.transform_mesh_filter(\n",
    "            mesh_moving, transform=current_transform)\n",
    "\n",
    "        e_metric = itk.EuclideanDistancePointSetToPointSetMetricv4.PSD3.New()\n",
    "        e_metric.SetFixedPointSet(mesh_fixed)\n",
    "        e_metric.SetMovingPointSet(itk_transformed_mesh)\n",
    "        e_metric.Initialize()\n",
    "\n",
    "        current_value = e_metric.GetValue()\n",
    "        #current_transform = itk.dict_from_transform(current_transform)\n",
    "\n",
    "        if return_result:\n",
    "            mesh_moving = itk.Mesh[itk.D, 3].New()\n",
    "            mesh_moving.SetPoints(\n",
    "                itk.vector_container_from_array(movingMeshPoints.flatten()))\n",
    "            \n",
    "            itk_transformed_mesh = itk.transform_mesh_filter(\n",
    "                mesh_moving, transform=current_transform)\n",
    "            \n",
    "            return itk.array_from_vector_container(\n",
    "                itk_transformed_mesh.GetPoints())\n",
    "        else:\n",
    "            return (current_value, i)\n",
    "        #if current_value < 7:\n",
    "        #    return (current_value, i)\n",
    "        #else:\n",
    "        #    return (current_value, -1)\n",
    "\n",
    "    results = Parallel(n_jobs=8)(\n",
    "        delayed(process)(i, mesh_sub_sample_points, number_of_ransac_points, 0)\n",
    "        for i in range(number_of_iterations))\n",
    "    results = sorted(results)\n",
    "\n",
    "    print(results[0])\n",
    "    final_result = process(results[0][1], mesh_sub_sample_points,\n",
    "                           number_of_ransac_points, 1)\n",
    "    #movingMesh.SetPoints(itk.vector_container_from_array(final_result.flatten()))\n",
    "    \n",
    "    return final_result\n",
    "\n",
    "import time\n",
    "\n",
    "number_of_iterations = 1000\n",
    "number_of_ransac_points = 100\n",
    "mesh_sub_sample_points = 5000\n",
    "convergence_value = 3\n",
    "transform_type = 0\n",
    "\n",
    "#movingMeshPath = '/home/pranjal.sahu/Documents/SampleApeData1/Source Pointcloud (rigidly registered)_1.vtk'\n",
    "#fixedMeshPath = '/home/pranjal.sahu/Documents/SampleApeData1/Target Pointcloud_1.vtk'\n",
    "\n",
    "movingMeshPath = 'movingMesh.vtk'\n",
    "fixedMeshPath = 'fixedMesh.vtk'\n",
    "\n",
    "movingMesh = readvtk(movingMeshPath)\n",
    "fixedMesh  = readvtk(fixedMeshPath)\n",
    "\n",
    "movingMeshAllPoints = numpy_support.vtk_to_numpy(\n",
    "    movingMesh.GetPoints().GetData())\n",
    "\n",
    "movingMeshPoints = subsample_points_poisson(movingMesh)\n",
    "fixedMeshPoints  = subsample_points_poisson(fixedMesh)\n",
    "\n",
    "print(fixedMeshPoints.shape, movingMeshPoints.shape)\n",
    "\n",
    "def scale_mesh(input_mesh, scale_factor):\n",
    "    mesh_points = itk.array_from_vector_container(input_mesh.GetPoints())\n",
    "    print(mesh_points.shape, mesh_points.dtype)\n",
    "    mesh_points =  mesh_points * scale_factor\n",
    "    input_mesh.SetPoints(itk.vector_container_from_array(mesh_points.flatten()))\n",
    "    return input_mesh\n",
    "    \n",
    "def perform_scaling_and_centering(movingPoints, fixedPoints, movingMesh, fixedMesh):\n",
    "    sourceSize = np.linalg.norm(np.max(movingPoints, 0) - np.min(movingPoints, 0))\n",
    "    targetSize = np.linalg.norm(np.max(fixedPoints, 0) - np.min(fixedPoints, 0))\n",
    "\n",
    "    scaling = (targetSize)/sourceSize\n",
    "\n",
    "    scaledMovingPoints = movingPoints * scaling\n",
    "    scaledMovingMesh   = scale_mesh(movingMesh, scaling)\n",
    "    \n",
    "    return scaledMovingPoints, scaledMovingMesh\n",
    "\n",
    "movingMesh = itk.meshread(movingMeshPath, itk.D)\n",
    "fixedMesh  = itk.meshread(fixedMeshPath, itk.D)\n",
    "\n",
    "movingMeshPoints, scaledMovingMesh = perform_scaling_and_centering(movingMeshPoints, fixedMeshPoints, movingMesh, fixedMesh)\n",
    "\n",
    "print(movingMeshPoints.shape, scaledMovingMesh.GetNumberOfPoints())\n",
    "\n",
    "w1 = itk.MeshFileWriter[type(scaledMovingMesh)].New()\n",
    "w1.SetFileName('movingMeshScaled.vtk')\n",
    "w1.SetFileTypeAsBINARY()\n",
    "w1.SetInput(scaledMovingMesh)\n",
    "w1.Update()\n",
    "\n",
    "if 1:\n",
    "    start_time = time.time()\n",
    "    transform_type = 0\n",
    "    itk_transformed_points = ransac_icp_parallel(fixedMeshPoints, movingMeshPoints,\n",
    "                                                 movingMeshAllPoints,\n",
    "                                                 number_of_iterations,\n",
    "                                                 mesh_sub_sample_points,\n",
    "                                                 number_of_ransac_points,\n",
    "                                                 transform_type, convergence_value)\n",
    "    end_time = time.time()\n",
    "\n",
    "    print(end_time - start_time)\n",
    "    print('itk_transformed_points shape ', itk_transformed_points.shape)\n",
    "    \n",
    "    transform_type = 0\n",
    "    final_mesh = final_iteration(fixedMeshPoints, itk_transformed_points, transform_type)\n",
    "\n",
    "    newmesh = itk.Mesh.D3.New()\n",
    "    newmesh.SetPoints(itk.vector_container_from_array(final_mesh.flatten()))\n",
    "\n",
    "    w1 = itk.MeshFileWriter[type(newmesh)].New()\n",
    "    w1.SetFileName('ransacICPResult2_b.vtk')\n",
    "    w1.SetFileTypeAsBINARY()\n",
    "    w1.SetInput(newmesh)\n",
    "    w1.Update()"
   ]
  },
  {
   "cell_type": "code",
   "execution_count": 232,
   "metadata": {},
   "outputs": [],
   "source": [
    "movingMeshPath = 'movingMesh.vtk'\n",
    "fixedMeshPath = 'fixedMesh.vtk'\n",
    "\n",
    "movingMesh = readvtk(movingMeshPath)\n",
    "fixedMesh  = readvtk(fixedMeshPath)\n",
    "\n",
    "movingMeshNormals = getnormals(movingMesh)\n",
    "fixedMeshNormals = getnormals(fixedMesh)\n",
    "\n",
    "#movingMeshPoints = subsample_points_poisson(movingMesh)\n",
    "#fixedMeshPoints  = subsample_points_poisson(fixedMesh)\n",
    "#print(movingMeshPoints.shape, fixedMeshPoints.shape)"
   ]
  },
  {
   "cell_type": "code",
   "execution_count": 239,
   "metadata": {},
   "outputs": [
    {
     "name": "stdout",
     "output_type": "stream",
     "text": [
      "(2209640, 3)\n"
     ]
    }
   ],
   "source": [
    "n1_array = numpy_support.vtk_to_numpy(n1)\n",
    "print(n1_array.shape)"
   ]
  },
  {
   "cell_type": "code",
   "execution_count": null,
   "metadata": {},
   "outputs": [],
   "source": [
    "#itkwidgets.view(geometries=[movingMeshNormals])\n",
    "#itkwidgets.view(point_sets=[n1_array])"
   ]
  },
  {
   "cell_type": "code",
   "execution_count": 234,
   "metadata": {},
   "outputs": [
    {
     "name": "stdout",
     "output_type": "stream",
     "text": [
      "2209640\n"
     ]
    }
   ],
   "source": [
    "print(movingMeshNormals.GetNumberOfPoints())"
   ]
  },
  {
   "cell_type": "code",
   "execution_count": 208,
   "metadata": {},
   "outputs": [],
   "source": [
    "vd = vtk.vtkPolyDataWriter()\n",
    "vd.SetInputData(normal_data)\n",
    "vd.SetFileName('testnormal1.vtk')\n",
    "vd.Update()"
   ]
  },
  {
   "cell_type": "code",
   "execution_count": 235,
   "metadata": {},
   "outputs": [
    {
     "name": "stdout",
     "output_type": "stream",
     "text": [
      "vtkFloatArray (0x563b137a0b40)\n",
      "  Debug: Off\n",
      "  Modified Time: 46284879\n",
      "  Reference Count: 2\n",
      "  Registered Events: (none)\n",
      "  Name: Normals\n",
      "  Data type: float\n",
      "  Size: 6628920\n",
      "  MaxId: 6628919\n",
      "  NumberOfComponents: 3\n",
      "  Information: 0\n",
      "  Name: Normals\n",
      "  Number Of Components: 3\n",
      "  Number Of Tuples: 2209640\n",
      "  Size: 6628920\n",
      "  MaxId: 6628919\n",
      "  LookupTable: (none)\n",
      "\n",
      "\n"
     ]
    }
   ],
   "source": [
    "n1 = movingMeshNormals.GetPointData().GetArray(\"Normals\")\n",
    "print(n1)"
   ]
  },
  {
   "cell_type": "code",
   "execution_count": 184,
   "metadata": {},
   "outputs": [
    {
     "name": "stdout",
     "output_type": "stream",
     "text": [
      "(63.62287902832031, 180.06544494628906, 32.03722381591797)\n",
      "[ 63.62288  180.06544   32.037224]\n"
     ]
    }
   ],
   "source": [
    "#print(movingVTK.GetPoint(0))\n",
    "#print(movingMeshPoints[0])"
   ]
  },
  {
   "cell_type": "code",
   "execution_count": 168,
   "metadata": {},
   "outputs": [],
   "source": [
    "itk_transformed_fixed_mesh = itk.transform_mesh_filter(\n",
    "        mesh_fixed, transform=metric.GetMovingTransform())"
   ]
  },
  {
   "cell_type": "code",
   "execution_count": null,
   "metadata": {},
   "outputs": [],
   "source": [
    "newmesh = itk.Mesh.D3.New()\n",
    "newmesh.SetPoints(itk.vector_container_from_array(final_mesh.flatten()))\n",
    "\n",
    "w1 = itk.MeshFileWriter[type(newmesh)].New()\n",
    "w1.SetFileName('ransacICPResult2_b.vtk')\n",
    "w1.SetFileTypeAsBINARY()\n",
    "w1.SetInput(newmesh)\n",
    "w1.Update()"
   ]
  },
  {
   "cell_type": "code",
   "execution_count": null,
   "metadata": {},
   "outputs": [],
   "source": [
    "movingMeshPath = '/home/pranjal.sahu/Documents/SampleApeData1/Source Pointcloud (rigidly registered)_1.vtk'\n",
    "fixedMeshPath = '/home/pranjal.sahu/Documents/SampleApeData1/Target Pointcloud_1.vtk'\n",
    "\n",
    "movingMesh = readvtk(movingMeshPath)\n",
    "fixedMesh  = readvtk(fixedMeshPath)\n",
    "\n",
    "movingMeshAllPoints = numpy_support.vtk_to_numpy(\n",
    "    movingMesh.GetPoints().GetData())\n",
    "\n",
    "movingMeshPoints = subsample_points_poisson(movingMesh)\n",
    "fixedMeshPoints  = subsample_points_poisson(fixedMesh)\n",
    "\n",
    "print(movingMeshPoints.shape, fixedMeshPoints.shape)\n",
    "\n",
    "itkwidgets.view(point_sets=[movingMeshPoints, fixedMeshPoints])"
   ]
  },
  {
   "cell_type": "code",
   "execution_count": 8,
   "metadata": {},
   "outputs": [
    {
     "name": "stdout",
     "output_type": "stream",
     "text": [
      "(5591, 3)\n",
      "(6845, 3)\n",
      "7.91811449236354\n"
     ]
    }
   ],
   "source": [
    "MetricType = itk.EuclideanDistancePointSetToPointSetMetricv4.PSD3\n",
    "metric = MetricType.New()\n",
    "metric.SetMovingPointSet(mesh_fixed)\n",
    "metric.SetFixedPointSet(mesh_moving)\n",
    "metric.SetMovingTransform(transform)\n",
    "metric.Initialize()"
   ]
  },
  {
   "cell_type": "code",
   "execution_count": null,
   "metadata": {
    "code_folding": [
     0,
     4,
     11
    ]
   },
   "outputs": [],
   "source": [
    "# Visualize the results after RANSAC ICP\n",
    "\n",
    "from itkwidgets import view\n",
    "\n",
    "def readvtk(filename):\n",
    "    a = vtk.vtkPolyDataReader()\n",
    "    a.SetFileName(filename)\n",
    "    a.Update()\n",
    "    m1 = a.GetOutput()\n",
    "    return m1\n",
    "\n",
    "def readply(filename):\n",
    "    a = vtk.vtkPLYReader()\n",
    "    a.SetFileName(filename)\n",
    "    a.Update()\n",
    "    m1 = a.GetOutput()\n",
    "    return m1\n",
    "\n",
    "#m1 = readvtk('fixedMesh.vtk')\n",
    "#m2 = readvtk('movingMesh.vtk')\n",
    "#m3 = readvtk('ransacICPResult1_b.vtk')\n",
    "#m4 = readvtk('ransacICPResult1_c.vtk')\n",
    "\n",
    "\n",
    "#m1 = readvtk('/home/pranjal.sahu/Documents/SampleApeData/USNM174701-Cranium_merged_1.vtk')\n",
    "#m2 = readvtk('/home/pranjal.sahu/Documents/SampleApeData/USNM174722-Cranium_1.vtk')\n",
    "\n",
    "#m1 = readvtk('fixedMesh.vtk')\n",
    "#m2 = readvtk('movingMesh.vtk')\n",
    "#m3 = readvtk('ransacICPResult2_b.vtk')\n",
    "#m3 = readply('/home/pranjal.sahu/Documents/SampleApeData/USNM174722-Cranium_1.ply')\n",
    "#m4 = readvtk('ransacICPResult2_b.vtk')\n",
    "\n",
    "\n",
    "view(point_sets=[fixedMeshPoints, movingMeshPoints, itk_transformed_points])"
   ]
  },
  {
   "cell_type": "code",
   "execution_count": 55,
   "metadata": {},
   "outputs": [
    {
     "name": "stdout",
     "output_type": "stream",
     "text": [
      "(6845, 3) (5591, 3)\n"
     ]
    }
   ],
   "source": [
    "movingMeshPath = '/home/pranjal.sahu/Documents/SampleApeData1/Source Pointcloud (rigidly registered)_1.vtk'\n",
    "fixedMeshPath = '/home/pranjal.sahu/Documents/SampleApeData1/Target Pointcloud_1.vtk'\n",
    "\n",
    "movingMesh = readvtk(movingMeshPath)\n",
    "fixedMesh  = readvtk(fixedMeshPath)\n",
    "\n",
    "movingMeshPoints = subsample_points_poisson(movingMesh)\n",
    "fixedMeshPoints  = subsample_points_poisson(fixedMesh)\n",
    "\n",
    "print(movingMeshPoints.shape, fixedMeshPoints.shape)"
   ]
  },
  {
   "cell_type": "code",
   "execution_count": null,
   "metadata": {
    "code_folding": [
     0
    ],
    "scrolled": true
   },
   "outputs": [],
   "source": [
    "# [STAR] Expectation Based PointSetToPointSetMetricv4 Registration\n",
    "\n",
    "import copy\n",
    "from vtk.util import numpy_support\n",
    "\n",
    "imageDiagonal = 100\n",
    "\n",
    "PixelType = itk.D\n",
    "Dimension = 3\n",
    "\n",
    "FixedImageType = itk.Image[PixelType, Dimension]\n",
    "\n",
    "# For reading points\n",
    "if 1:\n",
    "    movingMeshPath = '/home/pranjal.sahu/Documents/SampleApeData1/Source Pointcloud (rigidly registered)_1.vtk'\n",
    "    fixedMeshPath = '/home/pranjal.sahu/Documents/SampleApeData1/Target Pointcloud_1.vtk'\n",
    "\n",
    "    movingMesh = readvtk(movingMeshPath)\n",
    "    fixedMesh = readvtk(fixedMeshPath)\n",
    "\n",
    "    movingMeshPoints = subsample_points_poisson(movingMesh)\n",
    "    fixedMeshPoints = subsample_points_poisson(fixedMesh)\n",
    "\n",
    "    print(movingMeshPoints.shape)\n",
    "    print(fixedMeshPoints.shape)\n",
    "\n",
    "# Create PointSets for registration\n",
    "movingPS = itk.PointSet[itk.D, Dimension].New()\n",
    "fixedPS = itk.PointSet[itk.D, Dimension].New()\n",
    "\n",
    "movingPS.SetPoints(itk.vector_container_from_array(movingMeshPoints.flatten()))\n",
    "fixedPS.SetPoints(itk.vector_container_from_array(fixedMeshPoints.flatten()))\n",
    "\n",
    "# For getting the Bounding Box\n",
    "ElementIdentifierType = itk.UL\n",
    "CoordType = itk.F\n",
    "Dimension = 3\n",
    "\n",
    "VecContType = itk.VectorContainer[ElementIdentifierType, itk.Point[CoordType,\n",
    "                                                                   Dimension]]\n",
    "bounding_box = itk.BoundingBox[ElementIdentifierType, Dimension, CoordType,\n",
    "                               VecContType].New()\n",
    "\n",
    "bounding_box.SetPoints(movingPS.GetPoints())\n",
    "bounding_box.ComputeBoundingBox()\n",
    "\n",
    "minBounds = np.array(bounding_box.GetMinimum())\n",
    "maxBounds = np.array(bounding_box.GetMaximum())\n",
    "\n",
    "spacing = np.sqrt(bounding_box.GetDiagonalLength2()) / imageDiagonal\n",
    "diff = maxBounds - minBounds\n",
    "\n",
    "print('Spacing ', spacing)\n",
    "print('minBounds ', minBounds)\n",
    "print('maxBounds ', maxBounds)\n",
    "\n",
    "fixedImageSize = [0] * 3\n",
    "fixedImageSize[0] = math.ceil(1.25 * diff[0] / spacing)\n",
    "fixedImageSize[1] = math.ceil(1.25 * diff[1] / spacing)\n",
    "fixedImageSize[2] = math.ceil(1.25 * diff[2] / spacing)\n",
    "\n",
    "fixedImageOrigin = [0] * 3\n",
    "fixedImageOrigin[0] = minBounds[0] - 0.25 * diff[0]\n",
    "fixedImageOrigin[1] = minBounds[1] - 0.25 * diff[1]\n",
    "fixedImageOrigin[2] = minBounds[2] - 0.25 * diff[2]\n",
    "\n",
    "fixedImageSpacing = np.ones(3) * spacing\n",
    "fixedImageDirection = np.identity(3)\n",
    "\n",
    "fixedImage = FixedImageType.New()\n",
    "fixedImage.SetRegions(fixedImageSize)\n",
    "fixedImage.SetOrigin(fixedImageOrigin)\n",
    "fixedImage.SetDirection(fixedImageDirection)\n",
    "fixedImage.SetSpacing(fixedImageSpacing)\n",
    "fixedImage.Allocate()\n",
    "\n",
    "# Create BSpline Transformation object and initialize the parameters\n",
    "SplineOrder = 3\n",
    "TransformType = itk.BSplineTransform[itk.D, Dimension, SplineOrder]\n",
    "InitializerType = itk.BSplineTransformInitializer[TransformType,\n",
    "                                                  FixedImageType]\n",
    "\n",
    "transform = TransformType.New()\n",
    "\n",
    "numberOfGridNodesInOneDimension = 12\n",
    "transformInitializer = InitializerType.New()\n",
    "transformInitializer.SetTransform(transform)\n",
    "transformInitializer.SetImage(fixedImage)\n",
    "transformInitializer.SetTransformDomainMeshSize(\n",
    "    numberOfGridNodesInOneDimension - SplineOrder)\n",
    "transformInitializer.InitializeTransform()\n",
    "\n",
    "# Registration Loop\n",
    "numOfIterations = 5000\n",
    "maxStep = 0.1\n",
    "learningRate = 0.1\n",
    "\n",
    "MetricType = itk.ExpectationBasedPointSetToPointSetMetricv4[type(movingPS)]\n",
    "metric = MetricType.New()\n",
    "metric.SetFixedPointSet(movingPS)\n",
    "metric.SetMovingPointSet(fixedPS)\n",
    "metric.SetPointSetSigma(2)\n",
    "metric.SetEvaluationKNeighborhood(10)\n",
    "metric.SetMovingTransform(transform)\n",
    "metric.Initialize()\n",
    "\n",
    "print('Metric Created')\n",
    "\n",
    "optimizer = itk.RegularStepGradientDescentOptimizerv4.D.New()\n",
    "optimizer.SetNumberOfIterations(numOfIterations)\n",
    "optimizer.SetMaximumStepSizeInPhysicalUnits(maxStep)\n",
    "optimizer.SetLearningRate(learningRate)\n",
    "optimizer.SetMinimumConvergenceValue(-100)\n",
    "optimizer.SetConvergenceWindowSize(numOfIterations)\n",
    "optimizer.SetMetric(metric)\n",
    "\n",
    "\n",
    "def iteration_update():\n",
    "    metric_value = optimizer.GetValue()\n",
    "    current_parameters = optimizer.GetCurrentPosition()\n",
    "    print(f\"Metric: {metric_value:.8g}\")\n",
    "\n",
    "\n",
    "iteration_command = itk.PyCommand.New()\n",
    "iteration_command.SetCommandCallable(iteration_update)\n",
    "optimizer.AddObserver(itk.IterationEvent(), iteration_command)\n",
    "\n",
    "optimizer.StartOptimization()\n",
    "\n",
    "# Transform the point set using the final transform\n",
    "final_transform = metric.GetMovingTransform()\n",
    "\n",
    "e_metric = itk.EuclideanDistancePointSetToPointSetMetricv4.PSD3.New()\n",
    "e_metric.SetFixedPointSet(fixedPS)\n",
    "e_metric.SetMovingPointSet(movingPS)\n",
    "print('Euclidean Metric Before TSD Deformable Registration ',\n",
    "      e_metric.GetValue())\n",
    "\n",
    "movingPSNew = itk.PointSet[itk.D, 3].New()\n",
    "numberOfPoints = movingPS.GetNumberOfPoints()\n",
    "\n",
    "for n in range(0, numberOfPoints):\n",
    "    movingPSNew.SetPoint(n,\n",
    "                         final_transform.TransformPoint(movingPS.GetPoint(n)))\n",
    "\n",
    "e_metric = itk.EuclideanDistancePointSetToPointSetMetricv4.PSD3.New()\n",
    "e_metric.SetFixedPointSet(fixedPS)\n",
    "e_metric.SetMovingPointSet(movingPSNew)\n",
    "print('Euclidean Metric After TSD Deformable Registration ',\n",
    "      e_metric.GetValue())\n",
    "\n",
    "# # Write the mesh to disk\n",
    "# movingMeshITK = itk.meshread(movingMeshPath, itk.D)\n",
    "# numberOfPoints = movingMeshITK.GetNumberOfPoints()\n",
    "# for n in range(0, numberOfPoints):\n",
    "#     movingMeshITK.SetPoint(n, final_transform.TransformPoint(movingMeshITK.GetPoint(n)))\n",
    "\n",
    "# w1 = itk.MeshFileWriter[type(movingMeshITK)].New()\n",
    "# w1.SetFileName('ransacICPResult2_c_check.vtk')\n",
    "# w1.SetFileTypeAsBINARY()\n",
    "# w1.SetInput(movingMeshITK)\n",
    "# w1.Update()\n",
    "\n",
    "# Write the Displacement Field\n",
    "\n",
    "convertFilter = itk.TransformToDisplacementFieldFilter.IVF33D.New()\n",
    "convertFilter.SetTransform(final_transform)\n",
    "convertFilter.UseReferenceImageOn()\n",
    "convertFilter.SetReferenceImage(fixedImage)\n",
    "convertFilter.Update()\n",
    "field = convertFilter.GetOutput()\n",
    "field = np.array(field)\n",
    "np.save('displacement_field.npy', field)"
   ]
  },
  {
   "cell_type": "code",
   "execution_count": 94,
   "metadata": {},
   "outputs": [],
   "source": [
    "convertFilter = itk.TransformToDisplacementFieldFilter.IVF33D.New()\n",
    "convertFilter.SetTransform(final_transform)\n",
    "convertFilter.UseReferenceImageOn()\n",
    "convertFilter.SetReferenceImage(fixedImage)\n",
    "convertFilter.Update()\n",
    "field = convertFilter.GetOutput()\n",
    "field = np.array(field)\n",
    "np.save('displacement_field1.npy', field)"
   ]
  },
  {
   "cell_type": "code",
   "execution_count": 96,
   "metadata": {},
   "outputs": [
    {
     "data": {
      "text/plain": [
       "<matplotlib.image.AxesImage at 0x7f07c8708940>"
      ]
     },
     "execution_count": 96,
     "metadata": {},
     "output_type": "execute_result"
    },
    {
     "data": {
      "image/png": "[encoded data removed]",
      "text/plain": [
       "<Figure size 432x288 with 1 Axes>"
      ]
     },
     "metadata": {
      "needs_background": "light"
     },
     "output_type": "display_data"
    }
   ],
   "source": [
    "plt.imshow(field[15, :, :, 2])"
   ]
  },
  {
   "cell_type": "code",
   "execution_count": 98,
   "metadata": {},
   "outputs": [],
   "source": [
    "# Write the meshes\n",
    "\n",
    "movingMeshPath = '/home/pranjal.sahu/Documents/SampleApeData1/Source model(rigidly registered)_1.vtk'\n",
    "fixedMeshPath = '/home/pranjal.sahu/Documents/SampleApeData1/Target Pointcloud_1.vtk'\n",
    "\n",
    "movingMesh = itk.meshread(movingMeshPath)\n",
    "for i in range(0, movingMesh.GetNumberOfPoints()):\n",
    "    movingMesh.SetPoint(i, final_transform.TransformPoint(movingMesh.GetPoint(i)))\n",
    "\n",
    "w1 = itk.MeshFileWriter[type(movingMesh)].New()\n",
    "w1.SetFileName('movingMesh_itk1.vtk')\n",
    "w1.SetFileTypeAsBINARY()\n",
    "w1.SetInput(movingMesh)\n",
    "w1.Update()\n"
   ]
  },
  {
   "cell_type": "code",
   "execution_count": null,
   "metadata": {},
   "outputs": [],
   "source": [
    "movingMeshPath = '/home/pranjal.sahu/Documents/SampleApeData1/Source Pointcloud (rigidly registered)_1.vtk'\n",
    "fixedMeshPath = '/home/pranjal.sahu/Documents/SampleApeData1/Target Pointcloud_1.vtk'\n",
    "\n",
    "movingMesh = readvtk(movingMeshPath)\n",
    "                         \n",
    "for n in range(0, numberOfPoints):\n",
    "    movingPSNew.SetPoint(n, final_transform.TransformPoint(movingPS.GetPoint(n)))"
   ]
  },
  {
   "cell_type": "code",
   "execution_count": 81,
   "metadata": {},
   "outputs": [
    {
     "name": "stdout",
     "output_type": "stream",
     "text": [
      "(2351553, 3)\n"
     ]
    }
   ],
   "source": [
    "movingMesh_itk_np = itk.array_from_vector_container(movingMesh.GetPoints())\n",
    "print(movingMesh_itk_np.shape)"
   ]
  },
  {
   "cell_type": "code",
   "execution_count": 92,
   "metadata": {},
   "outputs": [
    {
     "data": {
      "application/vnd.jupyter.widget-view+json": {
       "model_id": "ca623bf1cdc545918d25919de76a085a",
       "version_major": 2,
       "version_minor": 0
      },
      "text/plain": [
       "Viewer(geometries=[{'vtkClass': 'vtkPolyData', 'points': {'vtkClass': 'vtkPoints', 'name': '_points', 'numberO…"
      ]
     },
     "metadata": {},
     "output_type": "display_data"
    }
   ],
   "source": [
    "test1 = readvtk('/home/pranjal.sahu/Documents/SampleApeData1/USNM174722-Cranium.vtk')\n",
    "test2 = readvtk('movingMesh_itk.vtk')\n",
    "test3 = readvtk('/home/pranjal.sahu/Documents/SampleApeData1/TPS Warped source model_1.vtk')\n",
    "\n",
    "itkwidgets.view(geometries=[test1, test2, test3])"
   ]
  },
  {
   "cell_type": "code",
   "execution_count": 72,
   "metadata": {},
   "outputs": [
    {
     "data": {
      "application/vnd.jupyter.widget-view+json": {
       "model_id": "7d415136be524679855bd92bc95453f1",
       "version_major": 2,
       "version_minor": 0
      },
      "text/plain": [
       "Viewer(geometries=[], gradient_opacity=0.22, point_set_colors=array([[0.8392157 , 0.        , 0.        ],\n",
       "   …"
      ]
     },
     "metadata": {},
     "output_type": "display_data"
    }
   ],
   "source": [
    "movingPS_np = itk.array_from_vector_container(movingPS.GetPoints())\n",
    "fixedPS_np = itk.array_from_vector_container(fixedPS.GetPoints())\n",
    "movingPSNew_np = itk.array_from_vector_container(movingPSNew.GetPoints())\n",
    "\n",
    "itkwidgets.view(point_sets=[movingPS_np, movingPSNew_np, fixedPS_np])"
   ]
  },
  {
   "cell_type": "code",
   "execution_count": 18,
   "metadata": {},
   "outputs": [
    {
     "name": "stdout",
     "output_type": "stream",
     "text": [
      "(55, 94, 64, 3)\n"
     ]
    },
    {
     "data": {
      "text/plain": [
       "<matplotlib.image.AxesImage at 0x7f5b89f22670>"
      ]
     },
     "execution_count": 18,
     "metadata": {},
     "output_type": "execute_result"
    },
    {
     "data": {
      "image/png": "[encoded data removed]",
      "text/plain": [
       "<Figure size 432x288 with 1 Axes>"
      ]
     },
     "metadata": {
      "needs_background": "light"
     },
     "output_type": "display_data"
    }
   ],
   "source": [
    "# Visualized the Displacement Field obtained from BSpline Transform\n",
    "\n",
    "print(field.shape)\n",
    "import matplotlib.pyplot as plt\n",
    "plt.imshow(field[15, :, :, 0], cmap='gray')"
   ]
  },
  {
   "cell_type": "code",
   "execution_count": 6,
   "metadata": {
    "code_folding": [
     11
    ]
   },
   "outputs": [
    {
     "data": {
      "application/vnd.jupyter.widget-view+json": {
       "model_id": "2a2607091fd44426bf54ec0b882723a6",
       "version_major": 2,
       "version_minor": 0
      },
      "text/plain": [
       "Viewer(geometries=[{'vtkClass': 'vtkPolyData', 'points': {'vtkClass': 'vtkPoints', 'name': '_points', 'numberO…"
      ]
     },
     "metadata": {},
     "output_type": "display_data"
    }
   ],
   "source": [
    "# Visualize the results after RANSAC ICP\n",
    "\n",
    "from itkwidgets import view\n",
    "\n",
    "def readvtk(filename):\n",
    "    a = vtk.vtkPolyDataReader()\n",
    "    a.SetFileName(filename)\n",
    "    a.Update()\n",
    "    m1 = a.GetOutput()\n",
    "    return m1\n",
    "\n",
    "def readply(filename):\n",
    "    a = vtk.vtkPLYReader()\n",
    "    a.SetFileName(filename)\n",
    "    a.Update()\n",
    "    m1 = a.GetOutput()\n",
    "    return m1\n",
    "\n",
    "#m1 = readvtk('/home/pranjal.sahu/Documents/SampleApeData/USNM174701-Cranium_merged_1.vtk')\n",
    "m1 = readvtk('fixedMesh.vtk')\n",
    "#m2 = readvtk('/home/pranjal.sahu/Documents/SampleApeData/USNM174722-Cranium_1.vtk')\n",
    "m2 = readvtk('ransacICPResult2_b.vtk')\n",
    "#m3 = readvtk('ransacICPResult2_b_check.vtk')\n",
    "m3 = readvtk('ransacICPResult2_c_check.vtk')\n",
    "\n",
    "\n",
    "view(geometries=[m1, m2, m3])"
   ]
  },
  {
   "cell_type": "code",
   "execution_count": null,
   "metadata": {
    "code_folding": [
     0
    ],
    "colab": {
     "base_uri": "https://localhost:8080/"
    },
    "id": "BAO8Kz3-siCo",
    "outputId": "b7cd6976-059c-438a-b39c-633d789b8db5"
   },
   "outputs": [],
   "source": [
    "# TSD registration\n",
    "\n",
    "imageDiagonal   = 50\n",
    "stretchWeight   = 0.0001\n",
    "bendWeight      = 0.0001\n",
    "geometricWeight = 0.0001\n",
    "maxStep         = 1\n",
    "numOfIterations = 20\n",
    "learningRate    = 1\n",
    "\n",
    "movingMesh = itk.meshread('movingMesh.vtk', itk.D)\n",
    "fixedMesh  = itk.meshread('fixedMesh.vtk', itk.D)\n",
    "\n",
    "print('Number of Points are')\n",
    "print(movingMesh.GetNumberOfPoints())\n",
    "print(fixedMesh.GetNumberOfPoints())\n",
    "\n",
    "fixedMesh.BuildCellLinks()\n",
    "movingMesh.BuildCellLinks()\n",
    "\n",
    "PixelType = itk.D\n",
    "Dimension = 3\n",
    "\n",
    "MeshType        = itk.Mesh[itk.D, Dimension]\n",
    "FixedImageType  = itk.Image[PixelType, Dimension]\n",
    "\n",
    "# For getting the Bounding Box\n",
    "ElementIdentifierType = itk.UL\n",
    "CoordType = itk.F\n",
    "Dimension = 3\n",
    "\n",
    "VecContType = itk.VectorContainer[\n",
    "    ElementIdentifierType, itk.Point[CoordType, Dimension]\n",
    "]\n",
    "bounding_box = itk.BoundingBox[ElementIdentifierType, Dimension, CoordType, VecContType].New()\n",
    "bounding_box.SetPoints(movingMesh.GetPoints())\n",
    "bounding_box.ComputeBoundingBox()\n",
    "\n",
    "minBounds = np.array(bounding_box.GetMinimum())\n",
    "maxBounds = np.array(bounding_box.GetMaximum())\n",
    "\n",
    "\n",
    "spacing = np.sqrt(bounding_box.GetDiagonalLength2()) / imageDiagonal\n",
    "diff = maxBounds - minBounds\n",
    "\n",
    "print('Spacing ', spacing)\n",
    "print('minBounds ', minBounds)\n",
    "print('maxBounds ', maxBounds)\n",
    "\n",
    "fixedImageSize    = [0]*3\n",
    "fixedImageSize[0] = math.ceil( 1.2 * diff[0] / spacing )\n",
    "fixedImageSize[1] = math.ceil( 1.2 * diff[1] / spacing )\n",
    "fixedImageSize[2] = math.ceil( 1.2 * diff[2] / spacing )\n",
    "\n",
    "fixedImageOrigin    = [0]*3\n",
    "fixedImageOrigin[0] = minBounds[0] - 0.1 * diff[0]\n",
    "fixedImageOrigin[1] = minBounds[1] - 0.1 * diff[1]\n",
    "fixedImageOrigin[2] = minBounds[2] - 0.1 * diff[2]\n",
    "\n",
    "fixedImageSpacing   = np.ones(3)*spacing\n",
    "fixedImageDirection = np.identity(3)\n",
    "\n",
    "\n",
    "fixedImage = FixedImageType.New()\n",
    "fixedImage.SetRegions(fixedImageSize)\n",
    "fixedImage.SetOrigin( fixedImageOrigin )\n",
    "fixedImage.SetDirection( fixedImageDirection )\n",
    "fixedImage.SetSpacing( fixedImageSpacing )\n",
    "fixedImage.Allocate()\n",
    "\n",
    "\n",
    "# Create BSpline Transformation object and initialize the parameters\n",
    "SplineOrder = 3\n",
    "TransformType  = itk.BSplineTransform[itk.D, Dimension, SplineOrder]\n",
    "InitializerType = itk.BSplineTransformInitializer[TransformType, FixedImageType]\n",
    "\n",
    "transform = TransformType.New()\n",
    "\n",
    "# Higher the grid dimensio, slower the computation but higher will be the accuracy\n",
    "numberOfGridNodesInOneDimension = 8\n",
    "transformInitializer = InitializerType.New()\n",
    "transformInitializer.SetTransform(transform)\n",
    "transformInitializer.SetImage(fixedImage)\n",
    "transformInitializer.SetTransformDomainMeshSize(numberOfGridNodesInOneDimension - SplineOrder)\n",
    "transformInitializer.InitializeTransform()\n",
    "\n",
    "\n",
    "\n",
    "MetricType = itk.ThinShellDemonsMetricv4.MD3\n",
    "metric = MetricType.New()\n",
    "metric.SetStretchWeight(stretchWeight)\n",
    "metric.SetBendWeight(bendWeight)\n",
    "metric.SetGeometricFeatureWeight(geometricWeight)\n",
    "metric.UseConfidenceWeightingOn()\n",
    "metric.UseMaximalDistanceConfidenceSigmaOff()\n",
    "metric.UpdateFeatureMatchingAtEachIterationOn()\n",
    "metric.SetMovingTransform(transform)\n",
    "# Reversed due to using points instead of an image\n",
    "# to keep semantics the same as in itkThinShellDemonsTest.cxx\n",
    "# For the ThinShellDemonsMetricv4 the fixed mesh is regularized\n",
    "metric.SetFixedPointSet(movingMesh)\n",
    "metric.SetMovingPointSet(fixedMesh)\n",
    "metric.SetVirtualDomainFromImage(fixedImage)\n",
    "metric.Initialize()\n",
    "\n",
    "print('TSD Metric Created')\n",
    "\n",
    "\n",
    "optimizer = itk.RegularStepGradientDescentOptimizerv4.D.New()\n",
    "optimizer.SetNumberOfIterations( numOfIterations )\n",
    "optimizer.SetMaximumStepSizeInPhysicalUnits( maxStep )\n",
    "optimizer.SetLearningRate(learningRate)\n",
    "optimizer.SetMinimumConvergenceValue( 0.0 )\n",
    "optimizer.SetConvergenceWindowSize( numOfIterations )\n",
    "\n",
    "def iteration_update():\n",
    "    metric_value = optimizer.GetValue()\n",
    "    current_parameters = optimizer.GetCurrentPosition()\n",
    "    print(f\"Metric: {metric_value:.8g}\")\n",
    "\n",
    "iteration_command = itk.PyCommand.New()\n",
    "iteration_command.SetCommandCallable(iteration_update)\n",
    "optimizer.AddObserver(itk.IterationEvent(), iteration_command)\n",
    "\n",
    "\n",
    "print('Number of Transform Parameters ', transform.GetNumberOfParameters())\n",
    "\n",
    "AffineRegistrationType = itk.ImageRegistrationMethodv4.REGv4D3D3TD3D3MD3.New()\n",
    "registration = AffineRegistrationType.New()\n",
    "registration.SetNumberOfLevels(1)\n",
    "registration.SetObjectName(\"registration\")\n",
    "registration.SetFixedPointSet(movingMesh)\n",
    "registration.SetMovingPointSet(fixedMesh)\n",
    "registration.SetInitialTransform(transform)\n",
    "registration.SetMetric(metric)\n",
    "registration.SetOptimizer(optimizer)\n",
    "registration.InPlaceOn()\n",
    "\n",
    "print('Registration Object created')\n",
    "print('Initial Value of Metric ', metric.GetValue())\n",
    "\n",
    "try:\n",
    "    registration.Update()\n",
    "except e:\n",
    "    print('Error is ', e)\n",
    "\n",
    "print('Final Value of TSD Metric ', metric.GetValue())\n",
    "\n",
    "\n",
    "# Get the Displacement field from the BSpline Transform\n",
    "finalTransform = registration.GetModifiableTransform()\n",
    "convertFilter = itk.TransformToDisplacementFieldFilter.IVF33D.New()\n",
    "convertFilter.SetTransform(finalTransform)\n",
    "convertFilter.UseReferenceImageOn()\n",
    "convertFilter.SetReferenceImage(fixedImage)\n",
    "convertFilter.Update()\n",
    "field = convertFilter.GetOutput()\n",
    "field = np.array(field)\n",
    "np.save('displacement_field.npy', field)\n",
    "\n",
    "e_metric = itk.EuclideanDistancePointSetToPointSetMetricv4.PSD3.New()\n",
    "e_metric.SetFixedPointSet(fixedMesh)\n",
    "e_metric.SetMovingPointSet(movingMesh)\n",
    "print('Euclidean Metric Before TSD Deformable Registration ', e_metric.GetValue())\n",
    "\n",
    "numberOfPoints = movingMesh.GetNumberOfPoints()\n",
    "for n in range(0, numberOfPoints):\n",
    "    movingMesh.SetPoint(n, finalTransform.TransformPoint(movingMesh.GetPoint(n)))\n",
    "\n",
    "e_metric = itk.EuclideanDistancePointSetToPointSetMetricv4.PSD3.New()\n",
    "e_metric.SetFixedPointSet(fixedMesh)\n",
    "e_metric.SetMovingPointSet(movingMesh)\n",
    "print('Euclidean Metric After TSD Deformable Registration ', e_metric.GetValue())\n",
    "\n",
    "itk.meshwrite(movingMesh, 'result_bspline.vtk')"
   ]
  },
  {
   "cell_type": "code",
   "execution_count": null,
   "metadata": {
    "colab": {
     "base_uri": "https://localhost:8080/",
     "height": 717,
     "referenced_widgets": [
      "bccc95ba69df467d9c9ffc80cc1ec239",
      "e06d9cfe79da41d4994610976f5c6ae7"
     ]
    },
    "id": "Z_tumTEKsmDY",
    "outputId": "74cc6a4f-24a4-4cbf-c273-dcd478ea970a"
   },
   "outputs": [
    {
     "data": {
      "application/vnd.jupyter.widget-view+json": {
       "model_id": "bccc95ba69df467d9c9ffc80cc1ec239",
       "version_major": 2,
       "version_minor": 0
      },
      "text/plain": [
       "Viewer(geometries=[{'vtkClass': 'vtkPolyData', 'points': {'vtkClass': 'vtkPoints', 'name': '_points', 'numberO…"
      ]
     },
     "metadata": {
      "application/vnd.jupyter.widget-view+json": {
       "colab": {
        "custom_widget_manager": {
         "url": "https://ssl.gstatic.com/colaboratory-static/widgets/colab-cdn-widget-manager/a8874ba6619b6106/manager.min.js"
        }
       }
      }
     },
     "output_type": "display_data"
    }
   ],
   "source": [
    "# Visualize the fixed mesh, moving mesh and the registered mesh\n",
    "\n",
    "a = vtk.vtkPolyDataReader()\n",
    "a.SetFileName('ransacICPResult2.vtk')\n",
    "a.Update()\n",
    "m1 = a.GetOutput()\n",
    "\n",
    "a = vtk.vtkPolyDataReader()\n",
    "a.SetFileName('result_bspline.vtk')\n",
    "a.Update()\n",
    "m2 = a.GetOutput()\n",
    "\n",
    "a = vtk.vtkPolyDataReader()\n",
    "a.SetFileName('fixedMesh.vtk')\n",
    "a.Update()\n",
    "m3 = a.GetOutput()\n",
    "\n",
    "itkwidgets.view(geometries=[m1, m2, m3])"
   ]
  },
  {
   "cell_type": "code",
   "execution_count": null,
   "metadata": {},
   "outputs": [],
   "source": [
    "#finalTransform = registration.GetModifiableTransform()\n",
    "convertFilter = itk.TransformToDisplacementFieldFilter.IVF33D.New()\n",
    "convertFilter.SetTransform(final_transform)\n",
    "convertFilter.UseReferenceImageOn()\n",
    "convertFilter.SetReferenceImage(fixedImage)\n",
    "convertFilter.Update()\n",
    "field = convertFilter.GetOutput()\n",
    "field = np.array(field)\n",
    "np.save('displacement_field.npy', field)"
   ]
  },
  {
   "cell_type": "code",
   "execution_count": 36,
   "metadata": {
    "colab": {
     "base_uri": "https://localhost:8080/",
     "height": 282
    },
    "id": "4G9RMlpMsnul",
    "outputId": "5ae3efb9-6e2a-4903-c232-f35ae2ad28d9"
   },
   "outputs": [
    {
     "name": "stdout",
     "output_type": "stream",
     "text": [
      "(24, 48, 29, 3)\n"
     ]
    },
    {
     "data": {
      "text/plain": [
       "<matplotlib.image.AxesImage at 0x7f2eeb03ebb0>"
      ]
     },
     "execution_count": 36,
     "metadata": {},
     "output_type": "execute_result"
    },
    {
     "data": {
      "image/png": "[encoded data removed]",
      "text/plain": [
       "<Figure size 432x288 with 1 Axes>"
      ]
     },
     "metadata": {
      "needs_background": "light"
     },
     "output_type": "display_data"
    }
   ],
   "source": [
    "# Visualized the Displacement Field obtained from BSpline Transform\n",
    "\n",
    "print(field.shape)\n",
    "import matplotlib.pyplot as plt\n",
    "plt.imshow(field[15, :, :, 0], cmap='gray')"
   ]
  },
  {
   "cell_type": "code",
   "execution_count": 172,
   "metadata": {},
   "outputs": [
    {
     "name": "stdout",
     "output_type": "stream",
     "text": [
      "Apply point-to-point ICP\n",
      "RegistrationResult with fitness=6.731486e-01, inlier_rmse=4.562815e+00, and correspondence_set size of 2527\n",
      "Access transformation to get result.\n",
      "Transformation is:\n",
      "[[  0.95502067   0.13828085  -0.26232407 -12.74522843]\n",
      " [ -0.11599785   0.98833485   0.09868494  14.89261294]\n",
      " [  0.27291026  -0.06381713   0.9599205   -9.09552887]\n",
      " [  0.           0.           0.           1.        ]]\n"
     ]
    }
   ],
   "source": [
    "# Checking Point to Plane ICP\n",
    "\n",
    "import open3d as o3d\n",
    "from open3d import geometry\n",
    "from open3d import utility\n",
    "\n",
    "source = geometry.PointCloud()\n",
    "source.points = utility.Vector3dVector(itk_transformed_points)\n",
    "\n",
    "target = geometry.PointCloud()\n",
    "target.points = utility.Vector3dVector(fixedMeshPoints)\n",
    "\n",
    "radius_normal = 5\n",
    "\n",
    "target.estimate_normals(\n",
    "    geometry.KDTreeSearchParamHybrid(radius=radius_normal, max_nn=30))\n",
    "\n",
    "trans_init = np.identity(4)\n",
    "threshold = 10\n",
    "\n",
    "convergence = o3d.pipelines.registration.TransformationEstimationPointToPlane()\n",
    "\n",
    "print(\"Apply point-to-point ICP\")\n",
    "reg_p2p = o3d.pipelines.registration.registration_icp(\n",
    "    source, target, threshold, trans_init, convergence,\n",
    "    o3d.pipelines.registration.ICPConvergenceCriteria(max_iteration=1000))\n",
    "\n",
    "print(reg_p2p)\n",
    "print(\"Transformation is:\")\n",
    "print(reg_p2p.transformation)\n",
    "#draw_registration_result(source, target, reg_p2p.transformation)"
   ]
  },
  {
   "cell_type": "code",
   "execution_count": 173,
   "metadata": {},
   "outputs": [
    {
     "name": "stdout",
     "output_type": "stream",
     "text": [
      "(3754, 3) (8002, 3)\n",
      "8.35966483323909\n"
     ]
    }
   ],
   "source": [
    "# For getting distance after open 3d icp\n",
    "\n",
    "sp = np.asarray(source_temp.points)\n",
    "tp = np.asarray(target_temp.points)\n",
    "\n",
    "print(sp.shape, tp.shape)\n",
    "\n",
    "moving_ps = itk.Mesh[itk.D, 3].New()\n",
    "fixed_ps = itk.Mesh[itk.D, 3].New()\n",
    "\n",
    "fixed_ps.SetPoints(itk.vector_container_from_array(tp.flatten().astype('float32')))\n",
    "moving_ps.SetPoints(itk.vector_container_from_array(sp.flatten().astype('float32')))\n",
    "\n",
    "MetricType = itk.EuclideanDistancePointSetToPointSetMetricv4.PSD3\n",
    "metric = MetricType.New()\n",
    "metric.SetMovingPointSet(moving_ps)\n",
    "metric.SetFixedPointSet(fixed_ps)\n",
    "metric.Initialize()\n",
    "\n",
    "print(metric.GetValue())"
   ]
  },
  {
   "cell_type": "code",
   "execution_count": 135,
   "metadata": {},
   "outputs": [
    {
     "name": "stdout",
     "output_type": "stream",
     "text": [
      "final_mesh points  3754\n",
      "fixedMeshPoints points  8002\n",
      "itk_transformed_points points  3754\n"
     ]
    }
   ],
   "source": [
    "print('final_mesh points ', final_mesh.shape[0])\n",
    "print('fixedMeshPoints points ', fixedMeshPoints.shape[0])\n",
    "print('itk_transformed_points points ', itk_transformed_points.shape[0])"
   ]
  },
  {
   "cell_type": "code",
   "execution_count": 136,
   "metadata": {},
   "outputs": [
    {
     "name": "stdout",
     "output_type": "stream",
     "text": [
      "9.055943657675051\n"
     ]
    }
   ],
   "source": [
    "# For getting distance after ITK ICP\n",
    "\n",
    "moving_ps = itk.Mesh[itk.D, 3].New()\n",
    "fixed_ps = itk.Mesh[itk.D, 3].New()\n",
    "\n",
    "fixed_ps.SetPoints(itk.vector_container_from_array(fixedMeshPoints.flatten().astype('float32')))\n",
    "#moving_ps.SetPoints(itk.vector_container_from_array(itk_transformed_points.flatten().astype('float32')))\n",
    "moving_ps.SetPoints(itk.vector_container_from_array(final_mesh.flatten().astype('float32')))\n",
    "\n",
    "MetricType = itk.EuclideanDistancePointSetToPointSetMetricv4.PSD3\n",
    "metric = MetricType.New()\n",
    "metric.SetMovingPointSet(fixed_ps)\n",
    "metric.SetFixedPointSet(moving_ps)\n",
    "metric.Initialize()\n",
    "\n",
    "print(metric.GetValue())"
   ]
  },
  {
   "cell_type": "code",
   "execution_count": 130,
   "metadata": {},
   "outputs": [
    {
     "name": "stdout",
     "output_type": "stream",
     "text": [
      "8002 3754\n"
     ]
    }
   ],
   "source": [
    "print(fixed_ps.GetNumberOfPoints(), moving_ps.GetNumberOfPoints())"
   ]
  },
  {
   "cell_type": "code",
   "execution_count": 105,
   "metadata": {},
   "outputs": [
    {
     "data": {
      "application/vnd.jupyter.widget-view+json": {
       "model_id": "775bd0ffae1b4509bb9a9bc938fa095a",
       "version_major": 2,
       "version_minor": 0
      },
      "text/plain": [
       "Viewer(geometries=[], gradient_opacity=0.22, point_set_colors=array([[0.8392157 , 0.        , 0.        ],\n",
       "   …"
      ]
     },
     "metadata": {},
     "output_type": "display_data"
    }
   ],
   "source": [
    "itkwidgets.view(point_sets=[sp, tp])"
   ]
  },
  {
   "cell_type": "code",
   "execution_count": 102,
   "metadata": {},
   "outputs": [
    {
     "data": {
      "text/plain": [
       "PointCloud with 3754 points."
      ]
     },
     "execution_count": 102,
     "metadata": {},
     "output_type": "execute_result"
    }
   ],
   "source": [
    "source_temp = copy.deepcopy(source)\n",
    "target_temp = copy.deepcopy(target)\n",
    "source_temp.transform(reg_p2p.transformation)"
   ]
  },
  {
   "cell_type": "code",
   "execution_count": 63,
   "metadata": {},
   "outputs": [],
   "source": [
    "def draw_registration_result(source, target, transformation):\n",
    "    source_temp = copy.deepcopy(source)\n",
    "    target_temp = copy.deepcopy(target)\n",
    "    source_temp.paint_uniform_color([1, 0.706, 0])\n",
    "    target_temp.paint_uniform_color([0, 0.651, 0.929])\n",
    "    source_temp.transform(transformation)\n",
    "    o3d.visualization.draw_geometries([source_temp, target_temp])"
   ]
  },
  {
   "cell_type": "code",
   "execution_count": 58,
   "metadata": {},
   "outputs": [
    {
     "name": "stdout",
     "output_type": "stream",
     "text": [
      "[[1. 0. 0. 0.]\n",
      " [0. 1. 0. 0.]\n",
      " [0. 0. 1. 0.]\n",
      " [0. 0. 0. 1.]]\n"
     ]
    }
   ],
   "source": [
    "trans_init = np.identity(4)\n",
    "print(trans_init)"
   ]
  },
  {
   "cell_type": "code",
   "execution_count": null,
   "metadata": {},
   "outputs": [],
   "source": [
    "movingMeshPath = '/home/pranjal.sahu/Documents/SampleApeData1/Source Pointcloud (rigidly registered)_1.vtk'\n",
    "fixedMeshPath = '/home/pranjal.sahu/Documents/SampleApeData1/Target Pointcloud_1.vtk'\n",
    "\n",
    "movingMesh = readvtk(movingMeshPath)\n",
    "fixedMesh  = readvtk(fixedMeshPath)\n",
    "\n",
    "#itkwidgets.view(geometries=[fixedMesh, movingMesh])\n",
    "\n",
    "print(movingMesh.GetNumberOfPoints())"
   ]
  }
 ],
 "metadata": {
  "colab": {
   "collapsed_sections": [],
   "name": "TSD-Demo.ipynb",
   "provenance": []
  },
  "kernelspec": {
   "display_name": "Python 3 (ipykernel)",
   "language": "python",
   "name": "python3"
  },
  "language_info": {
   "codemirror_mode": {
    "name": "ipython",
    "version": 3
   },
   "file_extension": ".py",
   "mimetype": "text/x-python",
   "name": "python",
   "nbconvert_exporter": "python",
   "pygments_lexer": "ipython3",
   "version": "3.9.12"
  },
  "widgets": {
   "application/vnd.jupyter.widget-state+json": {
    "562fc697c5f043c1a03eb27e5a9ff721": {
     "model_module": "@jupyter-widgets/base",
     "model_module_version": "1.2.0",
     "model_name": "LayoutModel",
     "state": {
      "_model_module": "@jupyter-widgets/base",
      "_model_module_version": "1.2.0",
      "_model_name": "LayoutModel",
      "_view_count": null,
      "_view_module": "@jupyter-widgets/base",
      "_view_module_version": "1.2.0",
      "_view_name": "LayoutView",
      "align_content": null,
      "align_items": null,
      "align_self": null,
      "border": null,
      "bottom": null,
      "display": null,
      "flex": null,
      "flex_flow": null,
      "grid_area": null,
      "grid_auto_columns": null,
      "grid_auto_flow": null,
      "grid_auto_rows": null,
      "grid_column": null,
      "grid_gap": null,
      "grid_row": null,
      "grid_template_areas": null,
      "grid_template_columns": null,
      "grid_template_rows": null,
      "height": null,
      "justify_content": null,
      "justify_items": null,
      "left": null,
      "margin": null,
      "max_height": null,
      "max_width": null,
      "min_height": null,
      "min_width": null,
      "object_fit": null,
      "object_position": null,
      "order": null,
      "overflow": null,
      "overflow_x": null,
      "overflow_y": null,
      "padding": null,
      "right": null,
      "top": null,
      "visibility": null,
      "width": null
     }
    },
    "bccc95ba69df467d9c9ffc80cc1ec239": {
     "model_module": "itkwidgets",
     "model_module_version": "^0.32.1",
     "model_name": "ViewerModel",
     "state": {
      "_custom_cmap": null,
      "_dom_classes": [],
      "_downsampling": false,
      "_largest_roi": {
       "dtype": "float64",
       "shape": [
        2,
        3
       ]
      },
      "_model_module": "itkwidgets",
      "_model_module_version": "^0.32.1",
      "_model_name": "ViewerModel",
      "_rendering_image": false,
      "_reset_crop_requested": false,
      "_scale_factors": {
       "dtype": "uint8",
       "shape": [
        3
       ]
      },
      "_view_count": null,
      "_view_module": "itkwidgets",
      "_view_module_version": "^0.32.1",
      "_view_name": "ViewerView",
      "annotations": true,
      "axes": false,
      "background": [
       1,
       1,
       1
      ],
      "blend_mode": "composite",
      "camera": {
       "dtype": "float32",
       "shape": [
        3,
        3
       ]
      },
      "channels": null,
      "clicked_slice_point": null,
      "cmap": null,
      "geometries": [
       {
        "metadata": {
         "name": "Geometry 0"
        },
        "points": {
         "dataType": "Float32Array",
         "name": "_points",
         "numberOfComponents": 3,
         "size": 522240,
         "vtkClass": "vtkPoints"
        },
        "polys": {
         "dataType": "Uint32Array",
         "name": "_polys",
         "numberOfComponents": 1,
         "size": 1394656,
         "vtkClass": "vtkCellArray"
        },
        "vtkClass": "vtkPolyData"
       },
       {
        "metadata": {
         "name": "Geometry 1"
        },
        "points": {
         "dataType": "Float32Array",
         "name": "_points",
         "numberOfComponents": 3,
         "size": 522240,
         "vtkClass": "vtkPoints"
        },
        "polys": {
         "dataType": "Uint32Array",
         "name": "_polys",
         "numberOfComponents": 1,
         "size": 1394656,
         "vtkClass": "vtkCellArray"
        },
        "vtkClass": "vtkPolyData"
       },
       {
        "metadata": {
         "name": "Geometry 2"
        },
        "points": {
         "dataType": "Float32Array",
         "name": "_points",
         "numberOfComponents": 3,
         "size": 507396,
         "vtkClass": "vtkPoints"
        },
        "polys": {
         "dataType": "Uint32Array",
         "name": "_polys",
         "numberOfComponents": 1,
         "size": 1354080,
         "vtkClass": "vtkCellArray"
        },
        "vtkClass": "vtkPolyData"
       }
      ],
      "geometry_colors": {
       "dtype": "float32",
       "shape": [
        3,
        3
       ]
      },
      "geometry_opacities": {
       "dtype": "float32",
       "shape": [
        3
       ]
      },
      "gradient_opacity": 0.22,
      "interpolation": true,
      "label_image_blend": 0.5,
      "label_image_names": null,
      "label_image_weights": null,
      "layout": "IPY_MODEL_e06d9cfe79da41d4994610976f5c6ae7",
      "lut": "glasbey",
      "mode": "v",
      "opacity_gaussians": null,
      "point_set_colors": {
       "dtype": "float32",
       "shape": [
        0,
        3
       ]
      },
      "point_set_opacities": {
       "dtype": "float32",
       "shape": [
        0
       ]
      },
      "point_set_representations": [],
      "point_set_sizes": {
       "dtype": "uint8",
       "shape": [
        0
       ]
      },
      "point_sets": [],
      "rendered_image": null,
      "rendered_label_image": null,
      "roi": {
       "dtype": "float64",
       "shape": [
        2,
        3
       ]
      },
      "rotate": false,
      "sample_distance": 0.25,
      "select_roi": false,
      "shadow": true,
      "slicing_planes": false,
      "ui_collapsed": false,
      "units": "",
      "vmax": null,
      "vmin": null,
      "x_slice": null,
      "y_slice": null,
      "z_slice": null
     }
    },
    "db007fa8964c4869ad6c08aa6b3016bd": {
     "model_module": "itkwidgets",
     "model_module_version": "^0.32.1",
     "model_name": "ViewerModel",
     "state": {
      "_custom_cmap": null,
      "_dom_classes": [],
      "_downsampling": false,
      "_largest_roi": {
       "dtype": "float64",
       "shape": [
        2,
        3
       ]
      },
      "_model_module": "itkwidgets",
      "_model_module_version": "^0.32.1",
      "_model_name": "ViewerModel",
      "_rendering_image": false,
      "_reset_crop_requested": false,
      "_scale_factors": {
       "dtype": "uint8",
       "shape": [
        3
       ]
      },
      "_view_count": null,
      "_view_module": "itkwidgets",
      "_view_module_version": "^0.32.1",
      "_view_name": "ViewerView",
      "annotations": true,
      "axes": false,
      "background": [
       1,
       1,
       1
      ],
      "blend_mode": "composite",
      "camera": {
       "dtype": "float32",
       "shape": [
        3,
        3
       ]
      },
      "channels": null,
      "clicked_slice_point": null,
      "cmap": null,
      "geometries": [
       {
        "metadata": {
         "name": "Geometry 0"
        },
        "points": {
         "dataType": "Float32Array",
         "name": "_points",
         "numberOfComponents": 3,
         "size": 507396,
         "vtkClass": "vtkPoints"
        },
        "polys": {
         "dataType": "Uint32Array",
         "name": "_polys",
         "numberOfComponents": 1,
         "size": 1354080,
         "vtkClass": "vtkCellArray"
        },
        "vtkClass": "vtkPolyData"
       },
       {
        "metadata": {
         "name": "Geometry 1"
        },
        "points": {
         "dataType": "Float32Array",
         "name": "_points",
         "numberOfComponents": 3,
         "size": 522240,
         "vtkClass": "vtkPoints"
        },
        "polys": {
         "dataType": "Uint32Array",
         "name": "_polys",
         "numberOfComponents": 1,
         "size": 1394656,
         "vtkClass": "vtkCellArray"
        },
        "vtkClass": "vtkPolyData"
       },
       {
        "metadata": {
         "name": "Geometry 2"
        },
        "points": {
         "dataType": "Float32Array",
         "name": "_points",
         "numberOfComponents": 3,
         "size": 522240,
         "vtkClass": "vtkPoints"
        },
        "polys": {
         "dataType": "Uint32Array",
         "name": "_polys",
         "numberOfComponents": 1,
         "size": 1394656,
         "vtkClass": "vtkCellArray"
        },
        "vtkClass": "vtkPolyData"
       },
       {
        "metadata": {
         "name": "Geometry 3"
        },
        "points": {
         "dataType": "Float32Array",
         "name": "_points",
         "numberOfComponents": 3,
         "size": 522240,
         "vtkClass": "vtkPoints"
        },
        "polys": {
         "dataType": "Uint32Array",
         "name": "_polys",
         "numberOfComponents": 1,
         "size": 1394656,
         "vtkClass": "vtkCellArray"
        },
        "vtkClass": "vtkPolyData"
       }
      ],
      "geometry_colors": {
       "dtype": "float32",
       "shape": [
        4,
        3
       ]
      },
      "geometry_opacities": {
       "dtype": "float32",
       "shape": [
        4
       ]
      },
      "gradient_opacity": 0.22,
      "interpolation": true,
      "label_image_blend": 0.5,
      "label_image_names": null,
      "label_image_weights": null,
      "layout": "IPY_MODEL_562fc697c5f043c1a03eb27e5a9ff721",
      "lut": "glasbey",
      "mode": "v",
      "opacity_gaussians": null,
      "point_set_colors": {
       "dtype": "float32",
       "shape": [
        0,
        3
       ]
      },
      "point_set_opacities": {
       "dtype": "float32",
       "shape": [
        0
       ]
      },
      "point_set_representations": [],
      "point_set_sizes": {
       "dtype": "uint8",
       "shape": [
        0
       ]
      },
      "point_sets": [],
      "rendered_image": null,
      "rendered_label_image": null,
      "roi": {
       "dtype": "float64",
       "shape": [
        2,
        3
       ]
      },
      "rotate": false,
      "sample_distance": 0.25,
      "select_roi": false,
      "shadow": true,
      "slicing_planes": false,
      "ui_collapsed": false,
      "units": "",
      "vmax": null,
      "vmin": null,
      "x_slice": null,
      "y_slice": null,
      "z_slice": null
     }
    },
    "e06d9cfe79da41d4994610976f5c6ae7": {
     "model_module": "@jupyter-widgets/base",
     "model_module_version": "1.2.0",
     "model_name": "LayoutModel",
     "state": {
      "_model_module": "@jupyter-widgets/base",
      "_model_module_version": "1.2.0",
      "_model_name": "LayoutModel",
      "_view_count": null,
      "_view_module": "@jupyter-widgets/base",
      "_view_module_version": "1.2.0",
      "_view_name": "LayoutView",
      "align_content": null,
      "align_items": null,
      "align_self": null,
      "border": null,
      "bottom": null,
      "display": null,
      "flex": null,
      "flex_flow": null,
      "grid_area": null,
      "grid_auto_columns": null,
      "grid_auto_flow": null,
      "grid_auto_rows": null,
      "grid_column": null,
      "grid_gap": null,
      "grid_row": null,
      "grid_template_areas": null,
      "grid_template_columns": null,
      "grid_template_rows": null,
      "height": null,
      "justify_content": null,
      "justify_items": null,
      "left": null,
      "margin": null,
      "max_height": null,
      "max_width": null,
      "min_height": null,
      "min_width": null,
      "object_fit": null,
      "object_position": null,
      "order": null,
      "overflow": null,
      "overflow_x": null,
      "overflow_y": null,
      "padding": null,
      "right": null,
      "top": null,
      "visibility": null,
      "width": null
     }
    }
   }
  }
 },
 "nbformat": 4,
 "nbformat_minor": 1
}
