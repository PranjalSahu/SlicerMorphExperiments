{
 "cells": [
  {
   "cell_type": "code",
   "execution_count": 1,
   "metadata": {
    "id": "eN9NW15BgVfr"
   },
   "outputs": [],
   "source": [
    "# Install all packages\n",
    "# Restart runtime after installation\n",
    "\n",
    "#!wget https://github.com/PranjalSahu/ITKThinShellDemons/raw/pranjal_setup/itk_thinshelldemons-0.1.1-cp38-cp38m-manylinux_2_17_x86_64.manylinux2014_x86_64.whl\n",
    "#!pip install itk_thinshelldemons-0.1.1-cp37-cp37m-manylinux_2_17_x86_64.manylinux2014_x86_64.whl\n",
    "!pip install itk_thinshelldemons-0.1.1-cp38-cp38-manylinux_2_17_x86_64.manylinux2014_x86_64.whl\n",
    "!pip install itk==5.3rc4\n",
    "!pip install vtk\n",
    "!pip install itkwidgets"
   ]
  },
  {
   "cell_type": "code",
   "execution_count": 10,
   "metadata": {
    "id": "JENnhF80aBtG"
   },
   "outputs": [],
   "source": [
    "# Import all packages\n",
    "\n",
    "import numpy as np\n",
    "import itkConfig\n",
    "itkConfig.LazyLoading = False\n",
    "import itk\n",
    "import vtk\n",
    "import itkwidgets\n",
    "import math\n",
    "import matplotlib.pyplot as plt\n",
    "\n",
    "from joblib import Parallel, delayed\n",
    "import time\n",
    "import copy\n",
    "\n",
    "from vtk.util import numpy_support\n",
    "from vtk.util.numpy_support import numpy_to_vtk\n",
    "# To enable itkwidgets window\n",
    "#from google.colab import output\n",
    "#output.enable_custom_widget_manager()"
   ]
  },
  {
   "cell_type": "code",
   "execution_count": 4,
   "metadata": {
    "code_folding": [
     0,
     2
    ]
   },
   "outputs": [],
   "source": [
    "# Helper Functions\n",
    "\n",
    "def subsample_points(inputmesh, mesh_sub_sample_points):\n",
    "    import vtk\n",
    "    from vtk.util import numpy_support\n",
    "\n",
    "    sample = vtk.vtkPolyDataPointSampler()\n",
    "    sample.SetInputData(inputmesh)\n",
    "    sample.SetGenerateEdgePoints(0)\n",
    "    sample.SetGenerateInteriorPoints(0)\n",
    "    sample.SetPointGenerationModeToRegular()\n",
    "    sample.SetDistance(0.5)\n",
    "    sample.Update()\n",
    "\n",
    "    sampled_points = sample.GetOutput()\n",
    "\n",
    "    points = sampled_points.GetPoints()\n",
    "    pointdata = points.GetData()\n",
    "\n",
    "    as_numpy = numpy_support.vtk_to_numpy(pointdata)\n",
    "\n",
    "    random_indices = np.random.choice(as_numpy.shape[0],\n",
    "                                      size=mesh_sub_sample_points,\n",
    "                                      replace=False)\n",
    "    as_numpy_sampled = as_numpy[random_indices, :]\n",
    "\n",
    "    return as_numpy_sampled\n",
    "\n",
    "def readvtk(filename):\n",
    "    a = vtk.vtkPolyDataReader()\n",
    "    a.SetFileName(filename)\n",
    "    a.Update()\n",
    "    m1 = a.GetOutput()\n",
    "    return m1\n",
    "\n",
    "def readply(filename):\n",
    "    a = vtk.vtkPLYReader()\n",
    "    a.SetFileName(filename)\n",
    "    a.Update()\n",
    "    m1 = a.GetOutput()\n",
    "    return m1\n",
    "\n",
    "#MOVING_MESH_FILE = '/data/Apedata/CorrectData/data/Pan/meshes/USNM220065-Cranium_merged_1.ply'\n",
    "#FIXED_MESH_FILE  = '/data/Apedata/CorrectData/data/Gorilla/meshes/USNM252575-Cranium.ply'\n",
    "\n",
    "# ransac registered\n",
    "MOVING_MESH_FILE = '/home/pranjal.sahu/Documents/SampleApeData/USNM174722-Cranium_1.ply'\n",
    "# original mesh\n",
    "#MOVING_MESH_FILE = '/home/pranjal.sahu/Documents/SampleApeData/USNM174722-Cranium.ply'\n",
    "\n",
    "FIXED_MESH_FILE  = '/home/pranjal.sahu/Documents/SampleApeData/USNM174701-Cranium_merged_1.ply'\n",
    "\n",
    "paths = [FIXED_MESH_FILE, MOVING_MESH_FILE]"
   ]
  },
  {
   "cell_type": "code",
   "execution_count": 19,
   "metadata": {
    "code_folding": [
     0
    ],
    "id": "5Y2T7UsnY_67"
   },
   "outputs": [],
   "source": [
    "# Fetch the files\n",
    "\n",
    "FIXED_MESH_FILE  = r'data/129S1_SVIMJ_.ply'\n",
    "MOVING_MESH_FILE = r'data/129X1_SVJ_.ply'\n",
    "paths = [FIXED_MESH_FILE, MOVING_MESH_FILE]\n",
    "\n",
    "import os\n",
    "import importlib\n",
    "from urllib.request import urlretrieve\n",
    "\n",
    "# Download meshes\n",
    "os.makedirs('data',exist_ok=True)\n",
    "if not os.path.exists(FIXED_MESH_FILE):\n",
    "    url = 'https://github.com/SlicerMorph/Mouse_Models/raw/main/Models/129S1_SVIMJ_.ply'\n",
    "    urlretrieve(url, FIXED_MESH_FILE)\n",
    "if not os.path.exists(MOVING_MESH_FILE):\n",
    "    url = 'https://github.com/SlicerMorph/Mouse_Models/raw/main/Models/129X1_SVJ_.ply'\n",
    "    urlretrieve(url, MOVING_MESH_FILE)"
   ]
  },
  {
   "cell_type": "code",
   "execution_count": 75,
   "metadata": {
    "code_folding": [
     0
    ],
    "id": "9itj_30QsXIY"
   },
   "outputs": [],
   "source": [
    "# Clean the meshes and Triangulate them as TSD only works with Triangle Meshes\n",
    "\n",
    "vtk_meshes = list()\n",
    "\n",
    "for path in paths:\n",
    "    reader = vtk.vtkPLYReader()\n",
    "    reader.SetFileName(path)\n",
    "    reader.Update()\n",
    "        \n",
    "    cleaner = vtk.vtkCleanPolyData()\n",
    "    cleaner.SetInputData(reader.GetOutput())\n",
    "    cleaner.ConvertLinesToPointsOn()\n",
    "    cleaner.ConvertPolysToLinesOff()\n",
    "    cleaner.SetTolerance(0.0)\n",
    "    cleaner.Update()\n",
    "    vtk_mesh = cleaner.GetOutput()\n",
    "\n",
    "    triangle_filter = vtk.vtkTriangleFilter()\n",
    "    triangle_filter.SetInputData(vtk_mesh)\n",
    "    triangle_filter.SetPassLines(False)\n",
    "    triangle_filter.SetPassVerts(False)\n",
    "    triangle_filter.Update()\n",
    "    vtk_mesh = triangle_filter.GetOutput()\n",
    "    \n",
    "    vtk_meshes.append(vtk_mesh)\n",
    "    \n",
    "# Write back out to a filetype supported by ITK\n",
    "vtk_paths = [path.strip('.ply') + '.vtk' for path in paths]\n",
    "for idx, mesh in enumerate(vtk_meshes):\n",
    "    writer = vtk.vtkPolyDataWriter()\n",
    "    writer.SetInputData(mesh)\n",
    "    writer.SetFileVersion(42)\n",
    "    writer.SetFileTypeToBinary()\n",
    "    writer.SetFileName(vtk_paths[idx])\n",
    "    writer.Update()\n",
    "    \n",
    "itk_meshes = [itk.meshread(path, pixel_type=itk.D) for path in vtk_paths]"
   ]
  },
  {
   "cell_type": "code",
   "execution_count": 76,
   "metadata": {
    "code_folding": [
     0
    ],
    "id": "sLtfu8l3sZMH"
   },
   "outputs": [],
   "source": [
    "# Convert meshes to images for performing moment based initialization\n",
    "\n",
    "itk_transformed_meshes= []\n",
    "# itk_meshes = []\n",
    "# itk_meshes.append(itk.meshread('itk_meshes_0.vtk'))\n",
    "# itk_meshes.append(itk.meshread('itk_meshes_1.vtk'))\n",
    "\n",
    "itk_images = []\n",
    "for mesh in itk_meshes:\n",
    "    # Get all the points to positive values\n",
    "    temp = itk.array_from_vector_container(mesh.GetPoints())\n",
    "    m    = np.min(temp, 0)\n",
    "    temp = temp - m\n",
    "    mesh.SetPoints(itk.vector_container_from_array(temp.flatten())) \n",
    "    \n",
    "    itk_transformed_meshes.append(mesh)\n",
    "    itk_image = itk.triangle_mesh_to_binary_image_filter(mesh,\n",
    "                                                      origin=[0, 0, 0],\n",
    "                                                      spacing=[1, 1, 1],\n",
    "                                                      size=[250, 250, 250])\n",
    "    itk_images.append(itk_image)\n",
    "                                                         \n",
    "\n",
    "itk_transforms = list()\n",
    "\n",
    "for image in itk_images:\n",
    "    calculator = itk.ImageMomentsCalculator[type(image)].New()\n",
    "    calculator.SetImage(image)\n",
    "    calculator.Compute()\n",
    "    itk_transforms.append(calculator.GetPhysicalAxesToPrincipalAxesTransform())"
   ]
  },
  {
   "cell_type": "code",
   "execution_count": 77,
   "metadata": {
    "code_folding": [
     0
    ],
    "id": "SRFDbREzsa1y"
   },
   "outputs": [],
   "source": [
    "# Write the Moment based initialized meshes as vtk file\n",
    "\n",
    "itk_transformed_meshes = [\n",
    "    itk.transform_mesh_filter(mesh, transform=itk_transforms[idx])\n",
    "    for idx, mesh in enumerate(itk_meshes)\n",
    "]\n",
    "\n",
    "fixedMesh  = itk_meshes[0]#itk_transformed_meshes[0]\n",
    "movingMesh = itk_meshes[1]#itk_transformed_meshes[1]\n",
    "\n",
    "\n",
    "w1 = itk.MeshFileWriter[type(movingMesh)].New()\n",
    "w1.SetFileName('movingMesh.vtk')\n",
    "w1.SetFileTypeAsBINARY()\n",
    "w1.SetInput(movingMesh)\n",
    "w1.Update()\n",
    "\n",
    "w1 = itk.MeshFileWriter[type(movingMesh)].New()\n",
    "w1.SetFileName('fixedMesh.vtk')\n",
    "w1.SetFileTypeAsBINARY()\n",
    "w1.SetInput(fixedMesh)\n",
    "w1.Update()\n",
    "\n",
    "#itk.meshwrite(movingMesh, 'movingMesh.vtk')\n",
    "#itk.meshwrite(fixedMesh, 'fixedMesh.vtk')"
   ]
  },
  {
   "cell_type": "code",
   "execution_count": 5,
   "metadata": {},
   "outputs": [
    {
     "name": "stdout",
     "output_type": "stream",
     "text": [
      "2209640\n",
      "2209640\n"
     ]
    }
   ],
   "source": [
    "sample = vtk.vtkPolyDataPointSampler()\n",
    "sample.SetInputData(m1)\n",
    "sample.SetGenerateEdgePoints(0)\n",
    "sample.SetGenerateInteriorPoints(0)\n",
    "sample.SetPointGenerationModeToRegular()\n",
    "sample.SetDistance(0.1)\n",
    "sample.Update()\n",
    "\n",
    "sampled_points = sample.GetOutput()\n",
    "\n",
    "print(m1.GetNumberOfPoints())\n",
    "print(sampled_points.GetNumberOfPoints())"
   ]
  },
  {
   "cell_type": "code",
   "execution_count": 15,
   "metadata": {},
   "outputs": [],
   "source": [
    "vtk_data_array = numpy_support.numpy_to_vtk(num_array=as_numpy_sampled,\n",
    "                                            deep=True,\n",
    "                                            array_type=vtk.VTK_FLOAT)\n",
    "points2 = vtk.vtkPoints()\n",
    "points2.SetData(vtk_data_array)"
   ]
  },
  {
   "cell_type": "code",
   "execution_count": 16,
   "metadata": {},
   "outputs": [],
   "source": [
    "poly1 = vtk.vtkPolyData()\n",
    "poly1.SetPoints(points2)"
   ]
  },
  {
   "cell_type": "code",
   "execution_count": 24,
   "metadata": {},
   "outputs": [
    {
     "name": "stdout",
     "output_type": "stream",
     "text": [
      "(10000, 3)\n",
      "[[ -19.032843  -62.61089    59.35268 ]\n",
      " [-102.698235  -36.72439   102.16699 ]\n",
      " [ -62.66175  -118.70344   112.004196]\n",
      " ...\n",
      " [ -72.941345 -124.75717    79.54381 ]\n",
      " [ -48.884876  -20.545244   62.336174]\n",
      " [ -86.15137  -143.80577    69.43055 ]]\n"
     ]
    }
   ],
   "source": [
    "print(as_numpy_sampled.shape)\n",
    "print(as_numpy_sampled)"
   ]
  },
  {
   "cell_type": "code",
   "execution_count": 21,
   "metadata": {},
   "outputs": [
    {
     "name": "stdout",
     "output_type": "stream",
     "text": [
      "242246\n",
      "439173\n"
     ]
    }
   ],
   "source": [
    "f = vtk.vtkDecimatePro()\n",
    "f.SetTargetReduction(0.9)\n",
    "f.SetInputData(m1)\n",
    "f.Update()\n",
    "m1d = f.GetOutput()\n",
    "\n",
    "f = vtk.vtkDecimatePro()\n",
    "f.SetTargetReduction(0.9)\n",
    "f.SetInputData(m2)\n",
    "f.Update()\n",
    "m2d = f.GetOutput()\n",
    "\n",
    "print(m1d.GetNumberOfPoints())\n",
    "print(m2d.GetNumberOfPoints())"
   ]
  },
  {
   "cell_type": "code",
   "execution_count": 14,
   "metadata": {},
   "outputs": [
    {
     "name": "stdout",
     "output_type": "stream",
     "text": [
      "(10000, 3)\n"
     ]
    }
   ],
   "source": [
    "number_of_rows = 10000\n",
    "\n",
    "random_indices = np.random.choice(as_numpy.shape[0], \n",
    "                                  size=number_of_rows, \n",
    "                                  replace=False)\n",
    "as_numpy_sampled = as_numpy[random_indices, :]\n",
    "\n",
    "print(as_numpy_sampled.shape)"
   ]
  },
  {
   "cell_type": "code",
   "execution_count": null,
   "metadata": {},
   "outputs": [],
   "source": [
    "itkwidgets.view(geometries=[fixedMesh, movingMesh])"
   ]
  },
  {
   "cell_type": "code",
   "execution_count": 32,
   "metadata": {
    "code_folding": [
     0,
     2
    ],
    "colab": {
     "base_uri": "https://localhost:8080/"
    },
    "id": "pwsLd4CwsdNe",
    "outputId": "ff547da9-7f9f-48e3-bdb4-e3a8f87cd3ee"
   },
   "outputs": [
    {
     "name": "stdout",
     "output_type": "stream",
     "text": [
      "Best Score  13.128441318309916\n",
      "65.535471200943\n"
     ]
    }
   ],
   "source": [
    "# Perform RANSAC ICP\n",
    "\n",
    "def ransac_icp(fixedMesh, movingMesh, number_of_iterations, mesh_sub_sample_points, number_of_ransac_points, transform_type, convergance_value):\n",
    "    all_points1 = itk.array_from_vector_container(movingMesh.GetPoints())\n",
    "    all_points2 = itk.array_from_vector_container(fixedMesh.GetPoints())\n",
    "    \n",
    "    # Create Meshes with reduced number of points\n",
    "    mesh_fixed  = itk.Mesh[itk.D, 3].New()\n",
    "    mesh_moving = itk.Mesh[itk.D, 3].New()\n",
    "    \n",
    "    random_indices = np.random.choice(all_points1.shape[0], size=mesh_sub_sample_points)\n",
    "    p1 = all_points1[random_indices, :]\n",
    "    mesh_fixed.SetPoints(itk.vector_container_from_array(p1.flatten()))\n",
    "    \n",
    "    random_indices = np.random.choice(all_points2.shape[0], size=mesh_sub_sample_points)\n",
    "    p2 = all_points2[random_indices, :]\n",
    "    mesh_moving.SetPoints(itk.vector_container_from_array(p2.flatten()))\n",
    "    \n",
    "    best_score = 100000\n",
    "    best_result = None\n",
    "    best_transform = None\n",
    "    \n",
    "    if transform_type == 0:\n",
    "        TransformType = itk.Euler3DTransform[itk.D]\n",
    "    else:\n",
    "        TransformType = itk.ScaleTransform[itk.D, 3]\n",
    "    transform = TransformType.New()\n",
    "    transform.SetIdentity()\n",
    "    \n",
    "    e_metric = itk.EuclideanDistancePointSetToPointSetMetricv4.PSD3.New()\n",
    "    \n",
    "    # For reproduciblity\n",
    "    np.random.seed(5)\n",
    "    for i in range(number_of_iterations):\n",
    "        random_indices = np.random.choice(all_points1.shape[0], size=number_of_ransac_points)\n",
    "        p1 = all_points1[random_indices, :]\n",
    "\n",
    "        random_indices = np.random.choice(all_points2.shape[0], size=number_of_ransac_points)\n",
    "        p2 = all_points2[random_indices, :]\n",
    "\n",
    "        ps1 = itk.Mesh[itk.D, 3].New()\n",
    "        ps2 = itk.Mesh[itk.D, 3].New()\n",
    "\n",
    "        ps1.SetPoints(itk.vector_container_from_array(p1.flatten()))\n",
    "        ps2.SetPoints(itk.vector_container_from_array(p2.flatten()))\n",
    "\n",
    "        MetricType = itk.EuclideanDistancePointSetToPointSetMetricv4.PSD3\n",
    "        metric = MetricType.New()\n",
    "        metric.SetMovingPointSet(ps2)\n",
    "        metric.SetFixedPointSet(ps1)\n",
    "        metric.SetMovingTransform(transform)\n",
    "        metric.Initialize()\n",
    "\n",
    "        optimizer = itk.ConjugateGradientLineSearchOptimizerv4Template[itk.D].New()\n",
    "        optimizer.SetNumberOfIterations(10)\n",
    "        optimizer.SetMaximumStepSizeInPhysicalUnits( 0.1 )\n",
    "        optimizer.SetMinimumConvergenceValue( 0.0 )\n",
    "        optimizer.SetConvergenceWindowSize( 10 )\n",
    "        optimizer.SetMetric(metric)\n",
    "        optimizer.StartOptimization()\n",
    "\n",
    "        current_transform    = metric.GetTransform()\n",
    "        itk_transformed_mesh = itk.transform_mesh_filter(mesh_moving, transform=current_transform)\n",
    "\n",
    "        e_metric.SetFixedPointSet(mesh_fixed)\n",
    "        e_metric.SetMovingPointSet(itk_transformed_mesh)\n",
    "        e_metric.Initialize()\n",
    "\n",
    "        current_value = e_metric.GetValue()\n",
    "        \n",
    "        if current_value < best_score:\n",
    "            best_score     = current_value\n",
    "            best_result    = itk_transformed_mesh\n",
    "            best_transform = current_transform\n",
    "\n",
    "        if convergance_value > 0 and best_score < convergance_value:\n",
    "            break\n",
    "    \n",
    "    print('Best Score ', best_score)\n",
    "    itk_transformed_mesh = itk.transform_mesh_filter(movingMesh, transform=best_transform)\n",
    "    return itk_transformed_mesh\n",
    "\n",
    "\n",
    "#movingMesh = itk.meshread('/data/Apedata/apedata/apes/models/gorilla/USNM252577-Cranium.vtk')\n",
    "#fixedMesh  = itk.meshread('/data/Apedata/apedata/apes/models/orangutan/USNM145303-Cranium.vtk')\n",
    "\n",
    "movingMesh = itk.meshread('movingMesh.vtk')\n",
    "fixedMesh  = itk.meshread('fixedMesh.vtk')\n",
    "\n",
    "number_of_iterations    = 2000\n",
    "number_of_ransac_points = 250\n",
    "mesh_sub_sample_points  = 5000\n",
    "convergence_value       = 6\n",
    "transform_type          = 0\n",
    "\n",
    "import time\n",
    "start_time = time.time()\n",
    "itk_transformed_mesh = ransac_icp(fixedMesh, movingMesh, number_of_iterations, mesh_sub_sample_points, number_of_ransac_points, transform_type, convergence_value)\n",
    "itk.meshwrite(itk_transformed_mesh, 'ransacICPResult1.vtk')\n",
    "end_time = time.time()\n",
    "\n",
    "print(end_time - start_time)\n",
    "# itk_transformed_mesh = itk.meshread('ransacICPResult1.vtk')\n",
    "# number_of_iterations    = 100\n",
    "# number_of_ransac_points = 1000\n",
    "# mesh_sub_sample_points  = 20000\n",
    "# convergence_value       = -1\n",
    "# transform_type          = 0\n",
    "# itk_transformed_mesh = ransac_icp(fixedMesh, itk_transformed_mesh, number_of_iterations, mesh_sub_sample_points, number_of_ransac_points, transform_type, convergence_value)\n",
    "# itk.meshwrite(itk_transformed_mesh, 'ransacICPResult2.vtk')\n",
    "\n",
    "\n",
    "# number_of_iterations    = 100\n",
    "# number_of_ransac_points = 10000\n",
    "# mesh_sub_sample_points  = 20000\n",
    "# convergence_value       = -1\n",
    "# transform_type          = 1\n",
    "# itk_transformed_mesh = ransac_icp(fixedMesh, itk_transformed_mesh, number_of_iterations, mesh_sub_sample_points, number_of_ransac_points, transform_type, convergence_value)\n",
    "# itk.meshwrite(itk_transformed_mesh, 'ransacICPResult3.vtk')"
   ]
  },
  {
   "cell_type": "code",
   "execution_count": null,
   "metadata": {
    "code_folding": [
     0
    ]
   },
   "outputs": [],
   "source": [
    "# Perform Scale Transform\n",
    "\n",
    "mesh_sub_sample_points = 10000\n",
    "\n",
    "fixedMesh  = itk.meshread('fixedMesh.vtk', itk.D)\n",
    "movingMesh = itk.meshread('movingMesh.vtk', itk.D)\n",
    "\n",
    "ps1 = itk.Mesh[itk.D, 3].New()\n",
    "ps2 = itk.Mesh[itk.D, 3].New()\n",
    "\n",
    "all_points1 = itk.array_from_vector_container(fixedMesh.GetPoints())\n",
    "all_points2 = itk.array_from_vector_container(movingMesh.GetPoints())\n",
    "\n",
    "random_indices = np.random.choice(all_points1.shape[0], size=mesh_sub_sample_points)\n",
    "p1 = all_points1[random_indices, :]\n",
    "\n",
    "random_indices = np.random.choice(all_points2.shape[0], size=mesh_sub_sample_points)\n",
    "p2 = all_points2[random_indices, :]\n",
    "\n",
    "ps1.SetPoints(itk.vector_container_from_array(p1.flatten()))\n",
    "ps2.SetPoints(itk.vector_container_from_array(p2.flatten()))\n",
    "\n",
    "\n",
    "    \n",
    "TransformType = itk.ScaleTransform[itk.D, 3]\n",
    "        \n",
    "transform = TransformType.New()\n",
    "transform.SetIdentity()\n",
    "\n",
    "MetricType = itk.EuclideanDistancePointSetToPointSetMetricv4.PSD3\n",
    "metric = MetricType.New()\n",
    "metric.SetMovingPointSet(movingMesh)\n",
    "metric.SetFixedPointSet(fixedMesh)\n",
    "metric.SetMovingTransform(transform)\n",
    "metric.Initialize()\n",
    "\n",
    "optimizer = itk.ConjugateGradientLineSearchOptimizerv4Template[itk.D].New()\n",
    "optimizer.SetNumberOfIterations(10)\n",
    "optimizer.SetMaximumStepSizeInPhysicalUnits( 0.1 )\n",
    "optimizer.SetMinimumConvergenceValue( 0.0 )\n",
    "optimizer.SetConvergenceWindowSize( 10 )\n",
    "optimizer.SetMetric(metric)\n",
    "optimizer.StartOptimization()\n",
    "\n",
    "current_transform    = metric.GetTransform()\n",
    "itk_transformed_mesh = itk.transform_mesh_filter(movingMesh, transform=current_transform)"
   ]
  },
  {
   "cell_type": "code",
   "execution_count": null,
   "metadata": {
    "code_folding": [
     6
    ]
   },
   "outputs": [],
   "source": [
    "# For performing RANSAC in parallel\n",
    "\n",
    "from vtk.util import numpy_support\n",
    "from vtk.util.numpy_support import numpy_to_vtk\n",
    "\n",
    "\n",
    "def ransac_icp_parallel(fixedMeshPoints, movingMeshPoints, movingMeshAllPoints,\n",
    "                        number_of_iterations, mesh_sub_sample_points,\n",
    "                        number_of_ransac_points, transform_type,\n",
    "                        convergance_value):\n",
    "    np.random.seed(0)\n",
    "\n",
    "    all_points1 = fixedMeshPoints\n",
    "    all_points2 = movingMeshPoints\n",
    "\n",
    "    #all_points1 = itk.array_from_vector_container(fixedMesh.GetPoints())\n",
    "    #all_points2 = itk.array_from_vector_container(movingMesh.GetPoints())\n",
    "\n",
    "    #random_indices = np.random.choice(all_points1.shape[0], size=mesh_sub_sample_points)\n",
    "    #p1 = all_points1[random_indices, :]\n",
    "\n",
    "    #random_indices = np.random.choice(all_points2.shape[0], size=mesh_sub_sample_points)\n",
    "    #p2 = all_points2[random_indices, :]\n",
    "\n",
    "    def process(i, mesh_sub_sample_points, number_of_ransac_points,\n",
    "                return_result):\n",
    "        # Create Mesh inside the method to tackle the problem of serialization\n",
    "\n",
    "        mesh_fixed = itk.Mesh[itk.D, 3].New()\n",
    "        mesh_moving = itk.Mesh[itk.D, 3].New()\n",
    "\n",
    "        mesh_fixed.SetPoints(\n",
    "            itk.vector_container_from_array(all_points1.flatten()))\n",
    "        mesh_moving.SetPoints(\n",
    "            itk.vector_container_from_array(all_points2.flatten()))\n",
    "\n",
    "        ps1 = itk.Mesh[itk.D, 3].New()\n",
    "        ps2 = itk.Mesh[itk.D, 3].New()\n",
    "\n",
    "        np.random.seed(i)\n",
    "        random_indices = np.random.choice(all_points1.shape[0],\n",
    "                                          size=number_of_ransac_points)\n",
    "        p1_a = all_points1[random_indices, :]\n",
    "\n",
    "        random_indices = np.random.choice(all_points2.shape[0],\n",
    "                                          size=number_of_ransac_points)\n",
    "        p2_a = all_points2[random_indices, :]\n",
    "\n",
    "        ps1.SetPoints(itk.vector_container_from_array(p1_a.flatten()))\n",
    "        ps2.SetPoints(itk.vector_container_from_array(p2_a.flatten()))\n",
    "\n",
    "        if transform_type == 0:\n",
    "            TransformType = itk.Euler3DTransform[itk.D]\n",
    "        elif transform_type == 1:\n",
    "            TransformType = itk.ScaleVersor3DTransform[itk.D]\n",
    "        elif transform_type == 2:\n",
    "            TransformType = itk.Similarity3DTransform[itk.D]\n",
    "        else:\n",
    "            TransformType = itk.AffineTransform[itk.D, 3]\n",
    "\n",
    "        transform = TransformType.New()\n",
    "        transform.SetIdentity()\n",
    "\n",
    "        MetricType = itk.EuclideanDistancePointSetToPointSetMetricv4.PSD3\n",
    "        metric = MetricType.New()\n",
    "        metric.SetMovingPointSet(ps2)\n",
    "        metric.SetFixedPointSet(ps1)\n",
    "        metric.SetMovingTransform(transform)\n",
    "        metric.Initialize()\n",
    "\n",
    "        optimizer = itk.ConjugateGradientLineSearchOptimizerv4Template[\n",
    "            itk.D].New()\n",
    "        optimizer.SetNumberOfIterations(10)\n",
    "        optimizer.SetMaximumStepSizeInPhysicalUnits(0.5)\n",
    "        optimizer.SetMinimumConvergenceValue(0.0)\n",
    "        optimizer.SetConvergenceWindowSize(10)\n",
    "        optimizer.SetMetric(metric)\n",
    "        optimizer.StartOptimization()\n",
    "\n",
    "        #optimizer = itk.RegularStepGradientDescentOptimizerv4.D.New()\n",
    "        #         optimizer = itk.GradientDescentOptimizerv4Template.D.New()\n",
    "        #         optimizer.SetNumberOfIterations(200)\n",
    "        #         optimizer.SetLearningRate(0.1)\n",
    "        #         optimizer.SetMaximumStepSizeInPhysicalUnits( 0.1 )\n",
    "        #         optimizer.SetMinimumConvergenceValue( 0.0 )\n",
    "        #         optimizer.SetConvergenceWindowSize( 200 )\n",
    "        #         optimizer.SetMetric(metric)\n",
    "        #         optimizer.StartOptimization()\n",
    "\n",
    "        current_transform = metric.GetTransform()\n",
    "        itk_transformed_mesh = itk.transform_mesh_filter(\n",
    "            mesh_moving, transform=current_transform)\n",
    "\n",
    "        e_metric = itk.EuclideanDistancePointSetToPointSetMetricv4.PSD3.New()\n",
    "        e_metric.SetFixedPointSet(mesh_fixed)\n",
    "        e_metric.SetMovingPointSet(itk_transformed_mesh)\n",
    "        e_metric.Initialize()\n",
    "\n",
    "        current_value = e_metric.GetValue()\n",
    "        #current_transform = itk.dict_from_transform(current_transform)\n",
    "\n",
    "        if return_result:\n",
    "            mesh_moving = itk.Mesh[itk.D, 3].New()\n",
    "            mesh_moving.SetPoints(\n",
    "                itk.vector_container_from_array(movingMeshAllPoints.flatten()))\n",
    "            \n",
    "            itk_transformed_mesh = itk.transform_mesh_filter(\n",
    "                mesh_moving, transform=current_transform)\n",
    "            \n",
    "            return itk.array_from_vector_container(\n",
    "                itk_transformed_mesh.GetPoints())\n",
    "        else:\n",
    "            return (current_value, i)\n",
    "        #if current_value < 7:\n",
    "        #    return (current_value, i)\n",
    "        #else:\n",
    "        #    return (current_value, -1)\n",
    "\n",
    "    results = Parallel(n_jobs=8)(\n",
    "        delayed(process)(i, mesh_sub_sample_points, number_of_ransac_points, 0)\n",
    "        for i in range(number_of_iterations))\n",
    "    results = sorted(results)\n",
    "\n",
    "    print(results[0])\n",
    "    final_result = process(results[0][1], mesh_sub_sample_points,\n",
    "                           number_of_ransac_points, 1)\n",
    "    #movingMesh.SetPoints(itk.vector_container_from_array(final_result.flatten()))\n",
    "\n",
    "    return final_result\n",
    "\n",
    "\n",
    "import time\n",
    "\n",
    "#movingMesh = itk.meshread('movingMesh.vtk')\n",
    "#fixedMesh  = itk.meshread('fixedMesh.vtk')\n",
    "\n",
    "\n",
    "\n",
    "#movingMesh = itk.meshread('/data/Apedata/apedata/apes/models/gorilla/USNM252577-Cranium.vtk')\n",
    "#fixedMesh  = itk.meshread('/data/Apedata/apedata/apes/models/orangutan/USNM145303-Cranium.vtk')\n",
    "\n",
    "#for k in range(5):\n",
    "number_of_iterations = 500\n",
    "number_of_ransac_points = 500\n",
    "mesh_sub_sample_points = 5000\n",
    "convergence_value = 3\n",
    "transform_type = 2\n",
    "\n",
    "movingMesh = readvtk('movingMesh.vtk')\n",
    "fixedMesh = readvtk('fixedMesh.vtk')\n",
    "\n",
    "movingMeshAllPoints = numpy_support.vtk_to_numpy(\n",
    "    movingMesh.GetPoints().GetData())\n",
    "movingMeshPoints = subsample_points(movingMesh, mesh_sub_sample_points)\n",
    "fixedMeshPoints = subsample_points(fixedMesh, mesh_sub_sample_points)\n",
    "\n",
    "print(movingMeshPoints.shape)\n",
    "print(fixedMeshPoints.shape)\n",
    "print(movingMeshAllPoints.shape)\n",
    "\n",
    "start_time = time.time()\n",
    "itk_transformed_points = ransac_icp_parallel(fixedMeshPoints, movingMeshPoints,\n",
    "                                             movingMeshAllPoints,\n",
    "                                             number_of_iterations,\n",
    "                                             mesh_sub_sample_points,\n",
    "                                             number_of_ransac_points,\n",
    "                                             transform_type, convergence_value)\n",
    "end_time = time.time()\n",
    "\n",
    "print(end_time - start_time)\n",
    "print('itk_transformed_points shape ', itk_transformed_points.shape)\n",
    "\n",
    "itk_transformed_mesh = itk.meshread('movingMesh.vtk')\n",
    "\n",
    "#itk_transformed_mesh = itk.Mesh.D3.New()\n",
    "itk_transformed_mesh.SetPoints(\n",
    "    itk.vector_container_from_array(itk_transformed_points.flatten()))\n",
    "\n",
    "w1 = itk.MeshFileWriter[type(itk_transformed_mesh)].New()\n",
    "w1.SetFileName('ransacICPResult2_b.vtk')\n",
    "w1.SetFileTypeAsBINARY()\n",
    "w1.SetInput(itk_transformed_mesh)\n",
    "w1.Update()\n",
    "\n",
    "\n",
    "fixedMesh = itk.meshread('fixedMesh.vtk')\n",
    "e_metric = itk.EuclideanDistancePointSetToPointSetMetricv4.PSD3.New()\n",
    "e_metric.SetFixedPointSet(mesh_fixed)\n",
    "e_metric.SetMovingPointSet(itk_transformed_mesh)\n",
    "e_metric.Initialize()\n",
    "\n",
    "# number_of_iterations    = 50\n",
    "# number_of_ransac_points = 20000\n",
    "# mesh_sub_sample_points  = 50000\n",
    "# convergence_value       = 3pran\n",
    "\n",
    "# transform_type          = 0\n",
    "\n",
    "# start_time = time.time()\n",
    "# itk_transformed_mesh = ransac_icp_parallel(fixedMesh, itk_transformed_mesh, number_of_iterations, mesh_sub_sample_points, number_of_ransac_points, transform_type, convergence_value)\n",
    "# end_time = time.time()\n",
    "# print(end_time - start_time)\n",
    "\n",
    "# w1 = itk.MeshFileWriter[type(itk_transformed_mesh)].New()\n",
    "# w1.SetFileName('ransacICPResult2.vtk')\n",
    "# w1.SetFileTypeAsBINARY()\n",
    "# w1.SetInput(itk_transformed_mesh)\n",
    "# w1.Update()"
   ]
  },
  {
   "cell_type": "code",
   "execution_count": 6,
   "metadata": {},
   "outputs": [
    {
     "name": "stdout",
     "output_type": "stream",
     "text": [
      "5.559841893722685\n"
     ]
    }
   ],
   "source": [
    "mesh_fixed = itk.Mesh.D3.New()#itk.meshread('fixedMesh.vtk', itk.D)\n",
    "itk_transformed_mesh = itk.Mesh.D3.New()#itk.meshread('ransacICPResult2_b.vtk', itk.D)\n",
    "\n",
    "mesh_fixed.SetPoints(itk.vector_container_from_array(fixedMeshPoints.flatten()))\n",
    "itk_transformed_mesh.SetPoints(itk.vector_container_from_array(itk_transformed_points.flatten()))\n",
    "\n",
    "e_metric = itk.EuclideanDistancePointSetToPointSetMetricv4.PSD3.New()\n",
    "e_metric.SetFixedPointSet(mesh_fixed)\n",
    "e_metric.SetMovingPointSet(itk_transformed_mesh)\n",
    "e_metric.Initialize()\n",
    "\n",
    "print(e_metric.GetValue())"
   ]
  },
  {
   "cell_type": "code",
   "execution_count": null,
   "metadata": {},
   "outputs": [],
   "source": [
    "itkwidgets.view(point_sets=[mesh_fixed, itk_transformed_mesh])"
   ]
  },
  {
   "cell_type": "code",
   "execution_count": 3,
   "metadata": {
    "code_folding": [
     0,
     4,
     11
    ],
    "colab": {
     "base_uri": "https://localhost:8080/",
     "height": 717,
     "referenced_widgets": [
      "db007fa8964c4869ad6c08aa6b3016bd",
      "562fc697c5f043c1a03eb27e5a9ff721"
     ]
    },
    "id": "kZGnrGy3sfHP",
    "outputId": "c4e3579f-cd8b-4dd2-d7b6-eef0c226f3b1",
    "scrolled": true
   },
   "outputs": [
    {
     "data": {
      "application/vnd.jupyter.widget-view+json": {
       "model_id": "12642277e1664e2c81c9e2771b157e53",
       "version_major": 2,
       "version_minor": 0
      },
      "text/plain": [
       "Viewer(geometries=[{'vtkClass': 'vtkPolyData', 'points': {'vtkClass': 'vtkPoints', 'name': '_points', 'numberO…"
      ]
     },
     "metadata": {},
     "output_type": "display_data"
    }
   ],
   "source": [
    "# Visualize the results after RANSAC ICP\n",
    "\n",
    "from itkwidgets import view\n",
    "\n",
    "def readvtk(filename):\n",
    "    a = vtk.vtkPolyDataReader()\n",
    "    a.SetFileName(filename)\n",
    "    a.Update()\n",
    "    m1 = a.GetOutput()\n",
    "    return m1\n",
    "\n",
    "def readply(filename):\n",
    "    a = vtk.vtkPLYReader()\n",
    "    a.SetFileName(filename)\n",
    "    a.Update()\n",
    "    m1 = a.GetOutput()\n",
    "    return m1\n",
    "\n",
    "#m1 = readvtk('fixedMesh.vtk')\n",
    "#m2 = readvtk('movingMesh.vtk')\n",
    "#m3 = readvtk('ransacICPResult1_b.vtk')\n",
    "#m4 = readvtk('ransacICPResult1_c.vtk')\n",
    "\n",
    "\n",
    "m1 = readvtk('/home/pranjal.sahu/Documents/SampleApeData/USNM174701-Cranium_merged_1.vtk')\n",
    "m2 = readvtk('/home/pranjal.sahu/Documents/SampleApeData/USNM174722-Cranium_1.vtk')\n",
    "m3 = readvtk('ransacICPResult2_b_check.vtk')\n",
    "#m3 = readply('/home/pranjal.sahu/Documents/SampleApeData/USNM174722-Cranium_1.ply')\n",
    "#m4 = readvtk('ransacICPResult2_b.vtk')\n",
    "\n",
    "\n",
    "#m1 = readvtk('/home/pranjal.sahu/Documents/TargetPointcloud.vtk')\n",
    "#m2 = readvtk('/home/pranjal.sahu/Documents/SourcePointcloud.vtk')\n",
    "\n",
    "#m1 = readply('USNM252577-Cranium_8.ply')\n",
    "#m2 = readply('USNM145303-Cranium_9.ply')\n",
    "#m3 = readply('/data/Apedata/apedata/apes/models/orangutan/USNM145303-Cranium.ply')\n",
    "\n",
    "#m3 = readvtk('ransacICPResult2.vtk')\n",
    "#m4 = readvtk('ransacICPResult2.vtk')\n",
    "#m4 = readvtk('ransacICPResult2.vtk')\n",
    "\n",
    "#m1 = readply('/data/Apedata/apedata/experiment/USNM145303-Cranium_1.ply')\n",
    "#m2 = readply('/data/Apedata/apedata/experiment/USNM252577-Cranium.ply')\n",
    "#m3 = readvtk('/data/Apedata/apedata/experiment/WarpedSourceMesh.vtk')\n",
    "\n",
    "#print(m1.GetNumberOfPoints())\n",
    "#print(m2.GetNumberOfPoints())\n",
    "#print(m3.GetNumberOfPoints())\n",
    "#print(m4.GetNumberOfPoints())\n",
    "\n",
    "#view(point_sets=[movingMeshPoints, fixedMeshPoints])\n",
    "#view(geometries=[m1, m2, m4])\n",
    "#view(geometries=[m1, m2, m3, m4])\n",
    "#view(geometries=[m1, m2, m3])\n",
    "view(geometries=[m1, m2, m3])"
   ]
  },
  {
   "cell_type": "code",
   "execution_count": null,
   "metadata": {},
   "outputs": [],
   "source": [
    "itkwidgets.view(point_sets=[fixedMeshPoints, movingMeshPoints])"
   ]
  },
  {
   "cell_type": "code",
   "execution_count": 41,
   "metadata": {
    "code_folding": [],
    "scrolled": true
   },
   "outputs": [
    {
     "name": "stdout",
     "output_type": "stream",
     "text": [
      "(3277652, 3)\n",
      "(2209640, 3)\n",
      "(5000, 3)\n",
      "(5000, 3)\n",
      "Spacing  2.413930417098585\n",
      "minBounds  [-135.00537109 -189.59973145   26.23187637]\n",
      "maxBounds  [-13.25149155  -9.3810873  130.95930481]\n",
      "Metric Created\n",
      "Euclidean Metric Before TSD Deformable Registration  5.818528202568549\n",
      "Euclidean Metric After TSD Deformable Registration  4.502430356229278\n"
     ]
    }
   ],
   "source": [
    "# Expectation Based PointSetToPointSetMetricv4 Registration\n",
    "\n",
    "import copy\n",
    "from vtk.util import numpy_support\n",
    "\n",
    "imageDiagonal = 100\n",
    "\n",
    "PixelType = itk.D\n",
    "Dimension = 3\n",
    "\n",
    "number_of_ransac_points = 500\n",
    "mesh_sub_sample_points = 5000\n",
    "convergence_value = 3\n",
    "transform_type = 2\n",
    "\n",
    "\n",
    "FixedImageType = itk.Image[PixelType, Dimension]\n",
    "\n",
    "# Read the meshes\n",
    "fixedMesh  = readvtk('/home/pranjal.sahu/Documents/SampleApeData/USNM174701-Cranium_merged_1.vtk')\n",
    "movingMesh = readvtk('/home/pranjal.sahu/Documents/SampleApeData/USNM174722-Cranium_1.vtk')\n",
    "\n",
    "movingMeshAllPoints = copy.deepcopy(numpy_support.vtk_to_numpy(\n",
    "    movingMesh.GetPoints().GetData()))\n",
    "\n",
    "fixedMeshAllPoints = copy.deepcopy(numpy_support.vtk_to_numpy(\n",
    "    fixedMesh.GetPoints().GetData()))\n",
    "\n",
    "print(movingMeshAllPoints.shape)\n",
    "print(fixedMeshAllPoints.shape)\n",
    "\n",
    "movingMeshPoints = subsample_points(movingMesh, mesh_sub_sample_points)\n",
    "fixedMeshPoints = subsample_points(fixedMesh, mesh_sub_sample_points)\n",
    "\n",
    "print(movingMeshPoints.shape)\n",
    "print(fixedMeshPoints.shape)\n",
    "\n",
    "\n",
    "\n",
    "# Create PointSets for registration\n",
    "movingPS = itk.PointSet[itk.D, Dimension].New()\n",
    "fixedPS = itk.PointSet[itk.D, Dimension].New()\n",
    "\n",
    "movingPS.SetPoints(itk.vector_container_from_array(movingMeshPoints.flatten()))\n",
    "fixedPS.SetPoints(itk.vector_container_from_array(fixedMeshPoints.flatten()))\n",
    "\n",
    "\n",
    "\n",
    "# For getting the Bounding Box\n",
    "ElementIdentifierType = itk.UL\n",
    "CoordType = itk.F\n",
    "Dimension = 3\n",
    "\n",
    "VecContType = itk.VectorContainer[ElementIdentifierType, itk.Point[CoordType,\n",
    "                                                                   Dimension]]\n",
    "bounding_box = itk.BoundingBox[ElementIdentifierType, Dimension, CoordType,\n",
    "                               VecContType].New()\n",
    "\n",
    "#all_points = np.concatenate([itk.array_from_vector_container(movingPS.GetPoints()), itk.array_from_vector_container(movingPS.GetPoints())])\n",
    "\n",
    "bounding_box.SetPoints(fixedPS.GetPoints())\n",
    "bounding_box.ComputeBoundingBox()\n",
    "\n",
    "minBounds = np.array(bounding_box.GetMinimum())\n",
    "maxBounds = np.array(bounding_box.GetMaximum())\n",
    "\n",
    "spacing = np.sqrt(bounding_box.GetDiagonalLength2()) / imageDiagonal\n",
    "diff = maxBounds - minBounds\n",
    "\n",
    "print('Spacing ', spacing)\n",
    "print('minBounds ', minBounds)\n",
    "print('maxBounds ', maxBounds)\n",
    "\n",
    "fixedImageSize = [0] * 3\n",
    "fixedImageSize[0] = math.ceil(1.25 * diff[0] / spacing)\n",
    "fixedImageSize[1] = math.ceil(1.25 * diff[1] / spacing)\n",
    "fixedImageSize[2] = math.ceil(1.25 * diff[2] / spacing)\n",
    "\n",
    "fixedImageOrigin = [0] * 3\n",
    "fixedImageOrigin[0] = minBounds[0] - 0.25 * diff[0]\n",
    "fixedImageOrigin[1] = minBounds[1] - 0.25 * diff[1]\n",
    "fixedImageOrigin[2] = minBounds[2] - 0.25 * diff[2]\n",
    "\n",
    "fixedImageSpacing = np.ones(3) * spacing\n",
    "fixedImageDirection = np.identity(3)\n",
    "\n",
    "fixedImage = FixedImageType.New()\n",
    "fixedImage.SetRegions(fixedImageSize)\n",
    "fixedImage.SetOrigin(fixedImageOrigin)\n",
    "fixedImage.SetDirection(fixedImageDirection)\n",
    "fixedImage.SetSpacing(fixedImageSpacing)\n",
    "fixedImage.Allocate()\n",
    "\n",
    "\n",
    "\n",
    "# Create BSpline Transformation object and initialize the parameters\n",
    "SplineOrder = 3\n",
    "TransformType = itk.BSplineTransform[itk.D, Dimension, SplineOrder]\n",
    "InitializerType = itk.BSplineTransformInitializer[TransformType,\n",
    "                                                  FixedImageType]\n",
    "\n",
    "transform = TransformType.New()\n",
    "\n",
    "# Higher the grid dimensio, slower the computation but higher will be the accuracy\n",
    "# Increasing the grid nodes is not working\n",
    "numberOfGridNodesInOneDimension = 8\n",
    "transformInitializer = InitializerType.New()\n",
    "transformInitializer.SetTransform(transform)\n",
    "transformInitializer.SetImage(fixedImage)\n",
    "transformInitializer.SetTransformDomainMeshSize(\n",
    "    numberOfGridNodesInOneDimension - SplineOrder)\n",
    "transformInitializer.InitializeTransform()\n",
    "\n",
    "\n",
    "\n",
    "# Registration Loop\n",
    "numOfIterations = 10000\n",
    "maxStep = 0.1\n",
    "learningRate = 0.1\n",
    "\n",
    "MetricType = itk.ExpectationBasedPointSetToPointSetMetricv4[type(movingPS)]\n",
    "metric = MetricType.New()\n",
    "metric.SetFixedPointSet(movingPS)\n",
    "metric.SetMovingPointSet(fixedPS)\n",
    "metric.SetPointSetSigma(1)\n",
    "metric.SetEvaluationKNeighborhood(10)\n",
    "metric.SetMovingTransform(transform)\n",
    "metric.Initialize()\n",
    "\n",
    "print('Metric Created')\n",
    "\n",
    "optimizer = itk.RegularStepGradientDescentOptimizerv4.D.New()\n",
    "optimizer.SetNumberOfIterations(numOfIterations)\n",
    "optimizer.SetMaximumStepSizeInPhysicalUnits(maxStep)\n",
    "optimizer.SetLearningRate(learningRate)\n",
    "optimizer.SetMinimumConvergenceValue(-100)\n",
    "optimizer.SetConvergenceWindowSize(numOfIterations)\n",
    "optimizer.SetMetric(metric)\n",
    "\n",
    "def iteration_update():\n",
    "    metric_value = optimizer.GetValue()\n",
    "    current_parameters = optimizer.GetCurrentPosition()\n",
    "    print(f\"Metric: {metric_value:.8g}\")\n",
    "\n",
    "\n",
    "iteration_command = itk.PyCommand.New()\n",
    "iteration_command.SetCommandCallable(iteration_update)\n",
    "#optimizer.AddObserver(itk.IterationEvent(), iteration_command)\n",
    "\n",
    "optimizer.StartOptimization()\n",
    "\n",
    "\n",
    "# Transform the point set using the final transform\n",
    "final_transform = metric.GetMovingTransform()\n",
    "\n",
    "e_metric = itk.EuclideanDistancePointSetToPointSetMetricv4.PSD3.New()\n",
    "e_metric.SetFixedPointSet(fixedPS)\n",
    "e_metric.SetMovingPointSet(movingPS)\n",
    "print('Euclidean Metric Before TSD Deformable Registration ', e_metric.GetValue())\n",
    "\n",
    "numberOfPoints = movingPS.GetNumberOfPoints()\n",
    "for n in range(0, numberOfPoints):\n",
    "    movingPS.SetPoint(n, final_transform.TransformPoint(movingPS.GetPoint(n)))\n",
    "\n",
    "e_metric = itk.EuclideanDistancePointSetToPointSetMetricv4.PSD3.New()\n",
    "e_metric.SetFixedPointSet(fixedPS)\n",
    "e_metric.SetMovingPointSet(movingPS)\n",
    "print('Euclidean Metric After TSD Deformable Registration ', e_metric.GetValue())\n",
    "\n",
    "\n",
    "# Write the mesh to disk\n",
    "movingMeshITK = itk.meshread('/home/pranjal.sahu/Documents/SampleApeData/USNM174722-Cranium_1.vtk', itk.D)\n",
    "numberOfPoints = movingMeshITK.GetNumberOfPoints()\n",
    "for n in range(0, numberOfPoints):\n",
    "    movingMeshITK.SetPoint(n, final_transform.TransformPoint(movingMeshITK.GetPoint(n)))\n",
    "    \n",
    "\n",
    "w1 = itk.MeshFileWriter[type(movingMeshITK)].New()\n",
    "w1.SetFileName('ransacICPResult2_b_check.vtk')\n",
    "w1.SetFileTypeAsBINARY()\n",
    "w1.SetInput(movingMeshITK)\n",
    "w1.Update()\n",
    "\n",
    "# Write the Displacement Field\n",
    "\n",
    "convertFilter = itk.TransformToDisplacementFieldFilter.IVF33D.New()\n",
    "convertFilter.SetTransform(final_transform)\n",
    "convertFilter.UseReferenceImageOn()\n",
    "convertFilter.SetReferenceImage(fixedImage)\n",
    "convertFilter.Update()\n",
    "field = convertFilter.GetOutput()\n",
    "field = np.array(field)\n",
    "np.save('displacement_field.npy', field)"
   ]
  },
  {
   "cell_type": "code",
   "execution_count": null,
   "metadata": {},
   "outputs": [],
   "source": [
    "# 100 points\n",
    "#10000 steps, maxstep 5, lr=1 -> Euclidean Metric After TSD Deformable Registration  5.654447970187015\n",
    "#10000 steps, maxstep 1, lr=0.5 -> Euclidean Metric After TSD Deformable Registration  5.603168265618789\n",
    "#10000 steps, maxstep 0.5, lr=0.5 -> Euclidean Metric After TSD Deformable Registration  5.562018728337675\n",
    "#10000 steps, maxstep 0.1, lr=0.1 -> Euclidean Metric After TSD Deformable Registration  5.509466284323771\n",
    "#10000 steps, maxstep 0.05, lr=0.05 -> Euclidean Metric After TSD Deformable Registration 5.7451834819279055 \n",
    "\n",
    "\n",
    "# 150 points\n",
    "#10000 steps, maxstep 0.1, lr=0.1 -> Euclidean Metric After TSD Deformable Registration  5.463740991601191\n",
    "#10000 steps, maxstep 0.1, lr=0.1 -> Euclidean Metric After TSD Deformable Registration  5.392717912940713\n",
    "\n",
    "# 10 points\n",
    "#10000 steps, maxstep 0.1, lr=0.1 -> Euclidean Metric After TSD Deformable Registration  5.3219320309597675\n",
    "\n",
    "\n",
    "# 10 points (100 image size)\n",
    "#10000 steps, maxstep 0.1, lr=0.1 -> Euclidean Metric After TSD Deformable Registration  4.502430356229278"
   ]
  },
  {
   "cell_type": "code",
   "execution_count": 42,
   "metadata": {},
   "outputs": [
    {
     "name": "stdout",
     "output_type": "stream",
     "text": [
      "(55, 94, 64, 3)\n"
     ]
    },
    {
     "data": {
      "text/plain": [
       "<matplotlib.image.AxesImage at 0x7fe631d20820>"
      ]
     },
     "execution_count": 42,
     "metadata": {},
     "output_type": "execute_result"
    },
    {
     "data": {
      "image/png": "[encoded data removed]",
      "text/plain": [
       "<Figure size 432x288 with 1 Axes>"
      ]
     },
     "metadata": {
      "needs_background": "light"
     },
     "output_type": "display_data"
    }
   ],
   "source": [
    "# Visualized the Displacement Field obtained from BSpline Transform\n",
    "\n",
    "print(field.shape)\n",
    "import matplotlib.pyplot as plt\n",
    "plt.imshow(field[15, :, :, 0], cmap='gray')"
   ]
  },
  {
   "cell_type": "code",
   "execution_count": 44,
   "metadata": {},
   "outputs": [],
   "source": [
    "# Visualize the results after RANSAC ICP\n",
    "\n",
    "from itkwidgets import view\n",
    "\n",
    "def readvtk(filename):\n",
    "    a = vtk.vtkPolyDataReader()\n",
    "    a.SetFileName(filename)\n",
    "    a.Update()\n",
    "    m1 = a.GetOutput()\n",
    "    return m1\n",
    "\n",
    "def readply(filename):\n",
    "    a = vtk.vtkPLYReader()\n",
    "    a.SetFileName(filename)\n",
    "    a.Update()\n",
    "    m1 = a.GetOutput()\n",
    "    return m1\n",
    "\n",
    "m1 = readvtk('/home/pranjal.sahu/Documents/SampleApeData/USNM174701-Cranium_merged_1.vtk')\n",
    "m2 = readvtk('/home/pranjal.sahu/Documents/SampleApeData/USNM174722-Cranium_1.vtk')\n",
    "m3 = readvtk('ransacICPResult2_b_check.vtk')\n",
    "\n",
    "view(geometries=[m1, m2, m3])"
   ]
  },
  {
   "cell_type": "code",
   "execution_count": null,
   "metadata": {
    "code_folding": [
     0
    ],
    "colab": {
     "base_uri": "https://localhost:8080/"
    },
    "id": "BAO8Kz3-siCo",
    "outputId": "b7cd6976-059c-438a-b39c-633d789b8db5"
   },
   "outputs": [],
   "source": [
    "# TSD registration\n",
    "\n",
    "imageDiagonal   = 50\n",
    "stretchWeight   = 0.0001\n",
    "bendWeight      = 0.0001\n",
    "geometricWeight = 0.0001\n",
    "maxStep         = 1\n",
    "numOfIterations = 20\n",
    "learningRate    = 1\n",
    "\n",
    "movingMesh = itk.meshread('movingMesh.vtk', itk.D)\n",
    "fixedMesh  = itk.meshread('fixedMesh.vtk', itk.D)\n",
    "\n",
    "print('Number of Points are')\n",
    "print(movingMesh.GetNumberOfPoints())\n",
    "print(fixedMesh.GetNumberOfPoints())\n",
    "\n",
    "fixedMesh.BuildCellLinks()\n",
    "movingMesh.BuildCellLinks()\n",
    "\n",
    "PixelType = itk.D\n",
    "Dimension = 3\n",
    "\n",
    "MeshType        = itk.Mesh[itk.D, Dimension]\n",
    "FixedImageType  = itk.Image[PixelType, Dimension]\n",
    "\n",
    "# For getting the Bounding Box\n",
    "ElementIdentifierType = itk.UL\n",
    "CoordType = itk.F\n",
    "Dimension = 3\n",
    "\n",
    "VecContType = itk.VectorContainer[\n",
    "    ElementIdentifierType, itk.Point[CoordType, Dimension]\n",
    "]\n",
    "bounding_box = itk.BoundingBox[ElementIdentifierType, Dimension, CoordType, VecContType].New()\n",
    "bounding_box.SetPoints(movingMesh.GetPoints())\n",
    "bounding_box.ComputeBoundingBox()\n",
    "\n",
    "minBounds = np.array(bounding_box.GetMinimum())\n",
    "maxBounds = np.array(bounding_box.GetMaximum())\n",
    "\n",
    "\n",
    "spacing = np.sqrt(bounding_box.GetDiagonalLength2()) / imageDiagonal\n",
    "diff = maxBounds - minBounds\n",
    "\n",
    "print('Spacing ', spacing)\n",
    "print('minBounds ', minBounds)\n",
    "print('maxBounds ', maxBounds)\n",
    "\n",
    "fixedImageSize    = [0]*3\n",
    "fixedImageSize[0] = math.ceil( 1.2 * diff[0] / spacing )\n",
    "fixedImageSize[1] = math.ceil( 1.2 * diff[1] / spacing )\n",
    "fixedImageSize[2] = math.ceil( 1.2 * diff[2] / spacing )\n",
    "\n",
    "fixedImageOrigin    = [0]*3\n",
    "fixedImageOrigin[0] = minBounds[0] - 0.1 * diff[0]\n",
    "fixedImageOrigin[1] = minBounds[1] - 0.1 * diff[1]\n",
    "fixedImageOrigin[2] = minBounds[2] - 0.1 * diff[2]\n",
    "\n",
    "fixedImageSpacing   = np.ones(3)*spacing\n",
    "fixedImageDirection = np.identity(3)\n",
    "\n",
    "\n",
    "fixedImage = FixedImageType.New()\n",
    "fixedImage.SetRegions(fixedImageSize)\n",
    "fixedImage.SetOrigin( fixedImageOrigin )\n",
    "fixedImage.SetDirection( fixedImageDirection )\n",
    "fixedImage.SetSpacing( fixedImageSpacing )\n",
    "fixedImage.Allocate()\n",
    "\n",
    "\n",
    "# Create BSpline Transformation object and initialize the parameters\n",
    "SplineOrder = 3\n",
    "TransformType  = itk.BSplineTransform[itk.D, Dimension, SplineOrder]\n",
    "InitializerType = itk.BSplineTransformInitializer[TransformType, FixedImageType]\n",
    "\n",
    "transform = TransformType.New()\n",
    "\n",
    "# Higher the grid dimensio, slower the computation but higher will be the accuracy\n",
    "numberOfGridNodesInOneDimension = 8\n",
    "transformInitializer = InitializerType.New()\n",
    "transformInitializer.SetTransform(transform)\n",
    "transformInitializer.SetImage(fixedImage)\n",
    "transformInitializer.SetTransformDomainMeshSize(numberOfGridNodesInOneDimension - SplineOrder)\n",
    "transformInitializer.InitializeTransform()\n",
    "\n",
    "\n",
    "\n",
    "MetricType = itk.ThinShellDemonsMetricv4.MD3\n",
    "metric = MetricType.New()\n",
    "metric.SetStretchWeight(stretchWeight)\n",
    "metric.SetBendWeight(bendWeight)\n",
    "metric.SetGeometricFeatureWeight(geometricWeight)\n",
    "metric.UseConfidenceWeightingOn()\n",
    "metric.UseMaximalDistanceConfidenceSigmaOff()\n",
    "metric.UpdateFeatureMatchingAtEachIterationOn()\n",
    "metric.SetMovingTransform(transform)\n",
    "# Reversed due to using points instead of an image\n",
    "# to keep semantics the same as in itkThinShellDemonsTest.cxx\n",
    "# For the ThinShellDemonsMetricv4 the fixed mesh is regularized\n",
    "metric.SetFixedPointSet(movingMesh)\n",
    "metric.SetMovingPointSet(fixedMesh)\n",
    "metric.SetVirtualDomainFromImage(fixedImage)\n",
    "metric.Initialize()\n",
    "\n",
    "print('TSD Metric Created')\n",
    "\n",
    "\n",
    "optimizer = itk.RegularStepGradientDescentOptimizerv4.D.New()\n",
    "optimizer.SetNumberOfIterations( numOfIterations )\n",
    "optimizer.SetMaximumStepSizeInPhysicalUnits( maxStep )\n",
    "optimizer.SetLearningRate(learningRate)\n",
    "optimizer.SetMinimumConvergenceValue( 0.0 )\n",
    "optimizer.SetConvergenceWindowSize( numOfIterations )\n",
    "\n",
    "def iteration_update():\n",
    "    metric_value = optimizer.GetValue()\n",
    "    current_parameters = optimizer.GetCurrentPosition()\n",
    "    print(f\"Metric: {metric_value:.8g}\")\n",
    "\n",
    "iteration_command = itk.PyCommand.New()\n",
    "iteration_command.SetCommandCallable(iteration_update)\n",
    "optimizer.AddObserver(itk.IterationEvent(), iteration_command)\n",
    "\n",
    "\n",
    "print('Number of Transform Parameters ', transform.GetNumberOfParameters())\n",
    "\n",
    "AffineRegistrationType = itk.ImageRegistrationMethodv4.REGv4D3D3TD3D3MD3.New()\n",
    "registration = AffineRegistrationType.New()\n",
    "registration.SetNumberOfLevels(1)\n",
    "registration.SetObjectName(\"registration\")\n",
    "registration.SetFixedPointSet(movingMesh)\n",
    "registration.SetMovingPointSet(fixedMesh)\n",
    "registration.SetInitialTransform(transform)\n",
    "registration.SetMetric(metric)\n",
    "registration.SetOptimizer(optimizer)\n",
    "registration.InPlaceOn()\n",
    "\n",
    "print('Registration Object created')\n",
    "print('Initial Value of Metric ', metric.GetValue())\n",
    "\n",
    "try:\n",
    "    registration.Update()\n",
    "except e:\n",
    "    print('Error is ', e)\n",
    "\n",
    "print('Final Value of TSD Metric ', metric.GetValue())\n",
    "\n",
    "\n",
    "# Get the Displacement field from the BSpline Transform\n",
    "finalTransform = registration.GetModifiableTransform()\n",
    "convertFilter = itk.TransformToDisplacementFieldFilter.IVF33D.New()\n",
    "convertFilter.SetTransform(finalTransform)\n",
    "convertFilter.UseReferenceImageOn()\n",
    "convertFilter.SetReferenceImage(fixedImage)\n",
    "convertFilter.Update()\n",
    "field = convertFilter.GetOutput()\n",
    "field = np.array(field)\n",
    "np.save('displacement_field.npy', field)\n",
    "\n",
    "e_metric = itk.EuclideanDistancePointSetToPointSetMetricv4.PSD3.New()\n",
    "e_metric.SetFixedPointSet(fixedMesh)\n",
    "e_metric.SetMovingPointSet(movingMesh)\n",
    "print('Euclidean Metric Before TSD Deformable Registration ', e_metric.GetValue())\n",
    "\n",
    "numberOfPoints = movingMesh.GetNumberOfPoints()\n",
    "for n in range(0, numberOfPoints):\n",
    "    movingMesh.SetPoint(n, finalTransform.TransformPoint(movingMesh.GetPoint(n)))\n",
    "\n",
    "e_metric = itk.EuclideanDistancePointSetToPointSetMetricv4.PSD3.New()\n",
    "e_metric.SetFixedPointSet(fixedMesh)\n",
    "e_metric.SetMovingPointSet(movingMesh)\n",
    "print('Euclidean Metric After TSD Deformable Registration ', e_metric.GetValue())\n",
    "\n",
    "itk.meshwrite(movingMesh, 'result_bspline.vtk')"
   ]
  },
  {
   "cell_type": "code",
   "execution_count": null,
   "metadata": {
    "colab": {
     "base_uri": "https://localhost:8080/",
     "height": 717,
     "referenced_widgets": [
      "bccc95ba69df467d9c9ffc80cc1ec239",
      "e06d9cfe79da41d4994610976f5c6ae7"
     ]
    },
    "id": "Z_tumTEKsmDY",
    "outputId": "74cc6a4f-24a4-4cbf-c273-dcd478ea970a"
   },
   "outputs": [
    {
     "data": {
      "application/vnd.jupyter.widget-view+json": {
       "model_id": "bccc95ba69df467d9c9ffc80cc1ec239",
       "version_major": 2,
       "version_minor": 0
      },
      "text/plain": [
       "Viewer(geometries=[{'vtkClass': 'vtkPolyData', 'points': {'vtkClass': 'vtkPoints', 'name': '_points', 'numberO…"
      ]
     },
     "metadata": {
      "application/vnd.jupyter.widget-view+json": {
       "colab": {
        "custom_widget_manager": {
         "url": "https://ssl.gstatic.com/colaboratory-static/widgets/colab-cdn-widget-manager/a8874ba6619b6106/manager.min.js"
        }
       }
      }
     },
     "output_type": "display_data"
    }
   ],
   "source": [
    "# Visualize the fixed mesh, moving mesh and the registered mesh\n",
    "\n",
    "a = vtk.vtkPolyDataReader()\n",
    "a.SetFileName('ransacICPResult2.vtk')\n",
    "a.Update()\n",
    "m1 = a.GetOutput()\n",
    "\n",
    "a = vtk.vtkPolyDataReader()\n",
    "a.SetFileName('result_bspline.vtk')\n",
    "a.Update()\n",
    "m2 = a.GetOutput()\n",
    "\n",
    "a = vtk.vtkPolyDataReader()\n",
    "a.SetFileName('fixedMesh.vtk')\n",
    "a.Update()\n",
    "m3 = a.GetOutput()\n",
    "\n",
    "itkwidgets.view(geometries=[m1, m2, m3])"
   ]
  },
  {
   "cell_type": "code",
   "execution_count": 4,
   "metadata": {},
   "outputs": [
    {
     "ename": "NameError",
     "evalue": "name 'final_transform' is not defined",
     "output_type": "error",
     "traceback": [
      "\u001b[0;31m---------------------------------------------------------------------------\u001b[0m",
      "\u001b[0;31mNameError\u001b[0m                                 Traceback (most recent call last)",
      "\u001b[0;32m/tmp/ipykernel_667168/3258587051.py\u001b[0m in \u001b[0;36m<module>\u001b[0;34m\u001b[0m\n\u001b[1;32m      1\u001b[0m \u001b[0;31m#finalTransform = registration.GetModifiableTransform()\u001b[0m\u001b[0;34m\u001b[0m\u001b[0;34m\u001b[0m\u001b[0;34m\u001b[0m\u001b[0m\n\u001b[1;32m      2\u001b[0m \u001b[0mconvertFilter\u001b[0m \u001b[0;34m=\u001b[0m \u001b[0mitk\u001b[0m\u001b[0;34m.\u001b[0m\u001b[0mTransformToDisplacementFieldFilter\u001b[0m\u001b[0;34m.\u001b[0m\u001b[0mIVF33D\u001b[0m\u001b[0;34m.\u001b[0m\u001b[0mNew\u001b[0m\u001b[0;34m(\u001b[0m\u001b[0;34m)\u001b[0m\u001b[0;34m\u001b[0m\u001b[0;34m\u001b[0m\u001b[0m\n\u001b[0;32m----> 3\u001b[0;31m \u001b[0mconvertFilter\u001b[0m\u001b[0;34m.\u001b[0m\u001b[0mSetTransform\u001b[0m\u001b[0;34m(\u001b[0m\u001b[0mfinal_transform\u001b[0m\u001b[0;34m)\u001b[0m\u001b[0;34m\u001b[0m\u001b[0;34m\u001b[0m\u001b[0m\n\u001b[0m\u001b[1;32m      4\u001b[0m \u001b[0mconvertFilter\u001b[0m\u001b[0;34m.\u001b[0m\u001b[0mUseReferenceImageOn\u001b[0m\u001b[0;34m(\u001b[0m\u001b[0;34m)\u001b[0m\u001b[0;34m\u001b[0m\u001b[0;34m\u001b[0m\u001b[0m\n\u001b[1;32m      5\u001b[0m \u001b[0mconvertFilter\u001b[0m\u001b[0;34m.\u001b[0m\u001b[0mSetReferenceImage\u001b[0m\u001b[0;34m(\u001b[0m\u001b[0mfixedImage\u001b[0m\u001b[0;34m)\u001b[0m\u001b[0;34m\u001b[0m\u001b[0;34m\u001b[0m\u001b[0m\n",
      "\u001b[0;31mNameError\u001b[0m: name 'final_transform' is not defined"
     ]
    }
   ],
   "source": [
    "#finalTransform = registration.GetModifiableTransform()\n",
    "convertFilter = itk.TransformToDisplacementFieldFilter.IVF33D.New()\n",
    "convertFilter.SetTransform(final_transform)\n",
    "convertFilter.UseReferenceImageOn()\n",
    "convertFilter.SetReferenceImage(fixedImage)\n",
    "convertFilter.Update()\n",
    "field = convertFilter.GetOutput()\n",
    "field = np.array(field)\n",
    "np.save('displacement_field.npy', field)"
   ]
  },
  {
   "cell_type": "code",
   "execution_count": 36,
   "metadata": {
    "colab": {
     "base_uri": "https://localhost:8080/",
     "height": 282
    },
    "id": "4G9RMlpMsnul",
    "outputId": "5ae3efb9-6e2a-4903-c232-f35ae2ad28d9"
   },
   "outputs": [
    {
     "name": "stdout",
     "output_type": "stream",
     "text": [
      "(24, 48, 29, 3)\n"
     ]
    },
    {
     "data": {
      "text/plain": [
       "<matplotlib.image.AxesImage at 0x7f2eeb03ebb0>"
      ]
     },
     "execution_count": 36,
     "metadata": {},
     "output_type": "execute_result"
    },
    {
     "data": {
      "image/png": "[encoded data removed]",
      "text/plain": [
       "<Figure size 432x288 with 1 Axes>"
      ]
     },
     "metadata": {
      "needs_background": "light"
     },
     "output_type": "display_data"
    }
   ],
   "source": [
    "# Visualized the Displacement Field obtained from BSpline Transform\n",
    "\n",
    "print(field.shape)\n",
    "import matplotlib.pyplot as plt\n",
    "plt.imshow(field[15, :, :, 0], cmap='gray')"
   ]
  },
  {
   "cell_type": "code",
   "execution_count": null,
   "metadata": {},
   "outputs": [],
   "source": []
  }
 ],
 "metadata": {
  "colab": {
   "collapsed_sections": [],
   "name": "TSD-Demo.ipynb",
   "provenance": []
  },
  "kernelspec": {
   "display_name": "Python 3 (ipykernel)",
   "language": "python",
   "name": "python3"
  },
  "language_info": {
   "codemirror_mode": {
    "name": "ipython",
    "version": 3
   },
   "file_extension": ".py",
   "mimetype": "text/x-python",
   "name": "python",
   "nbconvert_exporter": "python",
   "pygments_lexer": "ipython3",
   "version": "3.8.12"
  },
  "widgets": {
   "application/vnd.jupyter.widget-state+json": {
    "562fc697c5f043c1a03eb27e5a9ff721": {
     "model_module": "@jupyter-widgets/base",
     "model_module_version": "1.2.0",
     "model_name": "LayoutModel",
     "state": {
      "_model_module": "@jupyter-widgets/base",
      "_model_module_version": "1.2.0",
      "_model_name": "LayoutModel",
      "_view_count": null,
      "_view_module": "@jupyter-widgets/base",
      "_view_module_version": "1.2.0",
      "_view_name": "LayoutView",
      "align_content": null,
      "align_items": null,
      "align_self": null,
      "border": null,
      "bottom": null,
      "display": null,
      "flex": null,
      "flex_flow": null,
      "grid_area": null,
      "grid_auto_columns": null,
      "grid_auto_flow": null,
      "grid_auto_rows": null,
      "grid_column": null,
      "grid_gap": null,
      "grid_row": null,
      "grid_template_areas": null,
      "grid_template_columns": null,
      "grid_template_rows": null,
      "height": null,
      "justify_content": null,
      "justify_items": null,
      "left": null,
      "margin": null,
      "max_height": null,
      "max_width": null,
      "min_height": null,
      "min_width": null,
      "object_fit": null,
      "object_position": null,
      "order": null,
      "overflow": null,
      "overflow_x": null,
      "overflow_y": null,
      "padding": null,
      "right": null,
      "top": null,
      "visibility": null,
      "width": null
     }
    },
    "bccc95ba69df467d9c9ffc80cc1ec239": {
     "model_module": "itkwidgets",
     "model_module_version": "^0.32.1",
     "model_name": "ViewerModel",
     "state": {
      "_custom_cmap": null,
      "_dom_classes": [],
      "_downsampling": false,
      "_largest_roi": {
       "dtype": "float64",
       "shape": [
        2,
        3
       ]
      },
      "_model_module": "itkwidgets",
      "_model_module_version": "^0.32.1",
      "_model_name": "ViewerModel",
      "_rendering_image": false,
      "_reset_crop_requested": false,
      "_scale_factors": {
       "dtype": "uint8",
       "shape": [
        3
       ]
      },
      "_view_count": null,
      "_view_module": "itkwidgets",
      "_view_module_version": "^0.32.1",
      "_view_name": "ViewerView",
      "annotations": true,
      "axes": false,
      "background": [
       1,
       1,
       1
      ],
      "blend_mode": "composite",
      "camera": {
       "dtype": "float32",
       "shape": [
        3,
        3
       ]
      },
      "channels": null,
      "clicked_slice_point": null,
      "cmap": null,
      "geometries": [
       {
        "metadata": {
         "name": "Geometry 0"
        },
        "points": {
         "dataType": "Float32Array",
         "name": "_points",
         "numberOfComponents": 3,
         "size": 522240,
         "vtkClass": "vtkPoints"
        },
        "polys": {
         "dataType": "Uint32Array",
         "name": "_polys",
         "numberOfComponents": 1,
         "size": 1394656,
         "vtkClass": "vtkCellArray"
        },
        "vtkClass": "vtkPolyData"
       },
       {
        "metadata": {
         "name": "Geometry 1"
        },
        "points": {
         "dataType": "Float32Array",
         "name": "_points",
         "numberOfComponents": 3,
         "size": 522240,
         "vtkClass": "vtkPoints"
        },
        "polys": {
         "dataType": "Uint32Array",
         "name": "_polys",
         "numberOfComponents": 1,
         "size": 1394656,
         "vtkClass": "vtkCellArray"
        },
        "vtkClass": "vtkPolyData"
       },
       {
        "metadata": {
         "name": "Geometry 2"
        },
        "points": {
         "dataType": "Float32Array",
         "name": "_points",
         "numberOfComponents": 3,
         "size": 507396,
         "vtkClass": "vtkPoints"
        },
        "polys": {
         "dataType": "Uint32Array",
         "name": "_polys",
         "numberOfComponents": 1,
         "size": 1354080,
         "vtkClass": "vtkCellArray"
        },
        "vtkClass": "vtkPolyData"
       }
      ],
      "geometry_colors": {
       "dtype": "float32",
       "shape": [
        3,
        3
       ]
      },
      "geometry_opacities": {
       "dtype": "float32",
       "shape": [
        3
       ]
      },
      "gradient_opacity": 0.22,
      "interpolation": true,
      "label_image_blend": 0.5,
      "label_image_names": null,
      "label_image_weights": null,
      "layout": "IPY_MODEL_e06d9cfe79da41d4994610976f5c6ae7",
      "lut": "glasbey",
      "mode": "v",
      "opacity_gaussians": null,
      "point_set_colors": {
       "dtype": "float32",
       "shape": [
        0,
        3
       ]
      },
      "point_set_opacities": {
       "dtype": "float32",
       "shape": [
        0
       ]
      },
      "point_set_representations": [],
      "point_set_sizes": {
       "dtype": "uint8",
       "shape": [
        0
       ]
      },
      "point_sets": [],
      "rendered_image": null,
      "rendered_label_image": null,
      "roi": {
       "dtype": "float64",
       "shape": [
        2,
        3
       ]
      },
      "rotate": false,
      "sample_distance": 0.25,
      "select_roi": false,
      "shadow": true,
      "slicing_planes": false,
      "ui_collapsed": false,
      "units": "",
      "vmax": null,
      "vmin": null,
      "x_slice": null,
      "y_slice": null,
      "z_slice": null
     }
    },
    "db007fa8964c4869ad6c08aa6b3016bd": {
     "model_module": "itkwidgets",
     "model_module_version": "^0.32.1",
     "model_name": "ViewerModel",
     "state": {
      "_custom_cmap": null,
      "_dom_classes": [],
      "_downsampling": false,
      "_largest_roi": {
       "dtype": "float64",
       "shape": [
        2,
        3
       ]
      },
      "_model_module": "itkwidgets",
      "_model_module_version": "^0.32.1",
      "_model_name": "ViewerModel",
      "_rendering_image": false,
      "_reset_crop_requested": false,
      "_scale_factors": {
       "dtype": "uint8",
       "shape": [
        3
       ]
      },
      "_view_count": null,
      "_view_module": "itkwidgets",
      "_view_module_version": "^0.32.1",
      "_view_name": "ViewerView",
      "annotations": true,
      "axes": false,
      "background": [
       1,
       1,
       1
      ],
      "blend_mode": "composite",
      "camera": {
       "dtype": "float32",
       "shape": [
        3,
        3
       ]
      },
      "channels": null,
      "clicked_slice_point": null,
      "cmap": null,
      "geometries": [
       {
        "metadata": {
         "name": "Geometry 0"
        },
        "points": {
         "dataType": "Float32Array",
         "name": "_points",
         "numberOfComponents": 3,
         "size": 507396,
         "vtkClass": "vtkPoints"
        },
        "polys": {
         "dataType": "Uint32Array",
         "name": "_polys",
         "numberOfComponents": 1,
         "size": 1354080,
         "vtkClass": "vtkCellArray"
        },
        "vtkClass": "vtkPolyData"
       },
       {
        "metadata": {
         "name": "Geometry 1"
        },
        "points": {
         "dataType": "Float32Array",
         "name": "_points",
         "numberOfComponents": 3,
         "size": 522240,
         "vtkClass": "vtkPoints"
        },
        "polys": {
         "dataType": "Uint32Array",
         "name": "_polys",
         "numberOfComponents": 1,
         "size": 1394656,
         "vtkClass": "vtkCellArray"
        },
        "vtkClass": "vtkPolyData"
       },
       {
        "metadata": {
         "name": "Geometry 2"
        },
        "points": {
         "dataType": "Float32Array",
         "name": "_points",
         "numberOfComponents": 3,
         "size": 522240,
         "vtkClass": "vtkPoints"
        },
        "polys": {
         "dataType": "Uint32Array",
         "name": "_polys",
         "numberOfComponents": 1,
         "size": 1394656,
         "vtkClass": "vtkCellArray"
        },
        "vtkClass": "vtkPolyData"
       },
       {
        "metadata": {
         "name": "Geometry 3"
        },
        "points": {
         "dataType": "Float32Array",
         "name": "_points",
         "numberOfComponents": 3,
         "size": 522240,
         "vtkClass": "vtkPoints"
        },
        "polys": {
         "dataType": "Uint32Array",
         "name": "_polys",
         "numberOfComponents": 1,
         "size": 1394656,
         "vtkClass": "vtkCellArray"
        },
        "vtkClass": "vtkPolyData"
       }
      ],
      "geometry_colors": {
       "dtype": "float32",
       "shape": [
        4,
        3
       ]
      },
      "geometry_opacities": {
       "dtype": "float32",
       "shape": [
        4
       ]
      },
      "gradient_opacity": 0.22,
      "interpolation": true,
      "label_image_blend": 0.5,
      "label_image_names": null,
      "label_image_weights": null,
      "layout": "IPY_MODEL_562fc697c5f043c1a03eb27e5a9ff721",
      "lut": "glasbey",
      "mode": "v",
      "opacity_gaussians": null,
      "point_set_colors": {
       "dtype": "float32",
       "shape": [
        0,
        3
       ]
      },
      "point_set_opacities": {
       "dtype": "float32",
       "shape": [
        0
       ]
      },
      "point_set_representations": [],
      "point_set_sizes": {
       "dtype": "uint8",
       "shape": [
        0
       ]
      },
      "point_sets": [],
      "rendered_image": null,
      "rendered_label_image": null,
      "roi": {
       "dtype": "float64",
       "shape": [
        2,
        3
       ]
      },
      "rotate": false,
      "sample_distance": 0.25,
      "select_roi": false,
      "shadow": true,
      "slicing_planes": false,
      "ui_collapsed": false,
      "units": "",
      "vmax": null,
      "vmin": null,
      "x_slice": null,
      "y_slice": null,
      "z_slice": null
     }
    },
    "e06d9cfe79da41d4994610976f5c6ae7": {
     "model_module": "@jupyter-widgets/base",
     "model_module_version": "1.2.0",
     "model_name": "LayoutModel",
     "state": {
      "_model_module": "@jupyter-widgets/base",
      "_model_module_version": "1.2.0",
      "_model_name": "LayoutModel",
      "_view_count": null,
      "_view_module": "@jupyter-widgets/base",
      "_view_module_version": "1.2.0",
      "_view_name": "LayoutView",
      "align_content": null,
      "align_items": null,
      "align_self": null,
      "border": null,
      "bottom": null,
      "display": null,
      "flex": null,
      "flex_flow": null,
      "grid_area": null,
      "grid_auto_columns": null,
      "grid_auto_flow": null,
      "grid_auto_rows": null,
      "grid_column": null,
      "grid_gap": null,
      "grid_row": null,
      "grid_template_areas": null,
      "grid_template_columns": null,
      "grid_template_rows": null,
      "height": null,
      "justify_content": null,
      "justify_items": null,
      "left": null,
      "margin": null,
      "max_height": null,
      "max_width": null,
      "min_height": null,
      "min_width": null,
      "object_fit": null,
      "object_position": null,
      "order": null,
      "overflow": null,
      "overflow_x": null,
      "overflow_y": null,
      "padding": null,
      "right": null,
      "top": null,
      "visibility": null,
      "width": null
     }
    }
   }
  }
 },
 "nbformat": 4,
 "nbformat_minor": 1
}
