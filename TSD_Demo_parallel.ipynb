{
 "cells": [
  {
   "cell_type": "code",
   "execution_count": null,
   "metadata": {
    "id": "eN9NW15BgVfr"
   },
   "outputs": [],
   "source": [
    "# Install all packages\n",
    "# Restart runtime after installation\n",
    "\n",
    "#!wget https://github.com/PranjalSahu/ITKThinShellDemons/raw/pranjal_setup/itk_thinshelldemons-0.1.1-cp38-cp38m-manylinux_2_17_x86_64.manylinux2014_x86_64.whl\n",
    "#!pip install itk_thinshelldemons-0.1.1-cp37-cp37m-manylinux_2_17_x86_64.manylinux2014_x86_64.whl\n",
    "!pip install itk_thinshelldemons-0.1.1-cp38-cp38-manylinux_2_17_x86_64.manylinux2014_x86_64.whl\n",
    "!pip install itk==5.3rc4\n",
    "!pip install vtk\n",
    "!pip install itkwidgets"
   ]
  },
  {
   "cell_type": "code",
   "execution_count": 1,
   "metadata": {
    "id": "JENnhF80aBtG"
   },
   "outputs": [],
   "source": [
    "# Import all packages\n",
    "\n",
    "import numpy as np\n",
    "import itkConfig\n",
    "itkConfig.LazyLoading = False\n",
    "import itk\n",
    "import vtk\n",
    "import itkwidgets\n",
    "import math\n",
    "import matplotlib.pyplot as plt\n",
    "\n",
    "# To enable itkwidgets window\n",
    "#from google.colab import output\n",
    "#output.enable_custom_widget_manager()"
   ]
  },
  {
   "cell_type": "code",
   "execution_count": 6,
   "metadata": {},
   "outputs": [],
   "source": [
    "# Helper Functions\n",
    "\n",
    "def readvtk(filename):\n",
    "    a = vtk.vtkPolyDataReader()\n",
    "    a.SetFileName(filename)\n",
    "    a.Update()\n",
    "    m1 = a.GetOutput()\n",
    "    return m1\n",
    "\n",
    "def readply(filename):\n",
    "    a = vtk.vtkPLYReader()\n",
    "    a.SetFileName(filename)\n",
    "    a.Update()\n",
    "    m1 = a.GetOutput()\n",
    "    return m1\n",
    "\n",
    "FIXED_MESH_FILE  = '/data/Apedata/apedata/apes/models/gorilla/USNM252577-Cranium.ply'\n",
    "MOVING_MESH_FILE = '/data/Apedata/apedata/apes/models/orangutan/USNM145303-Cranium.ply'\n",
    "\n",
    "paths = [FIXED_MESH_FILE, MOVING_MESH_FILE]"
   ]
  },
  {
   "cell_type": "code",
   "execution_count": 19,
   "metadata": {
    "id": "5Y2T7UsnY_67"
   },
   "outputs": [],
   "source": [
    "# Fetch the files\n",
    "\n",
    "FIXED_MESH_FILE  = r'data/129S1_SVIMJ_.ply'\n",
    "MOVING_MESH_FILE = r'data/129X1_SVJ_.ply'\n",
    "paths = [FIXED_MESH_FILE, MOVING_MESH_FILE]\n",
    "\n",
    "import os\n",
    "import importlib\n",
    "from urllib.request import urlretrieve\n",
    "\n",
    "# Download meshes\n",
    "os.makedirs('data',exist_ok=True)\n",
    "if not os.path.exists(FIXED_MESH_FILE):\n",
    "    url = 'https://github.com/SlicerMorph/Mouse_Models/raw/main/Models/129S1_SVIMJ_.ply'\n",
    "    urlretrieve(url, FIXED_MESH_FILE)\n",
    "if not os.path.exists(MOVING_MESH_FILE):\n",
    "    url = 'https://github.com/SlicerMorph/Mouse_Models/raw/main/Models/129X1_SVJ_.ply'\n",
    "    urlretrieve(url, MOVING_MESH_FILE)"
   ]
  },
  {
   "cell_type": "code",
   "execution_count": 7,
   "metadata": {
    "id": "9itj_30QsXIY"
   },
   "outputs": [],
   "source": [
    "# Clean the meshes and Triangulate them as TSD only works with Triangle Meshes\n",
    "\n",
    "vtk_meshes = list()\n",
    "\n",
    "for path in paths:\n",
    "    reader = vtk.vtkPLYReader()\n",
    "    reader.SetFileName(path)\n",
    "    reader.Update()\n",
    "        \n",
    "    cleaner = vtk.vtkCleanPolyData()\n",
    "    cleaner.SetInputData(reader.GetOutput())\n",
    "    cleaner.ConvertLinesToPointsOn()\n",
    "    cleaner.ConvertPolysToLinesOff()\n",
    "    cleaner.SetTolerance(0.0)\n",
    "    cleaner.Update()\n",
    "    vtk_mesh = cleaner.GetOutput()\n",
    "\n",
    "    triangle_filter = vtk.vtkTriangleFilter()\n",
    "    triangle_filter.SetInputData(vtk_mesh)\n",
    "    triangle_filter.SetPassLines(False)\n",
    "    triangle_filter.SetPassVerts(False)\n",
    "    triangle_filter.Update()\n",
    "    vtk_mesh = triangle_filter.GetOutput()\n",
    "    \n",
    "    vtk_meshes.append(vtk_mesh)\n",
    "    \n",
    "# Write back out to a filetype supported by ITK\n",
    "vtk_paths = [path.strip('.ply') + '.vtk' for path in paths]\n",
    "for idx, mesh in enumerate(vtk_meshes):\n",
    "    writer = vtk.vtkPolyDataWriter()\n",
    "    writer.SetInputData(mesh)\n",
    "    writer.SetFileVersion(42)\n",
    "    writer.SetFileName(vtk_paths[idx])\n",
    "    writer.Update()\n",
    "    \n",
    "itk_meshes = [itk.meshread(path, pixel_type=itk.D) for path in vtk_paths]"
   ]
  },
  {
   "cell_type": "code",
   "execution_count": 8,
   "metadata": {
    "id": "sLtfu8l3sZMH"
   },
   "outputs": [],
   "source": [
    "# Convert meshes to images for performing moment based initialization\n",
    "\n",
    "# itk_meshes = []\n",
    "# itk_meshes.append(itk.meshread('itk_meshes_0.vtk'))\n",
    "# itk_meshes.append(itk.meshread('itk_meshes_1.vtk'))\n",
    "\n",
    "itk_images = []\n",
    "for mesh in itk_meshes:\n",
    "    # Get all the points to positive values\n",
    "    temp = itk.array_from_vector_container(mesh.GetPoints())\n",
    "    m    = np.min(temp, 0)\n",
    "    temp = temp - m\n",
    "    mesh.SetPoints(itk.vector_container_from_array(temp.flatten())) \n",
    "    \n",
    "    itk_image = itk.triangle_mesh_to_binary_image_filter(mesh,\n",
    "                                                       origin=[0, 0, 0],\n",
    "                                                       spacing=[1, 1, 1],\n",
    "                                                       size=[250, 250, 250])\n",
    "    itk_images.append(itk_image)\n",
    "                                                         \n",
    "\n",
    "itk_transforms = list()\n",
    "\n",
    "for image in itk_images:\n",
    "    calculator = itk.ImageMomentsCalculator[type(image)].New()\n",
    "    calculator.SetImage(image)\n",
    "    calculator.Compute()\n",
    "    itk_transforms.append(calculator.GetPhysicalAxesToPrincipalAxesTransform())"
   ]
  },
  {
   "cell_type": "code",
   "execution_count": 9,
   "metadata": {
    "id": "SRFDbREzsa1y"
   },
   "outputs": [],
   "source": [
    "# Write the Moment based initialized meshes as vtk file\n",
    "\n",
    "itk_transformed_meshes = [\n",
    "    itk.transform_mesh_filter(mesh, transform=itk_transforms[idx])\n",
    "    for idx, mesh in enumerate(itk_meshes)\n",
    "]\n",
    "\n",
    "movingMesh = itk_transformed_meshes[0]\n",
    "fixedMesh  = itk_transformed_meshes[1]\n",
    "\n",
    "itk.meshwrite(movingMesh, 'movingMesh.vtk')\n",
    "itk.meshwrite(fixedMesh, 'fixedMesh.vtk')"
   ]
  },
  {
   "cell_type": "code",
   "execution_count": 3,
   "metadata": {},
   "outputs": [],
   "source": [
    "m3 = readvtk('itk_meshes_0.vtk')\n",
    "m4 = readvtk('itk_meshes_1.vtk')\n",
    "\n",
    "m1 = readvtk('fixedMesh.vtk')\n",
    "m2 = readvtk('movingMesh.vtk')\n",
    "\n",
    "#m1 = itk.meshread('itk_meshes_0.vtk')\n",
    "#m2 = itk.meshread('itk_meshes_1.vtk')"
   ]
  },
  {
   "cell_type": "code",
   "execution_count": 4,
   "metadata": {},
   "outputs": [
    {
     "data": {
      "application/vnd.jupyter.widget-view+json": {
       "model_id": "25c6302c94c24b33a6943827df7320d3",
       "version_major": 2,
       "version_minor": 0
      },
      "text/plain": [
       "Viewer(geometries=[{'vtkClass': 'vtkPolyData', 'points': {'vtkClass': 'vtkPoints', 'name': '_points', 'numberO…"
      ]
     },
     "metadata": {},
     "output_type": "display_data"
    }
   ],
   "source": [
    "itkwidgets.view(geometries=[m1, m2, m3, m4])\n",
    "#itkwidgets.view(itk_images[1])"
   ]
  },
  {
   "cell_type": "code",
   "execution_count": null,
   "metadata": {
    "code_folding": [
     5
    ],
    "colab": {
     "base_uri": "https://localhost:8080/"
    },
    "id": "pwsLd4CwsdNe",
    "outputId": "ff547da9-7f9f-48e3-bdb4-e3a8f87cd3ee"
   },
   "outputs": [],
   "source": [
    "# Perform RANSAC ICP\n",
    "\n",
    "from joblib import Parallel, delayed\n",
    "\n",
    "\n",
    "def ransac_icp(fixedMesh, movingMesh, number_of_iterations, mesh_sub_sample_points, number_of_ransac_points, transform_type, convergance_value):\n",
    "    all_points1 = itk.array_from_vector_container(movingMesh.GetPoints())\n",
    "    all_points2 = itk.array_from_vector_container(fixedMesh.GetPoints())\n",
    "    \n",
    "    # Create Meshes with reduced number of points\n",
    "    mesh_fixed  = itk.Mesh[itk.D, 3].New()\n",
    "    mesh_moving = itk.Mesh[itk.D, 3].New()\n",
    "    \n",
    "    random_indices = np.random.choice(all_points1.shape[0], size=mesh_sub_sample_points)\n",
    "    p1 = all_points1[random_indices, :]\n",
    "    mesh_fixed.SetPoints(itk.vector_container_from_array(p1.flatten()))\n",
    "    \n",
    "    random_indices = np.random.choice(all_points2.shape[0], size=mesh_sub_sample_points)\n",
    "    p2 = all_points2[random_indices, :]\n",
    "    mesh_moving.SetPoints(itk.vector_container_from_array(p2.flatten()))\n",
    "    \n",
    "    best_score = 100000\n",
    "    best_result = None\n",
    "    best_transform = None\n",
    "    \n",
    "    if transform_type == 0:\n",
    "        TransformType = itk.Euler3DTransform[itk.D]\n",
    "    else:\n",
    "        TransformType = itk.ScaleTransform[itk.D, 3]\n",
    "    transform = TransformType.New()\n",
    "    transform.SetIdentity()\n",
    "    \n",
    "    e_metric = itk.EuclideanDistancePointSetToPointSetMetricv4.PSD3.New()\n",
    "    \n",
    "    # For reproduciblity\n",
    "    \n",
    "    def process(i):\n",
    "        np.random.seed(i)\n",
    "        #for i in range(number_of_iterations):\n",
    "        random_indices = np.random.choice(all_points1.shape[0], size=number_of_ransac_points)\n",
    "        p1 = all_points1[random_indices, :]\n",
    "\n",
    "        random_indices = np.random.choice(all_points2.shape[0], size=number_of_ransac_points)\n",
    "        p2 = all_points2[random_indices, :]\n",
    "\n",
    "        ps1 = itk.Mesh[itk.D, 3].New()\n",
    "        ps2 = itk.Mesh[itk.D, 3].New()\n",
    "\n",
    "        ps1.SetPoints(itk.vector_container_from_array(p1.flatten()))\n",
    "        ps2.SetPoints(itk.vector_container_from_array(p2.flatten()))\n",
    "\n",
    "        MetricType = itk.EuclideanDistancePointSetToPointSetMetricv4.PSD3\n",
    "        metric = MetricType.New()\n",
    "        metric.SetMovingPointSet(ps2)\n",
    "        metric.SetFixedPointSet(ps1)\n",
    "        metric.SetMovingTransform(transform)\n",
    "        metric.Initialize()\n",
    "\n",
    "#         optimizer = itk.ConjugateGradientLineSearchOptimizerv4Template[itk.D].New()\n",
    "#         optimizer.SetNumberOfIterations(5)\n",
    "#         optimizer.SetMaximumStepSizeInPhysicalUnits( 0.5 )\n",
    "#         optimizer.SetMinimumConvergenceValue( 0.0 )\n",
    "#         optimizer.SetConvergenceWindowSize( 5 )\n",
    "#         optimizer.SetMetric(metric)\n",
    "#         optimizer.StartOptimization()\n",
    "\n",
    "#         current_transform    = metric.GetTransform()\n",
    "#         itk_transformed_mesh = itk.transform_mesh_filter(mesh_moving, transform=current_transform)\n",
    "\n",
    "#         e_metric.SetFixedPointSet(mesh_fixed)\n",
    "#         e_metric.SetMovingPointSet(itk_transformed_mesh)\n",
    "#         e_metric.Initialize()\n",
    "\n",
    "#         current_value = e_metric.GetValue()\n",
    "        \n",
    "        current_value = i\n",
    "        return (current_value, i)\n",
    "        #if current_value < best_score:\n",
    "        #    best_score     = current_value\n",
    "        #    best_result    = itk_transformed_mesh\n",
    "        #    best_transform = current_transform\n",
    "\n",
    "        #if convergance_value > 0 and best_score < convergance_value:\n",
    "        #    break\n",
    "        \n",
    "    results = Parallel(n_jobs=8)(delayed(process)(i) for i in range(10))\n",
    "    print(results)\n",
    "    \n",
    "    print('Best Score ', best_score)\n",
    "    itk_transformed_mesh = itk.transform_mesh_filter(movingMesh, transform=best_transform)\n",
    "    return itk_transformed_mesh\n",
    "\n",
    "#movingMesh = itk.meshread('movingMesh.vtk')\n",
    "#fixedMesh  = itk.meshread('fixedMesh.vtk')\n",
    "\n",
    "# number_of_iterations    = 10000\n",
    "# number_of_ransac_points = 250\n",
    "# mesh_sub_sample_points  = 5000\n",
    "# convergence_value       = 6\n",
    "# transform_type          = 0\n",
    "# itk_transformed_mesh = ransac_icp(fixedMesh, movingMesh, number_of_iterations, mesh_sub_sample_points, number_of_ransac_points, transform_type, convergence_value)\n",
    "# itk.meshwrite(itk_transformed_mesh, 'ransacICPResult1.vtk')\n",
    "\n",
    "itk_transformed_mesh = itk.meshread('ransacICPResult1.vtk')\n",
    "number_of_iterations    = 100\n",
    "number_of_ransac_points = 1000\n",
    "mesh_sub_sample_points  = 20000\n",
    "convergence_value       = -1\n",
    "transform_type          = 0\n",
    "itk_transformed_mesh = ransac_icp(fixedMesh, itk_transformed_mesh, number_of_iterations, mesh_sub_sample_points, number_of_ransac_points, transform_type, convergence_value)\n",
    "itk.meshwrite(itk_transformed_mesh, 'ransacICPResult2.vtk')\n",
    "\n",
    "\n",
    "number_of_iterations    = 100\n",
    "number_of_ransac_points = 10000\n",
    "mesh_sub_sample_points  = 20000\n",
    "convergence_value       = -1\n",
    "transform_type          = 1\n",
    "itk_transformed_mesh = ransac_icp(fixedMesh, itk_transformed_mesh, number_of_iterations, mesh_sub_sample_points, number_of_ransac_points, transform_type, convergence_value)\n",
    "itk.meshwrite(itk_transformed_mesh, 'ransacICPResult3.vtk')"
   ]
  },
  {
   "cell_type": "code",
   "execution_count": 70,
   "metadata": {
    "code_folding": []
   },
   "outputs": [
    {
     "name": "stdout",
     "output_type": "stream",
     "text": [
      "21.40290069580078\n"
     ]
    }
   ],
   "source": [
    "# For performing RANSAC in parallel\n",
    "\n",
    "\n",
    "def ransac_icp_parallel(fixedMesh, movingMesh, number_of_iterations, mesh_sub_sample_points, number_of_ransac_points, transform_type, convergance_value):        \n",
    "    all_points1 = itk.array_from_vector_container(movingMesh.GetPoints())\n",
    "    all_points2 = itk.array_from_vector_container(fixedMesh.GetPoints())\n",
    "    \n",
    "    random_indices = np.random.choice(all_points1.shape[0], size=mesh_sub_sample_points)\n",
    "    p1 = all_points1[random_indices, :]\n",
    "\n",
    "    random_indices = np.random.choice(all_points2.shape[0], size=mesh_sub_sample_points)\n",
    "    p2 = all_points2[random_indices, :]\n",
    "    \n",
    "    def process(i, mesh_sub_sample_points, number_of_ransac_points):\n",
    "        mesh_fixed  = itk.Mesh[itk.D, 3].New()\n",
    "        mesh_moving = itk.Mesh[itk.D, 3].New()\n",
    "\n",
    "        mesh_fixed.SetPoints(itk.vector_container_from_array(p1.flatten()))\n",
    "        mesh_moving.SetPoints(itk.vector_container_from_array(p2.flatten()))\n",
    "\n",
    "        ps1 = itk.Mesh[itk.D, 3].New()\n",
    "        ps2 = itk.Mesh[itk.D, 3].New()\n",
    "\n",
    "        np.random.seed(i)\n",
    "        random_indices = np.random.choice(all_points1.shape[0], size=number_of_ransac_points)\n",
    "        p1_a = all_points1[random_indices, :]\n",
    "\n",
    "        random_indices = np.random.choice(all_points2.shape[0], size=number_of_ransac_points)\n",
    "        p2_a = all_points2[random_indices, :]\n",
    "\n",
    "        ps1.SetPoints(itk.vector_container_from_array(p1_a.flatten()))\n",
    "        ps2.SetPoints(itk.vector_container_from_array(p2_a.flatten()))\n",
    "\n",
    "        TransformType = itk.Euler3DTransform[itk.D]\n",
    "        transform = TransformType.New()\n",
    "        transform.SetIdentity()\n",
    "\n",
    "        MetricType = itk.EuclideanDistancePointSetToPointSetMetricv4.PSD3\n",
    "        metric = MetricType.New()\n",
    "        metric.SetMovingPointSet(ps2)\n",
    "        metric.SetFixedPointSet(ps1)\n",
    "        metric.SetMovingTransform(transform)\n",
    "        metric.Initialize()\n",
    "\n",
    "        optimizer = itk.ConjugateGradientLineSearchOptimizerv4Template[itk.D].New()\n",
    "        optimizer.SetNumberOfIterations(10)\n",
    "        optimizer.SetMaximumStepSizeInPhysicalUnits( 0.1 )\n",
    "        optimizer.SetMinimumConvergenceValue( 0.0 )\n",
    "        optimizer.SetConvergenceWindowSize( 10 )\n",
    "        optimizer.SetMetric(metric)\n",
    "        optimizer.StartOptimization()\n",
    "\n",
    "        current_transform    = metric.GetTransform()\n",
    "        itk_transformed_mesh = itk.transform_mesh_filter(mesh_moving, transform=current_transform)\n",
    "\n",
    "        e_metric = itk.EuclideanDistancePointSetToPointSetMetricv4.PSD3.New()\n",
    "        e_metric.SetFixedPointSet(mesh_fixed)\n",
    "        e_metric.SetMovingPointSet(itk_transformed_mesh)\n",
    "        e_metric.Initialize()\n",
    "\n",
    "        current_value = e_metric.GetValue()\n",
    "        current_transform = itk.dict_from_transform(current_transform)\n",
    "        \n",
    "        return current_transform\n",
    "\n",
    "    results = Parallel(n_jobs=12)(delayed(process)(i, mesh_sub_sample_points, number_of_ransac_points) for i in range(number_of_iterations))\n",
    "    \n",
    "    return results\n",
    "    \n",
    "import time\n",
    "\n",
    "number_of_iterations    = 100\n",
    "number_of_ransac_points = 250\n",
    "mesh_sub_sample_points  = 5000\n",
    "\n",
    "movingMesh = itk.meshread('movingMesh.vtk')\n",
    "fixedMesh  = itk.meshread('fixedMesh.vtk')\n",
    "\n",
    "start_time = time.time()\n",
    "itk_transformed_mesh = ransac_icp_parallel(fixedMesh, movingMesh, number_of_iterations, mesh_sub_sample_points, number_of_ransac_points, transform_type, convergence_value)\n",
    "end_time = time.time()\n",
    "\n",
    "print(end_time - start_time)"
   ]
  },
  {
   "cell_type": "code",
   "execution_count": 72,
   "metadata": {
    "scrolled": true
   },
   "outputs": [
    {
     "data": {
      "text/plain": [
       "[{'name': '',\n",
       "  'numberOfTransforms': 1,\n",
       "  'parametersValueType': 'float64',\n",
       "  'inDimension': 3,\n",
       "  'outDimension': 3,\n",
       "  'transformName': 'Euler3DTransform',\n",
       "  'transformType': 'D33',\n",
       "  'parameters': array([-6.16565819e+00,  3.45783228e+01,  8.49472026e+00, -1.74012236e+00,\n",
       "          1.63646362e-02,  2.38774321e-01]),\n",
       "  'fixedParameters': array([0., 0., 0., 0.]),\n",
       "  'numberOfParameters': 6,\n",
       "  'numberOfFixedParameters': 4}]"
      ]
     },
     "execution_count": 72,
     "metadata": {},
     "output_type": "execute_result"
    }
   ],
   "source": [
    "itk_transformed_mesh[0]"
   ]
  },
  {
   "cell_type": "code",
   "execution_count": 26,
   "metadata": {
    "colab": {
     "base_uri": "https://localhost:8080/",
     "height": 717,
     "referenced_widgets": [
      "db007fa8964c4869ad6c08aa6b3016bd",
      "562fc697c5f043c1a03eb27e5a9ff721"
     ]
    },
    "id": "kZGnrGy3sfHP",
    "outputId": "c4e3579f-cd8b-4dd2-d7b6-eef0c226f3b1"
   },
   "outputs": [
    {
     "data": {
      "application/vnd.jupyter.widget-view+json": {
       "model_id": "5681dc38f1184b2485ac04a3aa92da73",
       "version_major": 2,
       "version_minor": 0
      },
      "text/plain": [
       "Viewer(geometries=[{'vtkClass': 'vtkPolyData', 'points': {'vtkClass': 'vtkPoints', 'name': '_points', 'numberO…"
      ]
     },
     "metadata": {},
     "output_type": "display_data"
    }
   ],
   "source": [
    "# Visualize the results after RANSAC ICP\n",
    "\n",
    "from itkwidgets import view\n",
    "\n",
    "m1 = readvtk('fixedMesh.vtk')\n",
    "#m2 = readvtk('movingMesh.vtk')\n",
    "m3 = readvtk('ransacICPResult1.vtk')\n",
    "m4 = readvtk('ransacICPResult2.vtk')\n",
    "#m4 = readvtk('ransacICPResult2.vtk')\n",
    "\n",
    "#m1 = readply('/data/Apedata/apedata/experiment/USNM145303-Cranium_1.ply')\n",
    "#m2 = readply('/data/Apedata/apedata/experiment/USNM252577-Cranium.ply')\n",
    "#m3 = readvtk('/data/Apedata/apedata/experiment/WarpedSourceMesh.vtk')\n",
    "\n",
    "\n",
    "view(geometries=[m1, m3, m4])\n",
    "#view(geometries=[m1, m2])"
   ]
  },
  {
   "cell_type": "code",
   "execution_count": 18,
   "metadata": {},
   "outputs": [
    {
     "name": "stdout",
     "output_type": "stream",
     "text": [
      "2738920\n",
      "2770780\n",
      "2770780\n"
     ]
    }
   ],
   "source": [
    "print(m1.GetNumberOfPoints())\n",
    "print(m2.GetNumberOfPoints())\n",
    "print(m3.GetNumberOfPoints())"
   ]
  },
  {
   "cell_type": "code",
   "execution_count": null,
   "metadata": {
    "colab": {
     "base_uri": "https://localhost:8080/"
    },
    "id": "BAO8Kz3-siCo",
    "outputId": "b7cd6976-059c-438a-b39c-633d789b8db5"
   },
   "outputs": [
    {
     "name": "stdout",
     "output_type": "stream",
     "text": [
      "Number of Points are\n",
      "174080\n",
      "169132\n",
      "Spacing  0.5492416785976726\n",
      "minBounds  [ -4.60925531  -5.97266245 -10.90801525]\n",
      "maxBounds  [ 4.17582703  6.0841074  12.14892864]\n",
      "TSD Metric Created\n",
      "Number of Transform Parameters  1536\n",
      "Registration Object created\n",
      "Initial Value of Metric  0.05759867599583489\n",
      "Metric: 0.057598676\n",
      "Metric: 0.054824045\n",
      "Metric: 0.055370056\n",
      "Metric: 0.052049735\n",
      "Metric: 0.052970761\n",
      "Metric: 0.052641787\n",
      "Metric: 0.052726933\n",
      "Metric: 0.052358663\n",
      "Metric: 0.052344463\n",
      "Metric: 0.052590229\n",
      "Metric: 0.05238953\n",
      "Metric: 0.051574311\n",
      "Metric: 0.051664702\n",
      "Metric: 0.051920169\n",
      "Metric: 0.051139187\n",
      "Metric: 0.051519371\n",
      "Metric: 0.051313542\n",
      "Metric: 0.051417778\n",
      "Metric: 0.051792807\n",
      "Metric: 0.051367178\n",
      "Final Value of TSD Metric  0.0516910964880815\n",
      "Euclidean Metric Before TSD Deformable Registration  0.10260378853917641\n",
      "Euclidean Metric After TSD Deformable Registration  0.08014448911340086\n"
     ]
    }
   ],
   "source": [
    "# TSD registration\n",
    "\n",
    "imageDiagonal   = 50\n",
    "stretchWeight   = 0.0001\n",
    "bendWeight      = 0.0001\n",
    "geometricWeight = 0.0001\n",
    "maxStep         = 1\n",
    "numOfIterations = 20\n",
    "learningRate    = 1\n",
    "\n",
    "movingMesh = itk.meshread('ransacICPResult2.vtk', itk.D)\n",
    "fixedMesh  = itk.meshread('fixedMesh.vtk', itk.D)\n",
    "\n",
    "print('Number of Points are')\n",
    "print(movingMesh.GetNumberOfPoints())\n",
    "print(fixedMesh.GetNumberOfPoints())\n",
    "\n",
    "fixedMesh.BuildCellLinks()\n",
    "movingMesh.BuildCellLinks()\n",
    "\n",
    "PixelType = itk.D\n",
    "Dimension = 3\n",
    "\n",
    "MeshType        = itk.Mesh[itk.D, Dimension]\n",
    "FixedImageType  = itk.Image[PixelType, Dimension]\n",
    "\n",
    "# For getting the Bounding Box\n",
    "ElementIdentifierType = itk.UL\n",
    "CoordType = itk.F\n",
    "Dimension = 3\n",
    "\n",
    "VecContType = itk.VectorContainer[\n",
    "    ElementIdentifierType, itk.Point[CoordType, Dimension]\n",
    "]\n",
    "bounding_box = itk.BoundingBox[ElementIdentifierType, Dimension, CoordType, VecContType].New()\n",
    "bounding_box.SetPoints(movingMesh.GetPoints())\n",
    "bounding_box.ComputeBoundingBox()\n",
    "\n",
    "minBounds = np.array(bounding_box.GetMinimum())\n",
    "maxBounds = np.array(bounding_box.GetMaximum())\n",
    "\n",
    "\n",
    "spacing = np.sqrt(bounding_box.GetDiagonalLength2()) / imageDiagonal\n",
    "diff = maxBounds - minBounds\n",
    "\n",
    "print('Spacing ', spacing)\n",
    "print('minBounds ', minBounds)\n",
    "print('maxBounds ', maxBounds)\n",
    "\n",
    "fixedImageSize    = [0]*3\n",
    "fixedImageSize[0] = math.ceil( 1.2 * diff[0] / spacing )\n",
    "fixedImageSize[1] = math.ceil( 1.2 * diff[1] / spacing )\n",
    "fixedImageSize[2] = math.ceil( 1.2 * diff[2] / spacing )\n",
    "\n",
    "fixedImageOrigin    = [0]*3\n",
    "fixedImageOrigin[0] = minBounds[0] - 0.1 * diff[0]\n",
    "fixedImageOrigin[1] = minBounds[1] - 0.1 * diff[1]\n",
    "fixedImageOrigin[2] = minBounds[2] - 0.1 * diff[2]\n",
    "\n",
    "fixedImageSpacing   = np.ones(3)*spacing\n",
    "fixedImageDirection = np.identity(3)\n",
    "\n",
    "\n",
    "fixedImage = FixedImageType.New()\n",
    "fixedImage.SetRegions(fixedImageSize)\n",
    "fixedImage.SetOrigin( fixedImageOrigin )\n",
    "fixedImage.SetDirection( fixedImageDirection )\n",
    "fixedImage.SetSpacing( fixedImageSpacing )\n",
    "fixedImage.Allocate()\n",
    "\n",
    "\n",
    "# Create BSpline Transformation object and initialize the parameters\n",
    "SplineOrder = 3\n",
    "TransformType  = itk.BSplineTransform[itk.D, Dimension, SplineOrder]\n",
    "InitializerType = itk.BSplineTransformInitializer[TransformType, FixedImageType]\n",
    "\n",
    "transform = TransformType.New()\n",
    "\n",
    "# Higher the grid dimensio, slower the computation but higher will be the accuracy\n",
    "numberOfGridNodesInOneDimension = 8\n",
    "transformInitializer = InitializerType.New()\n",
    "transformInitializer.SetTransform(transform)\n",
    "transformInitializer.SetImage(fixedImage)\n",
    "transformInitializer.SetTransformDomainMeshSize(numberOfGridNodesInOneDimension - SplineOrder)\n",
    "transformInitializer.InitializeTransform()\n",
    "\n",
    "\n",
    "\n",
    "MetricType = itk.ThinShellDemonsMetricv4.MD3\n",
    "metric = MetricType.New()\n",
    "metric.SetStretchWeight(stretchWeight)\n",
    "metric.SetBendWeight(bendWeight)\n",
    "metric.SetGeometricFeatureWeight(geometricWeight)\n",
    "metric.UseConfidenceWeightingOn()\n",
    "metric.UseMaximalDistanceConfidenceSigmaOff()\n",
    "metric.UpdateFeatureMatchingAtEachIterationOn()\n",
    "metric.SetMovingTransform(transform)\n",
    "# Reversed due to using points instead of an image\n",
    "# to keep semantics the same as in itkThinShellDemonsTest.cxx\n",
    "# For the ThinShellDemonsMetricv4 the fixed mesh is regularized\n",
    "metric.SetFixedPointSet(movingMesh)\n",
    "metric.SetMovingPointSet(fixedMesh)\n",
    "metric.SetVirtualDomainFromImage(fixedImage)\n",
    "metric.Initialize()\n",
    "\n",
    "print('TSD Metric Created')\n",
    "\n",
    "\n",
    "optimizer = itk.RegularStepGradientDescentOptimizerv4.D.New()\n",
    "optimizer.SetNumberOfIterations( numOfIterations )\n",
    "optimizer.SetMaximumStepSizeInPhysicalUnits( maxStep )\n",
    "optimizer.SetLearningRate(learningRate)\n",
    "optimizer.SetMinimumConvergenceValue( 0.0 )\n",
    "optimizer.SetConvergenceWindowSize( numOfIterations )\n",
    "\n",
    "def iteration_update():\n",
    "    metric_value = optimizer.GetValue()\n",
    "    current_parameters = optimizer.GetCurrentPosition()\n",
    "    print(f\"Metric: {metric_value:.8g}\")\n",
    "\n",
    "iteration_command = itk.PyCommand.New()\n",
    "iteration_command.SetCommandCallable(iteration_update)\n",
    "optimizer.AddObserver(itk.IterationEvent(), iteration_command)\n",
    "\n",
    "\n",
    "print('Number of Transform Parameters ', transform.GetNumberOfParameters())\n",
    "\n",
    "AffineRegistrationType = itk.ImageRegistrationMethodv4.REGv4D3D3TD3D3MD3.New()\n",
    "registration = AffineRegistrationType.New()\n",
    "registration.SetNumberOfLevels(1)\n",
    "registration.SetObjectName(\"registration\")\n",
    "registration.SetFixedPointSet(movingMesh)\n",
    "registration.SetMovingPointSet(fixedMesh)\n",
    "registration.SetInitialTransform(transform)\n",
    "registration.SetMetric(metric)\n",
    "registration.SetOptimizer(optimizer)\n",
    "registration.InPlaceOn()\n",
    "\n",
    "print('Registration Object created')\n",
    "print('Initial Value of Metric ', metric.GetValue())\n",
    "\n",
    "try:\n",
    "    registration.Update()\n",
    "except e:\n",
    "    print('Error is ', e)\n",
    "\n",
    "print('Final Value of TSD Metric ', metric.GetValue())\n",
    "\n",
    "\n",
    "# Get the Displacement field from the BSpline Transform\n",
    "finalTransform = registration.GetModifiableTransform()\n",
    "convertFilter = itk.TransformToDisplacementFieldFilter.IVF33D.New()\n",
    "convertFilter.SetTransform(finalTransform)\n",
    "convertFilter.UseReferenceImageOn()\n",
    "convertFilter.SetReferenceImage(fixedImage)\n",
    "convertFilter.Update()\n",
    "field = convertFilter.GetOutput()\n",
    "field = np.array(field)\n",
    "np.save('displacement_field.npy', field)\n",
    "\n",
    "e_metric = itk.EuclideanDistancePointSetToPointSetMetricv4.PSD3.New()\n",
    "e_metric.SetFixedPointSet(fixedMesh)\n",
    "e_metric.SetMovingPointSet(movingMesh)\n",
    "print('Euclidean Metric Before TSD Deformable Registration ', e_metric.GetValue())\n",
    "\n",
    "numberOfPoints = movingMesh.GetNumberOfPoints()\n",
    "for n in range(0, numberOfPoints):\n",
    "    movingMesh.SetPoint(n, finalTransform.TransformPoint(movingMesh.GetPoint(n)))\n",
    "\n",
    "e_metric = itk.EuclideanDistancePointSetToPointSetMetricv4.PSD3.New()\n",
    "e_metric.SetFixedPointSet(fixedMesh)\n",
    "e_metric.SetMovingPointSet(movingMesh)\n",
    "print('Euclidean Metric After TSD Deformable Registration ', e_metric.GetValue())\n",
    "\n",
    "itk.meshwrite(movingMesh, 'result_bspline.vtk')"
   ]
  },
  {
   "cell_type": "code",
   "execution_count": null,
   "metadata": {
    "colab": {
     "base_uri": "https://localhost:8080/",
     "height": 717,
     "referenced_widgets": [
      "bccc95ba69df467d9c9ffc80cc1ec239",
      "e06d9cfe79da41d4994610976f5c6ae7"
     ]
    },
    "id": "Z_tumTEKsmDY",
    "outputId": "74cc6a4f-24a4-4cbf-c273-dcd478ea970a"
   },
   "outputs": [
    {
     "data": {
      "application/vnd.jupyter.widget-view+json": {
       "model_id": "bccc95ba69df467d9c9ffc80cc1ec239",
       "version_major": 2,
       "version_minor": 0
      },
      "text/plain": [
       "Viewer(geometries=[{'vtkClass': 'vtkPolyData', 'points': {'vtkClass': 'vtkPoints', 'name': '_points', 'numberO…"
      ]
     },
     "metadata": {
      "application/vnd.jupyter.widget-view+json": {
       "colab": {
        "custom_widget_manager": {
         "url": "https://ssl.gstatic.com/colaboratory-static/widgets/colab-cdn-widget-manager/a8874ba6619b6106/manager.min.js"
        }
       }
      }
     },
     "output_type": "display_data"
    }
   ],
   "source": [
    "# Visualize the fixed mesh, moving mesh and the registered mesh\n",
    "\n",
    "a = vtk.vtkPolyDataReader()\n",
    "a.SetFileName('ransacICPResult2.vtk')\n",
    "a.Update()\n",
    "m1 = a.GetOutput()\n",
    "\n",
    "a = vtk.vtkPolyDataReader()\n",
    "a.SetFileName('result_bspline.vtk')\n",
    "a.Update()\n",
    "m2 = a.GetOutput()\n",
    "\n",
    "a = vtk.vtkPolyDataReader()\n",
    "a.SetFileName('fixedMesh.vtk')\n",
    "a.Update()\n",
    "m3 = a.GetOutput()\n",
    "\n",
    "itkwidgets.view(geometries=[m1, m2, m3])"
   ]
  },
  {
   "cell_type": "code",
   "execution_count": null,
   "metadata": {
    "colab": {
     "base_uri": "https://localhost:8080/",
     "height": 282
    },
    "id": "4G9RMlpMsnul",
    "outputId": "5ae3efb9-6e2a-4903-c232-f35ae2ad28d9"
   },
   "outputs": [
    {
     "data": {
      "text/plain": [
       "<matplotlib.image.AxesImage at 0x7fd5d3ff8fd0>"
      ]
     },
     "execution_count": 10,
     "metadata": {},
     "output_type": "execute_result"
    },
    {
     "data": {
      "image/png": "[encoded data removed]",
      "text/plain": [
       "<Figure size 432x288 with 1 Axes>"
      ]
     },
     "metadata": {
      "needs_background": "light"
     },
     "output_type": "display_data"
    }
   ],
   "source": [
    "# Visualized the Displacement Field obtained from BSpline Transform\n",
    "\n",
    "import matplotlib.pyplot as plt\n",
    "plt.imshow(field[15, :, :, 0], cmap='gray')"
   ]
  }
 ],
 "metadata": {
  "colab": {
   "collapsed_sections": [],
   "name": "TSD-Demo.ipynb",
   "provenance": []
  },
  "kernelspec": {
   "display_name": "Python 3 (ipykernel)",
   "language": "python",
   "name": "python3"
  },
  "language_info": {
   "codemirror_mode": {
    "name": "ipython",
    "version": 3
   },
   "file_extension": ".py",
   "mimetype": "text/x-python",
   "name": "python",
   "nbconvert_exporter": "python",
   "pygments_lexer": "ipython3",
   "version": "3.8.12"
  },
  "widgets": {
   "application/vnd.jupyter.widget-state+json": {
    "562fc697c5f043c1a03eb27e5a9ff721": {
     "model_module": "@jupyter-widgets/base",
     "model_module_version": "1.2.0",
     "model_name": "LayoutModel",
     "state": {
      "_model_module": "@jupyter-widgets/base",
      "_model_module_version": "1.2.0",
      "_model_name": "LayoutModel",
      "_view_count": null,
      "_view_module": "@jupyter-widgets/base",
      "_view_module_version": "1.2.0",
      "_view_name": "LayoutView",
      "align_content": null,
      "align_items": null,
      "align_self": null,
      "border": null,
      "bottom": null,
      "display": null,
      "flex": null,
      "flex_flow": null,
      "grid_area": null,
      "grid_auto_columns": null,
      "grid_auto_flow": null,
      "grid_auto_rows": null,
      "grid_column": null,
      "grid_gap": null,
      "grid_row": null,
      "grid_template_areas": null,
      "grid_template_columns": null,
      "grid_template_rows": null,
      "height": null,
      "justify_content": null,
      "justify_items": null,
      "left": null,
      "margin": null,
      "max_height": null,
      "max_width": null,
      "min_height": null,
      "min_width": null,
      "object_fit": null,
      "object_position": null,
      "order": null,
      "overflow": null,
      "overflow_x": null,
      "overflow_y": null,
      "padding": null,
      "right": null,
      "top": null,
      "visibility": null,
      "width": null
     }
    },
    "bccc95ba69df467d9c9ffc80cc1ec239": {
     "model_module": "itkwidgets",
     "model_module_version": "^0.32.1",
     "model_name": "ViewerModel",
     "state": {
      "_custom_cmap": null,
      "_dom_classes": [],
      "_downsampling": false,
      "_largest_roi": {
       "dtype": "float64",
       "shape": [
        2,
        3
       ]
      },
      "_model_module": "itkwidgets",
      "_model_module_version": "^0.32.1",
      "_model_name": "ViewerModel",
      "_rendering_image": false,
      "_reset_crop_requested": false,
      "_scale_factors": {
       "dtype": "uint8",
       "shape": [
        3
       ]
      },
      "_view_count": null,
      "_view_module": "itkwidgets",
      "_view_module_version": "^0.32.1",
      "_view_name": "ViewerView",
      "annotations": true,
      "axes": false,
      "background": [
       1,
       1,
       1
      ],
      "blend_mode": "composite",
      "camera": {
       "dtype": "float32",
       "shape": [
        3,
        3
       ]
      },
      "channels": null,
      "clicked_slice_point": null,
      "cmap": null,
      "geometries": [
       {
        "metadata": {
         "name": "Geometry 0"
        },
        "points": {
         "dataType": "Float32Array",
         "name": "_points",
         "numberOfComponents": 3,
         "size": 522240,
         "vtkClass": "vtkPoints"
        },
        "polys": {
         "dataType": "Uint32Array",
         "name": "_polys",
         "numberOfComponents": 1,
         "size": 1394656,
         "vtkClass": "vtkCellArray"
        },
        "vtkClass": "vtkPolyData"
       },
       {
        "metadata": {
         "name": "Geometry 1"
        },
        "points": {
         "dataType": "Float32Array",
         "name": "_points",
         "numberOfComponents": 3,
         "size": 522240,
         "vtkClass": "vtkPoints"
        },
        "polys": {
         "dataType": "Uint32Array",
         "name": "_polys",
         "numberOfComponents": 1,
         "size": 1394656,
         "vtkClass": "vtkCellArray"
        },
        "vtkClass": "vtkPolyData"
       },
       {
        "metadata": {
         "name": "Geometry 2"
        },
        "points": {
         "dataType": "Float32Array",
         "name": "_points",
         "numberOfComponents": 3,
         "size": 507396,
         "vtkClass": "vtkPoints"
        },
        "polys": {
         "dataType": "Uint32Array",
         "name": "_polys",
         "numberOfComponents": 1,
         "size": 1354080,
         "vtkClass": "vtkCellArray"
        },
        "vtkClass": "vtkPolyData"
       }
      ],
      "geometry_colors": {
       "dtype": "float32",
       "shape": [
        3,
        3
       ]
      },
      "geometry_opacities": {
       "dtype": "float32",
       "shape": [
        3
       ]
      },
      "gradient_opacity": 0.22,
      "interpolation": true,
      "label_image_blend": 0.5,
      "label_image_names": null,
      "label_image_weights": null,
      "layout": "IPY_MODEL_e06d9cfe79da41d4994610976f5c6ae7",
      "lut": "glasbey",
      "mode": "v",
      "opacity_gaussians": null,
      "point_set_colors": {
       "dtype": "float32",
       "shape": [
        0,
        3
       ]
      },
      "point_set_opacities": {
       "dtype": "float32",
       "shape": [
        0
       ]
      },
      "point_set_representations": [],
      "point_set_sizes": {
       "dtype": "uint8",
       "shape": [
        0
       ]
      },
      "point_sets": [],
      "rendered_image": null,
      "rendered_label_image": null,
      "roi": {
       "dtype": "float64",
       "shape": [
        2,
        3
       ]
      },
      "rotate": false,
      "sample_distance": 0.25,
      "select_roi": false,
      "shadow": true,
      "slicing_planes": false,
      "ui_collapsed": false,
      "units": "",
      "vmax": null,
      "vmin": null,
      "x_slice": null,
      "y_slice": null,
      "z_slice": null
     }
    },
    "db007fa8964c4869ad6c08aa6b3016bd": {
     "model_module": "itkwidgets",
     "model_module_version": "^0.32.1",
     "model_name": "ViewerModel",
     "state": {
      "_custom_cmap": null,
      "_dom_classes": [],
      "_downsampling": false,
      "_largest_roi": {
       "dtype": "float64",
       "shape": [
        2,
        3
       ]
      },
      "_model_module": "itkwidgets",
      "_model_module_version": "^0.32.1",
      "_model_name": "ViewerModel",
      "_rendering_image": false,
      "_reset_crop_requested": false,
      "_scale_factors": {
       "dtype": "uint8",
       "shape": [
        3
       ]
      },
      "_view_count": null,
      "_view_module": "itkwidgets",
      "_view_module_version": "^0.32.1",
      "_view_name": "ViewerView",
      "annotations": true,
      "axes": false,
      "background": [
       1,
       1,
       1
      ],
      "blend_mode": "composite",
      "camera": {
       "dtype": "float32",
       "shape": [
        3,
        3
       ]
      },
      "channels": null,
      "clicked_slice_point": null,
      "cmap": null,
      "geometries": [
       {
        "metadata": {
         "name": "Geometry 0"
        },
        "points": {
         "dataType": "Float32Array",
         "name": "_points",
         "numberOfComponents": 3,
         "size": 507396,
         "vtkClass": "vtkPoints"
        },
        "polys": {
         "dataType": "Uint32Array",
         "name": "_polys",
         "numberOfComponents": 1,
         "size": 1354080,
         "vtkClass": "vtkCellArray"
        },
        "vtkClass": "vtkPolyData"
       },
       {
        "metadata": {
         "name": "Geometry 1"
        },
        "points": {
         "dataType": "Float32Array",
         "name": "_points",
         "numberOfComponents": 3,
         "size": 522240,
         "vtkClass": "vtkPoints"
        },
        "polys": {
         "dataType": "Uint32Array",
         "name": "_polys",
         "numberOfComponents": 1,
         "size": 1394656,
         "vtkClass": "vtkCellArray"
        },
        "vtkClass": "vtkPolyData"
       },
       {
        "metadata": {
         "name": "Geometry 2"
        },
        "points": {
         "dataType": "Float32Array",
         "name": "_points",
         "numberOfComponents": 3,
         "size": 522240,
         "vtkClass": "vtkPoints"
        },
        "polys": {
         "dataType": "Uint32Array",
         "name": "_polys",
         "numberOfComponents": 1,
         "size": 1394656,
         "vtkClass": "vtkCellArray"
        },
        "vtkClass": "vtkPolyData"
       },
       {
        "metadata": {
         "name": "Geometry 3"
        },
        "points": {
         "dataType": "Float32Array",
         "name": "_points",
         "numberOfComponents": 3,
         "size": 522240,
         "vtkClass": "vtkPoints"
        },
        "polys": {
         "dataType": "Uint32Array",
         "name": "_polys",
         "numberOfComponents": 1,
         "size": 1394656,
         "vtkClass": "vtkCellArray"
        },
        "vtkClass": "vtkPolyData"
       }
      ],
      "geometry_colors": {
       "dtype": "float32",
       "shape": [
        4,
        3
       ]
      },
      "geometry_opacities": {
       "dtype": "float32",
       "shape": [
        4
       ]
      },
      "gradient_opacity": 0.22,
      "interpolation": true,
      "label_image_blend": 0.5,
      "label_image_names": null,
      "label_image_weights": null,
      "layout": "IPY_MODEL_562fc697c5f043c1a03eb27e5a9ff721",
      "lut": "glasbey",
      "mode": "v",
      "opacity_gaussians": null,
      "point_set_colors": {
       "dtype": "float32",
       "shape": [
        0,
        3
       ]
      },
      "point_set_opacities": {
       "dtype": "float32",
       "shape": [
        0
       ]
      },
      "point_set_representations": [],
      "point_set_sizes": {
       "dtype": "uint8",
       "shape": [
        0
       ]
      },
      "point_sets": [],
      "rendered_image": null,
      "rendered_label_image": null,
      "roi": {
       "dtype": "float64",
       "shape": [
        2,
        3
       ]
      },
      "rotate": false,
      "sample_distance": 0.25,
      "select_roi": false,
      "shadow": true,
      "slicing_planes": false,
      "ui_collapsed": false,
      "units": "",
      "vmax": null,
      "vmin": null,
      "x_slice": null,
      "y_slice": null,
      "z_slice": null
     }
    },
    "e06d9cfe79da41d4994610976f5c6ae7": {
     "model_module": "@jupyter-widgets/base",
     "model_module_version": "1.2.0",
     "model_name": "LayoutModel",
     "state": {
      "_model_module": "@jupyter-widgets/base",
      "_model_module_version": "1.2.0",
      "_model_name": "LayoutModel",
      "_view_count": null,
      "_view_module": "@jupyter-widgets/base",
      "_view_module_version": "1.2.0",
      "_view_name": "LayoutView",
      "align_content": null,
      "align_items": null,
      "align_self": null,
      "border": null,
      "bottom": null,
      "display": null,
      "flex": null,
      "flex_flow": null,
      "grid_area": null,
      "grid_auto_columns": null,
      "grid_auto_flow": null,
      "grid_auto_rows": null,
      "grid_column": null,
      "grid_gap": null,
      "grid_row": null,
      "grid_template_areas": null,
      "grid_template_columns": null,
      "grid_template_rows": null,
      "height": null,
      "justify_content": null,
      "justify_items": null,
      "left": null,
      "margin": null,
      "max_height": null,
      "max_width": null,
      "min_height": null,
      "min_width": null,
      "object_fit": null,
      "object_position": null,
      "order": null,
      "overflow": null,
      "overflow_x": null,
      "overflow_y": null,
      "padding": null,
      "right": null,
      "top": null,
      "visibility": null,
      "width": null
     }
    }
   }
  }
 },
 "nbformat": 4,
 "nbformat_minor": 1
}
