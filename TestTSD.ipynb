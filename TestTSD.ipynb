{
 "cells": [
  {
   "cell_type": "code",
   "execution_count": 1,
   "id": "3b8ea7a1",
   "metadata": {},
   "outputs": [],
   "source": [
    "import itk\n",
    "from itk import ThinShellDemonsMetricv4 as tsd\n",
    "from itk import ConjugateGradientLineSearchOptimizerv4Template as itkc\n",
    "\n",
    "import numpy as np\n",
    "import math\n",
    "import itkwidgets\n",
    "from itkwidgets import view"
   ]
  },
  {
   "cell_type": "code",
   "execution_count": 2,
   "id": "de464c1b",
   "metadata": {
    "code_folding": [
     0
    ],
    "scrolled": true
   },
   "outputs": [
    {
     "name": "stdout",
     "output_type": "stream",
     "text": [
      "Transform Created\n",
      "AffineTransform (0x55d3d588b0e0)\n",
      "  RTTI typeinfo:   itk::AffineTransform<double, 3u>\n",
      "  Reference Count: 1\n",
      "  Modified Time: 10306\n",
      "  Debug: Off\n",
      "  Object Name: \n",
      "  Observers: \n",
      "    none\n",
      "  Matrix: \n",
      "    1 0 0 \n",
      "    0 1 0 \n",
      "    0 0 1 \n",
      "  Offset: [0, 0, 0]\n",
      "  Center: [-3.68575, 637.172, 463.569]\n",
      "  Translation: [0, 0, 0]\n",
      "  Inverse: \n",
      "    1 0 0 \n",
      "    0 1 0 \n",
      "    0 0 1 \n",
      "  Singular: 0\n",
      "\n",
      "TSD Metric Created\n",
      "Optimizer created\n",
      "Registration Object created\n",
      "Initial Value of Metric  9.303174789139529\n",
      "Metric: 9.3031748\n",
      "Metric: 8.4354592\n",
      "Metric: 7.8122719\n",
      "Metric: 7.5588837\n",
      "Metric: 7.5430234\n",
      "Metric: 7.4710142\n",
      "Metric: 7.4233074\n",
      "Metric: 7.4129552\n",
      "Metric: 7.408688\n",
      "Metric: 7.3804732\n",
      "Metric: 7.3775668\n",
      "Metric: 7.3540113\n",
      "Metric: 7.2890243\n",
      "Metric: 7.2563025\n",
      "Metric: 7.2430692\n",
      "Metric: 7.1849164\n",
      "Metric: 7.1357237\n",
      "Metric: 7.1087634\n",
      "Metric: 7.1087659\n",
      "Metric: 7.1087637\n",
      "Metric: 7.1087639\n",
      "Metric: 7.1087633\n",
      "Metric: 7.1087633\n",
      "Metric: 7.108762\n",
      "Metric: 7.108989\n",
      "Metric: 7.10899\n",
      "Final Value of Metric  7.11070797955915\n"
     ]
    }
   ],
   "source": [
    "# For TSD Registration\n",
    "\n",
    "basepath = '/media/pranjal.sahu/moredata/ITK/Modules/External/ITKThinShellDemons/test/Baseline/'\n",
    "fixedMesh = itk.meshread(basepath + 'fixedMesh.vtk', itk.D)\n",
    "movingMesh = itk.meshread(basepath + 'movingMesh.vtk', itk.D)\n",
    "\n",
    "fixedMesh.BuildCellLinks()\n",
    "movingMesh.BuildCellLinks()\n",
    "\n",
    "PixelType = itk.D\n",
    "Dimension = 3\n",
    "\n",
    "MeshType = itk.Mesh[itk.D, Dimension]\n",
    "FixedImageType = itk.Image[PixelType, Dimension]\n",
    "MovingImageType = itk.Image[PixelType, Dimension]\n",
    "\n",
    "\n",
    "# For getting the Bounding Box\n",
    "ElementIdentifierType = itk.UL\n",
    "CoordType = itk.F\n",
    "Dimension = 3\n",
    "\n",
    "VecContType = itk.VectorContainer[\n",
    "    ElementIdentifierType, itk.Point[CoordType, Dimension]\n",
    "]\n",
    "bounding_box = itk.BoundingBox[ElementIdentifierType, Dimension, CoordType, VecContType].New()\n",
    "bounding_box.SetPoints(movingMesh.GetPoints())\n",
    "bounding_box.ComputeBoundingBox()\n",
    "\n",
    "minBounds = np.array(bounding_box.GetMinimum())\n",
    "maxBounds = np.array(bounding_box.GetMaximum())\n",
    "\n",
    "imageDiagonal = 5\n",
    "spacing = np.sqrt(bounding_box.GetDiagonalLength2()) / imageDiagonal\n",
    "diff = maxBounds - minBounds\n",
    "\n",
    "fixedImageSize = [0]*3\n",
    "fixedImageSize[0] = math.ceil( 1.2 * diff[0] / spacing )\n",
    "fixedImageSize[1] = math.ceil( 1.2 * diff[1] / spacing )\n",
    "fixedImageSize[2] = math.ceil( 1.2 * diff[2] / spacing )\n",
    "\n",
    "fixedImageOrigin = [0]*3\n",
    "fixedImageOrigin[0] = minBounds[0] - 0.1 * diff[0]\n",
    "fixedImageOrigin[1] = minBounds[1] - 0.1 * diff[1]\n",
    "fixedImageOrigin[2] = minBounds[2] - 0.1 * diff[2]\n",
    "\n",
    "fixedImageSpacing = np.ones(3)*spacing\n",
    "fixedImageDirection = np.identity(3)\n",
    "\n",
    "\n",
    "fixedImage = FixedImageType.New()\n",
    "fixedImage.SetRegions(fixedImageSize)\n",
    "fixedImage.SetOrigin( fixedImageOrigin )\n",
    "fixedImage.SetDirection( fixedImageDirection )\n",
    "fixedImage.SetSpacing( fixedImageSpacing )\n",
    "fixedImage.Allocate()\n",
    "\n",
    "\n",
    "# Affine Transform Object\n",
    "TransformType = itk.AffineTransform.D3\n",
    "transform = TransformType.New()\n",
    "transform.SetIdentity()\n",
    "transform.SetCenter(minBounds + (maxBounds - minBounds)/2)\n",
    "\n",
    "print('Transform Created')\n",
    "print(transform)\n",
    "\n",
    "\n",
    "MetricType = tsd.MD3\n",
    "metric = MetricType.New()\n",
    "metric.SetStretchWeight(1)\n",
    "metric.SetBendWeight(5)\n",
    "metric.SetGeometricFeatureWeight(10)\n",
    "metric.UseConfidenceWeightingOn()\n",
    "metric.UseMaximalDistanceConfidenceSigmaOn()\n",
    "metric.UpdateFeatureMatchingAtEachIterationOff()\n",
    "metric.SetMovingTransform(transform)\n",
    "# Reversed due to using points instead of an image\n",
    "# to keep semantics the same as in itkThinShellDemonsTest.cxx\n",
    "# For the ThinShellDemonsMetricv4 the fixed mesh is regularized\n",
    "metric.SetFixedPointSet(movingMesh)\n",
    "metric.SetMovingPointSet(fixedMesh)\n",
    "metric.SetVirtualDomainFromImage(fixedImage)\n",
    "metric.Initialize()\n",
    "\n",
    "print('TSD Metric Created')\n",
    "\n",
    "shiftScaleEstimator = itk.RegistrationParameterScalesFromPhysicalShift[MetricType].New()\n",
    "shiftScaleEstimator.SetMetric(metric)\n",
    "shiftScaleEstimator.SetVirtualDomainPointSet(metric.GetVirtualTransformedPointSet())\n",
    "\n",
    "\n",
    "optimizer = itkc.D.New()\n",
    "optimizer.SetNumberOfIterations( 50 )\n",
    "optimizer.SetScalesEstimator( shiftScaleEstimator )\n",
    "optimizer.SetMaximumStepSizeInPhysicalUnits( 0.5 )\n",
    "optimizer.SetMinimumConvergenceValue( 0.0 )\n",
    "optimizer.SetConvergenceWindowSize( 10 )\n",
    "\n",
    "def iteration_update():\n",
    "    metric_value = optimizer.GetValue()\n",
    "    current_parameters = optimizer.GetCurrentPosition()\n",
    "    print(f\"Metric: {metric_value:.8g}\")\n",
    "\n",
    "iteration_command = itk.PyCommand.New()\n",
    "iteration_command.SetCommandCallable(iteration_update)\n",
    "optimizer.AddObserver(itk.IterationEvent(), iteration_command)\n",
    "\n",
    "print('Optimizer created')\n",
    "\n",
    "\n",
    "AffineRegistrationType = itk.ImageRegistrationMethodv4.REGv4D3D3TD3D3MD3.New()\n",
    "registration = AffineRegistrationType.New()\n",
    "registration.SetNumberOfLevels(1)\n",
    "registration.SetObjectName(\"registration\")\n",
    "registration.SetFixedPointSet(movingMesh)\n",
    "registration.SetMovingPointSet(fixedMesh)\n",
    "registration.SetInitialTransform(transform)\n",
    "registration.SetMetric(metric)\n",
    "registration.SetOptimizer(optimizer)\n",
    "\n",
    "print('Registration Object created')\n",
    "print('Initial Value of Metric ', metric.GetValue())\n",
    "\n",
    "try:\n",
    "    registration.Update()\n",
    "except e:\n",
    "    print('Error is ', e)\n",
    "\n",
    "print('Final Value of Metric ', metric.GetValue())\n",
    "\n",
    "finalTransform = registration.GetModifiableTransform()\n",
    "numberOfPoints = movingMesh.GetNumberOfPoints()\n",
    "for n in range(0, numberOfPoints):\n",
    "    movingMesh.SetPoint(n, finalTransform.TransformPoint(movingMesh.GetPoint(n)))"
   ]
  },
  {
   "cell_type": "code",
   "execution_count": 3,
   "id": "9d4ff2ed",
   "metadata": {},
   "outputs": [],
   "source": [
    "itk.meshwrite(movingMesh, \"affineMovingMesh.vtk\")"
   ]
  },
  {
   "cell_type": "code",
   "execution_count": 1,
   "id": "ad868729",
   "metadata": {},
   "outputs": [
    {
     "ename": "NameError",
     "evalue": "name 'itk' is not defined",
     "output_type": "error",
     "traceback": [
      "\u001b[0;31m---------------------------------------------------------------------------\u001b[0m",
      "\u001b[0;31mNameError\u001b[0m                                 Traceback (most recent call last)",
      "\u001b[0;32m<ipython-input-1-2fb615820319>\u001b[0m in \u001b[0;36m<module>\u001b[0;34m\u001b[0m\n\u001b[0;32m----> 1\u001b[0;31m \u001b[0mmoving_mesh\u001b[0m \u001b[0;34m=\u001b[0m \u001b[0mitk\u001b[0m\u001b[0;34m.\u001b[0m\u001b[0mmeshread\u001b[0m\u001b[0;34m(\u001b[0m\u001b[0;34m'/media/pranjal.sahu/moredata/ITKPR30/ITK/ITK-build/Wrapping/Generators/Python/movingMesh_transformed.vtk'\u001b[0m\u001b[0;34m)\u001b[0m\u001b[0;34m\u001b[0m\u001b[0;34m\u001b[0m\u001b[0m\n\u001b[0m",
      "\u001b[0;31mNameError\u001b[0m: name 'itk' is not defined"
     ]
    }
   ],
   "source": [
    "moving_mesh = itk.meshread('/media/pranjal.sahu/moredata/ITKPR30/ITK/ITK-build/Wrapping/Generators/Python/movingMesh_transformed.vtk')"
   ]
  },
  {
   "cell_type": "code",
   "execution_count": 11,
   "id": "d2b46dfc",
   "metadata": {
    "code_folding": [
     0
    ],
    "scrolled": true
   },
   "outputs": [
    {
     "name": "stdout",
     "output_type": "stream",
     "text": [
      "169954\n",
      "174916\n"
     ]
    }
   ],
   "source": [
    "# For converting from PLY to VTK\n",
    "\n",
    "import vtk\n",
    "\n",
    "reader = vtk.vtkPLYReader()\n",
    "reader.SetFileName('/home/pranjal.sahu/Downloads/129X1_SVJ_.ply')\n",
    "reader.Update()\n",
    "polydata1 = reader.GetOutput()\n",
    "\n",
    "reader1 = vtk.vtkPLYReader()\n",
    "reader1.SetFileName('/home/pranjal.sahu/Downloads/129S1_SVIMJ_.ply')\n",
    "reader1.Update()\n",
    "polydata2 = reader1.GetOutput()\n",
    "\n",
    "print(polydata1.GetNumberOfPoints())\n",
    "print(polydata2.GetNumberOfPoints())\n",
    "\n",
    "\n",
    "writer = vtk.vtkPolyDataWriter()\n",
    "writer.SetFileName(\"/home/pranjal.sahu/Downloads/129X1_SVJ_.vtk\")\n",
    "writer.SetFileVersion(42)\n",
    "writer.SetInputData(polydata1)\n",
    "writer.Update()\n",
    "\n",
    "writer = vtk.vtkPolyDataWriter()\n",
    "writer.SetFileName(\"/home/pranjal.sahu/Downloads/129S1_SVIMJ_.vtk\")\n",
    "writer.SetFileVersion(42)\n",
    "writer.SetInputData(polydata2)\n",
    "writer.Update()"
   ]
  },
  {
   "cell_type": "code",
   "execution_count": 16,
   "id": "c495a4d7",
   "metadata": {},
   "outputs": [],
   "source": [
    "import vtk\n",
    "\n",
    "reader = vtk.vtkPolyDataReader()\n",
    "reader.SetFileName('/media/pranjal.sahu/moredata/ITKPR30/ITK/ITK-build/Wrapping/Generators/Python/movingMesh_transformed.vtk')\n",
    "reader.Update()\n",
    "polydata1 = reader.GetOutput()\n",
    "\n",
    "reader = vtk.vtkPolyDataReader()\n",
    "reader.SetFileName('/home/pranjal.sahu/Downloads/129X1_SVJ_.vtk')\n",
    "reader.Update()\n",
    "polydata2 = reader.GetOutput()\n",
    "\n",
    "reader = vtk.vtkPolyDataReader()\n",
    "reader.SetFileName('/home/pranjal.sahu/Downloads/129S1_SVIMJ_.vtk')\n",
    "reader.Update()\n",
    "polydata3 = reader.GetOutput()"
   ]
  },
  {
   "cell_type": "code",
   "execution_count": 17,
   "id": "2a489eff",
   "metadata": {},
   "outputs": [
    {
     "data": {
      "application/vnd.jupyter.widget-view+json": {
       "model_id": "d458d41e7f2e4a85a5a47e1473894ae3",
       "version_major": 2,
       "version_minor": 0
      },
      "text/plain": [
       "Viewer(geometries=[{'vtkClass': 'vtkPolyData', 'points': {'vtkClass': 'vtkPoints', 'name': '_points', 'numberO…"
      ]
     },
     "metadata": {},
     "output_type": "display_data"
    }
   ],
   "source": [
    "import itkwidgets\n",
    "from itkwidgets import view\n",
    "\n",
    "#view(geometries=[polydata1, polydata2, polydata3])\n",
    "view(geometries=[polydata1,  polydata3])\n",
    "#view(geometries=[polydata])"
   ]
  },
  {
   "cell_type": "code",
   "execution_count": 8,
   "id": "112fba08",
   "metadata": {},
   "outputs": [
    {
     "name": "stdout",
     "output_type": "stream",
     "text": [
      "169954 174916\n",
      "169954 174916\n"
     ]
    }
   ],
   "source": [
    "# For ICP registration\n",
    "\n",
    "Dimension = 3\n",
    "\n",
    "PointSetType = itk.PointSet[itk.F, Dimension]\n",
    "\n",
    "fixedMesh = itk.meshread('/home/pranjal.sahu/Downloads/129X1_SVJ_.vtk')\n",
    "movingMesh = itk.meshread('/home/pranjal.sahu/Downloads/129S1_SVIMJ_.vtk')\n",
    "\n",
    "fixedPS = PointSetType.New()\n",
    "movingPS = PointSetType.New()\n",
    "\n",
    "fixedPS.SetPoints(fixedMesh.GetPoints())\n",
    "movingPS.SetPoints(movingMesh.GetPoints())\n",
    "\n",
    "print(fixedMesh.GetNumberOfPoints(), movingMesh.GetNumberOfPoints())\n",
    "print(fixedPS.GetNumberOfPoints(), movingPS.GetNumberOfPoints())"
   ]
  },
  {
   "cell_type": "code",
   "execution_count": 35,
   "id": "bf3ad617",
   "metadata": {
    "scrolled": true
   },
   "outputs": [],
   "source": [
    "OptimizerType    = itk.LevenbergMarquardtOptimizer\n",
    "MetricType       = itk.EuclideanDistancePointSetToPointSetMetricv4[type(fixedPS)]\n",
    "#MetricType       = itk.EuclideanDistanceMetricv[type(fixedPS)]\n",
    "TransformType    = itk.Rigid3DTransform[itk.D]\n",
    "RegistrationType = itk.PointSetToPointSetRegistrationMethod[PointSetType, PointSetType]\n",
    "\n",
    "#print(MetricType)"
   ]
  },
  {
   "cell_type": "code",
   "execution_count": 23,
   "id": "dda42f44",
   "metadata": {},
   "outputs": [],
   "source": [
    "metric       = MetricType.New()\n",
    "transform    = TransformType.New()\n",
    "optimizer    = OptimizerType.New()\n",
    "registration = RegistrationType.New()"
   ]
  },
  {
   "cell_type": "code",
   "execution_count": 24,
   "id": "5b9f5064",
   "metadata": {},
   "outputs": [],
   "source": [
    "numberOfIterations = 100\n",
    "gradientTolerance  = 1e-5\n",
    "valueTolerance     = 1e-5   \n",
    "epsilonFunction    = 1e-6\n",
    "\n",
    "#optimizer.SetScales(scales)\n",
    "optimizer.SetNumberOfIterations(numberOfIterations)\n",
    "optimizer.SetValueTolerance(valueTolerance)\n",
    "optimizer.SetGradientTolerance(gradientTolerance)\n",
    "optimizer.SetEpsilonFunction(epsilonFunction)"
   ]
  },
  {
   "cell_type": "code",
   "execution_count": 31,
   "id": "6592a0a5",
   "metadata": {},
   "outputs": [
    {
     "ename": "TypeError",
     "evalue": "in method 'itkObjectToObjectMetric33_SetMovingTransform', argument 2 of type 'itkTransformD33 *'",
     "output_type": "error",
     "traceback": [
      "\u001b[0;31m---------------------------------------------------------------------------\u001b[0m",
      "\u001b[0;31mTypeError\u001b[0m                                 Traceback (most recent call last)",
      "\u001b[0;32m/tmp/ipykernel_1077548/1734760750.py\u001b[0m in \u001b[0;36m<module>\u001b[0;34m\u001b[0m\n\u001b[1;32m      1\u001b[0m \u001b[0mmetric\u001b[0m\u001b[0;34m.\u001b[0m\u001b[0mSetFixedPointSet\u001b[0m\u001b[0;34m(\u001b[0m\u001b[0mfixedPS\u001b[0m\u001b[0;34m)\u001b[0m\u001b[0;34m\u001b[0m\u001b[0;34m\u001b[0m\u001b[0m\n\u001b[1;32m      2\u001b[0m \u001b[0mmetric\u001b[0m\u001b[0;34m.\u001b[0m\u001b[0mSetMovingPointSet\u001b[0m\u001b[0;34m(\u001b[0m\u001b[0mmovingPS\u001b[0m\u001b[0;34m)\u001b[0m\u001b[0;34m\u001b[0m\u001b[0;34m\u001b[0m\u001b[0m\n\u001b[0;32m----> 3\u001b[0;31m \u001b[0mmetric\u001b[0m\u001b[0;34m.\u001b[0m\u001b[0mSetMovingTransform\u001b[0m\u001b[0;34m(\u001b[0m\u001b[0mTransformType\u001b[0m\u001b[0;34m)\u001b[0m\u001b[0;34m\u001b[0m\u001b[0;34m\u001b[0m\u001b[0m\n\u001b[0m\u001b[1;32m      4\u001b[0m \u001b[0mmetric\u001b[0m\u001b[0;34m.\u001b[0m\u001b[0mInitialize\u001b[0m\u001b[0;34m(\u001b[0m\u001b[0;34m)\u001b[0m\u001b[0;34m\u001b[0m\u001b[0;34m\u001b[0m\u001b[0m\n",
      "\u001b[0;31mTypeError\u001b[0m: in method 'itkObjectToObjectMetric33_SetMovingTransform', argument 2 of type 'itkTransformD33 *'"
     ]
    }
   ],
   "source": [
    "metric.SetFixedPointSet(fixedPS)\n",
    "metric.SetMovingPointSet(movingPS)\n",
    "metric.SetMovingTransform(TransformType)\n",
    "metric.Initialize()"
   ]
  },
  {
   "cell_type": "code",
   "execution_count": 33,
   "id": "ccb2064f",
   "metadata": {},
   "outputs": [
    {
     "data": {
      "text/plain": [
       "itk.itkRigid3DTransformPython.itkRigid3DTransformD"
      ]
     },
     "execution_count": 33,
     "metadata": {},
     "output_type": "execute_result"
    }
   ],
   "source": [
    "AffineRegistrationType = itk.ImageRegistrationMethodv4.REGv4D3D3TD3D3MD3.New()\n",
    "registration = AffineRegistrationType.New()\n",
    "registration.SetNumberOfLevels(1)\n",
    "registration.SetObjectName(\"registration\")\n",
    "registration.SetFixedPointSet(movingMesh)\n",
    "registration.SetMovingPointSet(fixedMesh)\n",
    "registration.SetInitialTransform(transform)\n",
    "registration.SetMetric(metric)\n",
    "registration.SetOptimizer(optimizer)"
   ]
  },
  {
   "cell_type": "code",
   "execution_count": 25,
   "id": "25d53498",
   "metadata": {},
   "outputs": [
    {
     "ename": "TypeError",
     "evalue": "in method 'itkPointSetToPointSetRegistrationMethodREGF3F3_SetMetric', argument 2 of type 'itkPointSetToPointSetMetricPSF3 *'",
     "output_type": "error",
     "traceback": [
      "\u001b[0;31m---------------------------------------------------------------------------\u001b[0m",
      "\u001b[0;31mTypeError\u001b[0m                                 Traceback (most recent call last)",
      "\u001b[0;32m/tmp/ipykernel_1077548/196864972.py\u001b[0m in \u001b[0;36m<module>\u001b[0;34m\u001b[0m\n\u001b[1;32m     11\u001b[0m \u001b[0mtransform\u001b[0m\u001b[0;34m.\u001b[0m\u001b[0mSetIdentity\u001b[0m\u001b[0;34m(\u001b[0m\u001b[0;34m)\u001b[0m\u001b[0;34m\u001b[0m\u001b[0;34m\u001b[0m\u001b[0m\n\u001b[1;32m     12\u001b[0m \u001b[0mregistration\u001b[0m\u001b[0;34m.\u001b[0m\u001b[0mSetInitialTransformParameters\u001b[0m\u001b[0;34m(\u001b[0m\u001b[0mtransform\u001b[0m\u001b[0;34m.\u001b[0m\u001b[0mGetParameters\u001b[0m\u001b[0;34m(\u001b[0m\u001b[0;34m)\u001b[0m\u001b[0;34m)\u001b[0m\u001b[0;34m\u001b[0m\u001b[0;34m\u001b[0m\u001b[0m\n\u001b[0;32m---> 13\u001b[0;31m \u001b[0mregistration\u001b[0m\u001b[0;34m.\u001b[0m\u001b[0mSetMetric\u001b[0m\u001b[0;34m(\u001b[0m\u001b[0mmetric\u001b[0m\u001b[0;34m)\u001b[0m\u001b[0;34m\u001b[0m\u001b[0;34m\u001b[0m\u001b[0m\n\u001b[0m\u001b[1;32m     14\u001b[0m \u001b[0mregistration\u001b[0m\u001b[0;34m.\u001b[0m\u001b[0mSetOptimizer\u001b[0m\u001b[0;34m(\u001b[0m\u001b[0moptimizer\u001b[0m\u001b[0;34m)\u001b[0m\u001b[0;34m\u001b[0m\u001b[0;34m\u001b[0m\u001b[0m\n\u001b[1;32m     15\u001b[0m \u001b[0mregistration\u001b[0m\u001b[0;34m.\u001b[0m\u001b[0mSetTransform\u001b[0m\u001b[0;34m(\u001b[0m\u001b[0mtransform\u001b[0m\u001b[0;34m)\u001b[0m\u001b[0;34m\u001b[0m\u001b[0;34m\u001b[0m\u001b[0m\n",
      "\u001b[0;31mTypeError\u001b[0m: in method 'itkPointSetToPointSetRegistrationMethodREGF3F3_SetMetric', argument 2 of type 'itkPointSetToPointSetMetricPSF3 *'"
     ]
    }
   ],
   "source": [
    "def iteration_update():\n",
    "    metric_value = optimizer.GetValue()\n",
    "    current_parameters = optimizer.GetCurrentPosition()\n",
    "    print(f\"Metric: {metric_value:.8g}\")\n",
    "\n",
    "iteration_command = itk.PyCommand.New()\n",
    "iteration_command.SetCommandCallable(iteration_update)\n",
    "optimizer.AddObserver(itk.IterationEvent(), iteration_command)\n",
    "\n",
    "\n",
    "transform.SetIdentity()\n",
    "registration.SetInitialTransformParameters(transform.GetParameters())\n",
    "registration.SetMetric(metric)\n",
    "registration.SetOptimizer(optimizer)\n",
    "registration.SetTransform(transform)\n",
    "registration.SetFixedPointSet(fixedPointSet)\n",
    "registration.SetMovingPointSet(movingPointSet)\n",
    "registration.Update()"
   ]
  },
  {
   "cell_type": "code",
   "execution_count": 28,
   "id": "5dc3f9de",
   "metadata": {},
   "outputs": [
    {
     "ename": "TypeError",
     "evalue": "in method 'itkPointSetToPointSetRegistrationMethodREGF3F3_SetMetric', argument 2 of type 'itkPointSetToPointSetMetricPSF3 *'",
     "output_type": "error",
     "traceback": [
      "\u001b[0;31m---------------------------------------------------------------------------\u001b[0m",
      "\u001b[0;31mTypeError\u001b[0m                                 Traceback (most recent call last)",
      "\u001b[0;32m/tmp/ipykernel_1077548/3487054701.py\u001b[0m in \u001b[0;36m<module>\u001b[0;34m\u001b[0m\n\u001b[0;32m----> 1\u001b[0;31m \u001b[0mregistration\u001b[0m\u001b[0;34m.\u001b[0m\u001b[0mSetMetric\u001b[0m\u001b[0;34m(\u001b[0m\u001b[0mmetric\u001b[0m\u001b[0;34m)\u001b[0m\u001b[0;34m\u001b[0m\u001b[0;34m\u001b[0m\u001b[0m\n\u001b[0m",
      "\u001b[0;31mTypeError\u001b[0m: in method 'itkPointSetToPointSetRegistrationMethodREGF3F3_SetMetric', argument 2 of type 'itkPointSetToPointSetMetricPSF3 *'"
     ]
    }
   ],
   "source": [
    "registration.SetMetric(metric)"
   ]
  },
  {
   "cell_type": "code",
   "execution_count": 29,
   "id": "f69f5004",
   "metadata": {},
   "outputs": [
    {
     "data": {
      "text/plain": [
       "itk.itkEuclideanDistancePointSetToPointSetMetricPython.itkEuclideanDistancePointSetToPointSetMetricv4PSF3"
      ]
     },
     "execution_count": 29,
     "metadata": {},
     "output_type": "execute_result"
    }
   ],
   "source": [
    "type(metric)"
   ]
  },
  {
   "cell_type": "code",
   "execution_count": 30,
   "id": "c5cbd6ef",
   "metadata": {},
   "outputs": [
    {
     "data": {
      "text/plain": [
       "itk.itkPointSetToPointSetRegistrationMethodPython.itkPointSetToPointSetRegistrationMethodREGF3F3"
      ]
     },
     "execution_count": 30,
     "metadata": {},
     "output_type": "execute_result"
    }
   ],
   "source": [
    "type(registration)"
   ]
  },
  {
   "cell_type": "code",
   "execution_count": null,
   "id": "fe6fe6c2",
   "metadata": {},
   "outputs": [],
   "source": []
  }
 ],
 "metadata": {
  "kernelspec": {
   "display_name": "Python 3",
   "language": "python",
   "name": "python3"
  },
  "language_info": {
   "codemirror_mode": {
    "name": "ipython",
    "version": 3
   },
   "file_extension": ".py",
   "mimetype": "text/x-python",
   "name": "python",
   "nbconvert_exporter": "python",
   "pygments_lexer": "ipython3",
   "version": "3.8.11"
  }
 },
 "nbformat": 4,
 "nbformat_minor": 5
}
