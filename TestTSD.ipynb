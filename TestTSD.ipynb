{
 "cells": [
  {
   "cell_type": "code",
   "execution_count": 2,
   "id": "3b8ea7a1",
   "metadata": {},
   "outputs": [],
   "source": [
    "#import itk\n",
    "#from itk import ThinShellDemonsMetricv4 as tsd\n",
    "#from itk import ConjugateGradientLineSearchOptimizerv4Template as itkc\n",
    "\n",
    "import numpy as np\n",
    "import math\n",
    "import itkwidgets\n",
    "from itkwidgets import view\n",
    "import vtk"
   ]
  },
  {
   "cell_type": "code",
   "execution_count": null,
   "id": "de464c1b",
   "metadata": {
    "code_folding": [
     0
    ],
    "scrolled": true
   },
   "outputs": [],
   "source": [
    "# For TSD Registration\n",
    "\n",
    "basepath = '/media/pranjal.sahu/moredata/ITK/Modules/External/ITKThinShellDemons/test/Baseline/'\n",
    "fixedMesh = itk.meshread(basepath + 'fixedMesh.vtk', itk.D)\n",
    "movingMesh = itk.meshread(basepath + 'movingMesh.vtk', itk.D)\n",
    "\n",
    "fixedMesh.BuildCellLinks()\n",
    "movingMesh.BuildCellLinks()\n",
    "\n",
    "PixelType = itk.D\n",
    "Dimension = 3\n",
    "\n",
    "MeshType = itk.Mesh[itk.D, Dimension]\n",
    "FixedImageType = itk.Image[PixelType, Dimension]\n",
    "MovingImageType = itk.Image[PixelType, Dimension]\n",
    "\n",
    "\n",
    "# For getting the Bounding Box\n",
    "ElementIdentifierType = itk.UL\n",
    "CoordType = itk.F\n",
    "Dimension = 3\n",
    "\n",
    "VecContType = itk.VectorContainer[\n",
    "    ElementIdentifierType, itk.Point[CoordType, Dimension]\n",
    "]\n",
    "bounding_box = itk.BoundingBox[ElementIdentifierType, Dimension, CoordType, VecContType].New()\n",
    "bounding_box.SetPoints(movingMesh.GetPoints())\n",
    "bounding_box.ComputeBoundingBox()\n",
    "\n",
    "minBounds = np.array(bounding_box.GetMinimum())\n",
    "maxBounds = np.array(bounding_box.GetMaximum())\n",
    "\n",
    "imageDiagonal = 5\n",
    "spacing = np.sqrt(bounding_box.GetDiagonalLength2()) / imageDiagonal\n",
    "diff = maxBounds - minBounds\n",
    "\n",
    "fixedImageSize = [0]*3\n",
    "fixedImageSize[0] = math.ceil( 1.2 * diff[0] / spacing )\n",
    "fixedImageSize[1] = math.ceil( 1.2 * diff[1] / spacing )\n",
    "fixedImageSize[2] = math.ceil( 1.2 * diff[2] / spacing )\n",
    "\n",
    "fixedImageOrigin = [0]*3\n",
    "fixedImageOrigin[0] = minBounds[0] - 0.1 * diff[0]\n",
    "fixedImageOrigin[1] = minBounds[1] - 0.1 * diff[1]\n",
    "fixedImageOrigin[2] = minBounds[2] - 0.1 * diff[2]\n",
    "\n",
    "fixedImageSpacing = np.ones(3)*spacing\n",
    "fixedImageDirection = np.identity(3)\n",
    "\n",
    "\n",
    "fixedImage = FixedImageType.New()\n",
    "fixedImage.SetRegions(fixedImageSize)\n",
    "fixedImage.SetOrigin( fixedImageOrigin )\n",
    "fixedImage.SetDirection( fixedImageDirection )\n",
    "fixedImage.SetSpacing( fixedImageSpacing )\n",
    "fixedImage.Allocate()\n",
    "\n",
    "\n",
    "# Affine Transform Object\n",
    "TransformType = itk.AffineTransform.D3\n",
    "transform = TransformType.New()\n",
    "transform.SetIdentity()\n",
    "transform.SetCenter(minBounds + (maxBounds - minBounds)/2)\n",
    "\n",
    "print('Transform Created')\n",
    "print(transform)\n",
    "\n",
    "\n",
    "MetricType = tsd.MD3\n",
    "metric = MetricType.New()\n",
    "metric.SetStretchWeight(1)\n",
    "metric.SetBendWeight(5)\n",
    "metric.SetGeometricFeatureWeight(10)\n",
    "metric.UseConfidenceWeightingOn()\n",
    "metric.UseMaximalDistanceConfidenceSigmaOn()\n",
    "metric.UpdateFeatureMatchingAtEachIterationOff()\n",
    "metric.SetMovingTransform(transform)\n",
    "# Reversed due to using points instead of an image\n",
    "# to keep semantics the same as in itkThinShellDemonsTest.cxx\n",
    "# For the ThinShellDemonsMetricv4 the fixed mesh is regularized\n",
    "metric.SetFixedPointSet(movingMesh)\n",
    "metric.SetMovingPointSet(fixedMesh)\n",
    "metric.SetVirtualDomainFromImage(fixedImage)\n",
    "metric.Initialize()\n",
    "\n",
    "print('TSD Metric Created')\n",
    "\n",
    "shiftScaleEstimator = itk.RegistrationParameterScalesFromPhysicalShift[MetricType].New()\n",
    "shiftScaleEstimator.SetMetric(metric)\n",
    "shiftScaleEstimator.SetVirtualDomainPointSet(metric.GetVirtualTransformedPointSet())\n",
    "\n",
    "\n",
    "optimizer = itkc.D.New()\n",
    "optimizer.SetNumberOfIterations( 50 )\n",
    "optimizer.SetScalesEstimator( shiftScaleEstimator )\n",
    "optimizer.SetMaximumStepSizeInPhysicalUnits( 0.5 )\n",
    "optimizer.SetMinimumConvergenceValue( 0.0 )\n",
    "optimizer.SetConvergenceWindowSize( 10 )\n",
    "\n",
    "def iteration_update():\n",
    "    metric_value = optimizer.GetValue()\n",
    "    current_parameters = optimizer.GetCurrentPosition()\n",
    "    print(f\"Metric: {metric_value:.8g}\")\n",
    "\n",
    "iteration_command = itk.PyCommand.New()\n",
    "iteration_command.SetCommandCallable(iteration_update)\n",
    "optimizer.AddObserver(itk.IterationEvent(), iteration_command)\n",
    "\n",
    "print('Optimizer created')\n",
    "\n",
    "\n",
    "AffineRegistrationType = itk.ImageRegistrationMethodv4.REGv4D3D3TD3D3MD3.New()\n",
    "registration = AffineRegistrationType.New()\n",
    "registration.SetNumberOfLevels(1)\n",
    "registration.SetObjectName(\"registration\")\n",
    "registration.SetFixedPointSet(movingMesh)\n",
    "registration.SetMovingPointSet(fixedMesh)\n",
    "registration.SetInitialTransform(transform)\n",
    "registration.SetMetric(metric)\n",
    "registration.SetOptimizer(optimizer)\n",
    "\n",
    "print('Registration Object created')\n",
    "print('Initial Value of Metric ', metric.GetValue())\n",
    "\n",
    "try:\n",
    "    registration.Update()\n",
    "except e:\n",
    "    print('Error is ', e)\n",
    "\n",
    "print('Final Value of Metric ', metric.GetValue())\n",
    "\n",
    "finalTransform = registration.GetModifiableTransform()\n",
    "numberOfPoints = movingMesh.GetNumberOfPoints()\n",
    "for n in range(0, numberOfPoints):\n",
    "    movingMesh.SetPoint(n, finalTransform.TransformPoint(movingMesh.GetPoint(n)))"
   ]
  },
  {
   "cell_type": "code",
   "execution_count": 3,
   "id": "9d4ff2ed",
   "metadata": {},
   "outputs": [],
   "source": [
    "itk.meshwrite(movingMesh, \"affineMovingMesh.vtk\")"
   ]
  },
  {
   "cell_type": "code",
   "execution_count": 1,
   "id": "ad868729",
   "metadata": {},
   "outputs": [
    {
     "ename": "NameError",
     "evalue": "name 'itk' is not defined",
     "output_type": "error",
     "traceback": [
      "\u001b[0;31m---------------------------------------------------------------------------\u001b[0m",
      "\u001b[0;31mNameError\u001b[0m                                 Traceback (most recent call last)",
      "\u001b[0;32m<ipython-input-1-2fb615820319>\u001b[0m in \u001b[0;36m<module>\u001b[0;34m\u001b[0m\n\u001b[0;32m----> 1\u001b[0;31m \u001b[0mmoving_mesh\u001b[0m \u001b[0;34m=\u001b[0m \u001b[0mitk\u001b[0m\u001b[0;34m.\u001b[0m\u001b[0mmeshread\u001b[0m\u001b[0;34m(\u001b[0m\u001b[0;34m'/media/pranjal.sahu/moredata/ITKPR30/ITK/ITK-build/Wrapping/Generators/Python/movingMesh_transformed.vtk'\u001b[0m\u001b[0;34m)\u001b[0m\u001b[0;34m\u001b[0m\u001b[0;34m\u001b[0m\u001b[0m\n\u001b[0m",
      "\u001b[0;31mNameError\u001b[0m: name 'itk' is not defined"
     ]
    }
   ],
   "source": [
    "moving_mesh = itk.meshread('/media/pranjal.sahu/moredata/ITKPR30/ITK/ITK-build/Wrapping/Generators/Python/movingMesh_transformed.vtk')"
   ]
  },
  {
   "cell_type": "code",
   "execution_count": 11,
   "id": "d2b46dfc",
   "metadata": {
    "code_folding": [
     0
    ],
    "scrolled": true
   },
   "outputs": [
    {
     "name": "stdout",
     "output_type": "stream",
     "text": [
      "169954\n",
      "174916\n"
     ]
    }
   ],
   "source": [
    "# For converting from PLY to VTK\n",
    "\n",
    "import vtk\n",
    "\n",
    "reader = vtk.vtkPLYReader()\n",
    "reader.SetFileName('/home/pranjal.sahu/Downloads/129X1_SVJ_.ply')\n",
    "reader.Update()\n",
    "polydata1 = reader.GetOutput()\n",
    "\n",
    "reader1 = vtk.vtkPLYReader()\n",
    "reader1.SetFileName('/home/pranjal.sahu/Downloads/129S1_SVIMJ_.ply')\n",
    "reader1.Update()\n",
    "polydata2 = reader1.GetOutput()\n",
    "\n",
    "print(polydata1.GetNumberOfPoints())\n",
    "print(polydata2.GetNumberOfPoints())\n",
    "\n",
    "\n",
    "writer = vtk.vtkPolyDataWriter()\n",
    "writer.SetFileName(\"/home/pranjal.sahu/Downloads/129X1_SVJ_.vtk\")\n",
    "writer.SetFileVersion(42)\n",
    "writer.SetInputData(polydata1)\n",
    "writer.Update()\n",
    "\n",
    "writer = vtk.vtkPolyDataWriter()\n",
    "writer.SetFileName(\"/home/pranjal.sahu/Downloads/129S1_SVIMJ_.vtk\")\n",
    "writer.SetFileVersion(42)\n",
    "writer.SetInputData(polydata2)\n",
    "writer.Update()"
   ]
  },
  {
   "cell_type": "code",
   "execution_count": 47,
   "id": "c495a4d7",
   "metadata": {},
   "outputs": [],
   "source": [
    "import vtk\n",
    "\n",
    "reader = vtk.vtkPolyDataReader()\n",
    "reader.SetFileName('/media/pranjal.sahu/moredata/ITKPR30/ITK/ITK-build/Wrapping/Generators/Python/movingMesh_transformed.vtk')\n",
    "reader.Update()\n",
    "polydata1 = reader.GetOutput()\n",
    "\n",
    "reader = vtk.vtkPolyDataReader()\n",
    "reader.SetFileName('/home/pranjal.sahu/Downloads/129X1_SVJ_.vtk')\n",
    "reader.Update()\n",
    "polydata2 = reader.GetOutput()\n",
    "\n",
    "reader = vtk.vtkPolyDataReader()\n",
    "reader.SetFileName('/home/pranjal.sahu/Downloads/129S1_SVIMJ_.vtk')\n",
    "reader.Update()\n",
    "polydata3 = reader.GetOutput()\n",
    "\n",
    "\n",
    "\n",
    "reader = vtk.vtkPLYReader()\n",
    "reader.SetFileName('A_J_skull_temp1.ply')\n",
    "reader.Update()\n",
    "polydata4 = reader.GetOutput()\n",
    "\n",
    "\n",
    "reader = vtk.vtkPLYReader()\n",
    "reader.SetFileName('NOD_SHILTJ_temp1.ply')\n",
    "reader.Update()\n",
    "polydata5 = reader.GetOutput()\n"
   ]
  },
  {
   "cell_type": "code",
   "execution_count": 48,
   "id": "ec26c291",
   "metadata": {},
   "outputs": [],
   "source": [
    "# For cleaning the mesh\n",
    "\n",
    "cleaner = vtk.vtkCleanPolyData()\n",
    "cleaner.SetInputData(polydata4)\n",
    "cleaner.SetTolerance(0.0001)\n",
    "cleaner.Update()\n",
    "polydata4 = cleaner.GetOutput()\n",
    "\n",
    "gfilter1 = vtk.vtkTriangleFilter()\n",
    "gfilter1.SetInputData(polydata4)\n",
    "gfilter1.SetPassLines(False)\n",
    "gfilter1.SetPassVerts(False)\n",
    "gfilter1.Update()\n",
    "polydata4 = gfilter1.GetOutput()\n",
    "\n",
    "w = vtk.vtkPolyDataWriter()\n",
    "w.SetFileName('A_J_skull_temp2.vtk')\n",
    "w.SetFileVersion(42)\n",
    "w.SetInputData(polydata4)\n",
    "w.Update()\n",
    "\n",
    "\n",
    "\n",
    "cleaner = vtk.vtkCleanPolyData()\n",
    "cleaner.SetInputData(polydata5)\n",
    "cleaner.SetTolerance(0.0001)\n",
    "cleaner.Update()\n",
    "polydata5 = cleaner.GetOutput()\n",
    "\n",
    "\n",
    "gfilter1 = vtk.vtkTriangleFilter()\n",
    "gfilter1.SetInputData(polydata5)\n",
    "gfilter1.SetPassLines(False)\n",
    "gfilter1.SetPassVerts(False)\n",
    "gfilter1.Update()\n",
    "polydata5 = gfilter1.GetOutput()\n",
    "\n",
    "\n",
    "w = vtk.vtkPolyDataWriter()\n",
    "w.SetFileName('NOD_SHILTJ_temp2.vtk')\n",
    "w.SetFileVersion(42)\n",
    "w.SetInputData(polydata5)\n",
    "w.Update()"
   ]
  },
  {
   "cell_type": "code",
   "execution_count": 42,
   "id": "e622501a",
   "metadata": {
    "code_folding": []
   },
   "outputs": [
    {
     "name": "stderr",
     "output_type": "stream",
     "text": [
      "\u001b[0m\u001b[31m2022-03-14 20:45:20.852 (18733.965s) [        D76DD180]vtkDemandDrivenPipeline:666    ERR| vtkCompositeDataPipeline (0x5649c1dd19b0): Input port 0 of algorithm vtkPolyDataWriter(0x5649b5262f40) has 0 connections but is not optional.\u001b[0m\n"
     ]
    },
    {
     "ename": "AttributeError",
     "evalue": "'vtkmodules.vtkIOLegacy.vtkPolyDataWriter' object has no attribute 'GetOutput'",
     "output_type": "error",
     "traceback": [
      "\u001b[0;31m---------------------------------------------------------------------------\u001b[0m",
      "\u001b[0;31mAttributeError\u001b[0m                            Traceback (most recent call last)",
      "\u001b[0;32m/tmp/ipykernel_1614728/16877485.py\u001b[0m in \u001b[0;36m<module>\u001b[0;34m\u001b[0m\n\u001b[1;32m      5\u001b[0m \u001b[0mreader\u001b[0m\u001b[0;34m.\u001b[0m\u001b[0mSetFileName\u001b[0m\u001b[0;34m(\u001b[0m\u001b[0;34m'A_J_skull_temp1.vtk'\u001b[0m\u001b[0;34m)\u001b[0m\u001b[0;34m\u001b[0m\u001b[0;34m\u001b[0m\u001b[0m\n\u001b[1;32m      6\u001b[0m \u001b[0mreader\u001b[0m\u001b[0;34m.\u001b[0m\u001b[0mUpdate\u001b[0m\u001b[0;34m(\u001b[0m\u001b[0;34m)\u001b[0m\u001b[0;34m\u001b[0m\u001b[0;34m\u001b[0m\u001b[0m\n\u001b[0;32m----> 7\u001b[0;31m \u001b[0mpolydata4\u001b[0m \u001b[0;34m=\u001b[0m \u001b[0mreader\u001b[0m\u001b[0;34m.\u001b[0m\u001b[0mGetOutput\u001b[0m\u001b[0;34m(\u001b[0m\u001b[0;34m)\u001b[0m\u001b[0;34m\u001b[0m\u001b[0;34m\u001b[0m\u001b[0m\n\u001b[0m\u001b[1;32m      8\u001b[0m \u001b[0;34m\u001b[0m\u001b[0m\n\u001b[1;32m      9\u001b[0m \u001b[0mreader\u001b[0m \u001b[0;34m=\u001b[0m \u001b[0mvtk\u001b[0m\u001b[0;34m.\u001b[0m\u001b[0mvtkPolyDataWriter\u001b[0m\u001b[0;34m(\u001b[0m\u001b[0;34m)\u001b[0m\u001b[0;34m\u001b[0m\u001b[0;34m\u001b[0m\u001b[0m\n",
      "\u001b[0;31mAttributeError\u001b[0m: 'vtkmodules.vtkIOLegacy.vtkPolyDataWriter' object has no attribute 'GetOutput'"
     ]
    }
   ],
   "source": [
    "# For reducing the mesh sizes \n",
    "\n",
    "\n",
    "reader = vtk.vtkPolyDataReader()\n",
    "reader.SetFileName('A_J_skull_temp1.vtk')\n",
    "reader.Update()\n",
    "polydata4 = reader.GetOutput()\n",
    "\n",
    "reader = vtk.vtkPolyDataReader()\n",
    "reader.SetFileName('NOD_SHILTJ_temp1.vtk')\n",
    "reader.Update()\n",
    "polydata5 = reader.GetOutput()\n",
    "\n",
    "\n",
    "f = vtk.vtkDecimatePro()\n",
    "f.SetTargetReduction(0.9)\n",
    "f.SetInputData(polydata4)\n",
    "f.PreserveTopologyOn()\n",
    "f.Update()\n",
    "polydata4 = f.GetOutput()\n",
    "# cleaner = vtk.vtkCleanPolyData()\n",
    "# cleaner.SetInputData(vtk_image1)\n",
    "# cleaner.Update()\n",
    "# vtk_image1 = cleaner.GetOutput()\n",
    "\n",
    "\n",
    "f = vtk.vtkDecimatePro()\n",
    "f.SetTargetReduction(0.9)\n",
    "f.SetInputData(polydata5)\n",
    "f.PreserveTopologyOn()\n",
    "f.Update()\n",
    "polydata5 = f.GetOutput()\n",
    "# cleaner = vtk.vtkCleanPolyData()\n",
    "# cleaner.SetInputData(vtk_image2)\n",
    "# cleaner.Update()\n",
    "# vtk_image2 = cleaner.GetOutput()"
   ]
  },
  {
   "cell_type": "code",
   "execution_count": 17,
   "id": "d168ed0a",
   "metadata": {},
   "outputs": [
    {
     "name": "stdout",
     "output_type": "stream",
     "text": [
      "(3.379319906234741, 17.99970054626465, 2.0339601039886475, 19.27669906616211, 0.6598290205001831, 17.98040008544922)\n",
      "(3.234369993209839, 17.82859992980957, 1.812880039215088, 19.010900497436523, 0.7840330004692078, 18.19700050354004)\n"
     ]
    }
   ],
   "source": [
    "print(polydata4.GetBounds())\n",
    "print(polydata5.GetBounds())\n",
    "\n"
   ]
  },
  {
   "cell_type": "code",
   "execution_count": 18,
   "id": "4ff7613d",
   "metadata": {},
   "outputs": [
    {
     "name": "stdout",
     "output_type": "stream",
     "text": [
      "vtkPoints (0x55c62b2a93c0)\n",
      "  Debug: Off\n",
      "  Modified Time: 3434\n",
      "  Reference Count: 2\n",
      "  Registered Events: (none)\n",
      "  Data: 0x55c62a366d00\n",
      "  Data Array Name: Points\n",
      "  Number Of Points: 186793\n",
      "  Bounds: \n",
      "    Xmin,Xmax: (3.23437, 17.8286)\n",
      "    Ymin,Ymax: (1.81288, 19.0109)\n",
      "    Zmin,Zmax: (0.784033, 18.197)\n",
      "\n",
      "\n"
     ]
    }
   ],
   "source": [
    "p1 = polydata5.GetPoints()\n",
    "print(p1)"
   ]
  },
  {
   "cell_type": "code",
   "execution_count": 36,
   "id": "339b1e9e",
   "metadata": {},
   "outputs": [
    {
     "name": "stdout",
     "output_type": "stream",
     "text": [
      "14.594230000000001 17.19802 17.412967\n"
     ]
    }
   ],
   "source": [
    "a = 17.8286 - 3.23437\n",
    "b = 19.0109 - 1.81288\n",
    "c = 18.197 - 0.784033\n",
    "\n",
    "print(a, b, c)"
   ]
  },
  {
   "cell_type": "code",
   "execution_count": 32,
   "id": "f587a702",
   "metadata": {},
   "outputs": [
    {
     "name": "stdout",
     "output_type": "stream",
     "text": [
      "(186793, 3)\n"
     ]
    },
    {
     "data": {
      "text/plain": [
       "(array([ 5187.,  9162.,  9864., 11144., 21413., 44660., 42279., 26257.,\n",
       "        14912.,  1915.]),\n",
       " array([ 3.23437 ,  4.693793,  6.153216,  7.612639,  9.072062, 10.531485,\n",
       "        11.990908, 13.450331, 14.909754, 16.369177, 17.8286  ],\n",
       "       dtype=float32),\n",
       " <BarContainer object of 10 artists>)"
      ]
     },
     "execution_count": 32,
     "metadata": {},
     "output_type": "execute_result"
    },
    {
     "data": {
      "image/png": "[encoded data removed]",
      "text/plain": [
       "<Figure size 432x288 with 1 Axes>"
      ]
     },
     "metadata": {
      "needs_background": "light"
     },
     "output_type": "display_data"
    }
   ],
   "source": [
    "from vtk.util import numpy_support\n",
    "import matplotlib.pyplot as plt\n",
    "\n",
    "p1 = numpy_support.vtk_to_numpy(polydata5.GetPoints().GetData())\n",
    "print(p1.shape)\n",
    "\n",
    "plt.hist(p1[:, 0])"
   ]
  },
  {
   "cell_type": "code",
   "execution_count": 26,
   "id": "21f1cf91",
   "metadata": {},
   "outputs": [
    {
     "name": "stdout",
     "output_type": "stream",
     "text": [
      "vtkPoints (0x5649bfa3cec0)\n",
      "  Debug: Off\n",
      "  Modified Time: 14445\n",
      "  Reference Count: 2\n",
      "  Registered Events: (none)\n",
      "  Data: 0x5649b50f1ae0\n",
      "  Data Array Name: Points\n",
      "  Number Of Points: 186793\n",
      "  Bounds: \n",
      "    Xmin,Xmax: (3.23437, 17.8286)\n",
      "    Ymin,Ymax: (1.81288, 19.0109)\n",
      "    Zmin,Zmax: (0.784033, 18.197)\n",
      "\n",
      "\n"
     ]
    }
   ],
   "source": [
    "print(polydata5.GetPoints())"
   ]
  },
  {
   "cell_type": "code",
   "execution_count": 24,
   "id": "c572f104",
   "metadata": {
    "code_folding": []
   },
   "outputs": [
    {
     "name": "stdout",
     "output_type": "stream",
     "text": [
      "154091\n",
      "938\n"
     ]
    },
    {
     "data": {
      "application/vnd.jupyter.widget-view+json": {
       "model_id": "78753b5a209f49fa8be0311dea9fb4e2",
       "version_major": 2,
       "version_minor": 0
      },
      "text/plain": [
       "Viewer(geometries=[{'vtkClass': 'vtkPolyData', 'points': {'vtkClass': 'vtkPoints', 'name': '_points', 'numberO…"
      ]
     },
     "metadata": {},
     "output_type": "display_data"
    }
   ],
   "source": [
    "# [STAR] For testing on ALPACA sample\n",
    "\n",
    "reader = vtk.vtkPolyDataReader()\n",
    "reader.SetFileName('A_J_skull_temp1.vtk')\n",
    "reader.Update()\n",
    "polydata4 = reader.GetOutput()\n",
    "\n",
    "reader = vtk.vtkPolyDataReader()\n",
    "reader.SetFileName('NOD_SHILTJ_temp1.vtk')\n",
    "reader.Update()\n",
    "polydata5 = reader.GetOutput()\n",
    "\n",
    "reader = vtk.vtkPolyDataReader()\n",
    "reader.SetFileName('/media/pranjal.sahu/moredata/ITK/ITK-build/bin/displacedMovingMesh.vtk')\n",
    "reader.Update()\n",
    "polydata6 = reader.GetOutput()\n",
    "\n",
    "reader = vtk.vtkPolyDataReader()\n",
    "reader.SetFileName('Warped Source Mesh.vtk')\n",
    "reader.Update()\n",
    "polydata7 = reader.GetOutput()\n",
    "\n",
    "#print(polydata4.GetNumberOfPoints())\n",
    "print(polydata4.GetNumberOfPoints())\n",
    "print(polydata6.GetNumberOfPoints())\n",
    "#print(polydata7.GetNumberOfPoints())\n",
    "\n",
    "#view(geometries=[polydata4,  polydata5, polydata6, polydata7])\n",
    "#view(geometries=[polydata4,  polydata5, polydata6])\n",
    "view(geometries=[polydata4, polydata5])\n",
    "#view(geometries=[polydata4,  polydata7])"
   ]
  },
  {
   "cell_type": "code",
   "execution_count": 40,
   "id": "cf89d078",
   "metadata": {},
   "outputs": [
    {
     "name": "stdout",
     "output_type": "stream",
     "text": [
      "830\n",
      "938\n",
      "938\n"
     ]
    },
    {
     "data": {
      "application/vnd.jupyter.widget-view+json": {
       "model_id": "aa364d90abe34add8dda76215c35ebcf",
       "version_major": 2,
       "version_minor": 0
      },
      "text/plain": [
       "Viewer(geometries=[{'vtkClass': 'vtkPolyData', 'points': {'vtkClass': 'vtkPoints', 'name': '_points', 'numberO…"
      ]
     },
     "metadata": {},
     "output_type": "display_data"
    }
   ],
   "source": [
    "# [STAR] For testing on the ThinShell sample\n",
    "\n",
    "reader = vtk.vtkPolyDataReader()\n",
    "reader.SetFileName('/media/pranjal.sahu/moredata/ITK/Modules/External/ITKThinShellDemons/test/Baseline/fixedMesh.vtk')\n",
    "reader.Update()\n",
    "polydata4 = reader.GetOutput()\n",
    "\n",
    "reader = vtk.vtkPolyDataReader()\n",
    "reader.SetFileName('/media/pranjal.sahu/moredata/ITK/Modules/External/ITKThinShellDemons/test/Baseline/movingMesh.vtk')\n",
    "reader.Update()\n",
    "polydata5 = reader.GetOutput()\n",
    "\n",
    "reader = vtk.vtkPolyDataReader()\n",
    "reader.SetFileName('/media/pranjal.sahu/moredata/ITK/ITK-build/bin/displacedMovingMesh.vtk')\n",
    "reader.Update()\n",
    "polydata6 = reader.GetOutput()\n",
    "\n",
    "reader = vtk.vtkPolyDataReader()\n",
    "reader.SetFileName('/media/pranjal.sahu/moredata/ITK/ITK-build/bin/displacedMovingMesh1.vtk')\n",
    "reader.Update()\n",
    "polydata7 = reader.GetOutput()\n",
    "\n",
    "reader = vtk.vtkPolyDataReader()\n",
    "reader.SetFileName('/media/pranjal.sahu/moredata/ITK/ITK-build/Wrapping/Generators/Python/affineMovingMesh.vtk')\n",
    "reader.Update()\n",
    "polydata8 = reader.GetOutput()\n",
    "\n",
    "\n",
    "#print(polydata4.GetNumberOfPoints())\n",
    "print(polydata4.GetNumberOfPoints())\n",
    "print(polydata6.GetNumberOfPoints())\n",
    "print(polydata8.GetNumberOfPoints())\n",
    "#print(polydata7.GetNumberOfPoints())\n",
    "\n",
    "#view(geometries=[polydata4,  polydata5, polydata6, polydata7])\n",
    "#view(geometries=[polydata4,  polydata5, polydata6])\n",
    "#view(geometries=[polydata4, polydata5, polydata6, polydata7])\n",
    "#view(geometries=[polydata4,  polydata7])\n",
    "\n",
    "view(geometries=[polydata4, polydata5, polydata8])"
   ]
  },
  {
   "cell_type": "code",
   "execution_count": 8,
   "id": "112fba08",
   "metadata": {},
   "outputs": [
    {
     "name": "stdout",
     "output_type": "stream",
     "text": [
      "169954 174916\n",
      "169954 174916\n"
     ]
    }
   ],
   "source": [
    "# For ICP registration\n",
    "\n",
    "Dimension = 3\n",
    "\n",
    "PointSetType = itk.PointSet[itk.F, Dimension]\n",
    "\n",
    "fixedMesh = itk.meshread('/home/pranjal.sahu/Downloads/129X1_SVJ_.vtk')\n",
    "movingMesh = itk.meshread('/home/pranjal.sahu/Downloads/129S1_SVIMJ_.vtk')\n",
    "\n",
    "fixedPS = PointSetType.New()\n",
    "movingPS = PointSetType.New()\n",
    "\n",
    "fixedPS.SetPoints(fixedMesh.GetPoints())\n",
    "movingPS.SetPoints(movingMesh.GetPoints())\n",
    "\n",
    "print(fixedMesh.GetNumberOfPoints(), movingMesh.GetNumberOfPoints())\n",
    "print(fixedPS.GetNumberOfPoints(), movingPS.GetNumberOfPoints())"
   ]
  },
  {
   "cell_type": "code",
   "execution_count": 35,
   "id": "bf3ad617",
   "metadata": {
    "scrolled": true
   },
   "outputs": [],
   "source": [
    "OptimizerType    = itk.LevenbergMarquardtOptimizer\n",
    "MetricType       = itk.EuclideanDistancePointSetToPointSetMetricv4[type(fixedPS)]\n",
    "#MetricType       = itk.EuclideanDistanceMetricv[type(fixedPS)]\n",
    "TransformType    = itk.Rigid3DTransform[itk.D]\n",
    "RegistrationType = itk.PointSetToPointSetRegistrationMethod[PointSetType, PointSetType]\n",
    "\n",
    "#print(MetricType)"
   ]
  },
  {
   "cell_type": "code",
   "execution_count": 23,
   "id": "dda42f44",
   "metadata": {},
   "outputs": [],
   "source": [
    "metric       = MetricType.New()\n",
    "transform    = TransformType.New()\n",
    "optimizer    = OptimizerType.New()\n",
    "registration = RegistrationType.New()"
   ]
  },
  {
   "cell_type": "code",
   "execution_count": 24,
   "id": "5b9f5064",
   "metadata": {},
   "outputs": [],
   "source": [
    "numberOfIterations = 100\n",
    "gradientTolerance  = 1e-5\n",
    "valueTolerance     = 1e-5   \n",
    "epsilonFunction    = 1e-6\n",
    "\n",
    "#optimizer.SetScales(scales)\n",
    "optimizer.SetNumberOfIterations(numberOfIterations)\n",
    "optimizer.SetValueTolerance(valueTolerance)\n",
    "optimizer.SetGradientTolerance(gradientTolerance)\n",
    "optimizer.SetEpsilonFunction(epsilonFunction)"
   ]
  },
  {
   "cell_type": "code",
   "execution_count": 31,
   "id": "6592a0a5",
   "metadata": {},
   "outputs": [
    {
     "ename": "TypeError",
     "evalue": "in method 'itkObjectToObjectMetric33_SetMovingTransform', argument 2 of type 'itkTransformD33 *'",
     "output_type": "error",
     "traceback": [
      "\u001b[0;31m---------------------------------------------------------------------------\u001b[0m",
      "\u001b[0;31mTypeError\u001b[0m                                 Traceback (most recent call last)",
      "\u001b[0;32m/tmp/ipykernel_1077548/1734760750.py\u001b[0m in \u001b[0;36m<module>\u001b[0;34m\u001b[0m\n\u001b[1;32m      1\u001b[0m \u001b[0mmetric\u001b[0m\u001b[0;34m.\u001b[0m\u001b[0mSetFixedPointSet\u001b[0m\u001b[0;34m(\u001b[0m\u001b[0mfixedPS\u001b[0m\u001b[0;34m)\u001b[0m\u001b[0;34m\u001b[0m\u001b[0;34m\u001b[0m\u001b[0m\n\u001b[1;32m      2\u001b[0m \u001b[0mmetric\u001b[0m\u001b[0;34m.\u001b[0m\u001b[0mSetMovingPointSet\u001b[0m\u001b[0;34m(\u001b[0m\u001b[0mmovingPS\u001b[0m\u001b[0;34m)\u001b[0m\u001b[0;34m\u001b[0m\u001b[0;34m\u001b[0m\u001b[0m\n\u001b[0;32m----> 3\u001b[0;31m \u001b[0mmetric\u001b[0m\u001b[0;34m.\u001b[0m\u001b[0mSetMovingTransform\u001b[0m\u001b[0;34m(\u001b[0m\u001b[0mTransformType\u001b[0m\u001b[0;34m)\u001b[0m\u001b[0;34m\u001b[0m\u001b[0;34m\u001b[0m\u001b[0m\n\u001b[0m\u001b[1;32m      4\u001b[0m \u001b[0mmetric\u001b[0m\u001b[0;34m.\u001b[0m\u001b[0mInitialize\u001b[0m\u001b[0;34m(\u001b[0m\u001b[0;34m)\u001b[0m\u001b[0;34m\u001b[0m\u001b[0;34m\u001b[0m\u001b[0m\n",
      "\u001b[0;31mTypeError\u001b[0m: in method 'itkObjectToObjectMetric33_SetMovingTransform', argument 2 of type 'itkTransformD33 *'"
     ]
    }
   ],
   "source": [
    "metric.SetFixedPointSet(fixedPS)\n",
    "metric.SetMovingPointSet(movingPS)\n",
    "metric.SetMovingTransform(TransformType)\n",
    "metric.Initialize()"
   ]
  },
  {
   "cell_type": "code",
   "execution_count": 33,
   "id": "ccb2064f",
   "metadata": {},
   "outputs": [
    {
     "data": {
      "text/plain": [
       "itk.itkRigid3DTransformPython.itkRigid3DTransformD"
      ]
     },
     "execution_count": 33,
     "metadata": {},
     "output_type": "execute_result"
    }
   ],
   "source": [
    "AffineRegistrationType = itk.ImageRegistrationMethodv4.REGv4D3D3TD3D3MD3.New()\n",
    "registration = AffineRegistrationType.New()\n",
    "registration.SetNumberOfLevels(1)\n",
    "registration.SetObjectName(\"registration\")\n",
    "registration.SetFixedPointSet(movingMesh)\n",
    "registration.SetMovingPointSet(fixedMesh)\n",
    "registration.SetInitialTransform(transform)\n",
    "registration.SetMetric(metric)\n",
    "registration.SetOptimizer(optimizer)"
   ]
  },
  {
   "cell_type": "code",
   "execution_count": 25,
   "id": "25d53498",
   "metadata": {},
   "outputs": [
    {
     "ename": "TypeError",
     "evalue": "in method 'itkPointSetToPointSetRegistrationMethodREGF3F3_SetMetric', argument 2 of type 'itkPointSetToPointSetMetricPSF3 *'",
     "output_type": "error",
     "traceback": [
      "\u001b[0;31m---------------------------------------------------------------------------\u001b[0m",
      "\u001b[0;31mTypeError\u001b[0m                                 Traceback (most recent call last)",
      "\u001b[0;32m/tmp/ipykernel_1077548/196864972.py\u001b[0m in \u001b[0;36m<module>\u001b[0;34m\u001b[0m\n\u001b[1;32m     11\u001b[0m \u001b[0mtransform\u001b[0m\u001b[0;34m.\u001b[0m\u001b[0mSetIdentity\u001b[0m\u001b[0;34m(\u001b[0m\u001b[0;34m)\u001b[0m\u001b[0;34m\u001b[0m\u001b[0;34m\u001b[0m\u001b[0m\n\u001b[1;32m     12\u001b[0m \u001b[0mregistration\u001b[0m\u001b[0;34m.\u001b[0m\u001b[0mSetInitialTransformParameters\u001b[0m\u001b[0;34m(\u001b[0m\u001b[0mtransform\u001b[0m\u001b[0;34m.\u001b[0m\u001b[0mGetParameters\u001b[0m\u001b[0;34m(\u001b[0m\u001b[0;34m)\u001b[0m\u001b[0;34m)\u001b[0m\u001b[0;34m\u001b[0m\u001b[0;34m\u001b[0m\u001b[0m\n\u001b[0;32m---> 13\u001b[0;31m \u001b[0mregistration\u001b[0m\u001b[0;34m.\u001b[0m\u001b[0mSetMetric\u001b[0m\u001b[0;34m(\u001b[0m\u001b[0mmetric\u001b[0m\u001b[0;34m)\u001b[0m\u001b[0;34m\u001b[0m\u001b[0;34m\u001b[0m\u001b[0m\n\u001b[0m\u001b[1;32m     14\u001b[0m \u001b[0mregistration\u001b[0m\u001b[0;34m.\u001b[0m\u001b[0mSetOptimizer\u001b[0m\u001b[0;34m(\u001b[0m\u001b[0moptimizer\u001b[0m\u001b[0;34m)\u001b[0m\u001b[0;34m\u001b[0m\u001b[0;34m\u001b[0m\u001b[0m\n\u001b[1;32m     15\u001b[0m \u001b[0mregistration\u001b[0m\u001b[0;34m.\u001b[0m\u001b[0mSetTransform\u001b[0m\u001b[0;34m(\u001b[0m\u001b[0mtransform\u001b[0m\u001b[0;34m)\u001b[0m\u001b[0;34m\u001b[0m\u001b[0;34m\u001b[0m\u001b[0m\n",
      "\u001b[0;31mTypeError\u001b[0m: in method 'itkPointSetToPointSetRegistrationMethodREGF3F3_SetMetric', argument 2 of type 'itkPointSetToPointSetMetricPSF3 *'"
     ]
    }
   ],
   "source": [
    "def iteration_update():\n",
    "    metric_value = optimizer.GetValue()\n",
    "    current_parameters = optimizer.GetCurrentPosition()\n",
    "    print(f\"Metric: {metric_value:.8g}\")\n",
    "\n",
    "iteration_command = itk.PyCommand.New()\n",
    "iteration_command.SetCommandCallable(iteration_update)\n",
    "optimizer.AddObserver(itk.IterationEvent(), iteration_command)\n",
    "\n",
    "\n",
    "transform.SetIdentity()\n",
    "registration.SetInitialTransformParameters(transform.GetParameters())\n",
    "registration.SetMetric(metric)\n",
    "registration.SetOptimizer(optimizer)\n",
    "registration.SetTransform(transform)\n",
    "registration.SetFixedPointSet(fixedPointSet)\n",
    "registration.SetMovingPointSet(movingPointSet)\n",
    "registration.Update()"
   ]
  },
  {
   "cell_type": "code",
   "execution_count": 28,
   "id": "5dc3f9de",
   "metadata": {},
   "outputs": [
    {
     "ename": "TypeError",
     "evalue": "in method 'itkPointSetToPointSetRegistrationMethodREGF3F3_SetMetric', argument 2 of type 'itkPointSetToPointSetMetricPSF3 *'",
     "output_type": "error",
     "traceback": [
      "\u001b[0;31m---------------------------------------------------------------------------\u001b[0m",
      "\u001b[0;31mTypeError\u001b[0m                                 Traceback (most recent call last)",
      "\u001b[0;32m/tmp/ipykernel_1077548/3487054701.py\u001b[0m in \u001b[0;36m<module>\u001b[0;34m\u001b[0m\n\u001b[0;32m----> 1\u001b[0;31m \u001b[0mregistration\u001b[0m\u001b[0;34m.\u001b[0m\u001b[0mSetMetric\u001b[0m\u001b[0;34m(\u001b[0m\u001b[0mmetric\u001b[0m\u001b[0;34m)\u001b[0m\u001b[0;34m\u001b[0m\u001b[0;34m\u001b[0m\u001b[0m\n\u001b[0m",
      "\u001b[0;31mTypeError\u001b[0m: in method 'itkPointSetToPointSetRegistrationMethodREGF3F3_SetMetric', argument 2 of type 'itkPointSetToPointSetMetricPSF3 *'"
     ]
    }
   ],
   "source": [
    "registration.SetMetric(metric)"
   ]
  },
  {
   "cell_type": "code",
   "execution_count": 29,
   "id": "f69f5004",
   "metadata": {},
   "outputs": [
    {
     "data": {
      "text/plain": [
       "itk.itkEuclideanDistancePointSetToPointSetMetricPython.itkEuclideanDistancePointSetToPointSetMetricv4PSF3"
      ]
     },
     "execution_count": 29,
     "metadata": {},
     "output_type": "execute_result"
    }
   ],
   "source": [
    "type(metric)"
   ]
  },
  {
   "cell_type": "code",
   "execution_count": 30,
   "id": "c5cbd6ef",
   "metadata": {},
   "outputs": [
    {
     "data": {
      "text/plain": [
       "itk.itkPointSetToPointSetRegistrationMethodPython.itkPointSetToPointSetRegistrationMethodREGF3F3"
      ]
     },
     "execution_count": 30,
     "metadata": {},
     "output_type": "execute_result"
    }
   ],
   "source": [
    "type(registration)"
   ]
  },
  {
   "cell_type": "code",
   "execution_count": null,
   "id": "fe6fe6c2",
   "metadata": {},
   "outputs": [],
   "source": []
  }
 ],
 "metadata": {
  "kernelspec": {
   "display_name": "Python 3 (ipykernel)",
   "language": "python",
   "name": "python3"
  },
  "language_info": {
   "codemirror_mode": {
    "name": "ipython",
    "version": 3
   },
   "file_extension": ".py",
   "mimetype": "text/x-python",
   "name": "python",
   "nbconvert_exporter": "python",
   "pygments_lexer": "ipython3",
   "version": "3.8.12"
  }
 },
 "nbformat": 4,
 "nbformat_minor": 5
}
