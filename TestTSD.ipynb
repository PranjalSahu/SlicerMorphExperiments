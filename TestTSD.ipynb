{
 "cells": [
  {
   "cell_type": "code",
   "execution_count": 1,
   "id": "3b8ea7a1",
   "metadata": {},
   "outputs": [],
   "source": [
    "#import itk\n",
    "#from itk import ThinShellDemonsMetricv4 as tsd\n",
    "#from itk import ConjugateGradientLineSearchOptimizerv4Template as itkc\n",
    "\n",
    "import numpy as np\n",
    "import math\n",
    "import itkwidgets\n",
    "from itkwidgets import view\n",
    "import vtk\n",
    "import matplotlib.pyplot as plt\n",
    "import itk"
   ]
  },
  {
   "cell_type": "code",
   "execution_count": null,
   "id": "de464c1b",
   "metadata": {
    "code_folding": [
     0
    ],
    "scrolled": true
   },
   "outputs": [],
   "source": [
    "# For TSD Registration\n",
    "\n",
    "basepath = '/media/pranjal.sahu/moredata/ITK/Modules/External/ITKThinShellDemons/test/Baseline/'\n",
    "fixedMesh = itk.meshread(basepath + 'fixedMesh.vtk', itk.D)\n",
    "movingMesh = itk.meshread(basepath + 'movingMesh.vtk', itk.D)\n",
    "\n",
    "fixedMesh.BuildCellLinks()\n",
    "movingMesh.BuildCellLinks()\n",
    "\n",
    "PixelType = itk.D\n",
    "Dimension = 3\n",
    "\n",
    "MeshType = itk.Mesh[itk.D, Dimension]\n",
    "FixedImageType = itk.Image[PixelType, Dimension]\n",
    "MovingImageType = itk.Image[PixelType, Dimension]\n",
    "\n",
    "\n",
    "# For getting the Bounding Box\n",
    "ElementIdentifierType = itk.UL\n",
    "CoordType = itk.F\n",
    "Dimension = 3\n",
    "\n",
    "VecContType = itk.VectorContainer[\n",
    "    ElementIdentifierType, itk.Point[CoordType, Dimension]\n",
    "]\n",
    "bounding_box = itk.BoundingBox[ElementIdentifierType, Dimension, CoordType, VecContType].New()\n",
    "bounding_box.SetPoints(movingMesh.GetPoints())\n",
    "bounding_box.ComputeBoundingBox()\n",
    "\n",
    "minBounds = np.array(bounding_box.GetMinimum())\n",
    "maxBounds = np.array(bounding_box.GetMaximum())\n",
    "\n",
    "imageDiagonal = 5\n",
    "spacing = np.sqrt(bounding_box.GetDiagonalLength2()) / imageDiagonal\n",
    "diff = maxBounds - minBounds\n",
    "\n",
    "fixedImageSize = [0]*3\n",
    "fixedImageSize[0] = math.ceil( 1.2 * diff[0] / spacing )\n",
    "fixedImageSize[1] = math.ceil( 1.2 * diff[1] / spacing )\n",
    "fixedImageSize[2] = math.ceil( 1.2 * diff[2] / spacing )\n",
    "\n",
    "fixedImageOrigin = [0]*3\n",
    "fixedImageOrigin[0] = minBounds[0] - 0.1 * diff[0]\n",
    "fixedImageOrigin[1] = minBounds[1] - 0.1 * diff[1]\n",
    "fixedImageOrigin[2] = minBounds[2] - 0.1 * diff[2]\n",
    "\n",
    "fixedImageSpacing = np.ones(3)*spacing\n",
    "fixedImageDirection = np.identity(3)\n",
    "\n",
    "\n",
    "fixedImage = FixedImageType.New()\n",
    "fixedImage.SetRegions(fixedImageSize)\n",
    "fixedImage.SetOrigin( fixedImageOrigin )\n",
    "fixedImage.SetDirection( fixedImageDirection )\n",
    "fixedImage.SetSpacing( fixedImageSpacing )\n",
    "fixedImage.Allocate()\n",
    "\n",
    "\n",
    "# Affine Transform Object\n",
    "TransformType = itk.AffineTransform.D3\n",
    "transform = TransformType.New()\n",
    "transform.SetIdentity()\n",
    "transform.SetCenter(minBounds + (maxBounds - minBounds)/2)\n",
    "\n",
    "print('Transform Created')\n",
    "print(transform)\n",
    "\n",
    "\n",
    "MetricType = tsd.MD3\n",
    "metric = MetricType.New()\n",
    "metric.SetStretchWeight(1)\n",
    "metric.SetBendWeight(5)\n",
    "metric.SetGeometricFeatureWeight(10)\n",
    "metric.UseConfidenceWeightingOn()\n",
    "metric.UseMaximalDistanceConfidenceSigmaOn()\n",
    "metric.UpdateFeatureMatchingAtEachIterationOff()\n",
    "metric.SetMovingTransform(transform)\n",
    "# Reversed due to using points instead of an image\n",
    "# to keep semantics the same as in itkThinShellDemonsTest.cxx\n",
    "# For the ThinShellDemonsMetricv4 the fixed mesh is regularized\n",
    "metric.SetFixedPointSet(movingMesh)\n",
    "metric.SetMovingPointSet(fixedMesh)\n",
    "metric.SetVirtualDomainFromImage(fixedImage)\n",
    "metric.Initialize()\n",
    "\n",
    "print('TSD Metric Created')\n",
    "\n",
    "shiftScaleEstimator = itk.RegistrationParameterScalesFromPhysicalShift[MetricType].New()\n",
    "shiftScaleEstimator.SetMetric(metric)\n",
    "shiftScaleEstimator.SetVirtualDomainPointSet(metric.GetVirtualTransformedPointSet())\n",
    "\n",
    "\n",
    "optimizer = itkc.D.New()\n",
    "optimizer.SetNumberOfIterations( 50 )\n",
    "optimizer.SetScalesEstimator( shiftScaleEstimator )\n",
    "optimizer.SetMaximumStepSizeInPhysicalUnits( 0.5 )\n",
    "optimizer.SetMinimumConvergenceValue( 0.0 )\n",
    "optimizer.SetConvergenceWindowSize( 10 )\n",
    "\n",
    "def iteration_update():\n",
    "    metric_value = optimizer.GetValue()\n",
    "    current_parameters = optimizer.GetCurrentPosition()\n",
    "    print(f\"Metric: {metric_value:.8g}\")\n",
    "\n",
    "iteration_command = itk.PyCommand.New()\n",
    "iteration_command.SetCommandCallable(iteration_update)\n",
    "optimizer.AddObserver(itk.IterationEvent(), iteration_command)\n",
    "\n",
    "print('Optimizer created')\n",
    "\n",
    "\n",
    "AffineRegistrationType = itk.ImageRegistrationMethodv4.REGv4D3D3TD3D3MD3.New()\n",
    "registration = AffineRegistrationType.New()\n",
    "registration.SetNumberOfLevels(1)\n",
    "registration.SetObjectName(\"registration\")\n",
    "registration.SetFixedPointSet(movingMesh)\n",
    "registration.SetMovingPointSet(fixedMesh)\n",
    "registration.SetInitialTransform(transform)\n",
    "registration.SetMetric(metric)\n",
    "registration.SetOptimizer(optimizer)\n",
    "\n",
    "print('Registration Object created')\n",
    "print('Initial Value of Metric ', metric.GetValue())\n",
    "\n",
    "try:\n",
    "    registration.Update()\n",
    "except e:\n",
    "    print('Error is ', e)\n",
    "\n",
    "print('Final Value of Metric ', metric.GetValue())\n",
    "\n",
    "finalTransform = registration.GetModifiableTransform()\n",
    "numberOfPoints = movingMesh.GetNumberOfPoints()\n",
    "for n in range(0, numberOfPoints):\n",
    "    movingMesh.SetPoint(n, finalTransform.TransformPoint(movingMesh.GetPoint(n)))"
   ]
  },
  {
   "cell_type": "code",
   "execution_count": 3,
   "id": "9d4ff2ed",
   "metadata": {},
   "outputs": [],
   "source": [
    "itk.meshwrite(movingMesh, \"affineMovingMesh.vtk\")"
   ]
  },
  {
   "cell_type": "code",
   "execution_count": 1,
   "id": "ad868729",
   "metadata": {},
   "outputs": [
    {
     "ename": "NameError",
     "evalue": "name 'itk' is not defined",
     "output_type": "error",
     "traceback": [
      "\u001b[0;31m---------------------------------------------------------------------------\u001b[0m",
      "\u001b[0;31mNameError\u001b[0m                                 Traceback (most recent call last)",
      "\u001b[0;32m<ipython-input-1-2fb615820319>\u001b[0m in \u001b[0;36m<module>\u001b[0;34m\u001b[0m\n\u001b[0;32m----> 1\u001b[0;31m \u001b[0mmoving_mesh\u001b[0m \u001b[0;34m=\u001b[0m \u001b[0mitk\u001b[0m\u001b[0;34m.\u001b[0m\u001b[0mmeshread\u001b[0m\u001b[0;34m(\u001b[0m\u001b[0;34m'/media/pranjal.sahu/moredata/ITKPR30/ITK/ITK-build/Wrapping/Generators/Python/movingMesh_transformed.vtk'\u001b[0m\u001b[0;34m)\u001b[0m\u001b[0;34m\u001b[0m\u001b[0;34m\u001b[0m\u001b[0m\n\u001b[0m",
      "\u001b[0;31mNameError\u001b[0m: name 'itk' is not defined"
     ]
    }
   ],
   "source": [
    "moving_mesh = itk.meshread('/media/pranjal.sahu/moredata/ITKPR30/ITK/ITK-build/Wrapping/Generators/Python/movingMesh_transformed.vtk')"
   ]
  },
  {
   "cell_type": "code",
   "execution_count": 11,
   "id": "d2b46dfc",
   "metadata": {
    "code_folding": [],
    "scrolled": true
   },
   "outputs": [
    {
     "name": "stdout",
     "output_type": "stream",
     "text": [
      "169954\n",
      "174916\n"
     ]
    }
   ],
   "source": [
    "# For converting from PLY to VTK\n",
    "\n",
    "import vtk\n",
    "\n",
    "reader = vtk.vtkPLYReader()\n",
    "reader.SetFileName('/home/pranjal.sahu/Downloads/129X1_SVJ_.ply')\n",
    "reader.Update()\n",
    "polydata1 = reader.GetOutput()\n",
    "\n",
    "reader1 = vtk.vtkPLYReader()\n",
    "reader1.SetFileName('/home/pranjal.sahu/Downloads/129S1_SVIMJ_.ply')\n",
    "reader1.Update()\n",
    "polydata2 = reader1.GetOutput()\n",
    "\n",
    "print(polydata1.GetNumberOfPoints())\n",
    "print(polydata2.GetNumberOfPoints())\n",
    "\n",
    "\n",
    "writer = vtk.vtkPolyDataWriter()\n",
    "writer.SetFileName(\"/home/pranjal.sahu/Downloads/129X1_SVJ_.vtk\")\n",
    "writer.SetFileVersion(42)\n",
    "writer.SetInputData(polydata1)\n",
    "writer.Update()\n",
    "\n",
    "writer = vtk.vtkPolyDataWriter()\n",
    "writer.SetFileName(\"/home/pranjal.sahu/Downloads/129S1_SVIMJ_.vtk\")\n",
    "writer.SetFileVersion(42)\n",
    "writer.SetInputData(polydata2)\n",
    "writer.Update()"
   ]
  },
  {
   "cell_type": "code",
   "execution_count": 25,
   "id": "c495a4d7",
   "metadata": {
    "code_folding": [
     0
    ]
   },
   "outputs": [],
   "source": [
    "# [STAR] Garbage\n",
    "\n",
    "import vtk\n",
    "\n",
    "reader = vtk.vtkPolyDataReader()\n",
    "reader.SetFileName('/media/pranjal.sahu/moredata/ITKPR30/ITK/ITK-build/Wrapping/Generators/Python/movingMesh_transformed.vtk')\n",
    "reader.Update()\n",
    "polydata1 = reader.GetOutput()\n",
    "\n",
    "reader = vtk.vtkPolyDataReader()\n",
    "reader.SetFileName('/home/pranjal.sahu/Downloads/129X1_SVJ_.vtk')\n",
    "reader.Update()\n",
    "polydata2 = reader.GetOutput()\n",
    "\n",
    "reader = vtk.vtkPolyDataReader()\n",
    "reader.SetFileName('/home/pranjal.sahu/Downloads/129S1_SVIMJ_.vtk')\n",
    "reader.Update()\n",
    "polydata3 = reader.GetOutput()\n",
    "\n",
    "\n",
    "\n",
    "reader = vtk.vtkPLYReader()\n",
    "reader.SetFileName('A_J_skull_temp1.ply')\n",
    "reader.Update()\n",
    "polydata4 = reader.GetOutput()\n",
    "\n",
    "\n",
    "reader = vtk.vtkPLYReader()\n",
    "reader.SetFileName('NOD_SHILTJ_temp1.ply')\n",
    "reader.Update()\n",
    "polydata5 = reader.GetOutput()\n"
   ]
  },
  {
   "cell_type": "code",
   "execution_count": 13,
   "id": "7cc4b3c0",
   "metadata": {},
   "outputs": [
    {
     "name": "stdout",
     "output_type": "stream",
     "text": [
      "Before number of points\n",
      "156161\n",
      "190584\n",
      "After number of points\n",
      "21397\n",
      "26620\n"
     ]
    }
   ],
   "source": [
    "# For reducing the mesh sizes \n",
    "\n",
    "reader = vtk.vtkPolyDataReader()\n",
    "reader.SetFileName('A_J_skull_.vtk')\n",
    "reader.Update()\n",
    "polydata4 = reader.GetOutput()\n",
    "\n",
    "reader = vtk.vtkPolyDataReader()\n",
    "reader.SetFileName('NOD_SHILTJ_.vtk')\n",
    "reader.Update()\n",
    "polydata5 = reader.GetOutput()\n",
    "\n",
    "print('Before number of points')\n",
    "print(polydata4.GetNumberOfPoints())\n",
    "print(polydata5.GetNumberOfPoints())\n",
    "\n",
    "f = vtk.vtkDecimatePro()\n",
    "f.SetTargetReduction(0.95)\n",
    "f.SetInputData(polydata4)\n",
    "f.Update()\n",
    "polydata4 = f.GetOutput()\n",
    "\n",
    "\n",
    "f = vtk.vtkDecimatePro()\n",
    "f.SetTargetReduction(0.95)\n",
    "f.SetInputData(polydata5)\n",
    "f.Update()\n",
    "polydata5 = f.GetOutput()\n",
    "\n",
    "print('After number of points')\n",
    "print(polydata4.GetNumberOfPoints())\n",
    "print(polydata5.GetNumberOfPoints())"
   ]
  },
  {
   "cell_type": "code",
   "execution_count": 15,
   "id": "ec26c291",
   "metadata": {
    "code_folding": []
   },
   "outputs": [
    {
     "name": "stdout",
     "output_type": "stream",
     "text": [
      "21397\n",
      "26620\n"
     ]
    }
   ],
   "source": [
    "# For cleaning the mesh\n",
    "\n",
    "gfilter1 = vtk.vtkTriangleFilter()\n",
    "gfilter1.SetInputData(polydata4)\n",
    "gfilter1.SetPassLines(False)\n",
    "gfilter1.SetPassVerts(False)\n",
    "gfilter1.Update()\n",
    "polydata4 = gfilter1.GetOutput()\n",
    "\n",
    "# cleaner = vtk.vtkCleanPolyData()\n",
    "# cleaner.SetInputData(polydata4)\n",
    "# cleaner.SetTolerance(0.0001)\n",
    "# cleaner.Update()\n",
    "# polydata4 = cleaner.GetOutput()\n",
    "\n",
    "\n",
    "w = vtk.vtkPolyDataWriter()\n",
    "w.SetFileName('A_J_skull_95.vtk')\n",
    "w.SetFileVersion(42)\n",
    "w.SetInputData(polydata4)\n",
    "w.Update()\n",
    "\n",
    "gfilter1 = vtk.vtkTriangleFilter()\n",
    "gfilter1.SetInputData(polydata5)\n",
    "gfilter1.SetPassLines(False)\n",
    "gfilter1.SetPassVerts(False)\n",
    "gfilter1.Update()\n",
    "polydata5 = gfilter1.GetOutput()\n",
    "\n",
    "# cleaner = vtk.vtkCleanPolyData()\n",
    "# cleaner.SetInputData(polydata5)\n",
    "# cleaner.SetTolerance(0.0001)\n",
    "# cleaner.Update()\n",
    "# polydata5 = cleaner.GetOutput()\n",
    "\n",
    "\n",
    "w = vtk.vtkPolyDataWriter()\n",
    "w.SetFileName('NOD_SHILTJ_95.vtk')\n",
    "w.SetFileVersion(42)\n",
    "w.SetInputData(polydata5)\n",
    "w.Update()\n",
    "\n",
    "print(polydata4.GetNumberOfPoints())\n",
    "print(polydata5.GetNumberOfPoints())"
   ]
  },
  {
   "cell_type": "code",
   "execution_count": 24,
   "id": "d168ed0a",
   "metadata": {},
   "outputs": [
    {
     "name": "stdout",
     "output_type": "stream",
     "text": [
      "(1.0, -1.0, 1.0, -1.0, 1.0, -1.0)\n",
      "(1.0, -1.0, 1.0, -1.0, 1.0, -1.0)\n"
     ]
    }
   ],
   "source": [
    "print(polydata4.GetBounds())\n",
    "print(polydata5.GetBounds())\n",
    "\n"
   ]
  },
  {
   "cell_type": "code",
   "execution_count": 36,
   "id": "339b1e9e",
   "metadata": {},
   "outputs": [
    {
     "name": "stdout",
     "output_type": "stream",
     "text": [
      "14.594230000000001 17.19802 17.412967\n"
     ]
    }
   ],
   "source": [
    "a = 17.8286 - 3.23437\n",
    "b = 19.0109 - 1.81288\n",
    "c = 18.197 - 0.784033\n",
    "\n",
    "print(a, b, c)"
   ]
  },
  {
   "cell_type": "code",
   "execution_count": 32,
   "id": "f587a702",
   "metadata": {},
   "outputs": [
    {
     "name": "stdout",
     "output_type": "stream",
     "text": [
      "(186793, 3)\n"
     ]
    },
    {
     "data": {
      "text/plain": [
       "(array([ 5187.,  9162.,  9864., 11144., 21413., 44660., 42279., 26257.,\n",
       "        14912.,  1915.]),\n",
       " array([ 3.23437 ,  4.693793,  6.153216,  7.612639,  9.072062, 10.531485,\n",
       "        11.990908, 13.450331, 14.909754, 16.369177, 17.8286  ],\n",
       "       dtype=float32),\n",
       " <BarContainer object of 10 artists>)"
      ]
     },
     "execution_count": 32,
     "metadata": {},
     "output_type": "execute_result"
    },
    {
     "data": {
      "image/png": "[encoded data removed]",
      "text/plain": [
       "<Figure size 432x288 with 1 Axes>"
      ]
     },
     "metadata": {
      "needs_background": "light"
     },
     "output_type": "display_data"
    }
   ],
   "source": [
    "from vtk.util import numpy_support\n",
    "import matplotlib.pyplot as plt\n",
    "\n",
    "p1 = numpy_support.vtk_to_numpy(polydata5.GetPoints().GetData())\n",
    "print(p1.shape)\n",
    "\n",
    "plt.hist(p1[:, 0])"
   ]
  },
  {
   "cell_type": "code",
   "execution_count": 53,
   "id": "c572f104",
   "metadata": {
    "code_folding": []
   },
   "outputs": [
    {
     "name": "stdout",
     "output_type": "stream",
     "text": [
      "156161\n",
      "190584\n",
      "157212\n"
     ]
    },
    {
     "data": {
      "application/vnd.jupyter.widget-view+json": {
       "model_id": "ac3f669d4b25467192c4f6dcf40cf8ff",
       "version_major": 2,
       "version_minor": 0
      },
      "text/plain": [
       "Viewer(geometries=[{'vtkClass': 'vtkPolyData', 'points': {'vtkClass': 'vtkPoints', 'name': '_points', 'numberO…"
      ]
     },
     "metadata": {},
     "output_type": "display_data"
    }
   ],
   "source": [
    "# [STAR] For testing on ALPACA sample\n",
    "\n",
    "#reader = vtk.vtkPLYReader()\n",
    "reader = vtk.vtkPolyDataReader()\n",
    "reader.SetFileName('A_J_skull_.vtk')\n",
    "reader.Update()\n",
    "polydata4 = reader.GetOutput()\n",
    "\n",
    "#reader = vtk.vtkPLYReader()\n",
    "reader = vtk.vtkPolyDataReader()\n",
    "reader.SetFileName('NOD_SHILTJ_.vtk')\n",
    "reader.Update()\n",
    "polydata5 = reader.GetOutput()\n",
    "\n",
    "# reader = vtk.vtkPolyDataReader()\n",
    "# reader.SetFileName('/home/pranjal.sahu/SlicerMorph/displacementMovingMesh.vtk')\n",
    "# reader.Update()\n",
    "# polydata6 = reader.GetOutput()\n",
    "\n",
    "reader = vtk.vtkPolyDataReader()\n",
    "reader.SetFileName('WarpedSourceMesh.vtk')\n",
    "reader.Update()\n",
    "polydata7 = reader.GetOutput()\n",
    "\n",
    "#print(polydata4.GetNumberOfPoints())\n",
    "print(polydata4.GetNumberOfPoints())\n",
    "print(polydata5.GetNumberOfPoints())\n",
    "print(polydata7.GetNumberOfPoints())\n",
    "\n",
    "#view(geometries=[polydata4,  polydata5, polydata6, polydata7])\n",
    "#view(geometries=[polydata4,  polydata5, polydata6])\n",
    "view(geometries=[polydata4, polydata5, polydata7])\n",
    "#view(geometries=[polydata4,  polydata7])"
   ]
  },
  {
   "cell_type": "code",
   "execution_count": 2,
   "id": "6cbf0f81",
   "metadata": {},
   "outputs": [
    {
     "name": "stdout",
     "output_type": "stream",
     "text": [
      "Final Euclidean Metric 2  0.11508942417020142\n"
     ]
    }
   ],
   "source": [
    "# reader = vtk.vtkPolyDataReader()\n",
    "# reader.SetFileName('NOD_SHILTJ_.vtk')\n",
    "# reader.Update()\n",
    "# polydata5 = reader.GetOutput()\n",
    "\n",
    "# reader = vtk.vtkPolyDataReader()\n",
    "# reader.SetFileName('WarpedSourceMesh.vtk')\n",
    "# reader.Update()\n",
    "# polydata7 = reader.GetOutput()\n",
    "import itk\n",
    "\n",
    "fixedMesh = itk.meshread('NOD_SHILTJ_.vtk')\n",
    "movingMesh = itk.meshread('WarpedSourceMesh.vtk')\n",
    "\n",
    "fixedPS = itk.PointSet.D3.New()\n",
    "movingPS = itk.PointSet.D3.New()\n",
    "\n",
    "fixedPS.SetPoints(fixedMesh.GetPoints())\n",
    "movingPS.SetPoints(movingMesh.GetPoints())\n",
    "\n",
    "e_metric = itk.EuclideanDistancePointSetToPointSetMetricv4.PSD3.New()\n",
    "e_metric.SetFixedPointSet(fixedPS)\n",
    "e_metric.SetMovingPointSet(movingPS)\n",
    "print('Final Euclidean Metric 2 ', e_metric.GetValue())"
   ]
  },
  {
   "cell_type": "code",
   "execution_count": 40,
   "id": "cf89d078",
   "metadata": {
    "code_folding": [
     0
    ]
   },
   "outputs": [
    {
     "name": "stdout",
     "output_type": "stream",
     "text": [
      "830\n",
      "938\n",
      "938\n"
     ]
    },
    {
     "data": {
      "application/vnd.jupyter.widget-view+json": {
       "model_id": "aa364d90abe34add8dda76215c35ebcf",
       "version_major": 2,
       "version_minor": 0
      },
      "text/plain": [
       "Viewer(geometries=[{'vtkClass': 'vtkPolyData', 'points': {'vtkClass': 'vtkPoints', 'name': '_points', 'numberO…"
      ]
     },
     "metadata": {},
     "output_type": "display_data"
    }
   ],
   "source": [
    "# [STAR] For testing on the ThinShell sample\n",
    "\n",
    "reader = vtk.vtkPolyDataReader()\n",
    "reader.SetFileName('/media/pranjal.sahu/moredata/ITK/Modules/External/ITKThinShellDemons/test/Baseline/fixedMesh.vtk')\n",
    "reader.Update()\n",
    "polydata4 = reader.GetOutput()\n",
    "\n",
    "reader = vtk.vtkPolyDataReader()\n",
    "reader.SetFileName('/media/pranjal.sahu/moredata/ITK/Modules/External/ITKThinShellDemons/test/Baseline/movingMesh.vtk')\n",
    "reader.Update()\n",
    "polydata5 = reader.GetOutput()\n",
    "\n",
    "reader = vtk.vtkPolyDataReader()\n",
    "reader.SetFileName('/media/pranjal.sahu/moredata/ITK/ITK-build/bin/displacedMovingMesh.vtk')\n",
    "reader.Update()\n",
    "polydata6 = reader.GetOutput()\n",
    "\n",
    "reader = vtk.vtkPolyDataReader()\n",
    "reader.SetFileName('/media/pranjal.sahu/moredata/ITK/ITK-build/bin/displacedMovingMesh1.vtk')\n",
    "reader.Update()\n",
    "polydata7 = reader.GetOutput()\n",
    "\n",
    "reader = vtk.vtkPolyDataReader()\n",
    "reader.SetFileName('/media/pranjal.sahu/moredata/ITK/ITK-build/Wrapping/Generators/Python/affineMovingMesh.vtk')\n",
    "reader.Update()\n",
    "polydata8 = reader.GetOutput()\n",
    "\n",
    "\n",
    "#print(polydata4.GetNumberOfPoints())\n",
    "print(polydata4.GetNumberOfPoints())\n",
    "print(polydata6.GetNumberOfPoints())\n",
    "print(polydata8.GetNumberOfPoints())\n",
    "#print(polydata7.GetNumberOfPoints())\n",
    "\n",
    "#view(geometries=[polydata4,  polydata5, polydata6, polydata7])\n",
    "#view(geometries=[polydata4,  polydata5, polydata6])\n",
    "#view(geometries=[polydata4, polydata5, polydata6, polydata7])\n",
    "#view(geometries=[polydata4,  polydata7])\n",
    "\n",
    "view(geometries=[polydata4, polydata5, polydata8])"
   ]
  },
  {
   "cell_type": "code",
   "execution_count": 36,
   "id": "19b78911",
   "metadata": {},
   "outputs": [],
   "source": [
    "reader = vtk.vtkPolyDataReader()\n",
    "reader.SetFileName('NOD_SHILTJ_temp5.vtk')\n",
    "reader.Update()\n",
    "polydata7 = reader.GetOutput()\n",
    "\n",
    "writer = vtk.vtkPLYWriter()\n",
    "writer.SetFileName('NOD_SHILTJ_temp5.ply')\n",
    "writer.SetInputData(polydata7)\n",
    "writer.Update()"
   ]
  },
  {
   "cell_type": "code",
   "execution_count": 10,
   "id": "d6ff50e8",
   "metadata": {
    "scrolled": false
   },
   "outputs": [
    {
     "name": "stdout",
     "output_type": "stream",
     "text": [
      "63676\n",
      "80934\n",
      "80934\n"
     ]
    },
    {
     "data": {
      "application/vnd.jupyter.widget-view+json": {
       "model_id": "8182520e0d6b4cbabbb45e197a109c40",
       "version_major": 2,
       "version_minor": 0
      },
      "text/plain": [
       "Viewer(geometries=[{'vtkClass': 'vtkPolyData', 'points': {'vtkClass': 'vtkPoints', 'name': '_points', 'numberO…"
      ]
     },
     "metadata": {},
     "output_type": "display_data"
    }
   ],
   "source": [
    "reader = vtk.vtkPolyDataReader()\n",
    "reader.SetFileName('A_J_skull_temp5.vtk')\n",
    "reader.Update()\n",
    "polydata7 = reader.GetOutput()\n",
    "\n",
    "reader = vtk.vtkPolyDataReader()\n",
    "reader.SetFileName('NOD_SHILTJ_temp5.vtk')\n",
    "reader.Update()\n",
    "polydata8 = reader.GetOutput()\n",
    "\n",
    "reader = vtk.vtkPolyDataReader()\n",
    "#reader.SetFileName('/home/pranjal.sahu/SlicerMorph/allmeshresults/displacementMovingMesh_600-0.001-0.001-0.001-0.001-0.07106161032147815.vtk')\n",
    "#reader.SetFileName('/home/pranjal.sahu/SlicerMorph/allmeshresults/displacementMovingMesh_700-0.001-0.001-0.001-0.001-0.08031471544874559.vtk')\n",
    "#reader.SetFileName('/home/pranjal.sahu/SlicerMorph/allmeshresults/displacementMovingMesh_800-0.001-0.001-0.001-0.001-0.08250421639924699.vtk')\n",
    "#reader.SetFileName('/home/pranjal.sahu/SlicerMorph/allmeshresults/displacementMovingMesh_800-0.001-0.001-0.001-0.001-0.08186036051193908.vtk')\n",
    "#reader.SetFileName('/media/pranjal.sahu/moredata/ITK/ITK-build/Wrapping/Generators/Python/allmeshresults/displacementMovingMesh_800-0.001-0.001-0.001-0.001-0.08250421639924699.vtk')\n",
    "#reader.SetFileName('/media/pranjal.sahu/moredata/ITK/ITK-build/Wrapping/Generators/Python/allmeshresults/displacementMovingMesh_800-0.004-0.004-0.006-0.001-0.10854185643814045.vtk')\n",
    "#reader.SetFileName('displacementMovingMesh_reverse_800-0.002-0.002-0.001-0.002-0.11736897839342039.vtk')\n",
    "#reader.SetFileName('displacementMovingMesh_reverse_1000-0.001-0.001-0.001-0.0005-0.10660825724771353.vtk')\n",
    "#reader.SetFileName('./allmeshresults/displacementMovingMesh_reverse_400-0.01-0.01-0.001-0.01-0.12091795786630977.vtk')\n",
    "#reader.SetFileName('result.vtk')\n",
    "reader.SetFileName('/media/pranjal.sahu/moredata/ITKPR21/ITK/ITK-build/bin/affineMovingMesh.vtk')\n",
    "reader.Update()\n",
    "polydata9 = reader.GetOutput()\n",
    "\n",
    "\n",
    "reader = vtk.vtkPolyDataReader()\n",
    "reader.SetFileName('WarpedSourceMesh_temp5.vtk')\n",
    "reader.Update()\n",
    "polydata10 = reader.GetOutput()\n",
    "\n",
    "\n",
    "print(polydata7.GetNumberOfPoints())\n",
    "print(polydata8.GetNumberOfPoints())\n",
    "print(polydata9.GetNumberOfPoints())\n",
    "#print(polydata10.GetNumberOfPoints())\n",
    "\n",
    "#view(geometries=[polydata7, polydata8, polydata9, polydata10])\n",
    "#view(geometries=[polydata8, polydata9, polydata10])\n",
    "#view(geometries=[polydata7, polydata8, polydata9, polydata10])\n",
    "view(geometries=[polydata8, polydata9])"
   ]
  },
  {
   "cell_type": "code",
   "execution_count": 27,
   "id": "3683d424",
   "metadata": {},
   "outputs": [
    {
     "name": "stdout",
     "output_type": "stream",
     "text": [
      "(74, 73, 62, 3)\n"
     ]
    }
   ],
   "source": [
    "a = np.load('displacement_field.npy')\n",
    "print(a.shape)"
   ]
  },
  {
   "cell_type": "code",
   "execution_count": 34,
   "id": "49180209",
   "metadata": {},
   "outputs": [
    {
     "data": {
      "text/plain": [
       "<matplotlib.image.AxesImage at 0x7faf72748460>"
      ]
     },
     "execution_count": 34,
     "metadata": {},
     "output_type": "execute_result"
    },
    {
     "data": {
      "image/png": "[encoded data removed]",
      "text/plain": [
       "<Figure size 432x288 with 1 Axes>"
      ]
     },
     "metadata": {
      "needs_background": "light"
     },
     "output_type": "display_data"
    }
   ],
   "source": [
    "plt.imshow(a[:, :, 45, 0], cmap='gray')"
   ]
  },
  {
   "cell_type": "code",
   "execution_count": 33,
   "id": "977b04e5",
   "metadata": {},
   "outputs": [
    {
     "data": {
      "text/plain": [
       "<matplotlib.image.AxesImage at 0x7faf72da10d0>"
      ]
     },
     "execution_count": 33,
     "metadata": {},
     "output_type": "execute_result"
    },
    {
     "data": {
      "image/png": "[encoded data removed]",
      "text/plain": [
       "<Figure size 432x288 with 1 Axes>"
      ]
     },
     "metadata": {
      "needs_background": "light"
     },
     "output_type": "display_data"
    }
   ],
   "source": [
    "plt.imshow(a[:, :, 45, 0], cmap='gray')"
   ]
  },
  {
   "cell_type": "code",
   "execution_count": 7,
   "id": "a6499049",
   "metadata": {},
   "outputs": [
    {
     "name": "stdout",
     "output_type": "stream",
     "text": [
      "Final Euclidean Metric 2  0.1495193781721138\n"
     ]
    }
   ],
   "source": [
    "# [STAR] For comparing the Euclidean distance of original meshes\n",
    "\n",
    "fixedMesh = itk.meshread('A_J_skull_temp5.vtk', itk.D)\n",
    "movingMesh = itk.meshread('NOD_SHILTJ_temp5.vtk', itk.D)\n",
    "\n",
    "e_metric = itk.EuclideanDistancePointSetToPointSetMetricv4.PSD3.New()\n",
    "e_metric.SetFixedPointSet(fixedMesh)\n",
    "e_metric.SetMovingPointSet(movingMesh)\n",
    "print('Final Euclidean Metric 2 ', e_metric.GetValue())"
   ]
  },
  {
   "cell_type": "code",
   "execution_count": null,
   "id": "be832eba",
   "metadata": {},
   "outputs": [],
   "source": [
    "# [STAR] For using the ProcrustesAlignFilter\n",
    "\n",
    "# Get mean mesh\n",
    "FilterType = itk.MeshProcrustesAlignFilter[type(fixedMesh), type(fixedMesh)]\n",
    "filter1 = FilterType.New();\n",
    "\n",
    "filter1.SetNumberOfInputs(2);\n",
    "filter1.SetInput(0, fixedMesh);\n",
    "filter1.SetInput(1, movingMesh);\n",
    "\n",
    "# Set application-specific parameters\n",
    "filter1.SetConvergence(50.0);\n",
    "filter1.SetUseInitialAverageOff();\n",
    "filter1.SetUseNormalizationOff();\n",
    "filter1.SetUseScalingOff();\n",
    "\n",
    "# Run a single iteration to show that registration executes\n",
    "filter1.SetUseSingleIterationOn();\n",
    "filter1.Update();\n"
   ]
  },
  {
   "cell_type": "code",
   "execution_count": 125,
   "id": "a730d664",
   "metadata": {},
   "outputs": [
    {
     "name": "stdout",
     "output_type": "stream",
     "text": [
      "Final Euclidean Metric 2  0.14826701869407985\n"
     ]
    }
   ],
   "source": [
    "# [STAR] For comparing the Euclidean distance of the outputs\n",
    "\n",
    "fixedMesh = itk.meshread('A_J_skull_temp5.vtk', itk.D)\n",
    "#movingMesh = itk.meshread('/media/pranjal.sahu/moredata/ITK/ITK-build/bin/synMovingMesh.vtk', itk.D)\n",
    "movingMesh = itk.meshread('/media/pranjal.sahu/moredata/ITK/ITK-build/bin/synMovingMesh.vtk', itk.D)\n",
    "\n",
    "e_metric = itk.EuclideanDistancePointSetToPointSetMetricv4.PSD3.New()\n",
    "e_metric.SetFixedPointSet(fixedMesh)\n",
    "e_metric.SetMovingPointSet(movingMesh)\n",
    "print('Final Euclidean Metric 2 ', e_metric.GetValue())"
   ]
  },
  {
   "cell_type": "code",
   "execution_count": 114,
   "id": "9624e15c",
   "metadata": {},
   "outputs": [
    {
     "name": "stdout",
     "output_type": "stream",
     "text": [
      "Final Euclidean Metric 2  0.14203660580922842\n"
     ]
    }
   ],
   "source": [
    "# [STAR] For comparing the Euclidean distance of the outputs\n",
    "\n",
    "fixedMesh = itk.meshread('NOD_SHILTJ_temp5.vtk', itk.D)\n",
    "movingMesh = itk.meshread('WarpedSourceMesh_temp5.vtk', itk.D)\n",
    "\n",
    "e_metric = itk.EuclideanDistancePointSetToPointSetMetricv4.PSD3.New()\n",
    "e_metric.SetFixedPointSet(fixedMesh)\n",
    "e_metric.SetMovingPointSet(movingMesh)\n",
    "print('Final Euclidean Metric 2 ', e_metric.GetValue())"
   ]
  },
  {
   "cell_type": "code",
   "execution_count": 91,
   "id": "b88a20f5",
   "metadata": {},
   "outputs": [
    {
     "name": "stdout",
     "output_type": "stream",
     "text": [
      "(37, 37, 31, 3)\n"
     ]
    }
   ],
   "source": [
    "field = np.load('/media/pranjal.sahu/moredata/ITK/ITK-build/Wrapping/Generators/Python/displacement_field.npy')\n",
    "print(field.shape)"
   ]
  },
  {
   "cell_type": "code",
   "execution_count": 92,
   "id": "1d0ecee0",
   "metadata": {},
   "outputs": [
    {
     "data": {
      "text/plain": [
       "<matplotlib.image.AxesImage at 0x7f4808caa100>"
      ]
     },
     "execution_count": 92,
     "metadata": {},
     "output_type": "execute_result"
    },
    {
     "data": {
      "image/png": "[encoded data removed]",
      "text/plain": [
       "<Figure size 432x288 with 1 Axes>"
      ]
     },
     "metadata": {
      "needs_background": "light"
     },
     "output_type": "display_data"
    }
   ],
   "source": [
    "plt.imshow(field[12, :, :, 0], cmap='gray')"
   ]
  },
  {
   "cell_type": "code",
   "execution_count": 8,
   "id": "112fba08",
   "metadata": {},
   "outputs": [
    {
     "name": "stdout",
     "output_type": "stream",
     "text": [
      "169954 174916\n",
      "169954 174916\n"
     ]
    }
   ],
   "source": [
    "# For ICP registration\n",
    "\n",
    "Dimension = 3\n",
    "\n",
    "PointSetType = itk.PointSet[itk.F, Dimension]\n",
    "\n",
    "fixedMesh = itk.meshread('/home/pranjal.sahu/Downloads/129X1_SVJ_.vtk')\n",
    "movingMesh = itk.meshread('/home/pranjal.sahu/Downloads/129S1_SVIMJ_.vtk')\n",
    "\n",
    "fixedPS = PointSetType.New()\n",
    "movingPS = PointSetType.New()\n",
    "\n",
    "fixedPS.SetPoints(fixedMesh.GetPoints())\n",
    "movingPS.SetPoints(movingMesh.GetPoints())\n",
    "\n",
    "print(fixedMesh.GetNumberOfPoints(), movingMesh.GetNumberOfPoints())\n",
    "print(fixedPS.GetNumberOfPoints(), movingPS.GetNumberOfPoints())"
   ]
  },
  {
   "cell_type": "code",
   "execution_count": 35,
   "id": "bf3ad617",
   "metadata": {
    "scrolled": true
   },
   "outputs": [],
   "source": [
    "OptimizerType    = itk.LevenbergMarquardtOptimizer\n",
    "MetricType       = itk.EuclideanDistancePointSetToPointSetMetricv4[type(fixedPS)]\n",
    "#MetricType       = itk.EuclideanDistanceMetricv[type(fixedPS)]\n",
    "TransformType    = itk.Rigid3DTransform[itk.D]\n",
    "RegistrationType = itk.PointSetToPointSetRegistrationMethod[PointSetType, PointSetType]\n",
    "\n",
    "#print(MetricType)"
   ]
  },
  {
   "cell_type": "code",
   "execution_count": 23,
   "id": "dda42f44",
   "metadata": {},
   "outputs": [],
   "source": [
    "metric       = MetricType.New()\n",
    "transform    = TransformType.New()\n",
    "optimizer    = OptimizerType.New()\n",
    "registration = RegistrationType.New()"
   ]
  },
  {
   "cell_type": "code",
   "execution_count": 24,
   "id": "5b9f5064",
   "metadata": {},
   "outputs": [],
   "source": [
    "numberOfIterations = 100\n",
    "gradientTolerance  = 1e-5\n",
    "valueTolerance     = 1e-5   \n",
    "epsilonFunction    = 1e-6\n",
    "\n",
    "#optimizer.SetScales(scales)\n",
    "optimizer.SetNumberOfIterations(numberOfIterations)\n",
    "optimizer.SetValueTolerance(valueTolerance)\n",
    "optimizer.SetGradientTolerance(gradientTolerance)\n",
    "optimizer.SetEpsilonFunction(epsilonFunction)"
   ]
  },
  {
   "cell_type": "code",
   "execution_count": 31,
   "id": "6592a0a5",
   "metadata": {},
   "outputs": [
    {
     "ename": "TypeError",
     "evalue": "in method 'itkObjectToObjectMetric33_SetMovingTransform', argument 2 of type 'itkTransformD33 *'",
     "output_type": "error",
     "traceback": [
      "\u001b[0;31m---------------------------------------------------------------------------\u001b[0m",
      "\u001b[0;31mTypeError\u001b[0m                                 Traceback (most recent call last)",
      "\u001b[0;32m/tmp/ipykernel_1077548/1734760750.py\u001b[0m in \u001b[0;36m<module>\u001b[0;34m\u001b[0m\n\u001b[1;32m      1\u001b[0m \u001b[0mmetric\u001b[0m\u001b[0;34m.\u001b[0m\u001b[0mSetFixedPointSet\u001b[0m\u001b[0;34m(\u001b[0m\u001b[0mfixedPS\u001b[0m\u001b[0;34m)\u001b[0m\u001b[0;34m\u001b[0m\u001b[0;34m\u001b[0m\u001b[0m\n\u001b[1;32m      2\u001b[0m \u001b[0mmetric\u001b[0m\u001b[0;34m.\u001b[0m\u001b[0mSetMovingPointSet\u001b[0m\u001b[0;34m(\u001b[0m\u001b[0mmovingPS\u001b[0m\u001b[0;34m)\u001b[0m\u001b[0;34m\u001b[0m\u001b[0;34m\u001b[0m\u001b[0m\n\u001b[0;32m----> 3\u001b[0;31m \u001b[0mmetric\u001b[0m\u001b[0;34m.\u001b[0m\u001b[0mSetMovingTransform\u001b[0m\u001b[0;34m(\u001b[0m\u001b[0mTransformType\u001b[0m\u001b[0;34m)\u001b[0m\u001b[0;34m\u001b[0m\u001b[0;34m\u001b[0m\u001b[0m\n\u001b[0m\u001b[1;32m      4\u001b[0m \u001b[0mmetric\u001b[0m\u001b[0;34m.\u001b[0m\u001b[0mInitialize\u001b[0m\u001b[0;34m(\u001b[0m\u001b[0;34m)\u001b[0m\u001b[0;34m\u001b[0m\u001b[0;34m\u001b[0m\u001b[0m\n",
      "\u001b[0;31mTypeError\u001b[0m: in method 'itkObjectToObjectMetric33_SetMovingTransform', argument 2 of type 'itkTransformD33 *'"
     ]
    }
   ],
   "source": [
    "metric.SetFixedPointSet(fixedPS)\n",
    "metric.SetMovingPointSet(movingPS)\n",
    "metric.SetMovingTransform(TransformType)\n",
    "metric.Initialize()"
   ]
  },
  {
   "cell_type": "code",
   "execution_count": 33,
   "id": "ccb2064f",
   "metadata": {},
   "outputs": [
    {
     "data": {
      "text/plain": [
       "itk.itkRigid3DTransformPython.itkRigid3DTransformD"
      ]
     },
     "execution_count": 33,
     "metadata": {},
     "output_type": "execute_result"
    }
   ],
   "source": [
    "AffineRegistrationType = itk.ImageRegistrationMethodv4.REGv4D3D3TD3D3MD3.New()\n",
    "registration = AffineRegistrationType.New()\n",
    "registration.SetNumberOfLevels(1)\n",
    "registration.SetObjectName(\"registration\")\n",
    "registration.SetFixedPointSet(movingMesh)\n",
    "registration.SetMovingPointSet(fixedMesh)\n",
    "registration.SetInitialTransform(transform)\n",
    "registration.SetMetric(metric)\n",
    "registration.SetOptimizer(optimizer)"
   ]
  },
  {
   "cell_type": "code",
   "execution_count": 25,
   "id": "25d53498",
   "metadata": {},
   "outputs": [
    {
     "ename": "TypeError",
     "evalue": "in method 'itkPointSetToPointSetRegistrationMethodREGF3F3_SetMetric', argument 2 of type 'itkPointSetToPointSetMetricPSF3 *'",
     "output_type": "error",
     "traceback": [
      "\u001b[0;31m---------------------------------------------------------------------------\u001b[0m",
      "\u001b[0;31mTypeError\u001b[0m                                 Traceback (most recent call last)",
      "\u001b[0;32m/tmp/ipykernel_1077548/196864972.py\u001b[0m in \u001b[0;36m<module>\u001b[0;34m\u001b[0m\n\u001b[1;32m     11\u001b[0m \u001b[0mtransform\u001b[0m\u001b[0;34m.\u001b[0m\u001b[0mSetIdentity\u001b[0m\u001b[0;34m(\u001b[0m\u001b[0;34m)\u001b[0m\u001b[0;34m\u001b[0m\u001b[0;34m\u001b[0m\u001b[0m\n\u001b[1;32m     12\u001b[0m \u001b[0mregistration\u001b[0m\u001b[0;34m.\u001b[0m\u001b[0mSetInitialTransformParameters\u001b[0m\u001b[0;34m(\u001b[0m\u001b[0mtransform\u001b[0m\u001b[0;34m.\u001b[0m\u001b[0mGetParameters\u001b[0m\u001b[0;34m(\u001b[0m\u001b[0;34m)\u001b[0m\u001b[0;34m)\u001b[0m\u001b[0;34m\u001b[0m\u001b[0;34m\u001b[0m\u001b[0m\n\u001b[0;32m---> 13\u001b[0;31m \u001b[0mregistration\u001b[0m\u001b[0;34m.\u001b[0m\u001b[0mSetMetric\u001b[0m\u001b[0;34m(\u001b[0m\u001b[0mmetric\u001b[0m\u001b[0;34m)\u001b[0m\u001b[0;34m\u001b[0m\u001b[0;34m\u001b[0m\u001b[0m\n\u001b[0m\u001b[1;32m     14\u001b[0m \u001b[0mregistration\u001b[0m\u001b[0;34m.\u001b[0m\u001b[0mSetOptimizer\u001b[0m\u001b[0;34m(\u001b[0m\u001b[0moptimizer\u001b[0m\u001b[0;34m)\u001b[0m\u001b[0;34m\u001b[0m\u001b[0;34m\u001b[0m\u001b[0m\n\u001b[1;32m     15\u001b[0m \u001b[0mregistration\u001b[0m\u001b[0;34m.\u001b[0m\u001b[0mSetTransform\u001b[0m\u001b[0;34m(\u001b[0m\u001b[0mtransform\u001b[0m\u001b[0;34m)\u001b[0m\u001b[0;34m\u001b[0m\u001b[0;34m\u001b[0m\u001b[0m\n",
      "\u001b[0;31mTypeError\u001b[0m: in method 'itkPointSetToPointSetRegistrationMethodREGF3F3_SetMetric', argument 2 of type 'itkPointSetToPointSetMetricPSF3 *'"
     ]
    }
   ],
   "source": [
    "def iteration_update():\n",
    "    metric_value = optimizer.GetValue()\n",
    "    current_parameters = optimizer.GetCurrentPosition()\n",
    "    print(f\"Metric: {metric_value:.8g}\")\n",
    "\n",
    "iteration_command = itk.PyCommand.New()\n",
    "iteration_command.SetCommandCallable(iteration_update)\n",
    "optimizer.AddObserver(itk.IterationEvent(), iteration_command)\n",
    "\n",
    "\n",
    "transform.SetIdentity()\n",
    "registration.SetInitialTransformParameters(transform.GetParameters())\n",
    "registration.SetMetric(metric)\n",
    "registration.SetOptimizer(optimizer)\n",
    "registration.SetTransform(transform)\n",
    "registration.SetFixedPointSet(fixedPointSet)\n",
    "registration.SetMovingPointSet(movingPointSet)\n",
    "registration.Update()"
   ]
  },
  {
   "cell_type": "code",
   "execution_count": 28,
   "id": "5dc3f9de",
   "metadata": {},
   "outputs": [
    {
     "ename": "TypeError",
     "evalue": "in method 'itkPointSetToPointSetRegistrationMethodREGF3F3_SetMetric', argument 2 of type 'itkPointSetToPointSetMetricPSF3 *'",
     "output_type": "error",
     "traceback": [
      "\u001b[0;31m---------------------------------------------------------------------------\u001b[0m",
      "\u001b[0;31mTypeError\u001b[0m                                 Traceback (most recent call last)",
      "\u001b[0;32m/tmp/ipykernel_1077548/3487054701.py\u001b[0m in \u001b[0;36m<module>\u001b[0;34m\u001b[0m\n\u001b[0;32m----> 1\u001b[0;31m \u001b[0mregistration\u001b[0m\u001b[0;34m.\u001b[0m\u001b[0mSetMetric\u001b[0m\u001b[0;34m(\u001b[0m\u001b[0mmetric\u001b[0m\u001b[0;34m)\u001b[0m\u001b[0;34m\u001b[0m\u001b[0;34m\u001b[0m\u001b[0m\n\u001b[0m",
      "\u001b[0;31mTypeError\u001b[0m: in method 'itkPointSetToPointSetRegistrationMethodREGF3F3_SetMetric', argument 2 of type 'itkPointSetToPointSetMetricPSF3 *'"
     ]
    }
   ],
   "source": [
    "registration.SetMetric(metric)"
   ]
  },
  {
   "cell_type": "code",
   "execution_count": 29,
   "id": "f69f5004",
   "metadata": {},
   "outputs": [
    {
     "data": {
      "text/plain": [
       "itk.itkEuclideanDistancePointSetToPointSetMetricPython.itkEuclideanDistancePointSetToPointSetMetricv4PSF3"
      ]
     },
     "execution_count": 29,
     "metadata": {},
     "output_type": "execute_result"
    }
   ],
   "source": [
    "type(metric)"
   ]
  },
  {
   "cell_type": "code",
   "execution_count": 30,
   "id": "c5cbd6ef",
   "metadata": {},
   "outputs": [
    {
     "data": {
      "text/plain": [
       "itk.itkPointSetToPointSetRegistrationMethodPython.itkPointSetToPointSetRegistrationMethodREGF3F3"
      ]
     },
     "execution_count": 30,
     "metadata": {},
     "output_type": "execute_result"
    }
   ],
   "source": [
    "type(registration)"
   ]
  },
  {
   "cell_type": "code",
   "execution_count": 23,
   "id": "fe6fe6c2",
   "metadata": {
    "code_folding": [
     38,
     138
    ]
   },
   "outputs": [
    {
     "name": "stdout",
     "output_type": "stream",
     "text": [
      "Loading target: /home/pranjal.sahu/Downloads/B6129PF1_J_.ply\n",
      "Distance after bounding box alignment  1.543693709016135\n",
      "Best Distance  0.7534908978451943\n"
     ]
    }
   ],
   "source": [
    "# [STAR] VTK based point cloud alignment\n",
    "\n",
    "import vtkmodules.vtkInteractionStyle\n",
    "# noinspection PyUnresolvedReferences\n",
    "import vtkmodules.vtkRenderingOpenGL2\n",
    "from vtkmodules.vtkCommonColor import vtkNamedColors\n",
    "from vtkmodules.vtkCommonCore import (\n",
    "    VTK_DOUBLE_MAX,\n",
    "    vtkPoints\n",
    ")\n",
    "from vtkmodules.vtkCommonDataModel import (\n",
    "    vtkIterativeClosestPointTransform,\n",
    "    vtkPolyData\n",
    ")\n",
    "from vtkmodules.vtkCommonTransforms import (\n",
    "    vtkLandmarkTransform,\n",
    "    vtkTransform\n",
    ")\n",
    "from vtkmodules.vtkFiltersGeneral import (\n",
    "    vtkOBBTree,\n",
    "    vtkTransformPolyDataFilter\n",
    ")\n",
    "from vtkmodules.vtkFiltersModeling import vtkHausdorffDistancePointSetFilter\n",
    "from vtkmodules.vtkIOGeometry import (\n",
    "    vtkBYUReader,\n",
    "    vtkOBJReader,\n",
    "    vtkSTLReader\n",
    ")\n",
    "from vtkmodules.vtkIOPLY import vtkPLYReader\n",
    "from vtkmodules.vtkRenderingCore import (\n",
    "    vtkActor,\n",
    "    vtkDataSetMapper,\n",
    "    vtkRenderWindow,\n",
    "    vtkRenderWindowInteractor,\n",
    "    vtkRenderer\n",
    ")\n",
    "\n",
    "\n",
    "def ReadPolyData(file_name):\n",
    "    import os\n",
    "    path, extension = os.path.splitext(file_name)\n",
    "    extension = extension.lower()\n",
    "    if extension == \".ply\":\n",
    "        reader = vtkPLYReader()\n",
    "        reader.SetFileName(file_name)\n",
    "        reader.Update()\n",
    "        poly_data = reader.GetOutput()\n",
    "    elif extension == \".vtp\":\n",
    "        reader = vtkXMLpoly_dataReader()\n",
    "        reader.SetFileName(file_name)\n",
    "        reader.Update()\n",
    "        poly_data = reader.GetOutput()\n",
    "    elif extension == \".obj\":\n",
    "        reader = vtkOBJReader()\n",
    "        reader.SetFileName(file_name)\n",
    "        reader.Update()\n",
    "        poly_data = reader.GetOutput()\n",
    "    elif extension == \".stl\":\n",
    "        reader = vtkSTLReader()\n",
    "        reader.SetFileName(file_name)\n",
    "        reader.Update()\n",
    "        poly_data = reader.GetOutput()\n",
    "    elif extension == \".vtk\":\n",
    "        reader = vtk.vtkPolyDataReader()\n",
    "        reader.SetFileName(file_name)\n",
    "        reader.Update()\n",
    "        poly_data = reader.GetOutput()\n",
    "    elif extension == \".g\":\n",
    "        reader = vtkBYUReader()\n",
    "        reader.SetGeometryFileName(file_name)\n",
    "        reader.Update()\n",
    "        poly_data = reader.GetOutput()\n",
    "    else:\n",
    "        # Return a None if the extension is unknown.\n",
    "        poly_data = None\n",
    "    return poly_data\n",
    "\n",
    "def AlignBoundingBoxes(source, target):\n",
    "    # Use OBBTree to create an oriented bounding box for target and source\n",
    "    sourceOBBTree = vtkOBBTree()\n",
    "    sourceOBBTree.SetDataSet(source)\n",
    "    sourceOBBTree.SetMaxLevel(1)\n",
    "    sourceOBBTree.BuildLocator()\n",
    "\n",
    "    targetOBBTree = vtkOBBTree()\n",
    "    targetOBBTree.SetDataSet(target)\n",
    "    targetOBBTree.SetMaxLevel(1)\n",
    "    targetOBBTree.BuildLocator()\n",
    "\n",
    "    sourceLandmarks = vtkPolyData()\n",
    "    sourceOBBTree.GenerateRepresentation(0, sourceLandmarks)\n",
    "\n",
    "    targetLandmarks = vtkPolyData()\n",
    "    targetOBBTree.GenerateRepresentation(0, targetLandmarks)\n",
    "\n",
    "    lmTransform = vtkLandmarkTransform()\n",
    "    lmTransform.SetModeToSimilarity()\n",
    "    lmTransform.SetTargetLandmarks(targetLandmarks.GetPoints())\n",
    "    # lmTransformPD = vtkTransformPolyDataFilter()\n",
    "    bestDistance = VTK_DOUBLE_MAX\n",
    "    bestPoints = vtkPoints()\n",
    "    bestDistance = BestBoundingBox(\n",
    "        \"X\",\n",
    "        target,\n",
    "        source,\n",
    "        targetLandmarks,\n",
    "        sourceLandmarks,\n",
    "        bestDistance,\n",
    "        bestPoints)\n",
    "    bestDistance = BestBoundingBox(\n",
    "        \"Y\",\n",
    "        target,\n",
    "        source,\n",
    "        targetLandmarks,\n",
    "        sourceLandmarks,\n",
    "        bestDistance,\n",
    "        bestPoints)\n",
    "    bestDistance = BestBoundingBox(\n",
    "        \"Z\",\n",
    "        target,\n",
    "        source,\n",
    "        targetLandmarks,\n",
    "        sourceLandmarks,\n",
    "        bestDistance,\n",
    "        bestPoints)\n",
    "\n",
    "    lmTransform.SetSourceLandmarks(bestPoints)\n",
    "    lmTransform.Modified()\n",
    "\n",
    "    transformPD = vtkTransformPolyDataFilter()\n",
    "    transformPD.SetInputData(source)\n",
    "    transformPD.SetTransform(lmTransform)\n",
    "    transformPD.Update()\n",
    "\n",
    "    source.DeepCopy(transformPD.GetOutput())\n",
    "\n",
    "    return\n",
    "\n",
    "def BestBoundingBox(axis, target, source, targetLandmarks, sourceLandmarks, bestDistance, bestPoints):\n",
    "    distance = vtkHausdorffDistancePointSetFilter()\n",
    "    testTransform = vtkTransform()\n",
    "    testTransformPD = vtkTransformPolyDataFilter()\n",
    "    lmTransform = vtkLandmarkTransform()\n",
    "    lmTransformPD = vtkTransformPolyDataFilter()\n",
    "\n",
    "    lmTransform.SetModeToSimilarity()\n",
    "    lmTransform.SetTargetLandmarks(targetLandmarks.GetPoints())\n",
    "\n",
    "    sourceCenter = sourceLandmarks.GetCenter()\n",
    "\n",
    "    delta = 90.0\n",
    "    for i in range(0, 4):\n",
    "        angle = delta * i\n",
    "        # Rotate about center\n",
    "        testTransform.Identity()\n",
    "        testTransform.Translate(sourceCenter[0], sourceCenter[1], sourceCenter[2])\n",
    "        if axis == \"X\":\n",
    "            testTransform.RotateX(angle)\n",
    "        elif axis == \"Y\":\n",
    "            testTransform.RotateY(angle)\n",
    "        else:\n",
    "            testTransform.RotateZ(angle)\n",
    "        testTransform.Translate(-sourceCenter[0], -sourceCenter[1], -sourceCenter[2])\n",
    "\n",
    "        testTransformPD.SetTransform(testTransform)\n",
    "        testTransformPD.SetInputData(sourceLandmarks)\n",
    "        testTransformPD.Update()\n",
    "\n",
    "        lmTransform.SetSourceLandmarks(testTransformPD.GetOutput().GetPoints())\n",
    "        lmTransform.Modified()\n",
    "\n",
    "        lmTransformPD.SetInputData(source)\n",
    "        lmTransformPD.SetTransform(lmTransform)\n",
    "        lmTransformPD.Update()\n",
    "\n",
    "        distance.SetInputData(0, target)\n",
    "        distance.SetInputData(1, lmTransformPD.GetOutput())\n",
    "        distance.Update()\n",
    "\n",
    "        testDistance = distance.GetOutput(0).GetFieldData().GetArray(\"HausdorffDistance\").GetComponent(0, 0)\n",
    "        if testDistance < bestDistance:\n",
    "            bestDistance = testDistance\n",
    "            bestPoints.DeepCopy(testTransformPD.GetOutput().GetPoints())\n",
    "\n",
    "    return bestDistance\n",
    "\n",
    "src_fn = '/home/pranjal.sahu/Downloads/A_J_skull_.ply'\n",
    "tgt_fn = '/home/pranjal.sahu/Downloads/B6129PF1_J_.ply'\n",
    "\n",
    "sourcePolyData = ReadPolyData(src_fn)\n",
    "\n",
    "# Save the source polydata in case the align does not improve\n",
    "# segmentation\n",
    "originalSourcePolyData = vtkPolyData()\n",
    "originalSourcePolyData.DeepCopy(sourcePolyData)\n",
    "\n",
    "print('Loading target:', tgt_fn)\n",
    "targetPolyData = ReadPolyData(tgt_fn)\n",
    "\n",
    "# If the target orientation is markedly different,\n",
    "# you may need to apply a transform to orient the\n",
    "# target with the source.\n",
    "# For example, when using Grey_Nurse_Shark.stl as the source and\n",
    "# greatWhite.stl as the target, you need to uncomment the following\n",
    "# two rotations.\n",
    "trnf = vtkTransform()\n",
    "trnf.RotateX(90)\n",
    "#trnf.RotateY(-90)\n",
    "tpd = vtkTransformPolyDataFilter()\n",
    "tpd.SetTransform(trnf)\n",
    "tpd.SetInputData(targetPolyData)\n",
    "tpd.Update()\n",
    "\n",
    "renderer = vtkRenderer()\n",
    "renderWindow = vtkRenderWindow()\n",
    "renderWindow.AddRenderer(renderer)\n",
    "interactor = vtkRenderWindowInteractor()\n",
    "interactor.SetRenderWindow(renderWindow)\n",
    "\n",
    "distance = vtkHausdorffDistancePointSetFilter()\n",
    "distance.SetInputData(0, tpd.GetOutput())\n",
    "distance.SetInputData(1, sourcePolyData)\n",
    "distance.Update()\n",
    "\n",
    "distanceBeforeAlign = distance.GetOutput(0).GetFieldData().GetArray('HausdorffDistance').GetComponent(0, 0)\n",
    "\n",
    "# Get initial alignment using oriented bounding boxes\n",
    "AlignBoundingBoxes(sourcePolyData, tpd.GetOutput())\n",
    "\n",
    "distance.SetInputData(0, tpd.GetOutput())\n",
    "distance.SetInputData(1, sourcePolyData)\n",
    "distance.Modified()\n",
    "distance.Update()\n",
    "distanceAfterAlign = distance.GetOutput(0).GetFieldData().GetArray('HausdorffDistance').GetComponent(0, 0)\n",
    "\n",
    "bestDistance = min(distanceBeforeAlign, distanceAfterAlign)\n",
    "\n",
    "\n",
    "print('Distance after bounding box alignment ', bestDistance)\n",
    "if distanceAfterAlign > distanceBeforeAlign:\n",
    "    sourcePolyData.DeepCopy(originalSourcePolyData)\n",
    "\n",
    "# Refine the alignment using IterativeClosestPoint\n",
    "icp = vtkIterativeClosestPointTransform()\n",
    "icp.SetSource(sourcePolyData)\n",
    "icp.SetTarget(tpd.GetOutput())\n",
    "icp.GetLandmarkTransform().SetModeToRigidBody()\n",
    "icp.SetMaximumNumberOfLandmarks(500)\n",
    "icp.SetMaximumMeanDistance(.00001)\n",
    "icp.SetMaximumNumberOfIterations(100)\n",
    "icp.CheckMeanDistanceOn()\n",
    "icp.StartByMatchingCentroidsOn()\n",
    "icp.Update()\n",
    "\n",
    "#print(icp)\n",
    "\n",
    "lmTransform = icp.GetLandmarkTransform()\n",
    "transform = vtkTransformPolyDataFilter()\n",
    "transform.SetInputData(sourcePolyData)\n",
    "transform.SetTransform(lmTransform)\n",
    "transform.SetTransform(icp)\n",
    "transform.Update()\n",
    "\n",
    "distance.SetInputData(0, tpd.GetOutput())\n",
    "distance.SetInputData(1, transform.GetOutput())\n",
    "distance.Update()\n",
    "\n",
    "distanceAfterICP = distance.GetOutput(0).GetFieldData().GetArray('HausdorffDistance').GetComponent(0, 0)\n",
    "\n",
    "if distanceAfterICP < bestDistance:\n",
    "    bestDistance = distanceAfterICP\n",
    "\n",
    "print('Best Distance ', bestDistance)"
   ]
  },
  {
   "cell_type": "code",
   "execution_count": 24,
   "id": "52a871a9",
   "metadata": {},
   "outputs": [
    {
     "data": {
      "application/vnd.jupyter.widget-view+json": {
       "model_id": "3130fc767625455f8301f27b8afab5a3",
       "version_major": 2,
       "version_minor": 0
      },
      "text/plain": [
       "Viewer(geometries=[{'vtkClass': 'vtkPolyData', 'points': {'vtkClass': 'vtkPoints', 'name': '_points', 'numberO…"
      ]
     },
     "metadata": {},
     "output_type": "display_data"
    }
   ],
   "source": [
    "view(geometries=[tpd.GetOutput(),  transform.GetOutput()])"
   ]
  },
  {
   "cell_type": "code",
   "execution_count": 9,
   "id": "b070e640",
   "metadata": {},
   "outputs": [
    {
     "data": {
      "application/vnd.jupyter.widget-view+json": {
       "model_id": "9170765606ee4f1ab1b534d1779bb3e2",
       "version_major": 2,
       "version_minor": 0
      },
      "text/plain": [
       "Viewer(geometries=[{'vtkClass': 'vtkPolyData', 'points': {'vtkClass': 'vtkPoints', 'name': '_points', 'numberO…"
      ]
     },
     "metadata": {},
     "output_type": "display_data"
    }
   ],
   "source": [
    "import itk\n",
    "import vtk\n",
    "\n",
    "reader = vtk.vtkPLYReader()\n",
    "reader.SetFileName('/home/pranjal.sahu/Downloads/A_J_skull_.ply')\n",
    "reader.Update()\n",
    "a = reader.GetOutput()\n",
    "        \n",
    "\n",
    "reader = vtk.vtkPLYReader()\n",
    "reader.SetFileName('/home/pranjal.sahu/Downloads/B6129SF1_J_.ply')\n",
    "reader.Update()\n",
    "b = reader.GetOutput()\n",
    "\n",
    "#a = itk.meshread('/home/pranjal.sahu/SlicerMorph/A_J_skull_.vtk')\n",
    "#b = itk.meshread('/home/pranjal.sahu/SlicerMorph/NOD_SHILTJ_.vtk')\n",
    "\n",
    "#print(b)\n",
    "view(geometries=[a, b])"
   ]
  },
  {
   "cell_type": "code",
   "execution_count": 18,
   "id": "e0378e58",
   "metadata": {},
   "outputs": [
    {
     "data": {
      "application/vnd.jupyter.widget-view+json": {
       "model_id": "e5f7932698634dab81d93f06af0b59e7",
       "version_major": 2,
       "version_minor": 0
      },
      "text/plain": [
       "Viewer(geometries=[{'vtkClass': 'vtkPolyData', 'points': {'vtkClass': 'vtkPoints', 'name': '_points', 'numberO…"
      ]
     },
     "metadata": {},
     "output_type": "display_data"
    }
   ],
   "source": [
    "view(geometries=[tpd.GetOutput(), transform.GetOutput()])"
   ]
  },
  {
   "cell_type": "code",
   "execution_count": null,
   "id": "97d33844",
   "metadata": {},
   "outputs": [],
   "source": []
  }
 ],
 "metadata": {
  "kernelspec": {
   "display_name": "Python 3 (ipykernel)",
   "language": "python",
   "name": "python3"
  },
  "language_info": {
   "codemirror_mode": {
    "name": "ipython",
    "version": 3
   },
   "file_extension": ".py",
   "mimetype": "text/x-python",
   "name": "python",
   "nbconvert_exporter": "python",
   "pygments_lexer": "ipython3",
   "version": "3.8.12"
  }
 },
 "nbformat": 4,
 "nbformat_minor": 5
}
