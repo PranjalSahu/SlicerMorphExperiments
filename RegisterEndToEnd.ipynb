{
 "cells": [
  {
   "cell_type": "code",
   "execution_count": 84,
   "metadata": {
    "code_folding": [],
    "id": "JENnhF80aBtG"
   },
   "outputs": [],
   "source": [
    "# Import all packages\n",
    "\n",
    "import numpy as np\n",
    "import itk\n",
    "import vtk\n",
    "import itkwidgets\n",
    "import math\n",
    "import matplotlib.pyplot as plt\n",
    "\n",
    "from joblib import Parallel, delayed\n",
    "import time\n",
    "import copy\n",
    "\n",
    "from vtk.util import numpy_support\n",
    "from vtk.util.numpy_support import numpy_to_vtk\n",
    "# To enable itkwidgets window\n",
    "#from google.colab import output\n",
    "#output.enable_custom_widget_manager()"
   ]
  },
  {
   "cell_type": "code",
   "execution_count": 2,
   "metadata": {
    "code_folding": [
     0,
     23,
     30,
     37
    ]
   },
   "outputs": [],
   "source": [
    "# Helper Functions\n",
    "\n",
    "\n",
    "# returns the points in numpy array\n",
    "def subsample_points_poisson(inputMesh, radius=4.5):\n",
    "    '''\n",
    "        Return sub-sampled points as numpy array.\n",
    "        The radius might need to be tuned as per the requirements.\n",
    "    '''\n",
    "    import vtk\n",
    "    from vtk.util import numpy_support\n",
    "\n",
    "    f = vtk.vtkPoissonDiskSampler()\n",
    "    f.SetInputData(inputMesh)\n",
    "    f.SetRadius(radius)\n",
    "    f.Update()\n",
    "\n",
    "    sampled_points = f.GetOutput()\n",
    "    points = sampled_points.GetPoints()\n",
    "    pointdata = points.GetData()\n",
    "    as_numpy = numpy_support.vtk_to_numpy(pointdata)\n",
    "    return as_numpy\n",
    "\n",
    "def readvtk(filename):\n",
    "    a = vtk.vtkPolyDataReader()\n",
    "    a.SetFileName(filename)\n",
    "    a.Update()\n",
    "    m1 = a.GetOutput()\n",
    "    return m1\n",
    "\n",
    "def readply(filename):\n",
    "    a = vtk.vtkPLYReader()\n",
    "    a.SetFileName(filename)\n",
    "    a.Update()\n",
    "    m1 = a.GetOutput()\n",
    "    return m1\n",
    "\n",
    "def read_landmarks(filename):\n",
    "    '''\n",
    "        Reads the landmarks fscv file and converts the points to correct coordinate system.\n",
    "        Returns array of size N x 3\n",
    "    '''\n",
    "    import pandas as pd\n",
    "    df = pd.read_csv(filename, comment='#', header=None)\n",
    "\n",
    "    points_x = np.expand_dims(-1 * np.array(df[1].tolist()), -1)\n",
    "    points_y = np.expand_dims(-1 * np.array(df[2].tolist()), -1)\n",
    "    points_z = np.expand_dims(np.array(df[3].tolist()), -1)\n",
    "\n",
    "    points = np.concatenate([points_x, points_y, points_z], axis=1)\n",
    "\n",
    "    return points\n"
   ]
  },
  {
   "cell_type": "code",
   "execution_count": 198,
   "metadata": {},
   "outputs": [],
   "source": [
    "# File paths\n",
    "\n",
    "# moving mesh will remain constant which is the template mesh\n",
    "FIXED_MESH_FILE  = '/data/Apedata/CorrectData/data/Gorilla/meshes/USNM174715-Cranium_1.ply'\n",
    "MOVING_MESH_FILE = '/data/Apedata/CorrectData/data/Gorilla/meshes/USNM176211-Cranium.ply'\n",
    "FIXED_LANDMARK_FILE = '/data/Apedata/CorrectData/data/Gorilla/landmarks/USNM174715_LM1.fcsv'\n",
    "MOVING_LANDMARK_FILE = '/data/Apedata/CorrectData/data/Gorilla/landmarks/USNM176211_LM1.fcsv'\n",
    "\n",
    "paths = [FIXED_MESH_FILE, MOVING_MESH_FILE]"
   ]
  },
  {
   "cell_type": "code",
   "execution_count": 200,
   "metadata": {},
   "outputs": [],
   "source": [
    "# Read the landmarks and create mesh from them\n",
    "\n",
    "fixed_landmark = read_landmarks(FIXED_LANDMARK_FILE)\n",
    "moving_landmark = read_landmarks(MOVING_LANDMARK_FILE)\n",
    "\n",
    "fixed_landmark_mesh = itk.Mesh[itk.D, 3].New()\n",
    "moving_landmark_mesh = itk.Mesh[itk.D, 3].New()\n",
    "\n",
    "fixed_landmark_mesh.SetPoints(itk.vector_container_from_array(fixed_landmark.flatten().astype('float32')))\n",
    "moving_landmark_mesh.SetPoints(itk.vector_container_from_array(moving_landmark.flatten().astype('float32')))\n",
    "\n",
    "itk_landmarks = [fixed_landmark_mesh, moving_landmark_mesh]"
   ]
  },
  {
   "cell_type": "code",
   "execution_count": 201,
   "metadata": {
    "code_folding": [],
    "id": "9itj_30QsXIY"
   },
   "outputs": [],
   "source": [
    "# Write the meshes in vtk format so that they can be read in ITK\n",
    "\n",
    "vtk_meshes = list()\n",
    "\n",
    "for path in paths:\n",
    "    reader = vtk.vtkPLYReader()\n",
    "    reader.SetFileName(path)\n",
    "    reader.Update()\n",
    "    \n",
    "    vtk_mesh = reader.GetOutput()\n",
    "    vtk_meshes.append(vtk_mesh)\n",
    "    \n",
    "# Write back out to a filetype supported by ITK\n",
    "vtk_paths = [path.strip('.ply') + '.vtk' for path in paths]\n",
    "for idx, mesh in enumerate(vtk_meshes):\n",
    "    writer = vtk.vtkPolyDataWriter()\n",
    "    writer.SetInputData(mesh)\n",
    "    writer.SetFileVersion(42)\n",
    "    writer.SetFileTypeToBinary()\n",
    "    writer.SetFileName(vtk_paths[idx])\n",
    "    writer.Update()\n",
    "    \n",
    "itk_meshes = [itk.meshread(path, pixel_type=itk.D) for path in vtk_paths]"
   ]
  },
  {
   "cell_type": "code",
   "execution_count": 202,
   "metadata": {
    "code_folding": [],
    "id": "sLtfu8l3sZMH"
   },
   "outputs": [],
   "source": [
    "# Convert meshes to images for performing moment based initialization\n",
    "\n",
    "itk_transformed_meshes= []\n",
    "\n",
    "itk_images = []\n",
    "for i, mesh in enumerate(itk_meshes):\n",
    "    # Make all the points to positive coordinates\n",
    "    mesh_points = itk.array_from_vector_container(mesh.GetPoints())\n",
    "    m    = np.min(mesh_points, 0)\n",
    "    mesh_points = mesh_points - m\n",
    "    mesh.SetPoints(itk.vector_container_from_array(mesh_points.flatten()))\n",
    "    \n",
    "    # Apply same subtraction to landmark points\n",
    "    landmark_points = itk.array_from_vector_container(itk_landmarks[i].GetPoints())\n",
    "    landmark_points = landmark_points - m\n",
    "    itk_landmarks[i].SetPoints(itk.vector_container_from_array(landmark_points.flatten()))\n",
    "    \n",
    "    itk_transformed_meshes.append(mesh)\n",
    "    itk_image = itk.triangle_mesh_to_binary_image_filter(mesh,\n",
    "                                                      origin=[0, 0, 0],\n",
    "                                                      spacing=[1, 1, 1],\n",
    "                                                      size=[250, 250, 250])\n",
    "    itk_images.append(itk_image)\n",
    "    \n",
    "    \n",
    "    \n",
    "\n",
    "itk_transforms = list()\n",
    "\n",
    "for image in itk_images:\n",
    "    calculator = itk.ImageMomentsCalculator[type(image)].New()\n",
    "    calculator.SetImage(image)\n",
    "    calculator.Compute()\n",
    "    itk_transforms.append(calculator.GetPhysicalAxesToPrincipalAxesTransform())"
   ]
  },
  {
   "cell_type": "code",
   "execution_count": 203,
   "metadata": {
    "code_folding": [],
    "id": "SRFDbREzsa1y"
   },
   "outputs": [],
   "source": [
    "# Write the Moment based initialized meshes as vtk file\n",
    "\n",
    "itk_transformed_meshes = [\n",
    "    itk.transform_mesh_filter(mesh, transform=itk_transforms[idx])\n",
    "    for idx, mesh in enumerate(itk_meshes)\n",
    "]\n",
    "\n",
    "itk_transformed_landmarks = [\n",
    "    itk.transform_mesh_filter(mesh, transform=itk_transforms[idx])\n",
    "    for idx, mesh in enumerate(itk_landmarks)\n",
    "]\n",
    "\n",
    "fixedMesh = itk_transformed_meshes[0]\n",
    "movingMesh = itk_transformed_meshes[1]\n",
    "\n",
    "w1 = itk.MeshFileWriter[type(fixedMesh)].New()\n",
    "w1.SetFileName('fixedMesh.vtk')\n",
    "w1.SetFileTypeAsBINARY()\n",
    "w1.SetInput(fixedMesh)\n",
    "w1.Update()\n",
    "\n",
    "w1 = itk.MeshFileWriter[type(movingMesh)].New()\n",
    "w1.SetFileName('movingMesh.vtk')\n",
    "w1.SetFileTypeAsBINARY()\n",
    "w1.SetInput(movingMesh)\n",
    "w1.Update()\n",
    "\n",
    "fixedLandmarkMesh = itk_transformed_landmarks[0]\n",
    "movingLandmarkMesh = itk_transformed_landmarks[1]"
   ]
  },
  {
   "cell_type": "code",
   "execution_count": 204,
   "metadata": {},
   "outputs": [
    {
     "data": {
      "application/vnd.jupyter.widget-view+json": {
       "model_id": "",
       "version_major": 2,
       "version_minor": 0
      },
      "text/plain": [
       "Viewer(geometries=[{'vtkClass': 'vtkPolyData', 'points': {'vtkClass': 'vtkPoints', 'name': '_points', 'numberO…"
      ]
     },
     "metadata": {},
     "output_type": "display_data"
    }
   ],
   "source": [
    "movingMeshPath = 'movingMesh.vtk'\n",
    "fixedMeshPath = 'fixedMesh.vtk'\n",
    "\n",
    "movingMesh = readvtk(movingMeshPath)\n",
    "fixedMesh = readvtk(fixedMeshPath)\n",
    "\n",
    "itkwidgets.view(geometries=[movingMesh, fixedMesh])"
   ]
  },
  {
   "cell_type": "code",
   "execution_count": null,
   "metadata": {},
   "outputs": [],
   "source": [
    "\n",
    "def get_euclidean_distance():\n",
    "    mesh_fixed = itk.Mesh[itk.D, 3].New()\n",
    "    mesh_moving = itk.Mesh[itk.D, 3].New()\n",
    "\n",
    "    mesh_fixed.SetPoints(itk.vector_container_from_array(\n",
    "        fixedPoints.flatten()))\n",
    "    mesh_moving.SetPoints(\n",
    "        itk.vector_container_from_array(movingPoints.flatten()))\n",
    "\n",
    "    MetricType = itk.EuclideanDistancePointSetToPointSetMetricv4.PSD3\n",
    "    metric = MetricType.New()\n",
    "    metric.SetMovingPointSet(mesh_moving)\n",
    "    metric.SetFixedPointSet(mesh_fixed)\n",
    "    metric.Initialize()\n",
    "    \n",
    "    return metric.GetValue()\n",
    "\n",
    "movingMeshPath = 'movingMesh.vtk'\n",
    "fixedMeshPath = 'fixedMesh.vtk'\n",
    "\n",
    "movingMesh = readvtk(movingMeshPath)\n",
    "fixedMesh = readvtk(fixedMeshPath)\n",
    "\n",
    "movingMeshAllPoints = numpy_support.vtk_to_numpy(\n",
    "    movingMesh.GetPoints().GetData())\n",
    "\n",
    "# Sub-Sample the points\n",
    "movingPoints = subsample_points_poisson(movingMesh, radius=11.5)\n",
    "fixedPoints = subsample_points_poisson(fixedMesh, radius=11.5)\n",
    "\n",
    "print(movingPoints.shape, fixedPoints.shape, get_euclidean_distance())\n",
    "\n",
    "itkwidgets.view(point_sets=[fixedPoints, movingPoints])"
   ]
  },
  {
   "cell_type": "code",
   "execution_count": null,
   "metadata": {
    "scrolled": true
   },
   "outputs": [],
   "source": [
    "movingMeshPath = 'movingMesh.vtk'\n",
    "movingMeshScaledPath = 'movingMesh_scaled.vtk'\n",
    "fixedMeshPath = 'fixedMesh.vtk'\n",
    "\n",
    "movingMesh = readvtk(movingMeshPath)\n",
    "movingMesh_scaled = readvtk(movingMeshScaledPath)\n",
    "fixedMesh = readvtk(fixedMeshPath)\n",
    "\n",
    "itkwidgets.view(geometries=[fixedMesh, movingMesh, movingMesh_scaled])"
   ]
  },
  {
   "cell_type": "code",
   "execution_count": 210,
   "metadata": {},
   "outputs": [
    {
     "name": "stdout",
     "output_type": "stream",
     "text": [
      "(784, 3)\n"
     ]
    }
   ],
   "source": [
    "m1 = np.load('itk_transformed_points.npy')\n",
    "print(m1.shape)"
   ]
  },
  {
   "cell_type": "code",
   "execution_count": null,
   "metadata": {
    "code_folding": [
     22,
     83,
     215,
     224
    ],
    "scrolled": true
   },
   "outputs": [
    {
     "name": "stdout",
     "output_type": "stream",
     "text": [
      "(5036, 3) (4886, 3)\n",
      "(3557954, 3) float32\n",
      "(5036, 3) 3557954\n"
     ]
    }
   ],
   "source": [
    "# For performing RANSAC in parallel\n",
    "\n",
    "from vtk.util import numpy_support\n",
    "from vtk.util.numpy_support import numpy_to_vtk\n",
    "\n",
    "\n",
    "def get_euclidean_distance():\n",
    "    mesh_fixed = itk.Mesh[itk.D, 3].New()\n",
    "    mesh_moving = itk.Mesh[itk.D, 3].New()\n",
    "\n",
    "    mesh_fixed.SetPoints(itk.vector_container_from_array(\n",
    "        fixedPoints.flatten()))\n",
    "    mesh_moving.SetPoints(\n",
    "        itk.vector_container_from_array(movingPoints.flatten()))\n",
    "\n",
    "    MetricType = itk.EuclideanDistancePointSetToPointSetMetricv4.PSD3\n",
    "    metric = MetricType.New()\n",
    "    metric.SetMovingPointSet(mesh_moving)\n",
    "    metric.SetFixedPointSet(mesh_fixed)\n",
    "    metric.Initialize()\n",
    "    \n",
    "    return metric.GetValue()\n",
    "\n",
    "\n",
    "def final_iteration(fixedPoints, movingPoints, transform_type):\n",
    "    '''\n",
    "        Perform the final iteration of alignment.\n",
    "        \n",
    "        Args:\n",
    "            fixedPoints, movingPoints, transform_type: 0 or 1 or 2\n",
    "        Returns:\n",
    "            (tranformed movingPoints, tranform)\n",
    "    '''\n",
    "    mesh_fixed = itk.Mesh[itk.D, 3].New()\n",
    "    mesh_moving = itk.Mesh[itk.D, 3].New()\n",
    "\n",
    "    mesh_fixed.SetPoints(itk.vector_container_from_array(\n",
    "        fixedPoints.flatten()))\n",
    "    mesh_moving.SetPoints(\n",
    "        itk.vector_container_from_array(movingPoints.flatten()))\n",
    "\n",
    "    if transform_type == 0:\n",
    "        TransformType = itk.Euler3DTransform[itk.D]\n",
    "    elif transform_type == 1:\n",
    "        TransformType = itk.ScaleVersor3DTransform[itk.D]\n",
    "    elif transform_type == 2:\n",
    "        TransformType = itk.Similarity3DTransform[itk.D]\n",
    "\n",
    "    transform = TransformType.New()\n",
    "    transform.SetIdentity()\n",
    "\n",
    "    MetricType = itk.EuclideanDistancePointSetToPointSetMetricv4.PSD3\n",
    "    #MetricType = itk.PointToPlanePointSetToPointSetMetricv4.PSD3\n",
    "    metric = MetricType.New()\n",
    "    metric.SetMovingPointSet(mesh_moving)\n",
    "    metric.SetFixedPointSet(mesh_fixed)\n",
    "    metric.SetMovingTransform(transform)\n",
    "    metric.Initialize()\n",
    "\n",
    "    print('Initial Value ', metric.GetValue())\n",
    "    number_of_epochs = 5000\n",
    "    optimizer = itk.GradientDescentOptimizerv4Template[itk.D].New()\n",
    "    optimizer.SetNumberOfIterations(number_of_epochs)\n",
    "    optimizer.SetLearningRate(0.0001)\n",
    "    optimizer.SetMinimumConvergenceValue(0.0)\n",
    "    optimizer.SetConvergenceWindowSize(number_of_epochs)\n",
    "    optimizer.SetMetric(metric)\n",
    "\n",
    "    def print_iteration():\n",
    "        print(f\"It: {optimizer.GetCurrentIteration()}\"\n",
    "              f\" metric value: {optimizer.GetCurrentMetricValue():.6f} \")\n",
    "\n",
    "    optimizer.AddObserver(itk.IterationEvent(), print_iteration)\n",
    "    optimizer.StartOptimization()\n",
    "\n",
    "    print('Final Value ', metric.GetValue())\n",
    "\n",
    "    # Get the correct transform and perform the final alignment\n",
    "    current_transform = metric.GetMovingTransform().GetInverseTransform()\n",
    "    itk_transformed_mesh = itk.transform_mesh_filter(\n",
    "        mesh_moving, transform=current_transform)\n",
    "\n",
    "    return itk.array_from_vector_container(itk_transformed_mesh.GetPoints()), current_transform\n",
    "\n",
    "\n",
    "def ransac_icp_parallel(fixedMeshPoints, movingMeshPoints, movingMeshAllPoints,\n",
    "                        number_of_iterations, mesh_sub_sample_points,\n",
    "                        number_of_ransac_points, transform_type,\n",
    "                        convergance_value):\n",
    "    '''\n",
    "        Perform Ransac by doing parallel iterations for different samples.\n",
    "    '''\n",
    "    import numpy as np\n",
    "    np.random.seed(0)\n",
    "\n",
    "    all_points1 = fixedMeshPoints\n",
    "    all_points2 = movingMeshPoints\n",
    "\n",
    "    def process(i, mesh_sub_sample_points, number_of_ransac_points,\n",
    "                return_result):\n",
    "        '''\n",
    "        Args:\n",
    "            i: input seed used to sample the points.\n",
    "            number_of_ransac_points: Number of random points selected to perform the registration.\n",
    "            mesh_sub_sample_points: Number of points used to calculate the Euclidean distance for entire mesh.\n",
    "            return_result: Whether to return the transformed mesh.\n",
    "        \n",
    "        Returns: (Best Value, seed) or the transformed_points depending on return_result flag.\n",
    "            \n",
    "        '''\n",
    "\n",
    "        # Create Mesh inside the method to tackle the problem of serialization\n",
    "\n",
    "        import itk\n",
    "\n",
    "        mesh_fixed = itk.Mesh[itk.D, 3].New()\n",
    "        mesh_moving = itk.Mesh[itk.D, 3].New()\n",
    "\n",
    "        mesh_fixed.SetPoints(\n",
    "            itk.vector_container_from_array(all_points1.flatten()))\n",
    "        mesh_moving.SetPoints(\n",
    "            itk.vector_container_from_array(all_points2.flatten()))\n",
    "\n",
    "        ps1 = itk.Mesh[itk.D, 3].New()\n",
    "        ps2 = itk.Mesh[itk.D, 3].New()\n",
    "\n",
    "        # Create small point sets\n",
    "        np.random.seed(i)\n",
    "        random_indices = np.random.choice(all_points1.shape[0],\n",
    "                                          size=number_of_ransac_points)\n",
    "        p1_a = all_points1[random_indices, :]\n",
    "\n",
    "        random_indices = np.random.choice(all_points2.shape[0],\n",
    "                                          size=number_of_ransac_points)\n",
    "        p2_a = all_points2[random_indices, :]\n",
    "\n",
    "        ps1.SetPoints(itk.vector_container_from_array(p1_a.flatten()))\n",
    "        ps2.SetPoints(itk.vector_container_from_array(p2_a.flatten()))\n",
    "\n",
    "        # Similarity3DTransform works best when doing inter-species registration\n",
    "        if transform_type == 0:\n",
    "            TransformType = itk.Euler3DTransform[itk.D]\n",
    "        elif transform_type == 1:\n",
    "            TransformType = itk.ScaleVersor3DTransform[itk.D]\n",
    "        elif transform_type == 2:\n",
    "            TransformType = itk.Similarity3DTransform[itk.D]\n",
    "\n",
    "        transform = TransformType.New()\n",
    "        transform.SetIdentity()\n",
    "\n",
    "        MetricType = itk.EuclideanDistancePointSetToPointSetMetricv4.PSD3\n",
    "        metric = MetricType.New()\n",
    "        metric.SetMovingPointSet(ps2)\n",
    "        metric.SetFixedPointSet(ps1)\n",
    "        metric.SetMovingTransform(transform)\n",
    "        metric.Initialize()\n",
    "\n",
    "        optimizer = itk.ConjugateGradientLineSearchOptimizerv4Template[\n",
    "            itk.D].New()\n",
    "        optimizer.SetNumberOfIterations(20)\n",
    "        optimizer.SetMaximumStepSizeInPhysicalUnits(0.1)\n",
    "        optimizer.SetMinimumConvergenceValue(0.0)\n",
    "        optimizer.SetConvergenceWindowSize(20)\n",
    "        optimizer.SetMetric(metric)\n",
    "        optimizer.StartOptimization()\n",
    "\n",
    "        #         optimizer = itk.GradientDescentOptimizerv4Template.D.New()\n",
    "        #         optimizer.SetNumberOfIterations(200)\n",
    "        #         optimizer.SetLearningRate(0.0001)\n",
    "        #         #optimizer.SetMaximumStepSizeInPhysicalUnits( 0.1 )\n",
    "        #         optimizer.SetMinimumConvergenceValue( 0.0 )\n",
    "        #         optimizer.SetConvergenceWindowSize( 200 )\n",
    "        #         optimizer.SetMetric(metric)\n",
    "        #         optimizer.StartOptimization()\n",
    "\n",
    "        current_transform = metric.GetTransform()\n",
    "        itk_transformed_mesh = itk.transform_mesh_filter(\n",
    "            mesh_moving, transform=current_transform)\n",
    "\n",
    "        e_metric = itk.EuclideanDistancePointSetToPointSetMetricv4.PSD3.New()\n",
    "        e_metric.SetFixedPointSet(mesh_fixed)\n",
    "        e_metric.SetMovingPointSet(itk_transformed_mesh)\n",
    "        e_metric.Initialize()\n",
    "\n",
    "        current_value = e_metric.GetValue()\n",
    "\n",
    "        if return_result:\n",
    "            # Create a mesh using the moving points and transform it using the best transform\n",
    "            mesh_moving = itk.Mesh[itk.D, 3].New()\n",
    "            mesh_moving.SetPoints(\n",
    "                itk.vector_container_from_array(movingMeshPoints.flatten()))\n",
    "\n",
    "            itk_transformed_mesh = itk.transform_mesh_filter(\n",
    "                mesh_moving, transform=current_transform)\n",
    "\n",
    "            return itk.array_from_vector_container(\n",
    "                itk_transformed_mesh.GetPoints())\n",
    "        else:\n",
    "            # To make the transform data serializable\n",
    "            current_transform = itk.dict_from_transform(current_transform)\n",
    "            return (current_value, i, current_transform)\n",
    "\n",
    "    # Spawn multiple jobs to utilize all cores\n",
    "    results = Parallel(n_jobs=8)(\n",
    "        delayed(process)(i, mesh_sub_sample_points, number_of_ransac_points, 0)\n",
    "        for i in range(number_of_iterations))\n",
    "\n",
    "    # Sort the results and get the best one i.e. the lowest one\n",
    "    results = sorted(results)\n",
    "\n",
    "    print(results[0][0], results[0][1])\n",
    "    final_result = process(results[0][1], mesh_sub_sample_points,\n",
    "                          number_of_ransac_points, 1)\n",
    "    \n",
    "    return final_result, results[0]\n",
    "\n",
    "\n",
    "def scale_mesh(input_mesh, scale_factor):\n",
    "    mesh_points = itk.array_from_vector_container(input_mesh.GetPoints())\n",
    "    print(mesh_points.shape, mesh_points.dtype)\n",
    "    mesh_points = mesh_points * scale_factor\n",
    "    input_mesh.SetPoints(itk.vector_container_from_array(\n",
    "        mesh_points.flatten()))\n",
    "    return input_mesh\n",
    "\n",
    "\n",
    "def perform_scaling_and_centering(movingPoints, fixedPoints, movingMesh,\n",
    "                                  fixedMesh):\n",
    "    '''\n",
    "        Perform scaling of points in the moving mesh and scale \n",
    "        the original mesh by same factor.\n",
    "    '''\n",
    "    sourceSize = np.linalg.norm(\n",
    "        np.max(movingPoints, 0) - np.min(movingPoints, 0))\n",
    "    targetSize = np.linalg.norm(\n",
    "        np.max(fixedPoints, 0) - np.min(fixedPoints, 0))\n",
    "\n",
    "    scaling = (targetSize) / sourceSize\n",
    "\n",
    "    scaledMovingPoints = movingPoints * scaling\n",
    "    scaledMovingMesh = scale_mesh(movingMesh, scaling)\n",
    "\n",
    "    return scaledMovingPoints, scaledMovingMesh\n",
    "\n",
    "\n",
    "import time\n",
    "\n",
    "number_of_iterations = 5000\n",
    "number_of_ransac_points = 100\n",
    "mesh_sub_sample_points = 5000\n",
    "convergence_value = 3\n",
    "transform_type = 0\n",
    "\n",
    "movingMeshPath = 'movingMesh.vtk'\n",
    "fixedMeshPath = 'fixedMesh.vtk'\n",
    "\n",
    "movingMesh = readvtk(movingMeshPath)\n",
    "fixedMesh = readvtk(fixedMeshPath)\n",
    "\n",
    "movingMeshAllPoints = numpy_support.vtk_to_numpy(\n",
    "    movingMesh.GetPoints().GetData())\n",
    "\n",
    "# Sub-Sample the points\n",
    "movingMeshPoints = subsample_points_poisson(movingMesh, radius=11.5)\n",
    "fixedMeshPoints = subsample_points_poisson(fixedMesh, radius=11.5)\n",
    "\n",
    "print(movingMeshPoints.shape, fixedMeshPoints.shape)\n",
    "\n",
    "movingMesh = itk.meshread(movingMeshPath, itk.D)\n",
    "fixedMesh = itk.meshread(fixedMeshPath, itk.D)\n",
    "\n",
    "movingMeshPoints, scaledMovingMesh = perform_scaling_and_centering(\n",
    "    movingMeshPoints, fixedMeshPoints, movingMesh, fixedMesh)\n",
    "\n",
    "print(movingMeshPoints.shape, scaledMovingMesh.GetNumberOfPoints())\n",
    "\n",
    "# Perform Initial alignment using Ransac parallel iterations\n",
    "start_time = time.time()\n",
    "transform_type = 2\n",
    "\n",
    "itk_transformed_points, transform_matrix = ransac_icp_parallel(fixedMeshPoints, movingMeshPoints,\n",
    "                                             movingMeshAllPoints,\n",
    "                                             number_of_iterations,\n",
    "                                             mesh_sub_sample_points,\n",
    "                                             number_of_ransac_points,\n",
    "                                             transform_type, convergence_value)\n",
    "end_time = time.time()\n",
    "\n",
    "print(end_time - start_time)\n",
    "print('itk_transformed_points shape ', itk_transformed_points.shape)\n",
    "\n",
    "\n",
    "# For taking care of a bug in the code\n",
    "first_transform = transform_matrix[2]\n",
    "first_transform[0]['transformType'] = 'D'\n",
    "first_transform = itk.transform_from_dict(first_transform)\n",
    "\n",
    "# Perform final alignment using the Euler3DTransform\n",
    "transform_type = 0\n",
    "final_mesh, second_transform = final_iteration(fixedMeshPoints, itk_transformed_points,\n",
    "                             transform_type)\n",
    "\n",
    "# Write the sub-sampled moving mesh points \n",
    "rigidRegisteredPoints = itk.Mesh.D3.New()\n",
    "rigidRegisteredPoints.SetPoints(itk.vector_container_from_array(final_mesh.flatten()))\n",
    "\n",
    "w1 = itk.MeshFileWriter[type(rigidRegisteredPoints)].New()\n",
    "w1.SetFileName('rigidRegisteredPoints.vtk')\n",
    "w1.SetFileTypeAsBINARY()\n",
    "w1.SetInput(rigidRegisteredPoints)\n",
    "w1.Update()\n",
    "\n",
    "# Transform the full mesh and write the output\n",
    "mesh_moving = itk.meshread(movingMeshPath, itk.D)\n",
    "\n",
    "mesh_moving = itk.transform_mesh_filter(\n",
    "        mesh_moving, transform=first_transform)\n",
    "\n",
    "mesh_moving = itk.transform_mesh_filter(\n",
    "        mesh_moving, transform=second_transform)\n",
    "\n",
    "w1 = itk.MeshFileWriter[type(mesh_moving)].New()\n",
    "w1.SetFileName('movingMeshRigidRegistered.vtk')\n",
    "w1.SetFileTypeAsBINARY()\n",
    "w1.SetInput(mesh_moving)\n",
    "w1.Update()"
   ]
  },
  {
   "cell_type": "code",
   "execution_count": 74,
   "metadata": {},
   "outputs": [],
   "source": [
    "movingMesh = readvtk('movingMesh.vtk')\n",
    "fixedMesh = readvtk('fixedMesh.vtk')\n",
    "\n",
    "\n",
    "# Sub-Sample the points\n",
    "movingMeshPoints = subsample_points_poisson(movingMesh, radius=11.5)\n",
    "fixedMeshPoints = subsample_points_poisson(fixedMesh, radius=11.5)\n",
    "\n",
    "def orient_points(input_points, x, y, z):\n",
    "    '''\n",
    "        Orients the input points based on the x, y and z orientations given.\n",
    "    '''\n",
    "    output_points = copy.deepcopy(input_points)\n",
    "    output_points[:, 0] = output_points[:, 0]*x\n",
    "    output_points[:, 1] = output_points[:, 1]*y\n",
    "    output_points[:, 2] = output_points[:, 2]*z\n",
    "\n",
    "    return output_points\n",
    "\n",
    "def get_euclidean_distance(input_fixedPoints, input_movingPoints):\n",
    "    mesh_fixed = itk.Mesh[itk.D, 3].New()\n",
    "    mesh_moving = itk.Mesh[itk.D, 3].New()\n",
    "\n",
    "    mesh_fixed.SetPoints(itk.vector_container_from_array(\n",
    "        input_fixedPoints.flatten()))\n",
    "    mesh_moving.SetPoints(\n",
    "        itk.vector_container_from_array(input_movingPoints.flatten()))\n",
    "    \n",
    "    MetricType = itk.EuclideanDistancePointSetToPointSetMetricv4.PSD3\n",
    "    metric = MetricType.New()\n",
    "    metric.SetMovingPointSet(mesh_moving)\n",
    "    metric.SetFixedPointSet(mesh_fixed)\n",
    "    metric.Initialize()\n",
    "    \n",
    "    return metric.GetValue()\n",
    "\n",
    "best_value = 10000\n",
    "best_points = None\n",
    "# Loop through all the combinations of orientations\n",
    "for x in [-1, 1]:\n",
    "    for y in [-1, 1]:\n",
    "        for z in [-1, 1]:\n",
    "            oriented_points = orient_points(movingMeshPoints, x, y, z)\n",
    "            #print(x, y, z)\n",
    "            value = get_euclidean_distance(fixedMeshPoints, oriented_points)\n",
    "            if value < best_value:\n",
    "                best_points = oriented_points\n",
    "                best_value = value"
   ]
  },
  {
   "cell_type": "code",
   "execution_count": 78,
   "metadata": {},
   "outputs": [
    {
     "data": {
      "application/vnd.jupyter.widget-view+json": {
       "model_id": "4524044e129047e4ac897a92277865f0",
       "version_major": 2,
       "version_minor": 0
      },
      "text/plain": [
       "Viewer(geometries=[], gradient_opacity=0.22, point_set_colors=array([[0.8392157 , 0.        , 0.        ],\n",
       "   …"
      ]
     },
     "metadata": {},
     "output_type": "display_data"
    }
   ],
   "source": [
    "fixedMeshPoints = np.load('fixedMeshPoints.npy')\n",
    "movingMeshPoints = np.load('final_mesh_points.npy')\n",
    "\n",
    "itkwidgets.view(point_sets=[fixedMeshPoints, movingMeshPoints])"
   ]
  },
  {
   "cell_type": "code",
   "execution_count": null,
   "metadata": {},
   "outputs": [],
   "source": [
    "def orient_points(input_points, x, y, z):\n",
    "    '''\n",
    "        Orients the input points based on the x, y and z orientations given.\n",
    "    '''\n",
    "    output_points = copy.deepcopy(input_points)\n",
    "    output_points[:, 0] = output_points[:, 0]*x\n",
    "    output_points[:, 1] = output_points[:, 1]*y\n",
    "    output_points[:, 2] = output_points[:, 2]*z\n",
    "\n",
    "    return output_points\n",
    "\n"
   ]
  },
  {
   "cell_type": "code",
   "execution_count": null,
   "metadata": {
    "code_folding": [
     0
    ],
    "scrolled": true
   },
   "outputs": [],
   "source": [
    "# [STAR] Expectation Based PointSetToPointSetMetricv4 Registration\n",
    "\n",
    "import copy\n",
    "from vtk.util import numpy_support\n",
    "\n",
    "imageDiagonal = 100\n",
    "\n",
    "PixelType = itk.D\n",
    "Dimension = 3\n",
    "\n",
    "FixedImageType = itk.Image[PixelType, Dimension]\n",
    "\n",
    "# Create PointSets for registration\n",
    "movingPS = itk.PointSet[itk.D, Dimension].New()\n",
    "fixedPS = itk.PointSet[itk.D, Dimension].New()\n",
    "\n",
    "movingPS.SetPoints(itk.vector_container_from_array(final_mesh.flatten()))\n",
    "fixedPS.SetPoints(itk.vector_container_from_array(fixedMeshPoints.flatten()))\n",
    "\n",
    "\n",
    "# For getting the Bounding Box\n",
    "ElementIdentifierType = itk.UL\n",
    "CoordType = itk.F\n",
    "Dimension = 3\n",
    "\n",
    "VecContType = itk.VectorContainer[ElementIdentifierType, itk.Point[CoordType,\n",
    "                                                                   Dimension]]\n",
    "bounding_box = itk.BoundingBox[ElementIdentifierType, Dimension, CoordType,\n",
    "                               VecContType].New()\n",
    "\n",
    "bounding_box.SetPoints(movingPS.GetPoints())\n",
    "bounding_box.ComputeBoundingBox()\n",
    "\n",
    "minBounds = np.array(bounding_box.GetMinimum())\n",
    "maxBounds = np.array(bounding_box.GetMaximum())\n",
    "\n",
    "spacing = np.sqrt(bounding_box.GetDiagonalLength2()) / imageDiagonal\n",
    "diff = maxBounds - minBounds\n",
    "\n",
    "print('Spacing ', spacing)\n",
    "print('minBounds ', minBounds)\n",
    "print('maxBounds ', maxBounds)\n",
    "\n",
    "fixedImageSize = [0] * 3\n",
    "fixedImageSize[0] = math.ceil(1.25 * diff[0] / spacing)\n",
    "fixedImageSize[1] = math.ceil(1.25 * diff[1] / spacing)\n",
    "fixedImageSize[2] = math.ceil(1.25 * diff[2] / spacing)\n",
    "\n",
    "fixedImageOrigin = [0] * 3\n",
    "fixedImageOrigin[0] = minBounds[0] - 0.25 * diff[0]\n",
    "fixedImageOrigin[1] = minBounds[1] - 0.25 * diff[1]\n",
    "fixedImageOrigin[2] = minBounds[2] - 0.25 * diff[2]\n",
    "\n",
    "fixedImageSpacing = np.ones(3) * spacing\n",
    "fixedImageDirection = np.identity(3)\n",
    "\n",
    "fixedImage = FixedImageType.New()\n",
    "fixedImage.SetRegions(fixedImageSize)\n",
    "fixedImage.SetOrigin(fixedImageOrigin)\n",
    "fixedImage.SetDirection(fixedImageDirection)\n",
    "fixedImage.SetSpacing(fixedImageSpacing)\n",
    "fixedImage.Allocate()\n",
    "\n",
    "\n",
    "# Create BSpline Transformation object and initialize the parameters\n",
    "SplineOrder = 3\n",
    "TransformType = itk.BSplineTransform[itk.D, Dimension, SplineOrder]\n",
    "InitializerType = itk.BSplineTransformInitializer[TransformType,\n",
    "                                                  FixedImageType]\n",
    "\n",
    "transform = TransformType.New()\n",
    "\n",
    "numberOfGridNodesInOneDimension = 8\n",
    "transformInitializer = InitializerType.New()\n",
    "transformInitializer.SetTransform(transform)\n",
    "transformInitializer.SetImage(fixedImage)\n",
    "transformInitializer.SetTransformDomainMeshSize(\n",
    "    numberOfGridNodesInOneDimension - SplineOrder)\n",
    "transformInitializer.InitializeTransform()\n",
    "\n",
    "# Registration Loop\n",
    "numOfIterations = 1000\n",
    "maxStep = 0.1\n",
    "learningRate = 0.1\n",
    "\n",
    "MetricType = itk.ExpectationBasedPointSetToPointSetMetricv4[type(movingPS)]\n",
    "metric = MetricType.New()\n",
    "metric.SetFixedPointSet(movingPS)\n",
    "metric.SetMovingPointSet(fixedPS)\n",
    "metric.SetPointSetSigma(2)\n",
    "metric.SetEvaluationKNeighborhood(10)\n",
    "metric.SetMovingTransform(transform)\n",
    "metric.Initialize()\n",
    "\n",
    "print('Metric Created')\n",
    "\n",
    "optimizer = itk.RegularStepGradientDescentOptimizerv4.D.New()\n",
    "optimizer.SetNumberOfIterations(numOfIterations)\n",
    "optimizer.SetMaximumStepSizeInPhysicalUnits(maxStep)\n",
    "optimizer.SetLearningRate(learningRate)\n",
    "optimizer.SetMinimumConvergenceValue(-100)\n",
    "optimizer.SetConvergenceWindowSize(numOfIterations)\n",
    "optimizer.SetMetric(metric)\n",
    "\n",
    "\n",
    "def iteration_update():\n",
    "    metric_value = optimizer.GetValue()\n",
    "    current_parameters = optimizer.GetCurrentPosition()\n",
    "    print(f\"Metric: {metric_value:.8g}\")\n",
    "\n",
    "\n",
    "iteration_command = itk.PyCommand.New()\n",
    "iteration_command.SetCommandCallable(iteration_update)\n",
    "optimizer.AddObserver(itk.IterationEvent(), iteration_command)\n",
    "\n",
    "optimizer.StartOptimization()\n",
    "\n",
    "# Transform the point set using the final transform\n",
    "final_transform = metric.GetMovingTransform()\n",
    "\n",
    "e_metric = itk.EuclideanDistancePointSetToPointSetMetricv4.PSD3.New()\n",
    "e_metric.SetFixedPointSet(fixedPS)\n",
    "e_metric.SetMovingPointSet(movingPS)\n",
    "print('Euclidean Metric Before TSD Deformable Registration ',\n",
    "      e_metric.GetValue())\n",
    "\n",
    "movingPSNew = itk.PointSet[itk.D, 3].New()\n",
    "numberOfPoints = movingPS.GetNumberOfPoints()\n",
    "\n",
    "for n in range(0, numberOfPoints):\n",
    "    movingPSNew.SetPoint(n, final_transform.TransformPoint(movingPS.GetPoint(n)))\n",
    "\n",
    "e_metric = itk.EuclideanDistancePointSetToPointSetMetricv4.PSD3.New()\n",
    "e_metric.SetFixedPointSet(fixedPS)\n",
    "e_metric.SetMovingPointSet(movingPSNew)\n",
    "print('Euclidean Metric After TSD Deformable Registration ',\n",
    "      e_metric.GetValue())\n",
    "\n",
    "# # Write the mesh to disk\n",
    "# movingMeshITK = itk.meshread(movingMeshPath, itk.D)\n",
    "# numberOfPoints = movingMeshITK.GetNumberOfPoints()\n",
    "# for n in range(0, numberOfPoints):\n",
    "#     movingMeshITK.SetPoint(n, final_transform.TransformPoint(movingMeshITK.GetPoint(n)))\n",
    "\n",
    "# w1 = itk.MeshFileWriter[type(movingMeshITK)].New()\n",
    "# w1.SetFileName('ransacICPResult2_c_check.vtk')\n",
    "# w1.SetFileTypeAsBINARY()\n",
    "# w1.SetInput(movingMeshITK)\n",
    "# w1.Update()\n",
    "\n",
    "# Write the Displacement Field\n",
    "\n",
    "convertFilter = itk.TransformToDisplacementFieldFilter.IVF33D.New()\n",
    "convertFilter.SetTransform(final_transform)\n",
    "convertFilter.UseReferenceImageOn()\n",
    "convertFilter.SetReferenceImage(fixedImage)\n",
    "convertFilter.Update()\n",
    "field = convertFilter.GetOutput()\n",
    "field = np.array(field)\n",
    "np.save('displacement_field.npy', field)"
   ]
  },
  {
   "cell_type": "code",
   "execution_count": 117,
   "metadata": {},
   "outputs": [
    {
     "data": {
      "text/plain": [
       "itkPointD3 ([4.211, 2.13756, -10.048])"
      ]
     },
     "execution_count": 117,
     "metadata": {},
     "output_type": "execute_result"
    }
   ],
   "source": [
    "final_transform.TransformPoint([1, 2, 3])"
   ]
  },
  {
   "cell_type": "code",
   "execution_count": 103,
   "metadata": {},
   "outputs": [
    {
     "data": {
      "text/plain": [
       "<matplotlib.image.AxesImage at 0x7f6363445ca0>"
      ]
     },
     "execution_count": 103,
     "metadata": {},
     "output_type": "execute_result"
    },
    {
     "data": {
      "image/png": "[encoded data removed]",
      "text/plain": [
       "<Figure size 432x288 with 1 Axes>"
      ]
     },
     "metadata": {
      "needs_background": "light"
     },
     "output_type": "display_data"
    }
   ],
   "source": [
    "plt.imshow(field[15, :, :, 2])"
   ]
  },
  {
   "cell_type": "code",
   "execution_count": 83,
   "metadata": {},
   "outputs": [
    {
     "name": "stdout",
     "output_type": "stream",
     "text": [
      "['USNM588109', 'USNM153830', 'USNM145302', 'USNM142189', 'USNM142188', 'USNM145308', 'USNM153805', 'USNM142194', 'USNM197664', 'USNM145303', 'USNM399047', 'USNM153822', 'USNM142185', 'USNM145309', 'USNM153824', 'USNM145307', 'USNM145300', 'USNM153806']\n"
     ]
    }
   ],
   "source": [
    "import glob\n",
    "\n",
    "allnames = glob.glob('/data/Apedata/CorrectData/data/Pongo/meshes/*.ply')\n",
    "allnames = [x.split('/')[-1].split('-')[0] for x in allnames]\n",
    "print(allnames)"
   ]
  },
  {
   "cell_type": "code",
   "execution_count": 82,
   "metadata": {},
   "outputs": [
    {
     "data": {
      "text/plain": [
       "['USNM176228',\n",
       " 'USNM174701',\n",
       " 'USNM084655',\n",
       " 'USNM174704',\n",
       " 'USNM174707',\n",
       " 'USNM174703',\n",
       " 'USNM220062',\n",
       " 'USNM174710',\n",
       " 'USNM220065',\n",
       " 'USNM176236']"
      ]
     },
     "execution_count": 82,
     "metadata": {},
     "output_type": "execute_result"
    }
   ],
   "source": [
    "allnames"
   ]
  },
  {
   "cell_type": "code",
   "execution_count": 81,
   "metadata": {},
   "outputs": [],
   "source": [
    "allnames.remove('USNM220063')"
   ]
  },
  {
   "cell_type": "code",
   "execution_count": 110,
   "metadata": {},
   "outputs": [],
   "source": [
    "# Write the registered mesh\n",
    "\n",
    "movingMeshPath = 'movingMeshRigidRegistered.vtk'\n",
    "movingMesh = itk.meshread(movingMeshPath)\n",
    "\n",
    "for i in range(0, movingMesh.GetNumberOfPoints()):\n",
    "    movingMesh.SetPoint(i, final_transform.TransformPoint(movingMesh.GetPoint(i)))\n",
    "\n",
    "w1 = itk.MeshFileWriter[type(movingMesh)].New()\n",
    "w1.SetFileName('movingMeshFinalRegistered.vtk')\n",
    "w1.SetFileTypeAsBINARY()\n",
    "w1.SetInput(movingMesh)\n",
    "w1.Update()"
   ]
  },
  {
   "cell_type": "code",
   "execution_count": 121,
   "metadata": {},
   "outputs": [
    {
     "name": "stdout",
     "output_type": "stream",
     "text": [
      "Calculating distance between landmarks\n"
     ]
    }
   ],
   "source": [
    "print('Calculating distance between landmarks')\n",
    "\n",
    "MOVING_LANDMARK_FILE = '/data/Apedata/CorrectData/data/Gorilla/landmarks/USNM176211_LM1.fcsv'\n",
    "moving_landmark = read_landmarks(MOVING_LANDMARK_FILE)\n",
    "\n",
    "mesh_moving_landmark = itk.Mesh[itk.D, 3].New()\n",
    "mesh_moving_landmark.SetPoints(itk.vector_container_from_array(moving_landmark.flatten().astype('float32')))\n",
    "\n",
    "# mesh_moving_landmark = itk.transform_mesh_filter(\n",
    "#         mesh_moving_landmark, transform=first_transform)\n",
    "\n",
    "# mesh_moving_landmark = itk.transform_mesh_filter(\n",
    "#         mesh_moving_landmark, transform=second_transform)\n",
    "\n",
    "# mesh_moving_landmark = itk.transform_mesh_filter(\n",
    "#         mesh_moving_landmark, transform=final_transform)\n",
    "\n",
    "# moving_landmark = itk.array_from_vector_container(mesh_moving_landmark.GetPoints())\n"
   ]
  },
  {
   "cell_type": "code",
   "execution_count": 176,
   "metadata": {},
   "outputs": [],
   "source": [
    "m1 = np.load('moving_landmark.npy')\n",
    "f1 = np.load('fixed_landmark.npy')"
   ]
  },
  {
   "cell_type": "code",
   "execution_count": 190,
   "metadata": {},
   "outputs": [
    {
     "name": "stdout",
     "output_type": "stream",
     "text": [
      "[ 0.4483719 -1.8825657 14.140598 ]\n",
      "[  0.20103735   3.5440538  199.95653   ]\n",
      "203.70161\n",
      "14.272408\n"
     ]
    }
   ],
   "source": [
    "diff = m1 - f1\n",
    "print(diff[0])\n",
    "\n",
    "diff = np.square(diff)\n",
    "print(diff[0])\n",
    "\n",
    "diff = np.sum(diff, 1)\n",
    "print(diff[0])\n",
    "\n",
    "diff = np.sqrt(diff)\n",
    "print(diff[0])\n",
    "#np.save('diff_landmark.npy', diff)"
   ]
  },
  {
   "cell_type": "code",
   "execution_count": 183,
   "metadata": {},
   "outputs": [
    {
     "name": "stdout",
     "output_type": "stream",
     "text": [
      "[ 30.944654  -4.54917  -33.18866 ]\n",
      "[ 30.496283   -2.6666043 -47.329258 ]\n",
      "14.272408\n"
     ]
    }
   ],
   "source": [
    "print(m1[0])\n",
    "print(f1[0])\n",
    "print(d1[0])"
   ]
  },
  {
   "cell_type": "code",
   "execution_count": 182,
   "metadata": {},
   "outputs": [
    {
     "name": "stdout",
     "output_type": "stream",
     "text": [
      "[ 0.4483719 -1.8825657 14.140598 ]\n",
      "[  0.20103735   3.5440538  199.95653   ]\n",
      "12.706405\n"
     ]
    }
   ],
   "source": [
    "t1 = m1[0] - f1[0]\n",
    "print(t1)\n",
    "print(np.square(t1))\n",
    "print(np.sum(t1, 0))"
   ]
  },
  {
   "cell_type": "code",
   "execution_count": 175,
   "metadata": {},
   "outputs": [
    {
     "name": "stdout",
     "output_type": "stream",
     "text": [
      "mean distance  52.08045\n",
      "[ 14.272408   14.889301    5.056721    6.3611655   4.494349    1.9340465\n",
      "  14.155607   19.130554   17.783134   34.389854   33.564537   37.1145\n",
      "  39.824654   52.30405    55.192547   79.7469     82.44674    10.079343\n",
      "  15.504842   31.699604   12.659089   68.35028    66.24091   112.576004\n",
      " 109.66682    29.8028     33.345787   62.146427   68.75282   158.61354\n",
      " 155.37991   127.32826   127.8302     65.01265    64.65288    37.853184\n",
      "  39.87145    40.615364   38.040062   73.58407    73.03103  ]\n"
     ]
    }
   ],
   "source": [
    "d1 = np.load('diff_landmark.npy')\n",
    "print('mean distance ', np.mean(d1))\n",
    "print(d1)"
   ]
  },
  {
   "cell_type": "code",
   "execution_count": null,
   "metadata": {},
   "outputs": [],
   "source": [
    "# 52.801685 -> numberOfGridNodesInOneDimension = 10, numOfIterations = 2500, maxStep = 0.2, learningRate = 0.2"
   ]
  },
  {
   "cell_type": "code",
   "execution_count": 197,
   "metadata": {},
   "outputs": [
    {
     "name": "stdout",
     "output_type": "stream",
     "text": [
      "22\n",
      "None\n",
      "21\n",
      "['USNM582726', 'USNM590951', 'USNM599165', 'USNM590953', 'USNM252577', 'USNM590947', 'USNM599167', 'USNM176217', 'USNM297857', 'USNM252575', 'USNM174715', 'USNM220324', 'USNM176216', 'USNM590954', 'USNM252580', 'USNM220060', 'USNM252578', 'USNM176209', 'USNM599166', 'USNM590942', 'USNM174722']\n"
     ]
    }
   ],
   "source": [
    "import glob\n",
    "\n",
    "allfiles = glob.glob('/data/Apedata/CorrectData/data/Gorilla/meshes/*.ply')\n",
    "allnames = []\n",
    "\n",
    "for x in allfiles:\n",
    "    if '-' in x:\n",
    "        allnames.append(x.split('/')[-1].split('-')[0])\n",
    "    else:\n",
    "        allnames.append(x.split('/')[-1].split('_')[0])\n",
    "\n",
    "print(len(allnames))\n",
    "print(allnames.remove('USNM176211'))\n",
    "print(len(allnames))\n",
    "print(allnames)\n",
    "\n",
    "allnames = [\"USNM174715\"]"
   ]
  },
  {
   "cell_type": "code",
   "execution_count": 95,
   "metadata": {},
   "outputs": [
    {
     "name": "stdout",
     "output_type": "stream",
     "text": [
      "(3391548, 3)\n",
      "(3391548, 3) (41, 3)\n",
      "(4315, 3) (41, 3)\n"
     ]
    }
   ],
   "source": [
    "basepath = '/data/Apedata/Outputs/'\n",
    "\n",
    "movingMesh = readvtk(basepath + 'USNM582726-Cranium_movingMeshFinalRegistered.vtk')\n",
    "#movingMeshPoints = np.load(basepath + 'USNM582726-Cranium_movingMeshPoints.npy')\n",
    "#fixedMeshPoints = np.load(basepath + 'USNM582726-Cranium_fixedMeshPoints.npy')\n",
    "\n",
    "movingLandmarks = np.load(basepath + 'USNM582726-Cranium_moving_landmark.npy')\n",
    "fixedLandmarks = np.load(basepath + 'USNM582726-Cranium_fixed_landmark.npy')\n",
    "\n",
    "print(movingMeshPoints.shape)\n",
    "print(movingMeshPoints.shape, movingLandmarks.shape)\n",
    "print(fixedMeshPoints.shape, fixedLandmarks.shape)"
   ]
  },
  {
   "cell_type": "code",
   "execution_count": 116,
   "metadata": {},
   "outputs": [
    {
     "name": "stdout",
     "output_type": "stream",
     "text": [
      "(41, 3) (41, 3) (41, 3)\n",
      "[  1.39610059   5.02991248   3.25918753   6.15532753   2.73152325\n",
      "   1.49555272   6.99140489  19.68208502  21.0387212   35.93643742\n",
      "  38.6524273   32.29261226  32.88509121  52.34171042  51.74425871\n",
      "  75.47823978  74.76114728   2.38022345  14.78996994  24.60358227\n",
      "   4.70225755  50.36701359  50.18473831  89.1365996   86.87751923\n",
      "  16.95197837  19.29876914  49.9051317   44.56398581 120.72250238\n",
      " 119.78405225 105.87383075 109.69626067  54.51119064  50.17654432\n",
      "  31.96784143  33.49567745  34.0188071   35.46030761  57.57904985\n",
      "  57.7747477 ]\n"
     ]
    }
   ],
   "source": [
    "# For calculating the metric between landmarks\n",
    "\n",
    "allnames = ['USNM252578']\n",
    "\n",
    "for name in allnames:\n",
    "    fixedMesh = readvtk(glob.glob(basepath + name + '*fixedMesh.vtk')[0])\n",
    "    movingPath = glob.glob(basepath + name + '*moving_landmark.npy')[0]\n",
    "    fixedPath = glob.glob(basepath + name + '*fixed_landmark.npy')[0]\n",
    "    \n",
    "    movingLandmarks = np.load(movingPath)\n",
    "    fixedLandmarks = np.load(fixedPath)\n",
    "    \n",
    "    kDTree = vtk.vtkKdTreePointLocator()\n",
    "    kDTree.SetDataSet(fixedMesh)\n",
    "    \n",
    "    transferred_landmarks = []\n",
    "    for i in range(movingLandmarks.shape[0]):\n",
    "        closest_point_id = kDTree.FindClosestPoint(movingLandmarks[i])\n",
    "        closest_point = fixedMesh.GetPoint(closest_point_id)\n",
    "        transferred_landmarks.append(list(closest_point))\n",
    "    \n",
    "    transferred_landmarks = np.array(transferred_landmarks)\n",
    "    print(movingLandmarks.shape, fixedLandmarks.shape, transferred_landmarks.shape)\n",
    "    \n",
    "    np.save(basepath + name + '_transferred_landmark.npy', transferred_landmarks)\n",
    "    \n",
    "    diff = np.square(transferred_landmarks - fixedLandmarks)\n",
    "    diff = np.sqrt(np.sum(diff, 1))\n",
    "    print(diff)"
   ]
  },
  {
   "cell_type": "code",
   "execution_count": 111,
   "metadata": {},
   "outputs": [],
   "source": [
    "fixedMesh = readvtk(glob.glob(basepath + name + '*fixedMesh.vtk')[0])"
   ]
  },
  {
   "cell_type": "code",
   "execution_count": 117,
   "metadata": {},
   "outputs": [
    {
     "data": {
      "application/vnd.jupyter.widget-view+json": {
       "model_id": "8a719a25e7f443589503bfc21fa3eca4",
       "version_major": 2,
       "version_minor": 0
      },
      "text/plain": [
       "Viewer(geometries=[{'vtkClass': 'vtkPolyData', 'points': {'vtkClass': 'vtkPoints', 'name': '_points', 'numberO…"
      ]
     },
     "metadata": {},
     "output_type": "display_data"
    }
   ],
   "source": [
    "itkwidgets.view(geometries=[fixedMesh], point_sets=[fixedLandmarks, transferred_landmarks])"
   ]
  },
  {
   "cell_type": "code",
   "execution_count": null,
   "metadata": {},
   "outputs": [],
   "source": []
  }
 ],
 "metadata": {
  "colab": {
   "collapsed_sections": [],
   "name": "TSD-Demo.ipynb",
   "provenance": []
  },
  "kernelspec": {
   "display_name": "Python 3 (ipykernel)",
   "language": "python",
   "name": "python3"
  },
  "language_info": {
   "codemirror_mode": {
    "name": "ipython",
    "version": 3
   },
   "file_extension": ".py",
   "mimetype": "text/x-python",
   "name": "python",
   "nbconvert_exporter": "python",
   "pygments_lexer": "ipython3",
   "version": "3.9.12"
  },
  "widgets": {
   "application/vnd.jupyter.widget-state+json": {
    "562fc697c5f043c1a03eb27e5a9ff721": {
     "model_module": "@jupyter-widgets/base",
     "model_module_version": "1.2.0",
     "model_name": "LayoutModel",
     "state": {
      "_model_module": "@jupyter-widgets/base",
      "_model_module_version": "1.2.0",
      "_model_name": "LayoutModel",
      "_view_count": null,
      "_view_module": "@jupyter-widgets/base",
      "_view_module_version": "1.2.0",
      "_view_name": "LayoutView",
      "align_content": null,
      "align_items": null,
      "align_self": null,
      "border": null,
      "bottom": null,
      "display": null,
      "flex": null,
      "flex_flow": null,
      "grid_area": null,
      "grid_auto_columns": null,
      "grid_auto_flow": null,
      "grid_auto_rows": null,
      "grid_column": null,
      "grid_gap": null,
      "grid_row": null,
      "grid_template_areas": null,
      "grid_template_columns": null,
      "grid_template_rows": null,
      "height": null,
      "justify_content": null,
      "justify_items": null,
      "left": null,
      "margin": null,
      "max_height": null,
      "max_width": null,
      "min_height": null,
      "min_width": null,
      "object_fit": null,
      "object_position": null,
      "order": null,
      "overflow": null,
      "overflow_x": null,
      "overflow_y": null,
      "padding": null,
      "right": null,
      "top": null,
      "visibility": null,
      "width": null
     }
    },
    "bccc95ba69df467d9c9ffc80cc1ec239": {
     "model_module": "itkwidgets",
     "model_module_version": "^0.32.1",
     "model_name": "ViewerModel",
     "state": {
      "_custom_cmap": null,
      "_dom_classes": [],
      "_downsampling": false,
      "_largest_roi": {
       "dtype": "float64",
       "shape": [
        2,
        3
       ]
      },
      "_model_module": "itkwidgets",
      "_model_module_version": "^0.32.1",
      "_model_name": "ViewerModel",
      "_rendering_image": false,
      "_reset_crop_requested": false,
      "_scale_factors": {
       "dtype": "uint8",
       "shape": [
        3
       ]
      },
      "_view_count": null,
      "_view_module": "itkwidgets",
      "_view_module_version": "^0.32.1",
      "_view_name": "ViewerView",
      "annotations": true,
      "axes": false,
      "background": [
       1,
       1,
       1
      ],
      "blend_mode": "composite",
      "camera": {
       "dtype": "float32",
       "shape": [
        3,
        3
       ]
      },
      "channels": null,
      "clicked_slice_point": null,
      "cmap": null,
      "geometries": [
       {
        "metadata": {
         "name": "Geometry 0"
        },
        "points": {
         "dataType": "Float32Array",
         "name": "_points",
         "numberOfComponents": 3,
         "size": 522240,
         "vtkClass": "vtkPoints"
        },
        "polys": {
         "dataType": "Uint32Array",
         "name": "_polys",
         "numberOfComponents": 1,
         "size": 1394656,
         "vtkClass": "vtkCellArray"
        },
        "vtkClass": "vtkPolyData"
       },
       {
        "metadata": {
         "name": "Geometry 1"
        },
        "points": {
         "dataType": "Float32Array",
         "name": "_points",
         "numberOfComponents": 3,
         "size": 522240,
         "vtkClass": "vtkPoints"
        },
        "polys": {
         "dataType": "Uint32Array",
         "name": "_polys",
         "numberOfComponents": 1,
         "size": 1394656,
         "vtkClass": "vtkCellArray"
        },
        "vtkClass": "vtkPolyData"
       },
       {
        "metadata": {
         "name": "Geometry 2"
        },
        "points": {
         "dataType": "Float32Array",
         "name": "_points",
         "numberOfComponents": 3,
         "size": 507396,
         "vtkClass": "vtkPoints"
        },
        "polys": {
         "dataType": "Uint32Array",
         "name": "_polys",
         "numberOfComponents": 1,
         "size": 1354080,
         "vtkClass": "vtkCellArray"
        },
        "vtkClass": "vtkPolyData"
       }
      ],
      "geometry_colors": {
       "dtype": "float32",
       "shape": [
        3,
        3
       ]
      },
      "geometry_opacities": {
       "dtype": "float32",
       "shape": [
        3
       ]
      },
      "gradient_opacity": 0.22,
      "interpolation": true,
      "label_image_blend": 0.5,
      "label_image_names": null,
      "label_image_weights": null,
      "layout": "IPY_MODEL_e06d9cfe79da41d4994610976f5c6ae7",
      "lut": "glasbey",
      "mode": "v",
      "opacity_gaussians": null,
      "point_set_colors": {
       "dtype": "float32",
       "shape": [
        0,
        3
       ]
      },
      "point_set_opacities": {
       "dtype": "float32",
       "shape": [
        0
       ]
      },
      "point_set_representations": [],
      "point_set_sizes": {
       "dtype": "uint8",
       "shape": [
        0
       ]
      },
      "point_sets": [],
      "rendered_image": null,
      "rendered_label_image": null,
      "roi": {
       "dtype": "float64",
       "shape": [
        2,
        3
       ]
      },
      "rotate": false,
      "sample_distance": 0.25,
      "select_roi": false,
      "shadow": true,
      "slicing_planes": false,
      "ui_collapsed": false,
      "units": "",
      "vmax": null,
      "vmin": null,
      "x_slice": null,
      "y_slice": null,
      "z_slice": null
     }
    },
    "db007fa8964c4869ad6c08aa6b3016bd": {
     "model_module": "itkwidgets",
     "model_module_version": "^0.32.1",
     "model_name": "ViewerModel",
     "state": {
      "_custom_cmap": null,
      "_dom_classes": [],
      "_downsampling": false,
      "_largest_roi": {
       "dtype": "float64",
       "shape": [
        2,
        3
       ]
      },
      "_model_module": "itkwidgets",
      "_model_module_version": "^0.32.1",
      "_model_name": "ViewerModel",
      "_rendering_image": false,
      "_reset_crop_requested": false,
      "_scale_factors": {
       "dtype": "uint8",
       "shape": [
        3
       ]
      },
      "_view_count": null,
      "_view_module": "itkwidgets",
      "_view_module_version": "^0.32.1",
      "_view_name": "ViewerView",
      "annotations": true,
      "axes": false,
      "background": [
       1,
       1,
       1
      ],
      "blend_mode": "composite",
      "camera": {
       "dtype": "float32",
       "shape": [
        3,
        3
       ]
      },
      "channels": null,
      "clicked_slice_point": null,
      "cmap": null,
      "geometries": [
       {
        "metadata": {
         "name": "Geometry 0"
        },
        "points": {
         "dataType": "Float32Array",
         "name": "_points",
         "numberOfComponents": 3,
         "size": 507396,
         "vtkClass": "vtkPoints"
        },
        "polys": {
         "dataType": "Uint32Array",
         "name": "_polys",
         "numberOfComponents": 1,
         "size": 1354080,
         "vtkClass": "vtkCellArray"
        },
        "vtkClass": "vtkPolyData"
       },
       {
        "metadata": {
         "name": "Geometry 1"
        },
        "points": {
         "dataType": "Float32Array",
         "name": "_points",
         "numberOfComponents": 3,
         "size": 522240,
         "vtkClass": "vtkPoints"
        },
        "polys": {
         "dataType": "Uint32Array",
         "name": "_polys",
         "numberOfComponents": 1,
         "size": 1394656,
         "vtkClass": "vtkCellArray"
        },
        "vtkClass": "vtkPolyData"
       },
       {
        "metadata": {
         "name": "Geometry 2"
        },
        "points": {
         "dataType": "Float32Array",
         "name": "_points",
         "numberOfComponents": 3,
         "size": 522240,
         "vtkClass": "vtkPoints"
        },
        "polys": {
         "dataType": "Uint32Array",
         "name": "_polys",
         "numberOfComponents": 1,
         "size": 1394656,
         "vtkClass": "vtkCellArray"
        },
        "vtkClass": "vtkPolyData"
       },
       {
        "metadata": {
         "name": "Geometry 3"
        },
        "points": {
         "dataType": "Float32Array",
         "name": "_points",
         "numberOfComponents": 3,
         "size": 522240,
         "vtkClass": "vtkPoints"
        },
        "polys": {
         "dataType": "Uint32Array",
         "name": "_polys",
         "numberOfComponents": 1,
         "size": 1394656,
         "vtkClass": "vtkCellArray"
        },
        "vtkClass": "vtkPolyData"
       }
      ],
      "geometry_colors": {
       "dtype": "float32",
       "shape": [
        4,
        3
       ]
      },
      "geometry_opacities": {
       "dtype": "float32",
       "shape": [
        4
       ]
      },
      "gradient_opacity": 0.22,
      "interpolation": true,
      "label_image_blend": 0.5,
      "label_image_names": null,
      "label_image_weights": null,
      "layout": "IPY_MODEL_562fc697c5f043c1a03eb27e5a9ff721",
      "lut": "glasbey",
      "mode": "v",
      "opacity_gaussians": null,
      "point_set_colors": {
       "dtype": "float32",
       "shape": [
        0,
        3
       ]
      },
      "point_set_opacities": {
       "dtype": "float32",
       "shape": [
        0
       ]
      },
      "point_set_representations": [],
      "point_set_sizes": {
       "dtype": "uint8",
       "shape": [
        0
       ]
      },
      "point_sets": [],
      "rendered_image": null,
      "rendered_label_image": null,
      "roi": {
       "dtype": "float64",
       "shape": [
        2,
        3
       ]
      },
      "rotate": false,
      "sample_distance": 0.25,
      "select_roi": false,
      "shadow": true,
      "slicing_planes": false,
      "ui_collapsed": false,
      "units": "",
      "vmax": null,
      "vmin": null,
      "x_slice": null,
      "y_slice": null,
      "z_slice": null
     }
    },
    "e06d9cfe79da41d4994610976f5c6ae7": {
     "model_module": "@jupyter-widgets/base",
     "model_module_version": "1.2.0",
     "model_name": "LayoutModel",
     "state": {
      "_model_module": "@jupyter-widgets/base",
      "_model_module_version": "1.2.0",
      "_model_name": "LayoutModel",
      "_view_count": null,
      "_view_module": "@jupyter-widgets/base",
      "_view_module_version": "1.2.0",
      "_view_name": "LayoutView",
      "align_content": null,
      "align_items": null,
      "align_self": null,
      "border": null,
      "bottom": null,
      "display": null,
      "flex": null,
      "flex_flow": null,
      "grid_area": null,
      "grid_auto_columns": null,
      "grid_auto_flow": null,
      "grid_auto_rows": null,
      "grid_column": null,
      "grid_gap": null,
      "grid_row": null,
      "grid_template_areas": null,
      "grid_template_columns": null,
      "grid_template_rows": null,
      "height": null,
      "justify_content": null,
      "justify_items": null,
      "left": null,
      "margin": null,
      "max_height": null,
      "max_width": null,
      "min_height": null,
      "min_width": null,
      "object_fit": null,
      "object_position": null,
      "order": null,
      "overflow": null,
      "overflow_x": null,
      "overflow_y": null,
      "padding": null,
      "right": null,
      "top": null,
      "visibility": null,
      "width": null
     }
    }
   }
  }
 },
 "nbformat": 4,
 "nbformat_minor": 1
}
